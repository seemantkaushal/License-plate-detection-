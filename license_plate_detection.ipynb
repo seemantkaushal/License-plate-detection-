{
  "nbformat": 4,
  "nbformat_minor": 0,
  "metadata": {
    "colab": {
      "provenance": []
    },
    "kernelspec": {
      "name": "python3",
      "display_name": "Python 3"
    },
    "language_info": {
      "name": "python"
    }
  },
  "cells": [
    {
      "cell_type": "code",
      "execution_count": 17,
      "metadata": {
        "colab": {
          "base_uri": "https://localhost:8080/"
        },
        "id": "luacHMpIJfNW",
        "outputId": "e412d38b-53e3-4d18-ebfe-e5d13b1ee2ce"
      },
      "outputs": [
        {
          "output_type": "stream",
          "name": "stdout",
          "text": [
            "Requirement already satisfied: ultralytics in /usr/local/lib/python3.10/dist-packages (8.0.15)\n",
            "Requirement already satisfied: matplotlib>=3.2.2 in /usr/local/lib/python3.10/dist-packages (from ultralytics) (3.8.0)\n",
            "Requirement already satisfied: numpy>=1.18.5 in /usr/local/lib/python3.10/dist-packages (from ultralytics) (1.24.3)\n",
            "Requirement already satisfied: opencv-python>=4.1.1 in /usr/local/lib/python3.10/dist-packages (from ultralytics) (4.7.0.72)\n",
            "Requirement already satisfied: Pillow>=7.1.2 in /usr/local/lib/python3.10/dist-packages (from ultralytics) (11.0.0)\n",
            "Requirement already satisfied: PyYAML>=5.3.1 in /usr/local/lib/python3.10/dist-packages (from ultralytics) (6.0.2)\n",
            "Requirement already satisfied: requests>=2.23.0 in /usr/local/lib/python3.10/dist-packages (from ultralytics) (2.32.3)\n",
            "Requirement already satisfied: scipy>=1.4.1 in /usr/local/lib/python3.10/dist-packages (from ultralytics) (1.13.1)\n",
            "Requirement already satisfied: torch>=1.7.0 in /usr/local/lib/python3.10/dist-packages (from ultralytics) (2.5.1+cpu)\n",
            "Requirement already satisfied: torchvision>=0.8.1 in /usr/local/lib/python3.10/dist-packages (from ultralytics) (0.20.1+cpu)\n",
            "Requirement already satisfied: tqdm>=4.64.0 in /usr/local/lib/python3.10/dist-packages (from ultralytics) (4.66.6)\n",
            "Requirement already satisfied: tensorboard>=2.4.1 in /usr/local/lib/python3.10/dist-packages (from ultralytics) (2.15.2)\n",
            "Requirement already satisfied: pandas>=1.1.4 in /usr/local/lib/python3.10/dist-packages (from ultralytics) (2.2.2)\n",
            "Requirement already satisfied: seaborn>=0.11.0 in /usr/local/lib/python3.10/dist-packages (from ultralytics) (0.13.2)\n",
            "Requirement already satisfied: ipython in /usr/local/lib/python3.10/dist-packages (from ultralytics) (7.34.0)\n",
            "Requirement already satisfied: psutil in /usr/local/lib/python3.10/dist-packages (from ultralytics) (5.9.5)\n",
            "Requirement already satisfied: thop>=0.1.1 in /usr/local/lib/python3.10/dist-packages (from ultralytics) (0.1.1.post2209072238)\n",
            "Requirement already satisfied: GitPython>=3.1.24 in /usr/local/lib/python3.10/dist-packages (from ultralytics) (3.1.43)\n",
            "Requirement already satisfied: sentry-sdk in /usr/local/lib/python3.10/dist-packages (from ultralytics) (2.18.0)\n",
            "Requirement already satisfied: gitdb<5,>=4.0.1 in /usr/local/lib/python3.10/dist-packages (from GitPython>=3.1.24->ultralytics) (4.0.11)\n",
            "Requirement already satisfied: contourpy>=1.0.1 in /usr/local/lib/python3.10/dist-packages (from matplotlib>=3.2.2->ultralytics) (1.3.1)\n",
            "Requirement already satisfied: cycler>=0.10 in /usr/local/lib/python3.10/dist-packages (from matplotlib>=3.2.2->ultralytics) (0.12.1)\n",
            "Requirement already satisfied: fonttools>=4.22.0 in /usr/local/lib/python3.10/dist-packages (from matplotlib>=3.2.2->ultralytics) (4.54.1)\n",
            "Requirement already satisfied: kiwisolver>=1.0.1 in /usr/local/lib/python3.10/dist-packages (from matplotlib>=3.2.2->ultralytics) (1.4.7)\n",
            "Requirement already satisfied: packaging>=20.0 in /usr/local/lib/python3.10/dist-packages (from matplotlib>=3.2.2->ultralytics) (24.2)\n",
            "Requirement already satisfied: pyparsing>=2.3.1 in /usr/local/lib/python3.10/dist-packages (from matplotlib>=3.2.2->ultralytics) (3.2.0)\n",
            "Requirement already satisfied: python-dateutil>=2.7 in /usr/local/lib/python3.10/dist-packages (from matplotlib>=3.2.2->ultralytics) (2.9.0.post0)\n",
            "Requirement already satisfied: pytz>=2020.1 in /usr/local/lib/python3.10/dist-packages (from pandas>=1.1.4->ultralytics) (2024.2)\n",
            "Requirement already satisfied: tzdata>=2022.7 in /usr/local/lib/python3.10/dist-packages (from pandas>=1.1.4->ultralytics) (2024.2)\n",
            "Requirement already satisfied: charset-normalizer<4,>=2 in /usr/local/lib/python3.10/dist-packages (from requests>=2.23.0->ultralytics) (3.4.0)\n",
            "Requirement already satisfied: idna<4,>=2.5 in /usr/local/lib/python3.10/dist-packages (from requests>=2.23.0->ultralytics) (3.7)\n",
            "Requirement already satisfied: urllib3<3,>=1.21.1 in /usr/local/lib/python3.10/dist-packages (from requests>=2.23.0->ultralytics) (2.2.3)\n",
            "Requirement already satisfied: certifi>=2017.4.17 in /usr/local/lib/python3.10/dist-packages (from requests>=2.23.0->ultralytics) (2024.8.30)\n",
            "Requirement already satisfied: absl-py>=0.4 in /usr/local/lib/python3.10/dist-packages (from tensorboard>=2.4.1->ultralytics) (1.4.0)\n",
            "Requirement already satisfied: grpcio>=1.48.2 in /usr/local/lib/python3.10/dist-packages (from tensorboard>=2.4.1->ultralytics) (1.67.1)\n",
            "Requirement already satisfied: google-auth<3,>=1.6.3 in /usr/local/lib/python3.10/dist-packages (from tensorboard>=2.4.1->ultralytics) (2.27.0)\n",
            "Requirement already satisfied: google-auth-oauthlib<2,>=0.5 in /usr/local/lib/python3.10/dist-packages (from tensorboard>=2.4.1->ultralytics) (1.2.1)\n",
            "Requirement already satisfied: markdown>=2.6.8 in /usr/local/lib/python3.10/dist-packages (from tensorboard>=2.4.1->ultralytics) (3.7)\n",
            "Requirement already satisfied: protobuf!=4.24.0,>=3.19.6 in /usr/local/lib/python3.10/dist-packages (from tensorboard>=2.4.1->ultralytics) (3.20.1)\n",
            "Requirement already satisfied: setuptools>=41.0.0 in /usr/local/lib/python3.10/dist-packages (from tensorboard>=2.4.1->ultralytics) (75.1.0)\n",
            "Requirement already satisfied: six>1.9 in /usr/local/lib/python3.10/dist-packages (from tensorboard>=2.4.1->ultralytics) (1.16.0)\n",
            "Requirement already satisfied: tensorboard-data-server<0.8.0,>=0.7.0 in /usr/local/lib/python3.10/dist-packages (from tensorboard>=2.4.1->ultralytics) (0.7.2)\n",
            "Requirement already satisfied: werkzeug>=1.0.1 in /usr/local/lib/python3.10/dist-packages (from tensorboard>=2.4.1->ultralytics) (3.1.3)\n",
            "Requirement already satisfied: filelock in /usr/local/lib/python3.10/dist-packages (from torch>=1.7.0->ultralytics) (3.16.1)\n",
            "Requirement already satisfied: typing-extensions>=4.8.0 in /usr/local/lib/python3.10/dist-packages (from torch>=1.7.0->ultralytics) (4.12.2)\n",
            "Requirement already satisfied: networkx in /usr/local/lib/python3.10/dist-packages (from torch>=1.7.0->ultralytics) (3.4.2)\n",
            "Requirement already satisfied: jinja2 in /usr/local/lib/python3.10/dist-packages (from torch>=1.7.0->ultralytics) (3.1.4)\n",
            "Requirement already satisfied: fsspec in /usr/local/lib/python3.10/dist-packages (from torch>=1.7.0->ultralytics) (2024.10.0)\n",
            "Requirement already satisfied: sympy==1.13.1 in /usr/local/lib/python3.10/dist-packages (from torch>=1.7.0->ultralytics) (1.13.1)\n",
            "Requirement already satisfied: mpmath<1.4,>=1.1.0 in /usr/local/lib/python3.10/dist-packages (from sympy==1.13.1->torch>=1.7.0->ultralytics) (1.3.0)\n",
            "Requirement already satisfied: jedi>=0.16 in /usr/local/lib/python3.10/dist-packages (from ipython->ultralytics) (0.19.2)\n",
            "Requirement already satisfied: decorator in /usr/local/lib/python3.10/dist-packages (from ipython->ultralytics) (5.1.1)\n",
            "Requirement already satisfied: pickleshare in /usr/local/lib/python3.10/dist-packages (from ipython->ultralytics) (0.7.5)\n",
            "Requirement already satisfied: traitlets>=4.2 in /usr/local/lib/python3.10/dist-packages (from ipython->ultralytics) (5.7.1)\n",
            "Requirement already satisfied: prompt-toolkit!=3.0.0,!=3.0.1,<3.1.0,>=2.0.0 in /usr/local/lib/python3.10/dist-packages (from ipython->ultralytics) (3.0.48)\n",
            "Requirement already satisfied: pygments in /usr/local/lib/python3.10/dist-packages (from ipython->ultralytics) (2.18.0)\n",
            "Requirement already satisfied: backcall in /usr/local/lib/python3.10/dist-packages (from ipython->ultralytics) (0.2.0)\n",
            "Requirement already satisfied: matplotlib-inline in /usr/local/lib/python3.10/dist-packages (from ipython->ultralytics) (0.1.7)\n",
            "Requirement already satisfied: pexpect>4.3 in /usr/local/lib/python3.10/dist-packages (from ipython->ultralytics) (4.9.0)\n",
            "Requirement already satisfied: smmap<6,>=3.0.1 in /usr/local/lib/python3.10/dist-packages (from gitdb<5,>=4.0.1->GitPython>=3.1.24->ultralytics) (5.0.1)\n",
            "Requirement already satisfied: cachetools<6.0,>=2.0.0 in /usr/local/lib/python3.10/dist-packages (from google-auth<3,>=1.6.3->tensorboard>=2.4.1->ultralytics) (5.5.0)\n",
            "Requirement already satisfied: pyasn1-modules>=0.2.1 in /usr/local/lib/python3.10/dist-packages (from google-auth<3,>=1.6.3->tensorboard>=2.4.1->ultralytics) (0.4.1)\n",
            "Requirement already satisfied: rsa<5,>=3.1.4 in /usr/local/lib/python3.10/dist-packages (from google-auth<3,>=1.6.3->tensorboard>=2.4.1->ultralytics) (4.9)\n",
            "Requirement already satisfied: requests-oauthlib>=0.7.0 in /usr/local/lib/python3.10/dist-packages (from google-auth-oauthlib<2,>=0.5->tensorboard>=2.4.1->ultralytics) (2.0.0)\n",
            "Requirement already satisfied: parso<0.9.0,>=0.8.4 in /usr/local/lib/python3.10/dist-packages (from jedi>=0.16->ipython->ultralytics) (0.8.4)\n",
            "Requirement already satisfied: ptyprocess>=0.5 in /usr/local/lib/python3.10/dist-packages (from pexpect>4.3->ipython->ultralytics) (0.7.0)\n",
            "Requirement already satisfied: wcwidth in /usr/local/lib/python3.10/dist-packages (from prompt-toolkit!=3.0.0,!=3.0.1,<3.1.0,>=2.0.0->ipython->ultralytics) (0.2.13)\n",
            "Requirement already satisfied: MarkupSafe>=2.1.1 in /usr/local/lib/python3.10/dist-packages (from werkzeug>=1.0.1->tensorboard>=2.4.1->ultralytics) (3.0.2)\n",
            "Requirement already satisfied: pyasn1<0.7.0,>=0.4.6 in /usr/local/lib/python3.10/dist-packages (from pyasn1-modules>=0.2.1->google-auth<3,>=1.6.3->tensorboard>=2.4.1->ultralytics) (0.6.1)\n",
            "Requirement already satisfied: oauthlib>=3.0.0 in /usr/local/lib/python3.10/dist-packages (from requests-oauthlib>=0.7.0->google-auth-oauthlib<2,>=0.5->tensorboard>=2.4.1->ultralytics) (3.2.2)\n"
          ]
        }
      ],
      "source": [
        "pip install ultralytics\n"
      ]
    },
    {
      "cell_type": "code",
      "source": [
        "from google.colab import drive\n",
        "drive.mount('/content/drive')"
      ],
      "metadata": {
        "colab": {
          "base_uri": "https://localhost:8080/"
        },
        "id": "Fe9j6DWUyfJu",
        "outputId": "c6031490-a9f1-44fd-9376-e7c3f27622b8"
      },
      "execution_count": 6,
      "outputs": [
        {
          "output_type": "stream",
          "name": "stdout",
          "text": [
            "Drive already mounted at /content/drive; to attempt to forcibly remount, call drive.mount(\"/content/drive\", force_remount=True).\n"
          ]
        }
      ]
    },
    {
      "cell_type": "code",
      "source": [
        "%cd /content/License_plate_detection"
      ],
      "metadata": {
        "colab": {
          "base_uri": "https://localhost:8080/"
        },
        "id": "uAAvp1G1ysVE",
        "outputId": "b274e3f7-9f68-4d42-f8d8-3ecb7b0431f0"
      },
      "execution_count": 7,
      "outputs": [
        {
          "output_type": "stream",
          "name": "stdout",
          "text": [
            "/content/License_plate_detection\n"
          ]
        }
      ]
    },
    {
      "cell_type": "code",
      "source": [
        "!zip -r models.zip /content/License_plate_detection\n",
        "\n"
      ],
      "metadata": {
        "colab": {
          "base_uri": "https://localhost:8080/"
        },
        "id": "lE-73xDqzJje",
        "outputId": "e8057605-bd55-4a19-86ae-aabe95928fe2"
      },
      "execution_count": 8,
      "outputs": [
        {
          "output_type": "stream",
          "name": "stdout",
          "text": [
            "  adding: content/License_plate_detection/ (stored 0%)\n",
            "  adding: content/License_plate_detection/demo2.jpeg (deflated 0%)\n",
            "  adding: content/License_plate_detection/runs/ (stored 0%)\n",
            "  adding: content/License_plate_detection/runs/detect/ (stored 0%)\n",
            "  adding: content/License_plate_detection/runs/detect/train/ (stored 0%)\n",
            "  adding: content/License_plate_detection/runs/detect/train/labels.jpg (deflated 39%)\n",
            "  adding: content/License_plate_detection/runs/detect/train/labels_correlogram.jpg (deflated 43%)\n",
            "  adding: content/License_plate_detection/runs/detect/train/weights/ (stored 0%)\n",
            "  adding: content/License_plate_detection/runs/detect/train/args.yaml (deflated 53%)\n",
            "  adding: content/License_plate_detection/runs/detect/train/events.out.tfevents.1731775124.2f9d5c3a8d7d.7421.0 (deflated 94%)\n",
            "  adding: content/License_plate_detection/runs/detect/train2/ (stored 0%)\n",
            "  adding: content/License_plate_detection/runs/detect/train2/labels.jpg (deflated 39%)\n",
            "  adding: content/License_plate_detection/runs/detect/train2/labels_correlogram.jpg (deflated 43%)\n",
            "  adding: content/License_plate_detection/runs/detect/train2/events.out.tfevents.1731775142.2f9d5c3a8d7d.7421.1 (deflated 90%)\n",
            "  adding: content/License_plate_detection/runs/detect/train2/results.png (deflated 7%)\n",
            "  adding: content/License_plate_detection/runs/detect/train2/results.csv (deflated 62%)\n",
            "  adding: content/License_plate_detection/runs/detect/train2/F1_curve.png (deflated 17%)\n",
            "  adding: content/License_plate_detection/runs/detect/train2/confusion_matrix_normalized.png (deflated 36%)\n",
            "  adding: content/License_plate_detection/runs/detect/train2/train_batch2.jpg (deflated 1%)\n",
            "  adding: content/License_plate_detection/runs/detect/train2/train_batch722.jpg (deflated 10%)\n",
            "  adding: content/License_plate_detection/runs/detect/train2/confusion_matrix.png (deflated 37%)\n",
            "  adding: content/License_plate_detection/runs/detect/train2/weights/ (stored 0%)\n",
            "  adding: content/License_plate_detection/runs/detect/train2/weights/best.mlpackage/ (stored 0%)\n",
            "  adding: content/License_plate_detection/runs/detect/train2/weights/best.mlpackage/Data/ (stored 0%)\n",
            "  adding: content/License_plate_detection/runs/detect/train2/weights/best.mlpackage/Data/com.apple.CoreML/ (stored 0%)\n",
            "  adding: content/License_plate_detection/runs/detect/train2/weights/best.mlpackage/Data/com.apple.CoreML/model.mlmodel (deflated 88%)\n",
            "  adding: content/License_plate_detection/runs/detect/train2/weights/best.mlpackage/Data/com.apple.CoreML/weights/ (stored 0%)\n",
            "  adding: content/License_plate_detection/runs/detect/train2/weights/best.mlpackage/Data/com.apple.CoreML/weights/weight.bin (deflated 8%)\n",
            "  adding: content/License_plate_detection/runs/detect/train2/weights/best.mlpackage/Manifest.json (deflated 60%)\n",
            "  adding: content/License_plate_detection/runs/detect/train2/weights/best.pt (deflated 10%)\n",
            "  adding: content/License_plate_detection/runs/detect/train2/weights/last.pt (deflated 10%)\n",
            "  adding: content/License_plate_detection/runs/detect/train2/weights/best.onnx (deflated 14%)\n",
            "  adding: content/License_plate_detection/runs/detect/train2/val_batch2_labels.jpg (deflated 6%)\n",
            "  adding: content/License_plate_detection/runs/detect/train2/val_batch2_pred.jpg (deflated 6%)\n",
            "  adding: content/License_plate_detection/runs/detect/train2/P_curve.png (deflated 22%)\n",
            "  adding: content/License_plate_detection/runs/detect/train2/PR_curve.png (deflated 27%)\n",
            "  adding: content/License_plate_detection/runs/detect/train2/val_batch1_pred.jpg (deflated 6%)\n",
            "  adding: content/License_plate_detection/runs/detect/train2/val_batch0_labels.jpg (deflated 7%)\n",
            "  adding: content/License_plate_detection/runs/detect/train2/train_batch721.jpg (deflated 6%)\n",
            "  adding: content/License_plate_detection/runs/detect/train2/train_batch0.jpg (deflated 2%)\n",
            "  adding: content/License_plate_detection/runs/detect/train2/val_batch1_labels.jpg (deflated 6%)\n",
            "  adding: content/License_plate_detection/runs/detect/train2/train_batch720.jpg (deflated 4%)\n",
            "  adding: content/License_plate_detection/runs/detect/train2/args.yaml (deflated 52%)\n",
            "  adding: content/License_plate_detection/runs/detect/train2/train_batch1.jpg (deflated 2%)\n",
            "  adding: content/License_plate_detection/runs/detect/train2/R_curve.png (deflated 19%)\n",
            "  adding: content/License_plate_detection/runs/detect/train2/val_batch0_pred.jpg (deflated 7%)\n",
            "  adding: content/License_plate_detection/requirements.txt (deflated 15%)\n",
            "  adding: content/License_plate_detection/yolov8n.pt (deflated 9%)\n",
            "  adding: content/License_plate_detection/License-Plate-Detector-2/ (stored 0%)\n",
            "  adding: content/License_plate_detection/License-Plate-Detector-2/train/ (stored 0%)\n",
            "  adding: content/License_plate_detection/License-Plate-Detector-2/train/labels/ (stored 0%)\n",
            "  adding: content/License_plate_detection/License-Plate-Detector-2/train/labels/0b24d6ed-d32f-420d-bc18-03deece29073___2015-Maruti-Ciaz-Test-Drive-Review-jpg_jpeg.rf.c01332a1dd185a3fc37573d71793561b.txt (deflated 17%)\n",
            "  adding: content/License_plate_detection/License-Plate-Detector-2/train/labels/car-wbs-TN38BW1139_00000_jpeg.rf.21b3496ffc4827ef23c1c2d12c341084.txt (deflated 22%)\n",
            "  adding: content/License_plate_detection/License-Plate-Detector-2/train/labels/car-wbs-TN59BE0939_00000_jpg.rf.07452116b21fe79d845a76bd52630ffb.txt (deflated 15%)\n",
            "  adding: content/License_plate_detection/License-Plate-Detector-2/train/labels/00b42b2c-f193-4863-b92c-0245cbc816da___3e7fd381-0ae5-4421-8a70-279ee0ec1c61_Nissan-Terrano-Petrol-Review-Images-Black-Front-Angle_jpg.rf.f7f09912979f92bf88f50c1405616e5f.txt (deflated 24%)\n",
            "  adding: content/License_plate_detection/License-Plate-Detector-2/train/labels/931dfd5a-3d1f-4a08-9234-0453545e27ea___1297127d1412798792-maruti-ciaz-official-review-imag0627-jpg_jpeg.rf.40940cf91ddf18959d1998949573b4b5.txt (deflated 21%)\n",
            "  adding: content/License_plate_detection/License-Plate-Detector-2/train/labels/2adfb5e7-e70a-4749-b5fa-8c233c0d47d9___new_1572920d1478091901-your-favourite-number-plate-font-jetta-german-font-jpg_jpeg.rf.9aa8940e23ceb89858bd971f2a593411.txt (deflated 16%)\n",
            "  adding: content/License_plate_detection/License-Plate-Detector-2/train/labels/1e7151e6-8626-4fb2-b7e8-0fb6a8fde713___3e7fd381-0ae5-4421-8a70-279ee0ec1c61_a19be5870f8f2593c994c465a691477e_555X416_1_jpg.rf.406679b011166cada931bbea6790a7e3.txt (deflated 12%)\n",
            "  adding: content/License_plate_detection/License-Plate-Detector-2/train/labels/b3e82163-400b-4211-bb99-a5b53fb13a25___new_IMG_8883-jpg_jpeg.rf.28fff881996bccb2b286dade476158e4.txt (deflated 24%)\n",
            "  adding: content/License_plate_detection/License-Plate-Detector-2/train/labels/car-wbs-TN99F2378_00000_png.rf.4e687cb5f8e89f390a685c0f68f5a5a5.txt (deflated 25%)\n",
            "  adding: content/License_plate_detection/License-Plate-Detector-2/train/labels/9cad4b47-6c7b-4e30-ab55-b7fa040beb56___135717d1400912281-skoda-rapid-1-6tdi-cr-mt-elegance-ultima-candy-white-white-monster-_mg_2993comp-jpg_jpeg.rf.ff963877b526505f19151aae22d90b76.txt (deflated 16%)\n",
            "  adding: content/License_plate_detection/License-Plate-Detector-2/train/labels/c03a7106-1fb9-471f-bbb0-2e8f4a29759a___38e7b1109eb976088e1df2f14ac4c08c-jpg-Copy_jpeg.rf.8c8c2a00173b81adae11771b43e2c810.txt (deflated 20%)\n",
            "  adding: content/License_plate_detection/License-Plate-Detector-2/train/labels/car-wbs-MH20BY3665_00000_jpeg.rf.b32aa3ecb49b4b0dd8685ff43b1bf7d4.txt (deflated 23%)\n",
            "  adding: content/License_plate_detection/License-Plate-Detector-2/train/labels/5a4780bf-d2af-4f19-a36b-65004cd06b3d___maruti-suzuki-wagon-r-rear-left-rim-jpg_jpeg.rf.8f04ad351d6c82e6adbd1c1b0c2bdbf1.txt (deflated 21%)\n",
            "  adding: content/License_plate_detection/License-Plate-Detector-2/train/labels/car-wbs-HR26BR9044_00000_png.rf.9553c7ae97392552f4f5e311a5d17642.txt (deflated 12%)\n",
            "  adding: content/License_plate_detection/License-Plate-Detector-2/train/labels/car-wbs-HR26BU0380_00000_png.rf.e48ff3c485ace2d5cbf1a9627678aaa8.txt (deflated 20%)\n",
            "  adding: content/License_plate_detection/License-Plate-Detector-2/train/labels/5b49ae32-c799-45e3-b139-9c56acf6370d___2014-Volkswagen-Polo-Review-jpg_jpeg.rf.944a60d55c2f313307dfc37686f6f233.txt (deflated 16%)\n",
            "  adding: content/License_plate_detection/License-Plate-Detector-2/train/labels/4eb236a3-6547-4103-b46f-3756d21128a9___06-Sanjay-Dutt-jpg_jpeg.rf.07150a289e35cd855ca3a3f006883f7a.txt (deflated 13%)\n",
            "  adding: content/License_plate_detection/License-Plate-Detector-2/train/labels/car-wbs-MH14EH7958_00001_jpeg.rf.4cd4fe4935cb0b2430ee928fdf89fc99.txt (deflated 18%)\n",
            "  adding: content/License_plate_detection/License-Plate-Detector-2/train/labels/fac9f4e6-c4b9-4872-86da-79d58ea2adc5___5273-jpg_jpeg.rf.487ee557877599d4756ac7b192bc4414.txt (deflated 17%)\n",
            "  adding: content/License_plate_detection/License-Plate-Detector-2/train/labels/760ba77a-8992-4574-8cba-6c081d9e3e19___3e7fd381-0ae5-4421-8a70-279ee0ec1c61_04f4c639c871fba0b4cc6475604e40b7_large_jpg.rf.17bda8759caf16327307422a51c42465.txt (deflated 15%)\n",
            "  adding: content/License_plate_detection/License-Plate-Detector-2/train/labels/bb767d81-73b4-4c47-b619-7efde490b199___3e7fd381-0ae5-4421-8a70-279ee0ec1c61_oem-name0-Copy_jpg.rf.3cd5eeb2206512ae974de7702e3386f2.txt (deflated 16%)\n",
            "  adding: content/License_plate_detection/License-Plate-Detector-2/train/labels/c8a79e91-8c48-42d0-9b80-137fd033493c___automakers-number-plates-nitin-gadkari_827x510_61522653557-jpg_jpeg.rf.1217480e1ef38fb05a6d1324505e2286.txt (deflated 19%)\n",
            "  adding: content/License_plate_detection/License-Plate-Detector-2/train/labels/car-wbs-MH20EJ0364_00000_png.rf.de9fe5017e46957b792a08cd40d41821.txt (deflated 12%)\n",
            "  adding: content/License_plate_detection/License-Plate-Detector-2/train/labels/car-wbs-MH14DT8831_00000_jpeg.rf.194e27cd2af8b03e373c9079634bdfe7.txt (deflated 19%)\n",
            "  adding: content/License_plate_detection/License-Plate-Detector-2/train/labels/07064c2c-2aa3-4419-91a4-92916de8e54c___mahindra-scorpio-old-car-500x500-jpg_jpeg.rf.fe99052caac0ae37f674cc77f08ec360.txt (deflated 25%)\n",
            "  adding: content/License_plate_detection/License-Plate-Detector-2/train/labels/car-wbs-MH20CS1938_00000_jpeg.rf.2cd463063e761f872ff490ecccbceead.txt (deflated 15%)\n",
            "  adding: content/License_plate_detection/License-Plate-Detector-2/train/labels/3d7cd880-ea4b-4d63-9706-bea1df54af20___135712d1400874352-skoda-rapid-1-6tdi-cr-mt-elegance-ultima-candy-white-white-monster-1911216_676392609084007_1524722860_o-jpg_jpeg.rf.8639854712e7b07515353745cabaac26.txt (deflated 17%)\n",
            "  adding: content/License_plate_detection/License-Plate-Detector-2/train/labels/a95a0d9d-5d40-4abb-bd3e-6c6d94bef5b1___IMG_3310-jpg_jpeg.rf.b91583ff1f44cd94e9f85191f46fa728.txt (deflated 16%)\n",
            "  adding: content/License_plate_detection/License-Plate-Detector-2/train/labels/4b669e6d-4eec-4f46-b502-f64ee0175947___new_1_jpg.rf.7034199f779b3935b8ea56038e775873.txt (deflated 27%)\n",
            "  adding: content/License_plate_detection/License-Plate-Detector-2/train/labels/b5b41a4b-8913-4af6-9419-ac6398d266b0___161893107_2_1000x700_innava-with-fancy-number-upload-photos-jpg_jpeg.rf.9bbd905a000bacabd1cb592e9d14a85c.txt (deflated 18%)\n",
            "  adding: content/License_plate_detection/License-Plate-Detector-2/train/labels/dd58e02d-51a5-4bfd-87af-ff51c576086e___2014-mahindra-scorpio-suv-10-jpg_jpeg.rf.51a1736c68885300e2f5ca47735dca73.txt (deflated 20%)\n",
            "  adding: content/License_plate_detection/License-Plate-Detector-2/train/labels/car-wbs-KL10AV6633_00000_jpg.rf.cdfd0b8ae784c6086c528bd4660773f5.txt (deflated 15%)\n",
            "  adding: content/License_plate_detection/License-Plate-Detector-2/train/labels/car-wbs-MH01AE8017_00000_jpeg.rf.33823150d8b62550d76921d32ffc8737.txt (deflated 20%)\n",
            "  adding: content/License_plate_detection/License-Plate-Detector-2/train/labels/car-wbs-TN21BZ0768_00000_png.rf.dd88ea77406936548eae472d4ad6d82a.txt (deflated 23%)\n",
            "  adding: content/License_plate_detection/License-Plate-Detector-2/train/labels/07bd977e-d578-49a2-b345-7cee5a4db6bf___new_1031520d1356604430-skoda-rapid-joins-family-edit-sold-wp_000281-jpg_jpeg.rf.6b227e0920d86ccebb7233cdd4bff566.txt (deflated 14%)\n",
            "  adding: content/License_plate_detection/License-Plate-Detector-2/train/labels/1438b735-2d21-4879-8ed4-e5fa086e70c8___Maruti-Suzuki-Swift-Dzire-1-jpg_jpeg.rf.9adec128b9a54478c73be254c6a3e5d6.txt (deflated 18%)\n",
            "  adding: content/License_plate_detection/License-Plate-Detector-2/train/labels/5345a45f-8d1b-4984-b5ee-a69fc4cbda6a___new__bd7f7862-d727-11e7-ad30-e18a56154311-jpg_jpeg.rf.71b74d5c7f28a6e6e3408842bb394522.txt (deflated 18%)\n",
            "  adding: content/License_plate_detection/License-Plate-Detector-2/train/labels/38cee3dd-dead-4ba0-b350-0f82d94836da___3e7fd381-0ae5-4421-8a70-279ee0ec1c61_big_467860_1505633598_jpg.rf.2d22b4b101a837485a0376ad0dd2ba1e.txt (deflated 14%)\n",
            "  adding: content/License_plate_detection/License-Plate-Detector-2/train/labels/cd506968-8676-4df3-9150-d1c2e618f4c2___3e7fd381-0ae5-4421-8a70-279ee0ec1c61_nissan-note-india-testing_827x510_81508219864_jpg.rf.714b97fc3aae1ed00904d13f61e0d2ec.txt (deflated 21%)\n",
            "  adding: content/License_plate_detection/License-Plate-Detector-2/train/labels/2302b12c-3d74-4d6c-b376-ba8ab308a8c3___big_215451_1320738450-jpg_jpeg.rf.ced232fa768ef8e25b256cf648a7f300.txt (deflated 25%)\n",
            "  adding: content/License_plate_detection/License-Plate-Detector-2/train/labels/e4907f73-1fbc-412c-a766-9c81bb31449c___2016-Chevrolet-TrailBlazer-India-Test-Drive-Review-e1442832290349-jpg_jpeg.rf.fff27a35ebc182ac84c7cc6ed7f53715.txt (deflated 12%)\n",
            "  adding: content/License_plate_detection/License-Plate-Detector-2/train/labels/e53076d3-c3b7-47b8-8c63-30a08b8ad983___40213__Maruti_Suzuki_Swift-016-JPG_jpeg.rf.44e74ad42958ac6f65ec44b4f1123993.txt (deflated 19%)\n",
            "  adding: content/License_plate_detection/License-Plate-Detector-2/train/labels/c48f8704-bc40-462a-a595-445b2f2e63fe___new_77cca4b6f3864b3928824a030ba101d2-jpg_jpeg.rf.1e62c466b550638c230341cee5f7bc97.txt (deflated 12%)\n",
            "  adding: content/License_plate_detection/License-Plate-Detector-2/train/labels/car-wbs-TN19S4523_00000_png.rf.757b0b5c8ba3f76dded0ec7575f79fff.txt (deflated 22%)\n",
            "  adding: content/License_plate_detection/License-Plate-Detector-2/train/labels/car-wbs-TN58AM1_00000_jpeg.rf.c7c9b66cd7ef78257555d1e7f18d04fb.txt (deflated 22%)\n",
            "  adding: content/License_plate_detection/License-Plate-Detector-2/train/labels/7f768bfc-4c86-4fff-932d-c9871a82dce5___1431955d1446017445-number-plates-merchandise-canvas-ink-gurgaon-edit-closed-thumb_img_4422_1024-jpg_jpeg.rf.8410d180210ea8eed5bb2fc830ecf824.txt (deflated 19%)\n",
            "  adding: content/License_plate_detection/License-Plate-Detector-2/train/labels/868b996f-1f40-47ca-8222-b0f2750d7010___3e7fd381-0ae5-4421-8a70-279ee0ec1c61_nissan-terrano-left-side-view_jpg.rf.0d67f691028e14b5de7571618bf46b62.txt (deflated 21%)\n",
            "  adding: content/License_plate_detection/License-Plate-Detector-2/train/labels/f8a992cc-a1cc-4d68-88c1-bec1a46fc148___Honda-City-Number-Plates-Design-jpg_jpeg.rf.edbde1b1a4353b4a10a5e85cac31b058.txt (deflated 33%)\n",
            "  adding: content/License_plate_detection/License-Plate-Detector-2/train/labels/car-wbs-TN99F2378_00000_jpeg.rf.d9c43421ccab771f5a8b457998109648.txt (deflated 27%)\n",
            "  adding: content/License_plate_detection/License-Plate-Detector-2/train/labels/165eaa92-8e90-44e6-b132-8af462bae0c9___scorpio-rear-JPG_jpeg.rf.a8eff326cd43557060cab1c7fae6dd12.txt (deflated 14%)\n",
            "  adding: content/License_plate_detection/License-Plate-Detector-2/train/labels/car-wbs-MH03BS7778_00001_jpeg.rf.439efdb87afc16d1d26e26e726022b94.txt (deflated 17%)\n",
            "  adding: content/License_plate_detection/License-Plate-Detector-2/train/labels/2430703d-0fb3-4eb2-9765-4f9301f232cd___3e7fd381-0ae5-4421-8a70-279ee0ec1c61_Terrano-Duster-Rear-Comparison-Copy_jpg.rf.9fa633c6eeb61d601c4e30b15b38516a.txt (deflated 20%)\n",
            "  adding: content/License_plate_detection/License-Plate-Detector-2/train/labels/car-wbs-MH12DE1433_00001_jpeg.rf.4cbf975cc09d48a798d9052661e3af30.txt (deflated 16%)\n",
            "  adding: content/License_plate_detection/License-Plate-Detector-2/train/labels/85bd88a0-ac9a-412e-ba44-2a29d209e212___4336_1466054535_9-jpg_jpeg.rf.b7faae328e4d277dcbbb5f1efc8a3599.txt (deflated 23%)\n",
            "  adding: content/License_plate_detection/License-Plate-Detector-2/train/labels/a2d49f53-4121-4627-b5d9-069f8b2f8490___840256171_1_1080x720_maruti-suzuki-wagon-r-vxi-with-abs-minor-2014-petrol-erode-jpg_jpeg.rf.e1901a3b09f3bd88dd0fd2ec4e50e9bf.txt (deflated 19%)\n",
            "  adding: content/License_plate_detection/License-Plate-Detector-2/train/labels/5ac9f7b9-f7cc-4161-bbd1-7f377bb890bf___3e7fd381-0ae5-4421-8a70-279ee0ec1c61_Nissan-Terrano-John-Abraham_jpg.rf.9b1d7c9f809a959699f72b18cc3d9a2b.txt (deflated 16%)\n",
            "  adding: content/License_plate_detection/License-Plate-Detector-2/train/labels/1a0da3dc-6667-4092-bc2a-a541a06f1e90___3e7fd381-0ae5-4421-8a70-279ee0ec1c61_Nissan-Terrano9_jpg.rf.f5c3e9ee506dab65ca572036487b467e.txt (deflated 15%)\n",
            "  adding: content/License_plate_detection/License-Plate-Detector-2/train/labels/206c95ff-83b8-4273-b105-6637bf9a3038___numerix-number-plates-thodupuzha-idukki-number-plate-dealers-1lhwiga-jpg_jpeg.rf.0f5f2a1baa7c677ca529cb77be0916d7.txt (deflated 28%)\n",
            "  adding: content/License_plate_detection/License-Plate-Detector-2/train/labels/2e23964b-ce59-4bcf-8c35-98f3a096a748___design-ind-number-plates-vijayanagar-bangalore-number-plate-dealers-2etqybj-jpg_jpeg.rf.d83baf67c4ab3f4187a6f8f08303c561.txt (deflated 17%)\n",
            "  adding: content/License_plate_detection/License-Plate-Detector-2/train/labels/59a29a85-30f5-469e-a6c2-e1af171f151c___3e7fd381-0ae5-4421-8a70-279ee0ec1c61_10187746494_417a40a489-Copy_jpg.rf.546c0c01b406f93f04dd69d9369367e0.txt (deflated 24%)\n",
            "  adding: content/License_plate_detection/License-Plate-Detector-2/train/labels/07f6d77a-652e-4885-8520-6d405d2f712f___3e7fd381-0ae5-4421-8a70-279ee0ec1c61_840539077_1_1080x720_nissan-terrano-xl-d-thp-110-ps-2016-diesel-_jpg.rf.e1c89068893ec334899203743209d5dd.txt (deflated 23%)\n",
            "  adding: content/License_plate_detection/License-Plate-Detector-2/train/labels/bff789cd-2d58-4399-a55e-33be55f313e3___IMG_0472-jpg_jpeg.rf.7a58d9ff801d7a68a9b7d62d2906d4fd.txt (deflated 9%)\n",
            "  adding: content/License_plate_detection/License-Plate-Detector-2/train/labels/car-wbs-MH46X9996_00000_jpg.rf.276bc017a5781c0a25cc7cd579c78b4e.txt (deflated 28%)\n",
            "  adding: content/License_plate_detection/License-Plate-Detector-2/train/labels/31847e78-6696-4dc2-be08-cb37d512c576___2010_Maruti_WagonR_Review-jpg_jpeg.rf.bab12054c1b6a98c7e9f7911ef3a1671.txt (deflated 15%)\n",
            "  adding: content/License_plate_detection/License-Plate-Detector-2/train/labels/ba457a81-cf10-4879-8e8f-3a0a8d10689a___3e7fd381-0ae5-4421-8a70-279ee0ec1c61_hqdefault_jpg.rf.67abe1c44bcefba627c2950299cf6cde.txt (deflated 22%)\n",
            "  adding: content/License_plate_detection/License-Plate-Detector-2/train/labels/fbb2b3ed-4db1-4d4c-8d4d-4b80b02bfd2a___3e7fd381-0ae5-4421-8a70-279ee0ec1c61_01640f5edbbfb564a9ab6486b31d1554_large_jpg.rf.c774960f7512d78a3fb1adf75cbcc01a.txt (deflated 18%)\n",
            "  adding: content/License_plate_detection/License-Plate-Detector-2/train/labels/ed6ee171-691a-4563-a79d-4f47d8ce9f85___Maruti-Suzuki-SCross-Exterior-80675-jpg_jpeg.rf.0ae522176cc1b27ed8eaab20f50f8f03.txt (deflated 24%)\n",
            "  adding: content/License_plate_detection/License-Plate-Detector-2/train/labels/2153dfcb-5968-4bfc-86ba-7ee8ec2d25b1___163231d1425035435-skoda-rapid-tdi-remapped-code-6-tuning-ind-front-jpg_jpeg.rf.f418259d18ce8cae4a23fabd38727620.txt (deflated 14%)\n",
            "  adding: content/License_plate_detection/License-Plate-Detector-2/train/labels/car-wbs-MH20EE7598_00001_jpeg.rf.5ec122ea08d3c5d37de4960b4a492245.txt (deflated 13%)\n",
            "  adding: content/License_plate_detection/License-Plate-Detector-2/train/labels/730a2f83-cd53-4943-8922-af9d4fcad415___new_2_jpg.rf.a3b647a1679f9db87e8df61d6bde2bba.txt (deflated 26%)\n",
            "  adding: content/License_plate_detection/License-Plate-Detector-2/train/labels/6ed8b283-5cf5-4727-9969-c79f70f47e80___2-cars-same-numbers-jpg_jpeg.rf.c31022866b4254ea2f0b6013fdb109c4.txt (deflated 14%)\n",
            "  adding: content/License_plate_detection/License-Plate-Detector-2/train/labels/b79f870d-15c7-48e3-8874-7c0e53e29f75___3e7fd381-0ae5-4421-8a70-279ee0ec1c61_754eab882b8290b29a0454dd45580a39_555X416_1-Copy-3-_jpg.rf.406e5b641c25a1c46f2e3665460e175a.txt (deflated 16%)\n",
            "  adding: content/License_plate_detection/License-Plate-Detector-2/train/labels/5231116f-7a07-4ce2-b437-d34b497e7969___3e7fd381-0ae5-4421-8a70-279ee0ec1c61_844329566_3_1080x720_nissan-terrano-xe-d-2014-diesel-_jpg.rf.11bc7b93b53fc7ffc47b2da5b70b9cd6.txt (deflated 16%)\n",
            "  adding: content/License_plate_detection/License-Plate-Detector-2/train/labels/7c8229d7-7e37-41a6-9262-d5da278c8d8e___139379d1243147524-ok-have-dealers-name-number-plate-1-jpg_jpeg.rf.85d0cd98a62a02543afc30b784de6f9c.txt (deflated 28%)\n",
            "  adding: content/License_plate_detection/License-Plate-Detector-2/train/labels/car-wbs-KL43B2344_00000_jpeg.rf.3006c2a719c6a2c827498b20b60a31f6.txt (deflated 20%)\n",
            "  adding: content/License_plate_detection/License-Plate-Detector-2/train/labels/6ec9d264-9eab-4027-bdcc-6f71c842ee75___3e7fd381-0ae5-4421-8a70-279ee0ec1c61_846635891_1_1080x720_nissan-terrano-xl-d-thp-110-ps-2013-diesel-dehra-dun_jpg.rf.f9557955f731e8a3609f11d8ef6f792f.txt (deflated 17%)\n",
            "  adding: content/License_plate_detection/License-Plate-Detector-2/train/labels/d1115e64-987f-4a72-b9bb-853f67ca37b6___new_2014-Volkswagen-Polo-Review-jpg_jpeg.rf.142aaa5c16ba74825690b1e032b9cc63.txt (deflated 16%)\n",
            "  adding: content/License_plate_detection/License-Plate-Detector-2/train/labels/6578ae52-8431-4854-ba24-756888891756___1496414894_2017-maruti-suzuki-ciaz-jpg_jpeg.rf.5575879768f3ab387803d3ce64333c88.txt (deflated 20%)\n",
            "  adding: content/License_plate_detection/License-Plate-Detector-2/train/labels/a285cdf6-4640-41ee-b3f3-b721f334466f___Skoda-Octavia-RS-launched-in-India-3-jpg_jpeg.rf.6b560065ba834ab8488a6dcabf7509d1.txt (deflated 16%)\n",
            "  adding: content/License_plate_detection/License-Plate-Detector-2/train/labels/4f86fbad-3a04-4c11-a8fa-e897727fc2c7___Number-plate-1-jpg_jpeg.rf.9e12b3b6c96561cc1326a51bb77d77a6.txt (deflated 31%)\n",
            "  adding: content/License_plate_detection/License-Plate-Detector-2/train/labels/a970d6e0-5948-4412-a1ec-67c5240722a8___images-gallery-misc4-250x250-jpg_jpeg.rf.f59d0bf1031092acab083b5c8fbdb568.txt (deflated 16%)\n",
            "  adding: content/License_plate_detection/License-Plate-Detector-2/train/labels/26d2b905-4055-41fe-a933-47db0e8a0a7f___37cba8c3f681f0cb5694f16a4c54aa7b-jpg_jpeg.rf.ee4d87042259e06e7379cf038775adef.txt (deflated 17%)\n",
            "  adding: content/License_plate_detection/License-Plate-Detector-2/train/labels/car-wbs-MH12NE8922_00000_png.rf.7d9197f10c5a6135f738155ec5e9e673.txt (deflated 28%)\n",
            "  adding: content/License_plate_detection/License-Plate-Detector-2/train/labels/60842fa7-0a2e-4407-b41c-933d93bdbb35___3e7fd381-0ae5-4421-8a70-279ee0ec1c61_nissan-terrano-red-rear_jpg.rf.0ade063e15bf9e6da0010fde9661505a.txt (deflated 15%)\n",
            "  adding: content/License_plate_detection/License-Plate-Detector-2/train/labels/car-wbs-MH20CS4946_00000_jpeg.rf.0388afc9fcc7660b48ecbe3b10b84e3d.txt (deflated 17%)\n",
            "  adding: content/License_plate_detection/License-Plate-Detector-2/train/labels/49bdf0d9-4e64-41eb-9c19-eabdc4afb051___Maruti-Suzuki-Ciaz-Photos-30-JPG_jpeg.rf.da81c302b65efd706f92ccbab6ab05f4.txt (deflated 16%)\n",
            "  adding: content/License_plate_detection/License-Plate-Detector-2/train/labels/bd742e42-bacc-430e-b9aa-9df666f5d9b3___kicker-647_010517112446-jpg_jpeg.rf.6db7c3a2a14a35d768ea0a389823787f.txt (deflated 15%)\n",
            "  adding: content/License_plate_detection/License-Plate-Detector-2/train/labels/369ccb4b-88fe-4e97-91c1-3838da2b7563___3e7fd381-0ae5-4421-8a70-279ee0ec1c61_Honda-Jazz-Number-Plates-Designs_jpg.rf.cd198e3bb2b03e497ef77477bf70e3bd.txt (deflated 24%)\n",
            "  adding: content/License_plate_detection/License-Plate-Detector-2/train/labels/89d26be7-258a-4470-b0fe-d1df57b20d55___new_Skoda-Octavia-5-jpg_jpeg.rf.ce61ab2c297ed9cc72b349140b514c14.txt (deflated 13%)\n",
            "  adding: content/License_plate_detection/License-Plate-Detector-2/train/labels/car-wbs-MH02CB4545_00000_jpeg.rf.553cb77d36bc7f87ac72a7e24295dea3.txt (deflated 18%)\n",
            "  adding: content/License_plate_detection/License-Plate-Detector-2/train/labels/car-wbs-KL10AW2814_00001_jpeg.rf.017c52762e47cfee945ba8bf6637b0c2.txt (deflated 22%)\n",
            "  adding: content/License_plate_detection/License-Plate-Detector-2/train/labels/car-wbs-UP16CT2233_00000_jpg.rf.5cba9f52073200cbfc6609a7915ecf71.txt (deflated 16%)\n",
            "  adding: content/License_plate_detection/License-Plate-Detector-2/train/labels/e354039f-d73c-4f12-9df5-f0129345fa79___scorpio-JPG_jpeg.rf.a5e4ed9510cff7c8271954c23c82d224.txt (deflated 16%)\n",
            "  adding: content/License_plate_detection/License-Plate-Detector-2/train/labels/car-wbs-TN21AT0492_00000_jpg.rf.218407b2271424bbbd53531b3900eb3e.txt (deflated 16%)\n",
            "  adding: content/License_plate_detection/License-Plate-Detector-2/train/labels/car-wbs-TN37CR4019_00000_jpeg.rf.017d2e5669c239ea7cea5eea13ab0b7c.txt (deflated 17%)\n",
            "  adding: content/License_plate_detection/License-Plate-Detector-2/train/labels/car-wbs-KL07CB8599_00000_jpeg.rf.f484edc60cef62e265ee64f11a1f7f32.txt (deflated 19%)\n",
            "  adding: content/License_plate_detection/License-Plate-Detector-2/train/labels/266d82c7-1b64-44cd-b77c-c08d98175390___3e7fd381-0ae5-4421-8a70-279ee0ec1c61_5c752daa8d168dec865fe0462bf2c0bb_large_jpg.rf.23d2100a1b9c64f7bafaece6c8988dbe.txt (deflated 18%)\n",
            "  adding: content/License_plate_detection/License-Plate-Detector-2/train/labels/bb210ab4-795c-4b2b-9b6e-4597cbc67375___White-2BPlate_jpeg.rf.5102662685e3c6248cf1aebad8dd24a8.txt (deflated 23%)\n",
            "  adding: content/License_plate_detection/License-Plate-Detector-2/train/labels/car-wbs-TN07BU5427_00001_jpeg.rf.3e1d6acb84aef614ba5ac5c90fb7da38.txt (deflated 17%)\n",
            "  adding: content/License_plate_detection/License-Plate-Detector-2/train/labels/2430703d-0fb3-4eb2-9765-4f9301f232cd___3e7fd381-0ae5-4421-8a70-279ee0ec1c61_Terrano-Duster-Rear-Comparison_jpg.rf.3ad9e4baee6d9781d2f35ec235ddc359.txt (deflated 20%)\n",
            "  adding: content/License_plate_detection/License-Plate-Detector-2/train/labels/18f2e55e-0724-4eee-a28e-5d552a5aa045___20455d0e2dca458f13fbf4da5a2dc118-jpg_jpeg.rf.97a0e92dc2a0dbd91fe0a0461518bc24.txt (deflated 24%)\n",
            "  adding: content/License_plate_detection/License-Plate-Detector-2/train/labels/b9467810-4022-4cf5-87e7-fed0d63c8e2f___new_1658240d1500548920-close-look-2017-skoda-octavia-facelift-hands-free-parking-front-bumper-jpg_jpeg.rf.79eb6d903bab771a85b8c0c1a7ee5968.txt (deflated 20%)\n",
            "  adding: content/License_plate_detection/License-Plate-Detector-2/train/labels/8e0b8c6f-850f-4918-983a-7fa110368d32___banner_4_png.rf.83b42fccf3884a1b516e0e6f2b0bb309.txt (deflated 14%)\n",
            "  adding: content/License_plate_detection/License-Plate-Detector-2/train/labels/b78553c7-977e-49a2-b3d2-42825d83c8b0___1557297d1474517501-toyota-innova-crysta-official-review-20160920_191445-jpg_jpeg.rf.4273bc177ce1984ec36c89b20c1b4dc7.txt (deflated 26%)\n",
            "  adding: content/License_plate_detection/License-Plate-Detector-2/train/labels/84969111-2ec3-4914-b3bb-da5aaac701e7___1-jpg_jpeg.rf.e735b2d50d17a388ed21d58227be53cf.txt (deflated 14%)\n",
            "  adding: content/License_plate_detection/License-Plate-Detector-2/train/labels/fbc107b7-13d8-4a2d-b8be-7c96bd7d609c___new_9214a754343030395508e104d7948167_large-jpg_jpeg.rf.3a343cfdbedd811fc688c5c4e6968c75.txt (deflated 15%)\n",
            "  adding: content/License_plate_detection/License-Plate-Detector-2/train/labels/aea95aa0-a000-4103-945d-c173383bd646___3e7fd381-0ae5-4421-8a70-279ee0ec1c61_Nissan-Terrano-11_jpg.rf.af606349afa1baac85868c9c137361e1.txt (deflated 13%)\n",
            "  adding: content/License_plate_detection/License-Plate-Detector-2/train/labels/56b46df3-223c-42c8-a6bf-e95e5bac29cc___9214a754343030395508e104d7948167_large-jpg_jpeg.rf.ccc6d6e912532a834b19e0e69f06e085.txt (deflated 15%)\n",
            "  adding: content/License_plate_detection/License-Plate-Detector-2/train/labels/b78259be-7ef5-4499-b9a2-2b8a37660e8b___Maruti-Suzuki-Celerio-Front-Number-Plates-Design-jpg_jpeg.rf.2dfa020e4c7724386e47c6799ee85679.txt (deflated 29%)\n",
            "  adding: content/License_plate_detection/License-Plate-Detector-2/train/labels/car-wbs-MH06AW8929_00000_jpeg.rf.a807b5ea3ad7707c9e8485bcb4e31405.txt (deflated 19%)\n",
            "  adding: content/License_plate_detection/License-Plate-Detector-2/train/labels/car-wbs-TN45BA1065_00000_jpeg.rf.a560c53deb44751622e20e937b6db00e.txt (deflated 17%)\n",
            "  adding: content/License_plate_detection/License-Plate-Detector-2/train/labels/a34aeb21-ffe8-4357-80d3-8f212c62c816___new_main_cropped-jpg_jpeg.rf.2a627cfc7a12a1a346aeebb3abc7def9.txt (deflated 19%)\n",
            "  adding: content/License_plate_detection/License-Plate-Detector-2/train/labels/55aa4ee8-13fd-45bd-b83b-651ac665d71a___200560387_4_1000x700_2012-toyota-innova-diesel-130000-kms-cars-jpg_jpeg.rf.48b245f3c618287ea492516d839c5c1f.txt (deflated 21%)\n",
            "  adding: content/License_plate_detection/License-Plate-Detector-2/train/labels/59a40238-6b01-4bb9-9faf-3b595e67bcb3___3d-font-number-plate-500x500-jpg_jpeg.rf.48e4fda91a2fc404f4bdb5a34b2632cc.txt (deflated 16%)\n",
            "  adding: content/License_plate_detection/License-Plate-Detector-2/train/labels/af270103-6ed4-4260-9d01-b8be2e2b9af1___skoda-rapid-1-5-tdi-dsg-review-jpg_jpeg.rf.f96f221f863f073599e276b346bcbe00.txt (deflated 18%)\n",
            "  adding: content/License_plate_detection/License-Plate-Detector-2/train/labels/b117ba53-d563-49c2-806b-343666616815___new_Maruti-Suzuki-recalls-75419-Baleno-cars-1961-DZire-cars-only-AGS-variant-Motown-India-Bureau-2-810-jpg_jpeg.rf.07204eee07438d63fb26a1c88afb9180.txt (deflated 16%)\n",
            "  adding: content/License_plate_detection/License-Plate-Detector-2/train/labels/car-wbs-GJ05JH2501_00001_jpg.rf.aa64f5eb0eec83b588ff73976a8da0ea.txt (deflated 21%)\n",
            "  adding: content/License_plate_detection/License-Plate-Detector-2/train/labels/be483d11-33f0-4c1f-87b6-9844eea28996___1093346d1370435964-take-look-number-plate-photo-jpg_jpeg.rf.e5904c92ba243c9650083585b1c15c6d.txt (deflated 22%)\n",
            "  adding: content/License_plate_detection/License-Plate-Detector-2/train/labels/car-wbs-MH15BD8877_00000_png.rf.c77f04ab1b19a6ae4aa1a548e2ec5b57.txt (deflated 25%)\n",
            "  adding: content/License_plate_detection/License-Plate-Detector-2/train/labels/df2f7a76-d701-468f-b54a-c5d63d13b349___CM-Akhilesh-Number-Plate-jpg_jpeg.rf.82214341a3ff03488a244dc7abcb2fe0.txt (deflated 20%)\n",
            "  adding: content/License_plate_detection/License-Plate-Detector-2/train/labels/0073797c-a755-4972-b76b-8ef2b31d44ab___new_IMG_20160315_071740-jpg_jpeg.rf.281091bbcd7fd8af7c902bdfed5dcf10.txt (deflated 16%)\n",
            "  adding: content/License_plate_detection/License-Plate-Detector-2/train/labels/d88b7b9c-a4f4-4af6-af3d-b3017e114e0d___146292-maruti-suzuki-wagon-r-stingray-vxi-ownership-review-dsc_01691-jpg_jpeg.rf.50ce53e5dcd1a3d765d734b2bccb5b6c.txt (deflated 21%)\n",
            "  adding: content/License_plate_detection/License-Plate-Detector-2/train/labels/fd0140cc-e887-43b8-a439-24877ea77670___Maruti-Suzuki-Baleno-Number-Plates-Design-jpg_jpeg.rf.cfcb52e4a9c2b1f3138f9b3a2434770b.txt (deflated 22%)\n",
            "  adding: content/License_plate_detection/License-Plate-Detector-2/train/labels/car-wbs-MH20EE7597_00000_jpeg.rf.0d688256e986526241e5bf3a708e7ee5.txt (deflated 26%)\n",
            "  adding: content/License_plate_detection/License-Plate-Detector-2/train/labels/93b6319a-5886-48d8-8a69-07d586751553___2014-VW-Polo-facelift-first-drive-rear-number-plate-jpg_jpeg.rf.43960dcc203526df8f323f247ff152c0.txt (deflated 15%)\n",
            "  adding: content/License_plate_detection/License-Plate-Detector-2/train/labels/c795950c-766a-4a2e-9636-62d663d6f06b___62bf1edb36141f114521ec4bb4175579-jpg_jpeg.rf.13391c2545f96f2d407bdb2dc8fbd5d3.txt (deflated 15%)\n",
            "  adding: content/License_plate_detection/License-Plate-Detector-2/train/labels/car-wbs-HR26BC5514_00000_png.rf.a3009d0be72e51d734af7c56eaa17b19.txt (deflated 18%)\n",
            "  adding: content/License_plate_detection/License-Plate-Detector-2/train/labels/car-wbs-KA01CA2555_00000_png.rf.5bb580cd286387a4fbcc28e5c20ff083.txt (deflated 15%)\n",
            "  adding: content/License_plate_detection/License-Plate-Detector-2/train/labels/62b58053-425c-4924-b129-c4a6580f3562___product-500x5001_jpeg.rf.1b2410f3d2b8001e32bf22e3897c18b9.txt (deflated 26%)\n",
            "  adding: content/License_plate_detection/License-Plate-Detector-2/train/labels/car-wbs-CH01AN0001_00000_png.rf.a5cbeb771ec2589616c8fc90889a2bba.txt (deflated 16%)\n",
            "  adding: content/License_plate_detection/License-Plate-Detector-2/train/labels/8da5183c-275f-4294-a5a8-276e10ac5ad0___3e7fd381-0ae5-4421-8a70-279ee0ec1c61_nissan-terrano-amt_827x510_81478504265_jpg.rf.a46be72f9ec3c4f7432d703591f0efa5.txt (deflated 21%)\n",
            "  adding: content/License_plate_detection/License-Plate-Detector-2/train/labels/e77e5db3-2bc6-4223-a258-2334256be65e___new_205356-maruti-swift-torque-blue-vdi-ddis-glistening-rockstar-enters-home-img_7531-jpg_jpeg.rf.8cd235f38b6ad59c9e8674ae50019466.txt (deflated 32%)\n",
            "  adding: content/License_plate_detection/License-Plate-Detector-2/train/labels/a2f87691-b9f5-4274-ac5a-8764e9ba282c___1571669d1477648169-your-favourite-number-plate-font-13-jpg_jpeg.rf.11d35b5fbc27acc8dcd00986c8bf22fb.txt (deflated 21%)\n",
            "  adding: content/License_plate_detection/License-Plate-Detector-2/train/labels/car-wbs-MH20CS1941_00001_jpeg.rf.e36122ea94eaa3863c8551a44282353e.txt (deflated 17%)\n",
            "  adding: content/License_plate_detection/License-Plate-Detector-2/train/labels/41de2ad0-3785-488e-9f1f-75b76f446cc7___Maruti-Alto-K10-Photos-2-jpg_jpeg.rf.eda0ccc31133fde578a71aa0862b8027.txt (deflated 28%)\n",
            "  adding: content/License_plate_detection/License-Plate-Detector-2/train/labels/936623d4-b47c-4da7-ab2e-6ac3cc63f861___new_216279d1481352986-silver-venom-mahindra-scorpio-s4-2016-ownership-review-wp_20161122_11_19_00_pro-jpg_jpeg.rf.39a71212b94970e5445c80961f36b5a8.txt (deflated 23%)\n",
            "  adding: content/License_plate_detection/License-Plate-Detector-2/train/labels/car-wbs-HR26CB1900_00000_png.rf.1b0a4fb66051922da8f041abf08913d8.txt (deflated 31%)\n",
            "  adding: content/License_plate_detection/License-Plate-Detector-2/train/labels/bcdc8b42-5dd4-48e2-8104-706440524bfe___hqdefault0-jpg_jpeg.rf.f84b7ae4f9f25e1e5ae83d57e02dc85b.txt (deflated 20%)\n",
            "  adding: content/License_plate_detection/License-Plate-Detector-2/train/labels/d4bec046-caac-4e59-bd05-44de2232d83b___2017-Skoda-Octavia-Front-jpg_jpeg.rf.fb78407bfff26b2ff078e390d032b28d.txt (deflated 18%)\n",
            "  adding: content/License_plate_detection/License-Plate-Detector-2/train/labels/7f369852-27b9-4141-8c48-9e88b20743a6___new_Mahindra-Scorpio-Taillamps-Night-JPG_jpeg.rf.a44a2caa5e46c383cf463f76038459c4.txt (deflated 19%)\n",
            "  adding: content/License_plate_detection/License-Plate-Detector-2/train/labels/15e7c19f-da3c-4f0d-91f3-552afabc8961___41FxrEl7jHL-jpg_jpeg.rf.6b45f0c89ad8910299e2bf9f2bf8d651.txt (deflated 20%)\n",
            "  adding: content/License_plate_detection/License-Plate-Detector-2/train/labels/10c96324-3452-43e2-aa68-c8ae7d3c1b6e___844874771_1_1080x720_maruti-suzuki-wagon-r-vxi-bs-iii-2014-petrol-jpg_jpeg.rf.b48bfda00ade73ba5b90445c34b582bf.txt (deflated 12%)\n",
            "  adding: content/License_plate_detection/License-Plate-Detector-2/train/labels/bdad5f66-70ad-4241-9a62-bba1123c3486___3e7fd381-0ae5-4421-8a70-279ee0ec1c61_1447945d1449508546t-my-nissan-terrano-85-ps-_img_000000_000000_jpg.rf.83cb335358131123694055108a4ecb6d.txt (deflated 21%)\n",
            "  adding: content/License_plate_detection/License-Plate-Detector-2/train/labels/e1d7921f-5e58-46c7-b4f9-9fd4585508f1___IMG_9072-jpg_jpeg.rf.c96a92cd96008d17381e3f317215e994.txt (deflated 15%)\n",
            "  adding: content/License_plate_detection/License-Plate-Detector-2/train/labels/d3d2cbaa-f24a-4cb7-a236-53fa514816b4___new_2017-Skoda-Rapid-Diesel-DSG-Review-6-jpg_jpeg.rf.69b57266c51cf8402760c22c0d45f887.txt (deflated 14%)\n",
            "  adding: content/License_plate_detection/License-Plate-Detector-2/train/labels/9ea92991-8fdf-4b46-aea1-bf08ecff247c___new_1107433d1373284570-my-modded-skoda-rapid-now-166-bhp-351-nm-119-whp-per-tonne-hdr_00005_normal-jpg_jpeg.rf.2831bff1f321f83d51f009ce7658003a.txt (deflated 16%)\n",
            "  adding: content/License_plate_detection/License-Plate-Detector-2/train/labels/f16274c4-0d3d-4c85-9dcc-5ac71734b281___speedex-number-plates-nandanam-chennai-car-number-plate-dealers-1ofla74-jpg_jpeg.rf.b9f25b702d621132f1932ede9d064893.txt (deflated 16%)\n",
            "  adding: content/License_plate_detection/License-Plate-Detector-2/train/labels/3fd93f90-f778-4f14-8b0f-67dd0be88a06___561644d1308248087-beware-fake-registration-numbers-imported-cars-proof-pg-3-257491_10150223034216705_685851704_7325894_6829197_o-jpg_jpeg.rf.8d594e11d6bd74b1e17ad86df2396eca.txt (deflated 18%)\n",
            "  adding: content/License_plate_detection/License-Plate-Detector-2/train/labels/car-wbs-DL8CX4850_00000_png.rf.f767840d888c8c6420dcf355ed66f158.txt (deflated 18%)\n",
            "  adding: content/License_plate_detection/License-Plate-Detector-2/train/labels/11832b13-d514-4f1d-967c-d00e76d21e9b___Yellow-Number-Plate-With-Black-Lettering-jpg_jpeg.rf.ef7050c444c8fa85f716c882e94b4a28.txt (deflated 19%)\n",
            "  adding: content/License_plate_detection/License-Plate-Detector-2/train/labels/d9023f53-f90d-4b98-bd52-30796777ddcf___Maruti-Suzuki-Baleno-hatchback-56545-jpg_jpeg.rf.1411154583b65ce82f77ba873305e30c.txt (deflated 16%)\n",
            "  adding: content/License_plate_detection/License-Plate-Detector-2/train/labels/a9268f51-fbb4-42c2-b88c-f5ef9f8ead42___2266_7T4G0510-JPG_jpeg.rf.5b5f2321e85384d458c770d20741e35b.txt (deflated 23%)\n",
            "  adding: content/License_plate_detection/License-Plate-Detector-2/train/labels/b176b317-68a9-4c38-ac39-55e5244c9b9c___60653-jpg_jpeg.rf.c65fe98ef2271b86a7cf16ca81c9e7d4.txt (deflated 19%)\n",
            "  adding: content/License_plate_detection/License-Plate-Detector-2/train/labels/6767eddd-bf2f-4270-aa1f-6146738895ab___3e7fd381-0ae5-4421-8a70-279ee0ec1c61_Nissan-Terrano-20300_jpg.rf.1cdb3c0650272df2a15fe7b1301040e4.txt (deflated 14%)\n",
            "  adding: content/License_plate_detection/License-Plate-Detector-2/train/labels/car-wbs-MH14EH5819_00000_jpeg.rf.39035635d277eb1e824ae2dae0a6b844.txt (deflated 17%)\n",
            "  adding: content/License_plate_detection/License-Plate-Detector-2/train/labels/car-wbs-MH20BN3525_00000_jpeg.rf.faae3ab72cf6c9abb086469404240d9f.txt (deflated 20%)\n",
            "  adding: content/License_plate_detection/License-Plate-Detector-2/train/labels/car-wbs-MH14EP4660_00000_jpeg.rf.d6f9ee40ae98a445e493da91db4fad46.txt (deflated 16%)\n",
            "  adding: content/License_plate_detection/License-Plate-Detector-2/train/labels/6e772b68-a549-44e5-950e-4c376454c4e9___1557295d1474517501-toyota-innova-crysta-official-review-20160921_173216-jpg_jpeg.rf.b78d078bc59e72895c3b74e1d14eda9f.txt (deflated 15%)\n",
            "  adding: content/License_plate_detection/License-Plate-Detector-2/train/labels/03273806-bb1e-48da-8c8b-a0133a90197a___2014-Skoda-Yeti-Test-Drive-jpg_jpeg.rf.fc1abd8f04d46fb6f8dfbd457a51470a.txt (deflated 21%)\n",
            "  adding: content/License_plate_detection/License-Plate-Detector-2/train/labels/6cd15e75-3e26-41f2-a6aa-b1b58dec1c48___volkswagen-polo-exquisite-limited-edition-m1_720x540-jpg_jpeg.rf.9ab49a2551b37e7e3a94fab4f0b03e57.txt (deflated 15%)\n",
            "  adding: content/License_plate_detection/License-Plate-Detector-2/train/labels/cbd81ff4-fc2a-4cd5-bed6-0fef4c456caa___226616d1495986750-zoomcar-review-mahindra-scorpio-s4-09-pamban-jpg_jpeg.rf.d6714ff1761cfb29b32dda9ed694db40.txt (deflated 18%)\n",
            "  adding: content/License_plate_detection/License-Plate-Detector-2/train/labels/5747d3e8-4dd0-435f-942d-34b84f03344c___Maruti-Suzuki-Swift-Number-Plates-Design-jpg_jpeg.rf.d02e85d2d4383904c3bf1a51ac11999a.txt (deflated 20%)\n",
            "  adding: content/License_plate_detection/License-Plate-Detector-2/train/labels/9f7c7dce-f9c9-4c95-a053-8f16e6e99466___new_new-maruti-alto-k10-2_625x300_41414071192-jpg_jpeg.rf.6275e3f0797a77557c4fc4a1d55451bc.txt (deflated 14%)\n",
            "  adding: content/License_plate_detection/License-Plate-Detector-2/train/labels/8b9e7112-9149-48fb-b8e8-c3e89cce5af0___1074650_10201043987997310_227646612_o-jpg_jpeg.rf.e07fd12bde039a3663a28fe51ec96ec9.txt (deflated 20%)\n",
            "  adding: content/License_plate_detection/License-Plate-Detector-2/train/labels/c02b3989-8334-4cf7-b69c-bcd177e209d4___mqdefault-jpg_jpeg.rf.8571bc87f26671dd54e1bb482806d6a9.txt (deflated 24%)\n",
            "  adding: content/License_plate_detection/License-Plate-Detector-2/train/labels/79094948-25d3-418e-86fc-3c2d62917f62___513039-volkswagen-vento-test-drive-review-06032011612-jpg_jpeg.rf.c85db45ae4a9d7b3c25dc8ee91ead2ec.txt (deflated 24%)\n",
            "  adding: content/License_plate_detection/License-Plate-Detector-2/train/labels/car-wbs-TN42R2697_00000_jpg.rf.86d6282198615d1263a6a8d5cc3dac56.txt (deflated 17%)\n",
            "  adding: content/License_plate_detection/License-Plate-Detector-2/train/labels/car-wbs-UP32FH2653_00000_jpg.rf.9ea9b9f678ea11bbfc2ed2cf4bb32333.txt (deflated 23%)\n",
            "  adding: content/License_plate_detection/License-Plate-Detector-2/train/labels/car-wbs-KL10AW2814_00000_jpeg.rf.c033c3595bd2038f8e0c301591089dc6.txt (deflated 21%)\n",
            "  adding: content/License_plate_detection/License-Plate-Detector-2/train/labels/2c9306ab-3454-4ca0-89fd-db3f51dabcef___3e7fd381-0ae5-4421-8a70-279ee0ec1c61_Nissan-Terrano-front-three-quarters-on-plain-ground_jpg.rf.a586e17eb68c228c00db31d08d7fec64.txt (deflated 21%)\n",
            "  adding: content/License_plate_detection/License-Plate-Detector-2/train/labels/59e121dc-ebc6-4e4c-ba88-7fe04b569218___Autopsyches-Skoda-Laura-6-jpg_jpeg.rf.2e394a3500452eb46dbcf8413f5f01be.txt (deflated 28%)\n",
            "  adding: content/License_plate_detection/License-Plate-Detector-2/train/labels/27bfd7b7-6e0c-454c-b9f3-7a44d36edb9c___3e7fd381-0ae5-4421-8a70-279ee0ec1c61_nissan-terrano-rear-right-side-angle-view_jpg.rf.d08856a58f5d938d8d198cec1985c8e5.txt (deflated 22%)\n",
            "  adding: content/License_plate_detection/License-Plate-Detector-2/train/labels/car-wbs-KL54A2670_00000_png.rf.dca744fe00bb9a3b3feb8df8955b26ca.txt (deflated 17%)\n",
            "  adding: content/License_plate_detection/License-Plate-Detector-2/train/labels/car-wbs-MH01AV8866_00000_png.rf.af92df456989032e9c333c09995af86f.txt (deflated 18%)\n",
            "  adding: content/License_plate_detection/License-Plate-Detector-2/train/labels/351a22eb-bf0a-44d6-8b6d-5ffca753c261___bike-number-plate-500x500-jpg_jpeg.rf.9ce62ae980fe9cf5916c93b526d633fc.txt (deflated 13%)\n",
            "  adding: content/License_plate_detection/License-Plate-Detector-2/train/labels/6f78077e-a3a1-4fb9-89ba-5870d75ccdb8___Innova_Crysta_Car_Euro_number_Plates-jpg_jpeg.rf.5ef136a1c000aa009dfdc5743d39c0d0.txt (deflated 19%)\n",
            "  adding: content/License_plate_detection/License-Plate-Detector-2/train/labels/c1d91c5e-128b-41d4-9f9d-ebfbef98b597___High_security_n15816-jpg_jpeg.rf.3ba826907ee260111f11fd1718ca4f39.txt (deflated 12%)\n",
            "  adding: content/License_plate_detection/License-Plate-Detector-2/train/labels/3515f71d-cdd6-4050-ae68-7b7afd4c0a11___8_jpeg.rf.24b643111285bf86837cd700ecee18be.txt (deflated 26%)\n",
            "  adding: content/License_plate_detection/License-Plate-Detector-2/train/labels/car-wbs-TN21AT0480_00001_jpg.rf.ae3487ad795039b362988dd79bfd5e59.txt (deflated 25%)\n",
            "  adding: content/License_plate_detection/License-Plate-Detector-2/train/labels/f5bbb8da-dddd-47ae-a46c-15492f9cf752___3e7fd381-0ae5-4421-8a70-279ee0ec1c61_10187746544_0c0822790e-Copy_jpg.rf.160b397b02337ccf0d4537a5921b4582.txt (deflated 18%)\n",
            "  adding: content/License_plate_detection/License-Plate-Detector-2/train/labels/092c497e-623d-499d-822a-4b01c657389b___3e7fd381-0ae5-4421-8a70-279ee0ec1c61_nissan-terrano-rear-left-rim_jpg.rf.9815488508b9bb1564f61eb7e0e1e15c.txt (deflated 12%)\n",
            "  adding: content/License_plate_detection/License-Plate-Detector-2/train/labels/fc1f58f0-2f54-4545-8915-2936d08dcce1___new_Skoda_Laura_DSG_Long_Term_Review-125-jpg_jpeg.rf.b05717f17197fe59b118b044eb691de7.txt (deflated 17%)\n",
            "  adding: content/License_plate_detection/License-Plate-Detector-2/train/labels/c41652d9-19ae-4a7d-8423-230340ac30bc___Skoda_Laura_DSG_Long_Term_Review-125-jpg_jpeg.rf.d9ba2bc95c21b33c7241bcc16aabb53d.txt (deflated 17%)\n",
            "  adding: content/License_plate_detection/License-Plate-Detector-2/train/labels/8dbb3ea7-8512-49e4-9ede-d4647e3b7dd2___158712081_5_1000x700_toyota-innova-v-2010-7seat-life-tax-kerala_rev001-jpg_jpeg.rf.c143a888bffcb8b03e5522c4482f012f.txt (deflated 19%)\n",
            "  adding: content/License_plate_detection/License-Plate-Detector-2/train/labels/5c85a40f-ce81-44b4-82b2-dfdac281217d___new_Skoda-Octavia-1-8-TSI-5-jpg_jpeg.rf.0839b14612613101046b2e5443fb781c.txt (deflated 28%)\n",
            "  adding: content/License_plate_detection/License-Plate-Detector-2/train/labels/car-wbs-HR26BC5514_00001_png.rf.2244a1e9610759fcb1f5e02cc6c7bc7e.txt (deflated 14%)\n",
            "  adding: content/License_plate_detection/License-Plate-Detector-2/train/labels/car-wbs-MH20CS1941_00000_jpeg.rf.54feaeb5ff81b144992a1ee06cbc4cb3.txt (deflated 16%)\n",
            "  adding: content/License_plate_detection/License-Plate-Detector-2/train/labels/52b45060-9645-47c7-882d-b69a5bf07eff___1006372d1351343820-my-new-maruti-swift-zxi-21102012241-jpg_jpeg.rf.3ae395b28a6a348ed3553ec2f946c617.txt (deflated 12%)\n",
            "  adding: content/License_plate_detection/License-Plate-Detector-2/train/labels/car-wbs-MH20BY3665_00001_jpeg.rf.af8662ccfc9dcb3e496d261b70899968.txt (deflated 14%)\n",
            "  adding: content/License_plate_detection/License-Plate-Detector-2/train/labels/018b52e6-e9a1-42c2-8ce7-0617e8c8e021___3e7fd381-0ae5-4421-8a70-279ee0ec1c61_sbtb02_auto1_JPG.rf.c94cc56a9334e1b696bb242a15a912f7.txt (deflated 19%)\n",
            "  adding: content/License_plate_detection/License-Plate-Detector-2/train/labels/3bc3f147-2d6b-484a-8481-4a49fd8afe23___3e7fd381-0ae5-4421-8a70-279ee0ec1c61_844581764_1_1080x720_nissan-terrano-xv-d-thp-110-ps-2013-diesel-faridabad_jpg.rf.e331e608726d8a4b5dff9f4de822db10.txt (deflated 26%)\n",
            "  adding: content/License_plate_detection/License-Plate-Detector-2/train/labels/e750b959-1b5a-41bf-bf64-d8099089e909___3e7fd381-0ae5-4421-8a70-279ee0ec1c61_Nissan-Terrano-Duster-launch-dare-pics-price-interiors-images-1_jpg.rf.f2d335d8c021809314d2de4a5d233701.txt (deflated 19%)\n",
            "  adding: content/License_plate_detection/License-Plate-Detector-2/train/labels/77d1f81a-bee6-487c-aff2-0efa31a9925c____bd7f7862-d727-11e7-ad30-e18a56154311-jpg_jpeg.rf.2a668ce47db74231901ce297956fa3be.txt (deflated 20%)\n",
            "  adding: content/License_plate_detection/License-Plate-Detector-2/train/labels/bbf22d00-3dd6-4338-b701-264e0c0c0aff___Maruti-Swift-DZire-Photos-1-jpg_jpeg.rf.ed27131420919a77ee704a5d1dc8671a.txt (deflated 20%)\n",
            "  adding: content/License_plate_detection/License-Plate-Detector-2/train/labels/7070d6ac-5425-4d33-a78e-a48c62d0fac5___Honda-Jazz-Number-Plate-Designs-jpg_jpeg.rf.bbddc4ea2b7e6360aa2ae6c4b304bbc5.txt (deflated 11%)\n",
            "  adding: content/License_plate_detection/License-Plate-Detector-2/train/labels/car-wbs-MH20BY4465_00000_jpeg.rf.448a913ae5beb73b9fe0d35ce8db3a35.txt (deflated 23%)\n",
            "  adding: content/License_plate_detection/License-Plate-Detector-2/train/labels/fe3c95e4-7bd4-40f5-98a9-9fc635957d9c___3e7fd381-0ae5-4421-8a70-279ee0ec1c61_Baleno-Number-Plates-Design_jpg.rf.c3fe23b01218700c827920867bfc19dc.txt (deflated 30%)\n",
            "  adding: content/License_plate_detection/License-Plate-Detector-2/train/labels/car-wbs-TN38BY4191_00000_jpeg.rf.a3955543a7fc680d5c5585ac71a6d3be.txt (deflated 12%)\n",
            "  adding: content/License_plate_detection/License-Plate-Detector-2/train/labels/a1928183-9ebe-40f0-9a84-500aecc61474___2014-Skoda-Superb-facelift-spied-in-India-jpg_jpeg.rf.07d90f88de24658996581c1f8d3880a0.txt (deflated 24%)\n",
            "  adding: content/License_plate_detection/License-Plate-Detector-2/train/labels/car-wbs-MH20EE7598_00000_png.rf.b7852883ebc12eb82aad9c975900106d.txt (deflated 24%)\n",
            "  adding: content/License_plate_detection/License-Plate-Detector-2/train/labels/car-wbs-MH20EE045_00000_jpeg.rf.2bc8f8c6e2c596b257da21e4d19efe0f.txt (deflated 15%)\n",
            "  adding: content/License_plate_detection/License-Plate-Detector-2/train/labels/car-wbs-MH12BG7237_00000_png.rf.72f163abb530f2bd49691f82627a746f.txt (deflated 26%)\n",
            "  adding: content/License_plate_detection/License-Plate-Detector-2/train/labels/0850c175-0b8d-47f2-801c-e29f1dbdb367___3e7fd381-0ae5-4421-8a70-279ee0ec1c61_571_jpg.rf.029a5f4d8564c79a7398bfa5d39d94f1.txt (deflated 16%)\n",
            "  adding: content/License_plate_detection/License-Plate-Detector-2/train/labels/car-wbs-KA03MG2784_00000_png.rf.d3709f53011fa0de667d4754ed887460.txt (deflated 22%)\n",
            "  adding: content/License_plate_detection/License-Plate-Detector-2/train/labels/car-wbs-TN74AL5074_00000_jpeg.rf.a490d73166b56464b8f6ec1297dae1d2.txt (deflated 28%)\n",
            "  adding: content/License_plate_detection/License-Plate-Detector-2/train/labels/car-wbs-TS08ER1643_00000_png.rf.c040f0e8003a836e144abe39eb61fec1.txt (deflated 15%)\n",
            "  adding: content/License_plate_detection/License-Plate-Detector-2/train/labels/8c4371ee-a997-4b21-82c4-cb5e767c4d06___kia-sorento-spied-in-India-jpg_jpeg.rf.440cc80427325a73e33cf2a3a895ac31.txt (deflated 22%)\n",
            "  adding: content/License_plate_detection/License-Plate-Detector-2/train/labels/cf011553-f802-4b11-99ec-6e03d731b646___new_2014-VW-Polo-facelift-spied-India-rear-jpg_jpeg.rf.d8d0659cf903798ee2df49b236ec2c11.txt (deflated 24%)\n",
            "  adding: content/License_plate_detection/License-Plate-Detector-2/train/labels/b7fd8aaa-8621-449f-b99c-f45778f1a25c___3e7fd381-0ae5-4421-8a70-279ee0ec1c61_1208485d1392541449-nissan-terrano-official-review-img_20140215_181507_jpg.rf.3eae7e20bad3a8209f01628030915c12.txt (deflated 20%)\n",
            "  adding: content/License_plate_detection/License-Plate-Detector-2/train/labels/377b225b-e978-4e7c-8e5e-f10d8effc336___Maruti-Suzuki-Ignis-Rear-view-94486-jpg_jpeg.rf.b335bb0bf862cf5636964f139e4b1f93.txt (deflated 14%)\n",
            "  adding: content/License_plate_detection/License-Plate-Detector-2/train/labels/3febea0e-53c0-4b30-880c-3061458b93ce___Maruti-Vitara-Brezza-rear-end-full-review-jpg_jpeg.rf.a270a4aac555da42a32dd84c02398236.txt (deflated 18%)\n",
            "  adding: content/License_plate_detection/License-Plate-Detector-2/train/labels/car-wbs-RJ02CC0784_00000_jpg.rf.9d176baf41752d54c887568867b55796.txt (deflated 20%)\n",
            "  adding: content/License_plate_detection/License-Plate-Detector-2/train/labels/0b77e2a4-34db-486c-8d87-46186f5b7b88___3e7fd381-0ae5-4421-8a70-279ee0ec1c61_nissan-terrano-diesel-review-motorzest-04_jpg.rf.0b06848d2b383786d4a0980fbd99de46.txt (deflated 20%)\n",
            "  adding: content/License_plate_detection/License-Plate-Detector-2/train/labels/13ffaad4-a186-46bd-ae5d-924d1c8d7c50___maruti-suzuki-Baleno-RS-pics-48-jpg_jpeg.rf.671c5bba21cfdc8e0c8d3ffd4f507fb2.txt (deflated 16%)\n",
            "  adding: content/License_plate_detection/License-Plate-Detector-2/train/labels/e54fb93b-020f-4c55-b4db-86e17ba9b9e0___2014-VW-Polo-facelift-rear-spotted-testing-in-Pune-India-jpg_jpeg.rf.abd27a2125d3aec5e620b53b6e9e5588.txt (deflated 26%)\n",
            "  adding: content/License_plate_detection/License-Plate-Detector-2/train/labels/af608b5e-07d6-4bcf-84d0-f0cba9e54e12___Skoda-Superb-Rear-Profile-jpg_jpeg.rf.93bfaa1e3c293083f203e1e384130c03.txt (deflated 20%)\n",
            "  adding: content/License_plate_detection/License-Plate-Detector-2/train/labels/car-wbs-MH21V9926_00000_jpg.rf.dd017875bafe1239a1fa52ff6fb0c28b.txt (deflated 19%)\n",
            "  adding: content/License_plate_detection/License-Plate-Detector-2/train/labels/52abe2c4-fde3-45b2-beec-f070e6ed98c7___Volkswagen-Vento-Rear-view-46765-jpg_jpeg.rf.5cfb7f1633d24480b3eb76bfe90e908d.txt (deflated 16%)\n",
            "  adding: content/License_plate_detection/License-Plate-Detector-2/train/labels/car-wbs-HR26AZ5927_00000_png.rf.2f87b0442370a571f5235449810bf49c.txt (deflated 17%)\n",
            "  adding: content/License_plate_detection/License-Plate-Detector-2/train/labels/27a88c24-0bf2-48b0-98a8-fa396e951045___3e7fd381-0ae5-4421-8a70-279ee0ec1c61_7T4G0491-e1376988169395-1024x577_jpg.rf.9cc07faddd7859bfad8119d3cea44141.txt (deflated 17%)\n",
            "  adding: content/License_plate_detection/License-Plate-Detector-2/train/labels/12e26859-89e0-4c9b-9c59-ee793337464f___20-jpg_jpeg.rf.3271290c228890fd9eb1943ef3df389b.txt (deflated 22%)\n",
            "  adding: content/License_plate_detection/License-Plate-Detector-2/train/labels/7616cb19-df24-4d29-b679-5252391a547f___Skoda-Laura-rear-jpg_jpeg.rf.f945c121a478bc48ab356f02e20cbff2.txt (deflated 23%)\n",
            "  adding: content/License_plate_detection/License-Plate-Detector-2/train/labels/44ee098a-c33c-47a2-9dcb-717c02d5a240___3e7fd381-0ae5-4421-8a70-279ee0ec1c61_2013-Nissan-Terrano-Front_jpg.rf.747cd7f2d316a2bbc80b771140685a03.txt (deflated 24%)\n",
            "  adding: content/License_plate_detection/License-Plate-Detector-2/train/labels/684f079f-6085-420c-8e4e-e1aed270fc05___Toyota-Fortuner-Number-Plates-Design-jpg_jpeg.rf.5c0abcf62cf700e6973f24a07852a4a1.txt (deflated 12%)\n",
            "  adding: content/License_plate_detection/License-Plate-Detector-2/train/labels/f9e27b82-9e65-44ba-bf9a-b3ced8901937___Skoda-Superb-Exterior-deadfront-69204-jpg_jpeg.rf.88bc9cbfbdc248d0a75d155623d8e048.txt (deflated 17%)\n",
            "  adding: content/License_plate_detection/License-Plate-Detector-2/train/labels/car-wbs-MH03BS7778_00002_jpeg.rf.a48addac84c973c18d695225a1490985.txt (deflated 14%)\n",
            "  adding: content/License_plate_detection/License-Plate-Detector-2/train/labels/car-wbs-DL7CN5617_00000_png.rf.f39e3f1738f0866c965814c8886b28d7.txt (deflated 21%)\n",
            "  adding: content/License_plate_detection/License-Plate-Detector-2/train/labels/car-wbs-KL01CC50_00000_png.rf.865b96b164788651532c245762a751a5.txt (deflated 26%)\n",
            "  adding: content/License_plate_detection/License-Plate-Detector-2/train/labels/712ecd95-753f-4d67-ae42-e8b5254e6e94___28iam53-jpg_jpeg.rf.7559a5ec84719ef961e5b14be6296f16.txt (deflated 14%)\n",
            "  adding: content/License_plate_detection/License-Plate-Detector-2/train/labels/422aaf6f-dd4a-450f-ac6b-65966ab512d0___1431956d1446017445-number-plates-merchandise-canvas-ink-gurgaon-edit-closed-thumb_img_4418_1024-jpg_jpeg.rf.8ad3f718ed837eb6e0dbecb0b8354b13.txt (deflated 16%)\n",
            "  adding: content/License_plate_detection/License-Plate-Detector-2/train/labels/car-wbs-GJ03JL0126_00000_png.rf.65cf551a01467d46211a806e12529063.txt (deflated 12%)\n",
            "  adding: content/License_plate_detection/License-Plate-Detector-2/train/labels/6254bb73-d8a1-4f04-89a9-92caef98e233___1658240d1500548920-close-look-2017-skoda-octavia-facelift-hands-free-parking-front-bumper-jpg_jpeg.rf.7faae9ef9ac2394b625f15c0bffadb96.txt (deflated 20%)\n",
            "  adding: content/License_plate_detection/License-Plate-Detector-2/train/labels/3f677265-d5fa-439f-be23-feaacce22c49___3e7fd381-0ae5-4421-8a70-279ee0ec1c61_848126147_2_1080x720_nissan-terrano-xl-d-plus-2014-diesel-upload-photos_jpg.rf.40cd64613d798b2391a0b9ca84886cdb.txt (deflated 27%)\n",
            "  adding: content/License_plate_detection/License-Plate-Detector-2/train/labels/22dc6b5f-ff5d-4bb4-beb2-0f5fd9e75787___i10_Latest_Acrylic_Number_Plate-jpg_jpeg.rf.7f8f0262155d22e49673ab87ead7b30d.txt (deflated 14%)\n",
            "  adding: content/License_plate_detection/License-Plate-Detector-2/train/labels/car-wbs-MH14EH7958_00000_jpeg.rf.d675eb3d7966c36dbf6e94b35919fe80.txt (deflated 17%)\n",
            "  adding: content/License_plate_detection/License-Plate-Detector-2/train/labels/car-wbs-HR26CU6799_00000_png.rf.7cddd50e34119119007ac021447968ed.txt (deflated 23%)\n",
            "  adding: content/License_plate_detection/License-Plate-Detector-2/train/labels/f7ba7a93-e8d7-4253-b327-d87e3f2bb747___3e7fd381-0ae5-4421-8a70-279ee0ec1c61_2013-Nissan-Terrano-Rear_jpg.rf.994883660c22f955b406849c09a1ac76.txt (deflated 14%)\n",
            "  adding: content/License_plate_detection/License-Plate-Detector-2/train/labels/175ff546-0679-4cbb-ab03-acfcd96877b7___Maruti_Wagon_R_Rear-jpg_jpeg.rf.facb19d1dcfb4528f24551febe8d7001.txt (deflated 16%)\n",
            "  adding: content/License_plate_detection/License-Plate-Detector-2/train/labels/93b6ca4e-17cc-4b12-b7f5-66fb37c6107c___number-plate-factory-fitted1-jpg_jpeg.rf.f82e3c23c298c68d9886dd4e1c75d845.txt (deflated 19%)\n",
            "  adding: content/License_plate_detection/License-Plate-Detector-2/train/labels/car-wbs-TN07BU5427_00000_jpeg.rf.73c205d5bcc59153545d78f269400804.txt (deflated 23%)\n",
            "  adding: content/License_plate_detection/License-Plate-Detector-2/train/labels/2fbe224b-e775-4c74-b975-fd66d2397ef6___3e7fd381-0ae5-4421-8a70-279ee0ec1c61_Nissan-Terrano_jpg.rf.e8494235549509b9daa84e880d62722c.txt (deflated 18%)\n",
            "  adding: content/License_plate_detection/License-Plate-Detector-2/train/labels/6d69b523-72b7-4be9-a79f-428ef8148dcd___81auoS-H8eL-_SX425_-jpg_jpeg.rf.2af348b9b9ff1abcf67ce5c6c7732bba.txt (deflated 17%)\n",
            "  adding: content/License_plate_detection/License-Plate-Detector-2/train/labels/car-wbs-KL01CA2555_00000_jpeg.rf.3a16918c1af754dff7a5f59d4328105d.txt (deflated 18%)\n",
            "  adding: content/License_plate_detection/License-Plate-Detector-2/train/labels/car-wbs-KL20K7561_00000_jpeg.rf.5911e128aef1a744217b827ec24931d0.txt (deflated 24%)\n",
            "  adding: content/License_plate_detection/License-Plate-Detector-2/train/labels/e82fc408-a209-4221-9f6d-742b4b9d4c70___3e7fd381-0ae5-4421-8a70-279ee0ec1c61_848803268_2_1080x720_nissan-terrano-xl-d-plus-2014-diesel-upload-photos_jpg.rf.9b746d59e5b6b45d6ebbc13fe24f36b2.txt (deflated 21%)\n",
            "  adding: content/License_plate_detection/License-Plate-Detector-2/train/labels/967ba4a0-eb8e-4734-aa09-c7143d0404b6___39720161008_150234-jpg_jpeg.rf.cf6d4f799ba9fa5e02c4a356bfd71f30.txt (deflated 22%)\n",
            "  adding: content/License_plate_detection/License-Plate-Detector-2/train/labels/f20708c6-14cd-46ff-b8f1-6faef5fd8d2d___3e7fd381-0ae5-4421-8a70-279ee0ec1c61_Nissan-Terrano-20346_jpg.rf.3ba19cd547dd5652ffa09f59ef13c2ab.txt (deflated 16%)\n",
            "  adding: content/License_plate_detection/License-Plate-Detector-2/train/labels/23d775eb-842f-4f57-ad7a-affafa21660a___215453-new-2016-maruti-ertiga-granite-grey-zdi-shvs-highway-champion-img_8168-jpg_jpeg.rf.95dc4e31897f4b75198e3987de54eec1.txt (deflated 15%)\n",
            "  adding: content/License_plate_detection/License-Plate-Detector-2/train/labels/dfafd4ef-5592-41d9-9cbb-fa6a4e03831e___IMG_9082-jpg_jpeg.rf.6f6fa4a379a613b40e92e7b9dfb938da.txt (deflated 20%)\n",
            "  adding: content/License_plate_detection/License-Plate-Detector-2/train/labels/aff1f53b-3259-44f0-9718-05fb64dc8ba1___Untitled_png.rf.59aaacb34031bed81e2f2edcb0f53998.txt (deflated 23%)\n",
            "  adding: content/License_plate_detection/License-Plate-Detector-2/train/labels/car-wbs-MH03CB6467_00000_jpg.rf.9e86f560db7e184b25d6f409200895ca.txt (deflated 21%)\n",
            "  adding: content/License_plate_detection/License-Plate-Detector-2/train/labels/f265077a-611f-4a18-abe5-46518b1756e6___1232700-take-look-number-plate-uploadfromtaptalk1398055489406-jpg_jpeg.rf.559d665efb6b277e8e90aa630973e35a.txt (deflated 26%)\n",
            "  adding: content/License_plate_detection/License-Plate-Detector-2/train/labels/cc80e5c6-2cb7-40f7-a072-3f4cb5a56c65___Dileep_Car_Innova_1-jpg_jpeg.rf.8a5c3054cfb91cf187ec3f4639451892.txt (deflated 23%)\n",
            "  adding: content/License_plate_detection/License-Plate-Detector-2/train/labels/b79f870d-15c7-48e3-8874-7c0e53e29f75___3e7fd381-0ae5-4421-8a70-279ee0ec1c61_754eab882b8290b29a0454dd45580a39_555X416_1-Copy_jpg.rf.5efb2c934a36ab91b54023e3911f62e0.txt (deflated 17%)\n",
            "  adding: content/License_plate_detection/License-Plate-Detector-2/train/labels/car-wbs-TN28BA9999_00000_jpeg.rf.3e69381222170e97a24608b5892dcb0c.txt (deflated 16%)\n",
            "  adding: content/License_plate_detection/License-Plate-Detector-2/train/labels/car-wbs-MH12JC2813_00000_jpeg.rf.92e0979334ce5a8f7a96247f5715bbe2.txt (deflated 11%)\n",
            "  adding: content/License_plate_detection/License-Plate-Detector-2/train/labels/dfedf2ad-6596-48d4-a7f6-171e55c8f637___1160575d1383218860-high-security-registration-plates-hsrp-india-wp_20131030_16_01_22_pro-jpg_jpeg.rf.15936aa12f74eb3b8ed962b60cce15e4.txt (deflated 23%)\n",
            "  adding: content/License_plate_detection/License-Plate-Detector-2/train/labels/fda5760a-c6ff-43a9-8ce7-61e808f109ea___3e7fd381-0ae5-4421-8a70-279ee0ec1c61_nissan_terrano_ii_nissan_terrano_ii_2_7_tdi_se_4x4_3330085523722771900_jpg.rf.dd84a0cfd33ca06352ad7cb419a424fa.txt (deflated 18%)\n",
            "  adding: content/License_plate_detection/License-Plate-Detector-2/train/labels/car-wbs-TN09CH7770_00000_jpeg.rf.8806b29479c486f973b0c337bd290db2.txt (deflated 25%)\n",
            "  adding: content/License_plate_detection/License-Plate-Detector-2/train/labels/304b14b8-dc3c-41cb-94b6-635864e2e964___number-plate-protector-car-safeplate-250x250-jpg_jpeg.rf.45519f10ba022f92b138dab5f964f91d.txt (deflated 18%)\n",
            "  adding: content/License_plate_detection/License-Plate-Detector-2/train/labels/f59d42f8-dc55-4b60-bb91-c2db3644f2ff___841309873_1_1080x720_mahindra-scorpio-vlx-airbags-bs-iii-2012-diesel-jpg_jpeg.rf.b86692eb2afc02e7ea918d75b11adb9e.txt (deflated 14%)\n",
            "  adding: content/License_plate_detection/License-Plate-Detector-2/train/labels/e719f39b-e8dd-4fe0-9a41-71123932a486___226676869_4_1000x700_maruti-suzuki-wagon-r-duo-petrol-120000-kms-2007-year-cars_rev001-jpg_jpeg.rf.165eeb634648ea85a4f5368d65cc9769.txt (deflated 15%)\n",
            "  adding: content/License_plate_detection/License-Plate-Detector-2/train/labels/car-wbs-MH01AR5274_00000_jpeg.rf.f2ca8af4f7f36b023e74d899d81f75d8.txt (deflated 33%)\n",
            "  adding: content/License_plate_detection/License-Plate-Detector-2/train/labels/4434b404-dd10-4150-b226-b76b6ef95e43___new_224489195_8_1000x700_skoda-superb-2010-jpg_jpeg.rf.860cee580426ce085fe09733f787f8e0.txt (deflated 15%)\n",
            "  adding: content/License_plate_detection/License-Plate-Detector-2/train/labels/f685e6cf-3a12-42ac-94d7-28cdf129b266___maxresdefault1-jpg_jpeg.rf.0fe907f7d956aa7f06e1fa9aabf16660.txt (deflated 27%)\n",
            "  adding: content/License_plate_detection/License-Plate-Detector-2/train/labels/6e52e238-927b-46e0-a8f1-5f77ef1ecf9f___3e7fd381-0ae5-4421-8a70-279ee0ec1c61_nissan-terrano-rear_jpg.rf.85eeac43b977dced86e81e8fd50acb49.txt (deflated 17%)\n",
            "  adding: content/License_plate_detection/License-Plate-Detector-2/train/labels/6bf2730d-82bf-43ac-8802-b61315d85b96___2017-Skoda-Octavia-rear-high-revealed-for-India-images-jpg_jpeg.rf.dbbdf6e7432ee495290a5b20fb546a1a.txt (deflated 17%)\n",
            "  adding: content/License_plate_detection/License-Plate-Detector-2/train/labels/4be1ff39-b2ad-45e0-9c9a-0e7215cbb5b6___2-jpg_jpeg.rf.edb3002b6786ff2917c13a7370baf945.txt (deflated 15%)\n",
            "  adding: content/License_plate_detection/License-Plate-Detector-2/train/labels/254b647f-4cb3-46c3-a206-4e70041f4c78___speedex-number-plates-nandanam-chennai-car-number-plate-dealers-33nu2i6-jpg_jpeg.rf.8e2305c8ab31eaa14b13714c531870f7.txt (deflated 14%)\n",
            "  adding: content/License_plate_detection/License-Plate-Detector-2/train/labels/69b56ab9-accd-4c67-aa7a-a884c018e5ab___speedex-number-plates-nandanam-chennai-car-number-plate-dealers-3zh7n2s-jpg_jpeg.rf.2088fbc0cc389e65deaeadaae935cd8d.txt (deflated 18%)\n",
            "  adding: content/License_plate_detection/License-Plate-Detector-2/train/labels/car-wbs-MH03BS7778_00000_jpeg.rf.d46cebf66ad7467de93ee8dba66c7c0e.txt (deflated 17%)\n",
            "  adding: content/License_plate_detection/License-Plate-Detector-2/train/labels/f5bbb8da-dddd-47ae-a46c-15492f9cf752___3e7fd381-0ae5-4421-8a70-279ee0ec1c61_10187746544_0c0822790e_jpg.rf.5ff3e80c8c4b5bbfc9380bba201b5a10.txt (deflated 24%)\n",
            "  adding: content/License_plate_detection/License-Plate-Detector-2/train/labels/3c0a3772-d18d-4ff7-861c-7e50b7974edb___1393874-take-look-number-plate-imageuploadedbyteambhp1437414250-447892-jpg_jpeg.rf.b52d62f544754b2cc661e203cd41e72e.txt (deflated 30%)\n",
            "  adding: content/License_plate_detection/License-Plate-Detector-2/train/labels/18f2e55e-0724-4eee-a28e-5d552a5aa045___20455d0e2dca458f13fbf4da5a2dc118-jpg-Copy_jpeg.rf.909b96267a040256c9b7a0a3898bf926.txt (deflated 24%)\n",
            "  adding: content/License_plate_detection/License-Plate-Detector-2/train/labels/car-wbs-TN21AT0479_00000_jpg.rf.44d1c9f2640cc8cac073b8594edf70ce.txt (deflated 20%)\n",
            "  adding: content/License_plate_detection/License-Plate-Detector-2/train/labels/car-wbs-UP50AS4535_00000_jpg.rf.f14ee0fa9784dc8d502a0e104e759a27.txt (deflated 15%)\n",
            "  adding: content/License_plate_detection/License-Plate-Detector-2/train/labels/car-wbs-MH14EU3498_00000_jpeg.rf.248a2b6fdee060aa57ae10b8574eff24.txt (deflated 21%)\n",
            "  adding: content/License_plate_detection/License-Plate-Detector-2/train/images/ (stored 0%)\n",
            "  adding: content/License_plate_detection/License-Plate-Detector-2/train/images/59e121dc-ebc6-4e4c-ba88-7fe04b569218___Autopsyches-Skoda-Laura-6-jpg_jpeg.rf.2e394a3500452eb46dbcf8413f5f01be.jpg (deflated 1%)\n",
            "  adding: content/License_plate_detection/License-Plate-Detector-2/train/images/car-wbs-MH12JC2813_00000_jpeg.rf.92e0979334ce5a8f7a96247f5715bbe2.jpg (deflated 0%)\n",
            "  adding: content/License_plate_detection/License-Plate-Detector-2/train/images/a2f87691-b9f5-4274-ac5a-8764e9ba282c___1571669d1477648169-your-favourite-number-plate-font-13-jpg_jpeg.rf.11d35b5fbc27acc8dcd00986c8bf22fb.jpg (deflated 0%)\n",
            "  adding: content/License_plate_detection/License-Plate-Detector-2/train/images/1438b735-2d21-4879-8ed4-e5fa086e70c8___Maruti-Suzuki-Swift-Dzire-1-jpg_jpeg.rf.9adec128b9a54478c73be254c6a3e5d6.jpg (deflated 1%)\n",
            "  adding: content/License_plate_detection/License-Plate-Detector-2/train/images/730a2f83-cd53-4943-8922-af9d4fcad415___new_2_jpg.rf.a3b647a1679f9db87e8df61d6bde2bba.jpg (deflated 2%)\n",
            "  adding: content/License_plate_detection/License-Plate-Detector-2/train/images/18f2e55e-0724-4eee-a28e-5d552a5aa045___20455d0e2dca458f13fbf4da5a2dc118-jpg-Copy_jpeg.rf.909b96267a040256c9b7a0a3898bf926.jpg (deflated 0%)\n",
            "  adding: content/License_plate_detection/License-Plate-Detector-2/train/images/car-wbs-KL54A2670_00000_png.rf.dca744fe00bb9a3b3feb8df8955b26ca.jpg (deflated 2%)\n",
            "  adding: content/License_plate_detection/License-Plate-Detector-2/train/images/car-wbs-MH21V9926_00000_jpg.rf.dd017875bafe1239a1fa52ff6fb0c28b.jpg (deflated 0%)\n",
            "  adding: content/License_plate_detection/License-Plate-Detector-2/train/images/bb767d81-73b4-4c47-b619-7efde490b199___3e7fd381-0ae5-4421-8a70-279ee0ec1c61_oem-name0-Copy_jpg.rf.3cd5eeb2206512ae974de7702e3386f2.jpg (deflated 1%)\n",
            "  adding: content/License_plate_detection/License-Plate-Detector-2/train/images/59a29a85-30f5-469e-a6c2-e1af171f151c___3e7fd381-0ae5-4421-8a70-279ee0ec1c61_10187746494_417a40a489-Copy_jpg.rf.546c0c01b406f93f04dd69d9369367e0.jpg (deflated 1%)\n",
            "  adding: content/License_plate_detection/License-Plate-Detector-2/train/images/car-wbs-MH14EH7958_00000_jpeg.rf.d675eb3d7966c36dbf6e94b35919fe80.jpg (deflated 1%)\n",
            "  adding: content/License_plate_detection/License-Plate-Detector-2/train/images/a34aeb21-ffe8-4357-80d3-8f212c62c816___new_main_cropped-jpg_jpeg.rf.2a627cfc7a12a1a346aeebb3abc7def9.jpg (deflated 1%)\n",
            "  adding: content/License_plate_detection/License-Plate-Detector-2/train/images/c1d91c5e-128b-41d4-9f9d-ebfbef98b597___High_security_n15816-jpg_jpeg.rf.3ba826907ee260111f11fd1718ca4f39.jpg (deflated 1%)\n",
            "  adding: content/License_plate_detection/License-Plate-Detector-2/train/images/a1928183-9ebe-40f0-9a84-500aecc61474___2014-Skoda-Superb-facelift-spied-in-India-jpg_jpeg.rf.07d90f88de24658996581c1f8d3880a0.jpg (deflated 0%)\n",
            "  adding: content/License_plate_detection/License-Plate-Detector-2/train/images/5a4780bf-d2af-4f19-a36b-65004cd06b3d___maruti-suzuki-wagon-r-rear-left-rim-jpg_jpeg.rf.8f04ad351d6c82e6adbd1c1b0c2bdbf1.jpg (deflated 0%)\n",
            "  adding: content/License_plate_detection/License-Plate-Detector-2/train/images/59a40238-6b01-4bb9-9faf-3b595e67bcb3___3d-font-number-plate-500x500-jpg_jpeg.rf.48e4fda91a2fc404f4bdb5a34b2632cc.jpg (deflated 1%)\n",
            "  adding: content/License_plate_detection/License-Plate-Detector-2/train/images/car-wbs-TN09CH7770_00000_jpeg.rf.8806b29479c486f973b0c337bd290db2.jpg (deflated 1%)\n",
            "  adding: content/License_plate_detection/License-Plate-Detector-2/train/images/12e26859-89e0-4c9b-9c59-ee793337464f___20-jpg_jpeg.rf.3271290c228890fd9eb1943ef3df389b.jpg (deflated 0%)\n",
            "  adding: content/License_plate_detection/License-Plate-Detector-2/train/images/165eaa92-8e90-44e6-b132-8af462bae0c9___scorpio-rear-JPG_jpeg.rf.a8eff326cd43557060cab1c7fae6dd12.jpg (deflated 1%)\n",
            "  adding: content/License_plate_detection/License-Plate-Detector-2/train/images/car-wbs-TN58AM1_00000_jpeg.rf.c7c9b66cd7ef78257555d1e7f18d04fb.jpg (deflated 2%)\n",
            "  adding: content/License_plate_detection/License-Plate-Detector-2/train/images/a970d6e0-5948-4412-a1ec-67c5240722a8___images-gallery-misc4-250x250-jpg_jpeg.rf.f59d0bf1031092acab083b5c8fbdb568.jpg (deflated 1%)\n",
            "  adding: content/License_plate_detection/License-Plate-Detector-2/train/images/3d7cd880-ea4b-4d63-9706-bea1df54af20___135712d1400874352-skoda-rapid-1-6tdi-cr-mt-elegance-ultima-candy-white-white-monster-1911216_676392609084007_1524722860_o-jpg_jpeg.rf.8639854712e7b07515353745cabaac26.jpg (deflated 0%)\n",
            "  adding: content/License_plate_detection/License-Plate-Detector-2/train/images/967ba4a0-eb8e-4734-aa09-c7143d0404b6___39720161008_150234-jpg_jpeg.rf.cf6d4f799ba9fa5e02c4a356bfd71f30.jpg (deflated 0%)\n",
            "  adding: content/License_plate_detection/License-Plate-Detector-2/train/images/car-wbs-HR26BC5514_00000_png.rf.a3009d0be72e51d734af7c56eaa17b19.jpg (deflated 1%)\n",
            "  adding: content/License_plate_detection/License-Plate-Detector-2/train/images/car-wbs-TN21AT0492_00000_jpg.rf.218407b2271424bbbd53531b3900eb3e.jpg (deflated 0%)\n",
            "  adding: content/License_plate_detection/License-Plate-Detector-2/train/images/bb210ab4-795c-4b2b-9b6e-4597cbc67375___White-2BPlate_jpeg.rf.5102662685e3c6248cf1aebad8dd24a8.jpg (deflated 2%)\n",
            "  adding: content/License_plate_detection/License-Plate-Detector-2/train/images/fbc107b7-13d8-4a2d-b8be-7c96bd7d609c___new_9214a754343030395508e104d7948167_large-jpg_jpeg.rf.3a343cfdbedd811fc688c5c4e6968c75.jpg (deflated 0%)\n",
            "  adding: content/License_plate_detection/License-Plate-Detector-2/train/images/26d2b905-4055-41fe-a933-47db0e8a0a7f___37cba8c3f681f0cb5694f16a4c54aa7b-jpg_jpeg.rf.ee4d87042259e06e7379cf038775adef.jpg (deflated 1%)\n",
            "  adding: content/License_plate_detection/License-Plate-Detector-2/train/images/f265077a-611f-4a18-abe5-46518b1756e6___1232700-take-look-number-plate-uploadfromtaptalk1398055489406-jpg_jpeg.rf.559d665efb6b277e8e90aa630973e35a.jpg (deflated 0%)\n",
            "  adding: content/License_plate_detection/License-Plate-Detector-2/train/images/e77e5db3-2bc6-4223-a258-2334256be65e___new_205356-maruti-swift-torque-blue-vdi-ddis-glistening-rockstar-enters-home-img_7531-jpg_jpeg.rf.8cd235f38b6ad59c9e8674ae50019466.jpg (deflated 0%)\n",
            "  adding: content/License_plate_detection/License-Plate-Detector-2/train/images/93b6319a-5886-48d8-8a69-07d586751553___2014-VW-Polo-facelift-first-drive-rear-number-plate-jpg_jpeg.rf.43960dcc203526df8f323f247ff152c0.jpg (deflated 1%)\n",
            "  adding: content/License_plate_detection/License-Plate-Detector-2/train/images/car-wbs-HR26BC5514_00001_png.rf.2244a1e9610759fcb1f5e02cc6c7bc7e.jpg (deflated 0%)\n",
            "  adding: content/License_plate_detection/License-Plate-Detector-2/train/images/e82fc408-a209-4221-9f6d-742b4b9d4c70___3e7fd381-0ae5-4421-8a70-279ee0ec1c61_848803268_2_1080x720_nissan-terrano-xl-d-plus-2014-diesel-upload-photos_jpg.rf.9b746d59e5b6b45d6ebbc13fe24f36b2.jpg (deflated 0%)\n",
            "  adding: content/License_plate_detection/License-Plate-Detector-2/train/images/931dfd5a-3d1f-4a08-9234-0453545e27ea___1297127d1412798792-maruti-ciaz-official-review-imag0627-jpg_jpeg.rf.40940cf91ddf18959d1998949573b4b5.jpg (deflated 1%)\n",
            "  adding: content/License_plate_detection/License-Plate-Detector-2/train/images/fac9f4e6-c4b9-4872-86da-79d58ea2adc5___5273-jpg_jpeg.rf.487ee557877599d4756ac7b192bc4414.jpg (deflated 1%)\n",
            "  adding: content/License_plate_detection/License-Plate-Detector-2/train/images/1e7151e6-8626-4fb2-b7e8-0fb6a8fde713___3e7fd381-0ae5-4421-8a70-279ee0ec1c61_a19be5870f8f2593c994c465a691477e_555X416_1_jpg.rf.406679b011166cada931bbea6790a7e3.jpg (deflated 0%)\n",
            "  adding: content/License_plate_detection/License-Plate-Detector-2/train/images/ba457a81-cf10-4879-8e8f-3a0a8d10689a___3e7fd381-0ae5-4421-8a70-279ee0ec1c61_hqdefault_jpg.rf.67abe1c44bcefba627c2950299cf6cde.jpg (deflated 6%)\n",
            "  adding: content/License_plate_detection/License-Plate-Detector-2/train/images/ed6ee171-691a-4563-a79d-4f47d8ce9f85___Maruti-Suzuki-SCross-Exterior-80675-jpg_jpeg.rf.0ae522176cc1b27ed8eaab20f50f8f03.jpg (deflated 1%)\n",
            "  adding: content/License_plate_detection/License-Plate-Detector-2/train/images/c8a79e91-8c48-42d0-9b80-137fd033493c___automakers-number-plates-nitin-gadkari_827x510_61522653557-jpg_jpeg.rf.1217480e1ef38fb05a6d1324505e2286.jpg (deflated 0%)\n",
            "  adding: content/License_plate_detection/License-Plate-Detector-2/train/images/2fbe224b-e775-4c74-b975-fd66d2397ef6___3e7fd381-0ae5-4421-8a70-279ee0ec1c61_Nissan-Terrano_jpg.rf.e8494235549509b9daa84e880d62722c.jpg (deflated 1%)\n",
            "  adding: content/License_plate_detection/License-Plate-Detector-2/train/images/car-wbs-TN07BU5427_00000_jpeg.rf.73c205d5bcc59153545d78f269400804.jpg (deflated 1%)\n",
            "  adding: content/License_plate_detection/License-Plate-Detector-2/train/images/car-wbs-TN37CR4019_00000_jpeg.rf.017d2e5669c239ea7cea5eea13ab0b7c.jpg (deflated 0%)\n",
            "  adding: content/License_plate_detection/License-Plate-Detector-2/train/images/cc80e5c6-2cb7-40f7-a072-3f4cb5a56c65___Dileep_Car_Innova_1-jpg_jpeg.rf.8a5c3054cfb91cf187ec3f4639451892.jpg (deflated 1%)\n",
            "  adding: content/License_plate_detection/License-Plate-Detector-2/train/images/aea95aa0-a000-4103-945d-c173383bd646___3e7fd381-0ae5-4421-8a70-279ee0ec1c61_Nissan-Terrano-11_jpg.rf.af606349afa1baac85868c9c137361e1.jpg (deflated 0%)\n",
            "  adding: content/License_plate_detection/License-Plate-Detector-2/train/images/6ec9d264-9eab-4027-bdcc-6f71c842ee75___3e7fd381-0ae5-4421-8a70-279ee0ec1c61_846635891_1_1080x720_nissan-terrano-xl-d-thp-110-ps-2013-diesel-dehra-dun_jpg.rf.f9557955f731e8a3609f11d8ef6f792f.jpg (deflated 0%)\n",
            "  adding: content/License_plate_detection/License-Plate-Detector-2/train/images/e54fb93b-020f-4c55-b4db-86e17ba9b9e0___2014-VW-Polo-facelift-rear-spotted-testing-in-Pune-India-jpg_jpeg.rf.abd27a2125d3aec5e620b53b6e9e5588.jpg (deflated 1%)\n",
            "  adding: content/License_plate_detection/License-Plate-Detector-2/train/images/car-wbs-MH14EP4660_00000_jpeg.rf.d6f9ee40ae98a445e493da91db4fad46.jpg (deflated 2%)\n",
            "  adding: content/License_plate_detection/License-Plate-Detector-2/train/images/bff789cd-2d58-4399-a55e-33be55f313e3___IMG_0472-jpg_jpeg.rf.7a58d9ff801d7a68a9b7d62d2906d4fd.jpg (deflated 0%)\n",
            "  adding: content/License_plate_detection/License-Plate-Detector-2/train/images/6254bb73-d8a1-4f04-89a9-92caef98e233___1658240d1500548920-close-look-2017-skoda-octavia-facelift-hands-free-parking-front-bumper-jpg_jpeg.rf.7faae9ef9ac2394b625f15c0bffadb96.jpg (deflated 0%)\n",
            "  adding: content/License_plate_detection/License-Plate-Detector-2/train/images/car-wbs-MH14DT8831_00000_jpeg.rf.194e27cd2af8b03e373c9079634bdfe7.jpg (deflated 2%)\n",
            "  adding: content/License_plate_detection/License-Plate-Detector-2/train/images/car-wbs-UP50AS4535_00000_jpg.rf.f14ee0fa9784dc8d502a0e104e759a27.jpg (deflated 0%)\n",
            "  adding: content/License_plate_detection/License-Plate-Detector-2/train/images/car-wbs-HR26CU6799_00000_png.rf.7cddd50e34119119007ac021447968ed.jpg (deflated 1%)\n",
            "  adding: content/License_plate_detection/License-Plate-Detector-2/train/images/car-wbs-TN07BU5427_00001_jpeg.rf.3e1d6acb84aef614ba5ac5c90fb7da38.jpg (deflated 0%)\n",
            "  adding: content/License_plate_detection/License-Plate-Detector-2/train/images/car-wbs-KL10AW2814_00001_jpeg.rf.017c52762e47cfee945ba8bf6637b0c2.jpg (deflated 1%)\n",
            "  adding: content/License_plate_detection/License-Plate-Detector-2/train/images/b78553c7-977e-49a2-b3d2-42825d83c8b0___1557297d1474517501-toyota-innova-crysta-official-review-20160920_191445-jpg_jpeg.rf.4273bc177ce1984ec36c89b20c1b4dc7.jpg (deflated 1%)\n",
            "  adding: content/License_plate_detection/License-Plate-Detector-2/train/images/2c9306ab-3454-4ca0-89fd-db3f51dabcef___3e7fd381-0ae5-4421-8a70-279ee0ec1c61_Nissan-Terrano-front-three-quarters-on-plain-ground_jpg.rf.a586e17eb68c228c00db31d08d7fec64.jpg (deflated 0%)\n",
            "  adding: content/License_plate_detection/License-Plate-Detector-2/train/images/9f7c7dce-f9c9-4c95-a053-8f16e6e99466___new_new-maruti-alto-k10-2_625x300_41414071192-jpg_jpeg.rf.6275e3f0797a77557c4fc4a1d55451bc.jpg (deflated 1%)\n",
            "  adding: content/License_plate_detection/License-Plate-Detector-2/train/images/dfedf2ad-6596-48d4-a7f6-171e55c8f637___1160575d1383218860-high-security-registration-plates-hsrp-india-wp_20131030_16_01_22_pro-jpg_jpeg.rf.15936aa12f74eb3b8ed962b60cce15e4.jpg (deflated 0%)\n",
            "  adding: content/License_plate_detection/License-Plate-Detector-2/train/images/22dc6b5f-ff5d-4bb4-beb2-0f5fd9e75787___i10_Latest_Acrylic_Number_Plate-jpg_jpeg.rf.7f8f0262155d22e49673ab87ead7b30d.jpg (deflated 1%)\n",
            "  adding: content/License_plate_detection/License-Plate-Detector-2/train/images/2e23964b-ce59-4bcf-8c35-98f3a096a748___design-ind-number-plates-vijayanagar-bangalore-number-plate-dealers-2etqybj-jpg_jpeg.rf.d83baf67c4ab3f4187a6f8f08303c561.jpg (deflated 1%)\n",
            "  adding: content/License_plate_detection/License-Plate-Detector-2/train/images/2153dfcb-5968-4bfc-86ba-7ee8ec2d25b1___163231d1425035435-skoda-rapid-tdi-remapped-code-6-tuning-ind-front-jpg_jpeg.rf.f418259d18ce8cae4a23fabd38727620.jpg (deflated 0%)\n",
            "  adding: content/License_plate_detection/License-Plate-Detector-2/train/images/b5b41a4b-8913-4af6-9419-ac6398d266b0___161893107_2_1000x700_innava-with-fancy-number-upload-photos-jpg_jpeg.rf.9bbd905a000bacabd1cb592e9d14a85c.jpg (deflated 0%)\n",
            "  adding: content/License_plate_detection/License-Plate-Detector-2/train/images/a285cdf6-4640-41ee-b3f3-b721f334466f___Skoda-Octavia-RS-launched-in-India-3-jpg_jpeg.rf.6b560065ba834ab8488a6dcabf7509d1.jpg (deflated 0%)\n",
            "  adding: content/License_plate_detection/License-Plate-Detector-2/train/images/b78259be-7ef5-4499-b9a2-2b8a37660e8b___Maruti-Suzuki-Celerio-Front-Number-Plates-Design-jpg_jpeg.rf.2dfa020e4c7724386e47c6799ee85679.jpg (deflated 0%)\n",
            "  adding: content/License_plate_detection/License-Plate-Detector-2/train/images/car-wbs-MH03CB6467_00000_jpg.rf.9e86f560db7e184b25d6f409200895ca.jpg (deflated 1%)\n",
            "  adding: content/License_plate_detection/License-Plate-Detector-2/train/images/f16274c4-0d3d-4c85-9dcc-5ac71734b281___speedex-number-plates-nandanam-chennai-car-number-plate-dealers-1ofla74-jpg_jpeg.rf.b9f25b702d621132f1932ede9d064893.jpg (deflated 3%)\n",
            "  adding: content/License_plate_detection/License-Plate-Detector-2/train/images/7616cb19-df24-4d29-b679-5252391a547f___Skoda-Laura-rear-jpg_jpeg.rf.f945c121a478bc48ab356f02e20cbff2.jpg (deflated 0%)\n",
            "  adding: content/License_plate_detection/License-Plate-Detector-2/train/images/fda5760a-c6ff-43a9-8ce7-61e808f109ea___3e7fd381-0ae5-4421-8a70-279ee0ec1c61_nissan_terrano_ii_nissan_terrano_ii_2_7_tdi_se_4x4_3330085523722771900_jpg.rf.dd84a0cfd33ca06352ad7cb419a424fa.jpg (deflated 0%)\n",
            "  adding: content/License_plate_detection/License-Plate-Detector-2/train/images/93b6ca4e-17cc-4b12-b7f5-66fb37c6107c___number-plate-factory-fitted1-jpg_jpeg.rf.f82e3c23c298c68d9886dd4e1c75d845.jpg (deflated 0%)\n",
            "  adding: content/License_plate_detection/License-Plate-Detector-2/train/images/f59d42f8-dc55-4b60-bb91-c2db3644f2ff___841309873_1_1080x720_mahindra-scorpio-vlx-airbags-bs-iii-2012-diesel-jpg_jpeg.rf.b86692eb2afc02e7ea918d75b11adb9e.jpg (deflated 1%)\n",
            "  adding: content/License_plate_detection/License-Plate-Detector-2/train/images/car-wbs-DL7CN5617_00000_png.rf.f39e3f1738f0866c965814c8886b28d7.jpg (deflated 1%)\n",
            "  adding: content/License_plate_detection/License-Plate-Detector-2/train/images/0b77e2a4-34db-486c-8d87-46186f5b7b88___3e7fd381-0ae5-4421-8a70-279ee0ec1c61_nissan-terrano-diesel-review-motorzest-04_jpg.rf.0b06848d2b383786d4a0980fbd99de46.jpg (deflated 0%)\n",
            "  adding: content/License_plate_detection/License-Plate-Detector-2/train/images/55aa4ee8-13fd-45bd-b83b-651ac665d71a___200560387_4_1000x700_2012-toyota-innova-diesel-130000-kms-cars-jpg_jpeg.rf.48b245f3c618287ea492516d839c5c1f.jpg (deflated 1%)\n",
            "  adding: content/License_plate_detection/License-Plate-Detector-2/train/images/cf011553-f802-4b11-99ec-6e03d731b646___new_2014-VW-Polo-facelift-spied-India-rear-jpg_jpeg.rf.d8d0659cf903798ee2df49b236ec2c11.jpg (deflated 0%)\n",
            "  adding: content/License_plate_detection/License-Plate-Detector-2/train/images/4f86fbad-3a04-4c11-a8fa-e897727fc2c7___Number-plate-1-jpg_jpeg.rf.9e12b3b6c96561cc1326a51bb77d77a6.jpg (deflated 0%)\n",
            "  adding: content/License_plate_detection/License-Plate-Detector-2/train/images/bbf22d00-3dd6-4338-b701-264e0c0c0aff___Maruti-Swift-DZire-Photos-1-jpg_jpeg.rf.ed27131420919a77ee704a5d1dc8671a.jpg (deflated 1%)\n",
            "  adding: content/License_plate_detection/License-Plate-Detector-2/train/images/car-wbs-DL8CX4850_00000_png.rf.f767840d888c8c6420dcf355ed66f158.jpg (deflated 1%)\n",
            "  adding: content/License_plate_detection/License-Plate-Detector-2/train/images/18f2e55e-0724-4eee-a28e-5d552a5aa045___20455d0e2dca458f13fbf4da5a2dc118-jpg_jpeg.rf.97a0e92dc2a0dbd91fe0a0461518bc24.jpg (deflated 0%)\n",
            "  adding: content/License_plate_detection/License-Plate-Detector-2/train/images/369ccb4b-88fe-4e97-91c1-3838da2b7563___3e7fd381-0ae5-4421-8a70-279ee0ec1c61_Honda-Jazz-Number-Plates-Designs_jpg.rf.cd198e3bb2b03e497ef77477bf70e3bd.jpg (deflated 0%)\n",
            "  adding: content/License_plate_detection/License-Plate-Detector-2/train/images/car-wbs-TN99F2378_00000_jpeg.rf.d9c43421ccab771f5a8b457998109648.jpg (deflated 2%)\n",
            "  adding: content/License_plate_detection/License-Plate-Detector-2/train/images/5747d3e8-4dd0-435f-942d-34b84f03344c___Maruti-Suzuki-Swift-Number-Plates-Design-jpg_jpeg.rf.d02e85d2d4383904c3bf1a51ac11999a.jpg (deflated 1%)\n",
            "  adding: content/License_plate_detection/License-Plate-Detector-2/train/images/175ff546-0679-4cbb-ab03-acfcd96877b7___Maruti_Wagon_R_Rear-jpg_jpeg.rf.facb19d1dcfb4528f24551febe8d7001.jpg (deflated 0%)\n",
            "  adding: content/License_plate_detection/License-Plate-Detector-2/train/images/e4907f73-1fbc-412c-a766-9c81bb31449c___2016-Chevrolet-TrailBlazer-India-Test-Drive-Review-e1442832290349-jpg_jpeg.rf.fff27a35ebc182ac84c7cc6ed7f53715.jpg (deflated 0%)\n",
            "  adding: content/License_plate_detection/License-Plate-Detector-2/train/images/5345a45f-8d1b-4984-b5ee-a69fc4cbda6a___new__bd7f7862-d727-11e7-ad30-e18a56154311-jpg_jpeg.rf.71b74d5c7f28a6e6e3408842bb394522.jpg (deflated 0%)\n",
            "  adding: content/License_plate_detection/License-Plate-Detector-2/train/images/56b46df3-223c-42c8-a6bf-e95e5bac29cc___9214a754343030395508e104d7948167_large-jpg_jpeg.rf.ccc6d6e912532a834b19e0e69f06e085.jpg (deflated 0%)\n",
            "  adding: content/License_plate_detection/License-Plate-Detector-2/train/images/car-wbs-MH20EE7598_00000_png.rf.b7852883ebc12eb82aad9c975900106d.jpg (deflated 2%)\n",
            "  adding: content/License_plate_detection/License-Plate-Detector-2/train/images/car-wbs-MH20EE7597_00000_jpeg.rf.0d688256e986526241e5bf3a708e7ee5.jpg (deflated 1%)\n",
            "  adding: content/License_plate_detection/License-Plate-Detector-2/train/images/e354039f-d73c-4f12-9df5-f0129345fa79___scorpio-JPG_jpeg.rf.a5e4ed9510cff7c8271954c23c82d224.jpg (deflated 1%)\n",
            "  adding: content/License_plate_detection/License-Plate-Detector-2/train/images/f685e6cf-3a12-42ac-94d7-28cdf129b266___maxresdefault1-jpg_jpeg.rf.0fe907f7d956aa7f06e1fa9aabf16660.jpg (deflated 1%)\n",
            "  adding: content/License_plate_detection/License-Plate-Detector-2/train/images/31847e78-6696-4dc2-be08-cb37d512c576___2010_Maruti_WagonR_Review-jpg_jpeg.rf.bab12054c1b6a98c7e9f7911ef3a1671.jpg (deflated 0%)\n",
            "  adding: content/License_plate_detection/License-Plate-Detector-2/train/images/car-wbs-MH01AV8866_00000_png.rf.af92df456989032e9c333c09995af86f.jpg (deflated 1%)\n",
            "  adding: content/License_plate_detection/License-Plate-Detector-2/train/images/car-wbs-MH20CS1938_00000_jpeg.rf.2cd463063e761f872ff490ecccbceead.jpg (deflated 0%)\n",
            "  adding: content/License_plate_detection/License-Plate-Detector-2/train/images/fe3c95e4-7bd4-40f5-98a9-9fc635957d9c___3e7fd381-0ae5-4421-8a70-279ee0ec1c61_Baleno-Number-Plates-Design_jpg.rf.c3fe23b01218700c827920867bfc19dc.jpg (deflated 1%)\n",
            "  adding: content/License_plate_detection/License-Plate-Detector-2/train/images/car-wbs-TN19S4523_00000_png.rf.757b0b5c8ba3f76dded0ec7575f79fff.jpg (deflated 0%)\n",
            "  adding: content/License_plate_detection/License-Plate-Detector-2/train/images/684f079f-6085-420c-8e4e-e1aed270fc05___Toyota-Fortuner-Number-Plates-Design-jpg_jpeg.rf.5c0abcf62cf700e6973f24a07852a4a1.jpg (deflated 0%)\n",
            "  adding: content/License_plate_detection/License-Plate-Detector-2/train/images/d1115e64-987f-4a72-b9bb-853f67ca37b6___new_2014-Volkswagen-Polo-Review-jpg_jpeg.rf.142aaa5c16ba74825690b1e032b9cc63.jpg (deflated 1%)\n",
            "  adding: content/License_plate_detection/License-Plate-Detector-2/train/images/85bd88a0-ac9a-412e-ba44-2a29d209e212___4336_1466054535_9-jpg_jpeg.rf.b7faae328e4d277dcbbb5f1efc8a3599.jpg (deflated 1%)\n",
            "  adding: content/License_plate_detection/License-Plate-Detector-2/train/images/af270103-6ed4-4260-9d01-b8be2e2b9af1___skoda-rapid-1-5-tdi-dsg-review-jpg_jpeg.rf.f96f221f863f073599e276b346bcbe00.jpg (deflated 0%)\n",
            "  adding: content/License_plate_detection/License-Plate-Detector-2/train/images/car-wbs-TN21BZ0768_00000_png.rf.dd88ea77406936548eae472d4ad6d82a.jpg (deflated 1%)\n",
            "  adding: content/License_plate_detection/License-Plate-Detector-2/train/images/d9023f53-f90d-4b98-bd52-30796777ddcf___Maruti-Suzuki-Baleno-hatchback-56545-jpg_jpeg.rf.1411154583b65ce82f77ba873305e30c.jpg (deflated 0%)\n",
            "  adding: content/License_plate_detection/License-Plate-Detector-2/train/images/6cd15e75-3e26-41f2-a6aa-b1b58dec1c48___volkswagen-polo-exquisite-limited-edition-m1_720x540-jpg_jpeg.rf.9ab49a2551b37e7e3a94fab4f0b03e57.jpg (deflated 0%)\n",
            "  adding: content/License_plate_detection/License-Plate-Detector-2/train/images/9cad4b47-6c7b-4e30-ab55-b7fa040beb56___135717d1400912281-skoda-rapid-1-6tdi-cr-mt-elegance-ultima-candy-white-white-monster-_mg_2993comp-jpg_jpeg.rf.ff963877b526505f19151aae22d90b76.jpg (deflated 1%)\n",
            "  adding: content/License_plate_detection/License-Plate-Detector-2/train/images/d4bec046-caac-4e59-bd05-44de2232d83b___2017-Skoda-Octavia-Front-jpg_jpeg.rf.fb78407bfff26b2ff078e390d032b28d.jpg (deflated 1%)\n",
            "  adding: content/License_plate_detection/License-Plate-Detector-2/train/images/38cee3dd-dead-4ba0-b350-0f82d94836da___3e7fd381-0ae5-4421-8a70-279ee0ec1c61_big_467860_1505633598_jpg.rf.2d22b4b101a837485a0376ad0dd2ba1e.jpg (deflated 1%)\n",
            "  adding: content/License_plate_detection/License-Plate-Detector-2/train/images/00b42b2c-f193-4863-b92c-0245cbc816da___3e7fd381-0ae5-4421-8a70-279ee0ec1c61_Nissan-Terrano-Petrol-Review-Images-Black-Front-Angle_jpg.rf.f7f09912979f92bf88f50c1405616e5f.jpg (deflated 0%)\n",
            "  adding: content/License_plate_detection/License-Plate-Detector-2/train/images/car-wbs-HR26AZ5927_00000_png.rf.2f87b0442370a571f5235449810bf49c.jpg (deflated 0%)\n",
            "  adding: content/License_plate_detection/License-Plate-Detector-2/train/images/d3d2cbaa-f24a-4cb7-a236-53fa514816b4___new_2017-Skoda-Rapid-Diesel-DSG-Review-6-jpg_jpeg.rf.69b57266c51cf8402760c22c0d45f887.jpg (deflated 0%)\n",
            "  adding: content/License_plate_detection/License-Plate-Detector-2/train/images/car-wbs-KL10AW2814_00000_jpeg.rf.c033c3595bd2038f8e0c301591089dc6.jpg (deflated 0%)\n",
            "  adding: content/License_plate_detection/License-Plate-Detector-2/train/images/6bf2730d-82bf-43ac-8802-b61315d85b96___2017-Skoda-Octavia-rear-high-revealed-for-India-images-jpg_jpeg.rf.dbbdf6e7432ee495290a5b20fb546a1a.jpg (deflated 1%)\n",
            "  adding: content/License_plate_detection/License-Plate-Detector-2/train/images/c795950c-766a-4a2e-9636-62d663d6f06b___62bf1edb36141f114521ec4bb4175579-jpg_jpeg.rf.13391c2545f96f2d407bdb2dc8fbd5d3.jpg (deflated 0%)\n",
            "  adding: content/License_plate_detection/License-Plate-Detector-2/train/images/3c0a3772-d18d-4ff7-861c-7e50b7974edb___1393874-take-look-number-plate-imageuploadedbyteambhp1437414250-447892-jpg_jpeg.rf.b52d62f544754b2cc661e203cd41e72e.jpg (deflated 0%)\n",
            "  adding: content/License_plate_detection/License-Plate-Detector-2/train/images/c02b3989-8334-4cf7-b69c-bcd177e209d4___mqdefault-jpg_jpeg.rf.8571bc87f26671dd54e1bb482806d6a9.jpg (deflated 2%)\n",
            "  adding: content/License_plate_detection/License-Plate-Detector-2/train/images/car-wbs-MH14EU3498_00000_jpeg.rf.248a2b6fdee060aa57ae10b8574eff24.jpg (deflated 1%)\n",
            "  adding: content/License_plate_detection/License-Plate-Detector-2/train/images/car-wbs-HR26BR9044_00000_png.rf.9553c7ae97392552f4f5e311a5d17642.jpg (deflated 0%)\n",
            "  adding: content/License_plate_detection/License-Plate-Detector-2/train/images/car-wbs-GJ05JH2501_00001_jpg.rf.aa64f5eb0eec83b588ff73976a8da0ea.jpg (deflated 0%)\n",
            "  adding: content/License_plate_detection/License-Plate-Detector-2/train/images/car-wbs-MH14EH7958_00001_jpeg.rf.4cd4fe4935cb0b2430ee928fdf89fc99.jpg (deflated 2%)\n",
            "  adding: content/License_plate_detection/License-Plate-Detector-2/train/images/e719f39b-e8dd-4fe0-9a41-71123932a486___226676869_4_1000x700_maruti-suzuki-wagon-r-duo-petrol-120000-kms-2007-year-cars_rev001-jpg_jpeg.rf.165eeb634648ea85a4f5368d65cc9769.jpg (deflated 0%)\n",
            "  adding: content/License_plate_detection/License-Plate-Detector-2/train/images/13ffaad4-a186-46bd-ae5d-924d1c8d7c50___maruti-suzuki-Baleno-RS-pics-48-jpg_jpeg.rf.671c5bba21cfdc8e0c8d3ffd4f507fb2.jpg (deflated 0%)\n",
            "  adding: content/License_plate_detection/License-Plate-Detector-2/train/images/f20708c6-14cd-46ff-b8f1-6faef5fd8d2d___3e7fd381-0ae5-4421-8a70-279ee0ec1c61_Nissan-Terrano-20346_jpg.rf.3ba19cd547dd5652ffa09f59ef13c2ab.jpg (deflated 1%)\n",
            "  adding: content/License_plate_detection/License-Plate-Detector-2/train/images/d88b7b9c-a4f4-4af6-af3d-b3017e114e0d___146292-maruti-suzuki-wagon-r-stingray-vxi-ownership-review-dsc_01691-jpg_jpeg.rf.50ce53e5dcd1a3d765d734b2bccb5b6c.jpg (deflated 0%)\n",
            "  adding: content/License_plate_detection/License-Plate-Detector-2/train/images/car-wbs-KL20K7561_00000_jpeg.rf.5911e128aef1a744217b827ec24931d0.jpg (deflated 0%)\n",
            "  adding: content/License_plate_detection/License-Plate-Detector-2/train/images/e1d7921f-5e58-46c7-b4f9-9fd4585508f1___IMG_9072-jpg_jpeg.rf.c96a92cd96008d17381e3f317215e994.jpg (deflated 0%)\n",
            "  adding: content/License_plate_detection/License-Plate-Detector-2/train/images/c48f8704-bc40-462a-a595-445b2f2e63fe___new_77cca4b6f3864b3928824a030ba101d2-jpg_jpeg.rf.1e62c466b550638c230341cee5f7bc97.jpg (deflated 1%)\n",
            "  adding: content/License_plate_detection/License-Plate-Detector-2/train/images/6e52e238-927b-46e0-a8f1-5f77ef1ecf9f___3e7fd381-0ae5-4421-8a70-279ee0ec1c61_nissan-terrano-rear_jpg.rf.85eeac43b977dced86e81e8fd50acb49.jpg (deflated 1%)\n",
            "  adding: content/License_plate_detection/License-Plate-Detector-2/train/images/car-wbs-MH20EJ0364_00000_png.rf.de9fe5017e46957b792a08cd40d41821.jpg (deflated 1%)\n",
            "  adding: content/License_plate_detection/License-Plate-Detector-2/train/images/car-wbs-TN21AT0479_00000_jpg.rf.44d1c9f2640cc8cac073b8594edf70ce.jpg (deflated 0%)\n",
            "  adding: content/License_plate_detection/License-Plate-Detector-2/train/images/car-wbs-HR26BU0380_00000_png.rf.e48ff3c485ace2d5cbf1a9627678aaa8.jpg (deflated 2%)\n",
            "  adding: content/License_plate_detection/License-Plate-Detector-2/train/images/b79f870d-15c7-48e3-8874-7c0e53e29f75___3e7fd381-0ae5-4421-8a70-279ee0ec1c61_754eab882b8290b29a0454dd45580a39_555X416_1-Copy-3-_jpg.rf.406e5b641c25a1c46f2e3665460e175a.jpg (deflated 1%)\n",
            "  adding: content/License_plate_detection/License-Plate-Detector-2/train/images/23d775eb-842f-4f57-ad7a-affafa21660a___215453-new-2016-maruti-ertiga-granite-grey-zdi-shvs-highway-champion-img_8168-jpg_jpeg.rf.95dc4e31897f4b75198e3987de54eec1.jpg (deflated 0%)\n",
            "  adding: content/License_plate_detection/License-Plate-Detector-2/train/images/7070d6ac-5425-4d33-a78e-a48c62d0fac5___Honda-Jazz-Number-Plate-Designs-jpg_jpeg.rf.bbddc4ea2b7e6360aa2ae6c4b304bbc5.jpg (deflated 1%)\n",
            "  adding: content/License_plate_detection/License-Plate-Detector-2/train/images/5ac9f7b9-f7cc-4161-bbd1-7f377bb890bf___3e7fd381-0ae5-4421-8a70-279ee0ec1c61_Nissan-Terrano-John-Abraham_jpg.rf.9b1d7c9f809a959699f72b18cc3d9a2b.jpg (deflated 0%)\n",
            "  adding: content/License_plate_detection/License-Plate-Detector-2/train/images/car-wbs-MH03BS7778_00001_jpeg.rf.439efdb87afc16d1d26e26e726022b94.jpg (deflated 0%)\n",
            "  adding: content/License_plate_detection/License-Plate-Detector-2/train/images/15e7c19f-da3c-4f0d-91f3-552afabc8961___41FxrEl7jHL-jpg_jpeg.rf.6b45f0c89ad8910299e2bf9f2bf8d651.jpg (deflated 2%)\n",
            "  adding: content/License_plate_detection/License-Plate-Detector-2/train/images/0b24d6ed-d32f-420d-bc18-03deece29073___2015-Maruti-Ciaz-Test-Drive-Review-jpg_jpeg.rf.c01332a1dd185a3fc37573d71793561b.jpg (deflated 0%)\n",
            "  adding: content/License_plate_detection/License-Plate-Detector-2/train/images/6e772b68-a549-44e5-950e-4c376454c4e9___1557295d1474517501-toyota-innova-crysta-official-review-20160921_173216-jpg_jpeg.rf.b78d078bc59e72895c3b74e1d14eda9f.jpg (deflated 2%)\n",
            "  adding: content/License_plate_detection/License-Plate-Detector-2/train/images/car-wbs-KL01CC50_00000_png.rf.865b96b164788651532c245762a751a5.jpg (deflated 1%)\n",
            "  adding: content/License_plate_detection/License-Plate-Detector-2/train/images/868b996f-1f40-47ca-8222-b0f2750d7010___3e7fd381-0ae5-4421-8a70-279ee0ec1c61_nissan-terrano-left-side-view_jpg.rf.0d67f691028e14b5de7571618bf46b62.jpg (deflated 0%)\n",
            "  adding: content/License_plate_detection/License-Plate-Detector-2/train/images/6578ae52-8431-4854-ba24-756888891756___1496414894_2017-maruti-suzuki-ciaz-jpg_jpeg.rf.5575879768f3ab387803d3ce64333c88.jpg (deflated 0%)\n",
            "  adding: content/License_plate_detection/License-Plate-Detector-2/train/images/cbd81ff4-fc2a-4cd5-bed6-0fef4c456caa___226616d1495986750-zoomcar-review-mahindra-scorpio-s4-09-pamban-jpg_jpeg.rf.d6714ff1761cfb29b32dda9ed694db40.jpg (deflated 1%)\n",
            "  adding: content/License_plate_detection/License-Plate-Detector-2/train/images/car-wbs-MH15BD8877_00000_png.rf.c77f04ab1b19a6ae4aa1a548e2ec5b57.jpg (deflated 1%)\n",
            "  adding: content/License_plate_detection/License-Plate-Detector-2/train/images/3515f71d-cdd6-4050-ae68-7b7afd4c0a11___8_jpeg.rf.24b643111285bf86837cd700ecee18be.jpg (deflated 0%)\n",
            "  adding: content/License_plate_detection/License-Plate-Detector-2/train/images/018b52e6-e9a1-42c2-8ce7-0617e8c8e021___3e7fd381-0ae5-4421-8a70-279ee0ec1c61_sbtb02_auto1_JPG.rf.c94cc56a9334e1b696bb242a15a912f7.jpg (deflated 0%)\n",
            "  adding: content/License_plate_detection/License-Plate-Detector-2/train/images/car-wbs-TN38BY4191_00000_jpeg.rf.a3955543a7fc680d5c5585ac71a6d3be.jpg (deflated 1%)\n",
            "  adding: content/License_plate_detection/License-Plate-Detector-2/train/images/car-wbs-MH06AW8929_00000_jpeg.rf.a807b5ea3ad7707c9e8485bcb4e31405.jpg (deflated 0%)\n",
            "  adding: content/License_plate_detection/License-Plate-Detector-2/train/images/car-wbs-TN21AT0480_00001_jpg.rf.ae3487ad795039b362988dd79bfd5e59.jpg (deflated 0%)\n",
            "  adding: content/License_plate_detection/License-Plate-Detector-2/train/images/6ed8b283-5cf5-4727-9969-c79f70f47e80___2-cars-same-numbers-jpg_jpeg.rf.c31022866b4254ea2f0b6013fdb109c4.jpg (deflated 0%)\n",
            "  adding: content/License_plate_detection/License-Plate-Detector-2/train/images/49bdf0d9-4e64-41eb-9c19-eabdc4afb051___Maruti-Suzuki-Ciaz-Photos-30-JPG_jpeg.rf.da81c302b65efd706f92ccbab6ab05f4.jpg (deflated 1%)\n",
            "  adding: content/License_plate_detection/License-Plate-Detector-2/train/images/52abe2c4-fde3-45b2-beec-f070e6ed98c7___Volkswagen-Vento-Rear-view-46765-jpg_jpeg.rf.5cfb7f1633d24480b3eb76bfe90e908d.jpg (deflated 0%)\n",
            "  adding: content/License_plate_detection/License-Plate-Detector-2/train/images/car-wbs-MH12BG7237_00000_png.rf.72f163abb530f2bd49691f82627a746f.jpg (deflated 4%)\n",
            "  adding: content/License_plate_detection/License-Plate-Detector-2/train/images/car-wbs-MH20BY4465_00000_jpeg.rf.448a913ae5beb73b9fe0d35ce8db3a35.jpg (deflated 1%)\n",
            "  adding: content/License_plate_detection/License-Plate-Detector-2/train/images/b176b317-68a9-4c38-ac39-55e5244c9b9c___60653-jpg_jpeg.rf.c65fe98ef2271b86a7cf16ca81c9e7d4.jpg (deflated 0%)\n",
            "  adding: content/License_plate_detection/License-Plate-Detector-2/train/images/254b647f-4cb3-46c3-a206-4e70041f4c78___speedex-number-plates-nandanam-chennai-car-number-plate-dealers-33nu2i6-jpg_jpeg.rf.8e2305c8ab31eaa14b13714c531870f7.jpg (deflated 2%)\n",
            "  adding: content/License_plate_detection/License-Plate-Detector-2/train/images/car-wbs-MH12NE8922_00000_png.rf.7d9197f10c5a6135f738155ec5e9e673.jpg (deflated 2%)\n",
            "  adding: content/License_plate_detection/License-Plate-Detector-2/train/images/cd506968-8676-4df3-9150-d1c2e618f4c2___3e7fd381-0ae5-4421-8a70-279ee0ec1c61_nissan-note-india-testing_827x510_81508219864_jpg.rf.714b97fc3aae1ed00904d13f61e0d2ec.jpg (deflated 0%)\n",
            "  adding: content/License_plate_detection/License-Plate-Detector-2/train/images/03273806-bb1e-48da-8c8b-a0133a90197a___2014-Skoda-Yeti-Test-Drive-jpg_jpeg.rf.fc1abd8f04d46fb6f8dfbd457a51470a.jpg (deflated 1%)\n",
            "  adding: content/License_plate_detection/License-Plate-Detector-2/train/images/351a22eb-bf0a-44d6-8b6d-5ffca753c261___bike-number-plate-500x500-jpg_jpeg.rf.9ce62ae980fe9cf5916c93b526d633fc.jpg (deflated 0%)\n",
            "  adding: content/License_plate_detection/License-Plate-Detector-2/train/images/f9e27b82-9e65-44ba-bf9a-b3ced8901937___Skoda-Superb-Exterior-deadfront-69204-jpg_jpeg.rf.88bc9cbfbdc248d0a75d155623d8e048.jpg (deflated 0%)\n",
            "  adding: content/License_plate_detection/License-Plate-Detector-2/train/images/f8a992cc-a1cc-4d68-88c1-bec1a46fc148___Honda-City-Number-Plates-Design-jpg_jpeg.rf.edbde1b1a4353b4a10a5e85cac31b058.jpg (deflated 2%)\n",
            "  adding: content/License_plate_detection/License-Plate-Detector-2/train/images/a2d49f53-4121-4627-b5d9-069f8b2f8490___840256171_1_1080x720_maruti-suzuki-wagon-r-vxi-with-abs-minor-2014-petrol-erode-jpg_jpeg.rf.e1901a3b09f3bd88dd0fd2ec4e50e9bf.jpg (deflated 1%)\n",
            "  adding: content/License_plate_detection/License-Plate-Detector-2/train/images/69b56ab9-accd-4c67-aa7a-a884c018e5ab___speedex-number-plates-nandanam-chennai-car-number-plate-dealers-3zh7n2s-jpg_jpeg.rf.2088fbc0cc389e65deaeadaae935cd8d.jpg (deflated 0%)\n",
            "  adding: content/License_plate_detection/License-Plate-Detector-2/train/images/bdad5f66-70ad-4241-9a62-bba1123c3486___3e7fd381-0ae5-4421-8a70-279ee0ec1c61_1447945d1449508546t-my-nissan-terrano-85-ps-_img_000000_000000_jpg.rf.83cb335358131123694055108a4ecb6d.jpg (deflated 0%)\n",
            "  adding: content/License_plate_detection/License-Plate-Detector-2/train/images/8da5183c-275f-4294-a5a8-276e10ac5ad0___3e7fd381-0ae5-4421-8a70-279ee0ec1c61_nissan-terrano-amt_827x510_81478504265_jpg.rf.a46be72f9ec3c4f7432d703591f0efa5.jpg (deflated 0%)\n",
            "  adding: content/License_plate_detection/License-Plate-Detector-2/train/images/77d1f81a-bee6-487c-aff2-0efa31a9925c____bd7f7862-d727-11e7-ad30-e18a56154311-jpg_jpeg.rf.2a668ce47db74231901ce297956fa3be.jpg (deflated 0%)\n",
            "  adding: content/License_plate_detection/License-Plate-Detector-2/train/images/car-wbs-UP16CT2233_00000_jpg.rf.5cba9f52073200cbfc6609a7915ecf71.jpg (deflated 0%)\n",
            "  adding: content/License_plate_detection/License-Plate-Detector-2/train/images/b3e82163-400b-4211-bb99-a5b53fb13a25___new_IMG_8883-jpg_jpeg.rf.28fff881996bccb2b286dade476158e4.jpg (deflated 2%)\n",
            "  adding: content/License_plate_detection/License-Plate-Detector-2/train/images/car-wbs-KL43B2344_00000_jpeg.rf.3006c2a719c6a2c827498b20b60a31f6.jpg (deflated 1%)\n",
            "  adding: content/License_plate_detection/License-Plate-Detector-2/train/images/c41652d9-19ae-4a7d-8423-230340ac30bc___Skoda_Laura_DSG_Long_Term_Review-125-jpg_jpeg.rf.d9ba2bc95c21b33c7241bcc16aabb53d.jpg (deflated 1%)\n",
            "  adding: content/License_plate_detection/License-Plate-Detector-2/train/images/936623d4-b47c-4da7-ab2e-6ac3cc63f861___new_216279d1481352986-silver-venom-mahindra-scorpio-s4-2016-ownership-review-wp_20161122_11_19_00_pro-jpg_jpeg.rf.39a71212b94970e5445c80961f36b5a8.jpg (deflated 1%)\n",
            "  adding: content/License_plate_detection/License-Plate-Detector-2/train/images/79094948-25d3-418e-86fc-3c2d62917f62___513039-volkswagen-vento-test-drive-review-06032011612-jpg_jpeg.rf.c85db45ae4a9d7b3c25dc8ee91ead2ec.jpg (deflated 0%)\n",
            "  adding: content/License_plate_detection/License-Plate-Detector-2/train/images/f7ba7a93-e8d7-4253-b327-d87e3f2bb747___3e7fd381-0ae5-4421-8a70-279ee0ec1c61_2013-Nissan-Terrano-Rear_jpg.rf.994883660c22f955b406849c09a1ac76.jpg (deflated 1%)\n",
            "  adding: content/License_plate_detection/License-Plate-Detector-2/train/images/8c4371ee-a997-4b21-82c4-cb5e767c4d06___kia-sorento-spied-in-India-jpg_jpeg.rf.440cc80427325a73e33cf2a3a895ac31.jpg (deflated 1%)\n",
            "  adding: content/License_plate_detection/License-Plate-Detector-2/train/images/2302b12c-3d74-4d6c-b376-ba8ab308a8c3___big_215451_1320738450-jpg_jpeg.rf.ced232fa768ef8e25b256cf648a7f300.jpg (deflated 1%)\n",
            "  adding: content/License_plate_detection/License-Plate-Detector-2/train/images/b79f870d-15c7-48e3-8874-7c0e53e29f75___3e7fd381-0ae5-4421-8a70-279ee0ec1c61_754eab882b8290b29a0454dd45580a39_555X416_1-Copy_jpg.rf.5efb2c934a36ab91b54023e3911f62e0.jpg (deflated 1%)\n",
            "  adding: content/License_plate_detection/License-Plate-Detector-2/train/images/2430703d-0fb3-4eb2-9765-4f9301f232cd___3e7fd381-0ae5-4421-8a70-279ee0ec1c61_Terrano-Duster-Rear-Comparison-Copy_jpg.rf.9fa633c6eeb61d601c4e30b15b38516a.jpg (deflated 0%)\n",
            "  adding: content/License_plate_detection/License-Plate-Detector-2/train/images/5231116f-7a07-4ce2-b437-d34b497e7969___3e7fd381-0ae5-4421-8a70-279ee0ec1c61_844329566_3_1080x720_nissan-terrano-xe-d-2014-diesel-_jpg.rf.11bc7b93b53fc7ffc47b2da5b70b9cd6.jpg (deflated 2%)\n",
            "  adding: content/License_plate_detection/License-Plate-Detector-2/train/images/07064c2c-2aa3-4419-91a4-92916de8e54c___mahindra-scorpio-old-car-500x500-jpg_jpeg.rf.fe99052caac0ae37f674cc77f08ec360.jpg (deflated 0%)\n",
            "  adding: content/License_plate_detection/License-Plate-Detector-2/train/images/car-wbs-MH02CB4545_00000_jpeg.rf.553cb77d36bc7f87ac72a7e24295dea3.jpg (deflated 3%)\n",
            "  adding: content/License_plate_detection/License-Plate-Detector-2/train/images/4b669e6d-4eec-4f46-b502-f64ee0175947___new_1_jpg.rf.7034199f779b3935b8ea56038e775873.jpg (deflated 2%)\n",
            "  adding: content/License_plate_detection/License-Plate-Detector-2/train/images/c03a7106-1fb9-471f-bbb0-2e8f4a29759a___38e7b1109eb976088e1df2f14ac4c08c-jpg-Copy_jpeg.rf.8c8c2a00173b81adae11771b43e2c810.jpg (deflated 1%)\n",
            "  adding: content/License_plate_detection/License-Plate-Detector-2/train/images/5b49ae32-c799-45e3-b139-9c56acf6370d___2014-Volkswagen-Polo-Review-jpg_jpeg.rf.944a60d55c2f313307dfc37686f6f233.jpg (deflated 0%)\n",
            "  adding: content/License_plate_detection/License-Plate-Detector-2/train/images/62b58053-425c-4924-b129-c4a6580f3562___product-500x5001_jpeg.rf.1b2410f3d2b8001e32bf22e3897c18b9.jpg (deflated 1%)\n",
            "  adding: content/License_plate_detection/License-Plate-Detector-2/train/images/car-wbs-TN45BA1065_00000_jpeg.rf.a560c53deb44751622e20e937b6db00e.jpg (deflated 1%)\n",
            "  adding: content/License_plate_detection/License-Plate-Detector-2/train/images/07f6d77a-652e-4885-8520-6d405d2f712f___3e7fd381-0ae5-4421-8a70-279ee0ec1c61_840539077_1_1080x720_nissan-terrano-xl-d-thp-110-ps-2016-diesel-_jpg.rf.e1c89068893ec334899203743209d5dd.jpg (deflated 0%)\n",
            "  adding: content/License_plate_detection/License-Plate-Detector-2/train/images/1a0da3dc-6667-4092-bc2a-a541a06f1e90___3e7fd381-0ae5-4421-8a70-279ee0ec1c61_Nissan-Terrano9_jpg.rf.f5c3e9ee506dab65ca572036487b467e.jpg (deflated 1%)\n",
            "  adding: content/License_plate_detection/License-Plate-Detector-2/train/images/84969111-2ec3-4914-b3bb-da5aaac701e7___1-jpg_jpeg.rf.e735b2d50d17a388ed21d58227be53cf.jpg (deflated 0%)\n",
            "  adding: content/License_plate_detection/License-Plate-Detector-2/train/images/44ee098a-c33c-47a2-9dcb-717c02d5a240___3e7fd381-0ae5-4421-8a70-279ee0ec1c61_2013-Nissan-Terrano-Front_jpg.rf.747cd7f2d316a2bbc80b771140685a03.jpg (deflated 0%)\n",
            "  adding: content/License_plate_detection/License-Plate-Detector-2/train/images/car-wbs-HR26CB1900_00000_png.rf.1b0a4fb66051922da8f041abf08913d8.jpg (deflated 0%)\n",
            "  adding: content/License_plate_detection/License-Plate-Detector-2/train/images/4be1ff39-b2ad-45e0-9c9a-0e7215cbb5b6___2-jpg_jpeg.rf.edb3002b6786ff2917c13a7370baf945.jpg (deflated 2%)\n",
            "  adding: content/License_plate_detection/License-Plate-Detector-2/train/images/10c96324-3452-43e2-aa68-c8ae7d3c1b6e___844874771_1_1080x720_maruti-suzuki-wagon-r-vxi-bs-iii-2014-petrol-jpg_jpeg.rf.b48bfda00ade73ba5b90445c34b582bf.jpg (deflated 0%)\n",
            "  adding: content/License_plate_detection/License-Plate-Detector-2/train/images/0850c175-0b8d-47f2-801c-e29f1dbdb367___3e7fd381-0ae5-4421-8a70-279ee0ec1c61_571_jpg.rf.029a5f4d8564c79a7398bfa5d39d94f1.jpg (deflated 0%)\n",
            "  adding: content/License_plate_detection/License-Plate-Detector-2/train/images/fc1f58f0-2f54-4545-8915-2936d08dcce1___new_Skoda_Laura_DSG_Long_Term_Review-125-jpg_jpeg.rf.b05717f17197fe59b118b044eb691de7.jpg (deflated 1%)\n",
            "  adding: content/License_plate_detection/License-Plate-Detector-2/train/images/car-wbs-TN59BE0939_00000_jpg.rf.07452116b21fe79d845a76bd52630ffb.jpg (deflated 0%)\n",
            "  adding: content/License_plate_detection/License-Plate-Detector-2/train/images/092c497e-623d-499d-822a-4b01c657389b___3e7fd381-0ae5-4421-8a70-279ee0ec1c61_nissan-terrano-rear-left-rim_jpg.rf.9815488508b9bb1564f61eb7e0e1e15c.jpg (deflated 0%)\n",
            "  adding: content/License_plate_detection/License-Plate-Detector-2/train/images/b117ba53-d563-49c2-806b-343666616815___new_Maruti-Suzuki-recalls-75419-Baleno-cars-1961-DZire-cars-only-AGS-variant-Motown-India-Bureau-2-810-jpg_jpeg.rf.07204eee07438d63fb26a1c88afb9180.jpg (deflated 1%)\n",
            "  adding: content/License_plate_detection/License-Plate-Detector-2/train/images/712ecd95-753f-4d67-ae42-e8b5254e6e94___28iam53-jpg_jpeg.rf.7559a5ec84719ef961e5b14be6296f16.jpg (deflated 1%)\n",
            "  adding: content/License_plate_detection/License-Plate-Detector-2/train/images/car-wbs-TS08ER1643_00000_png.rf.c040f0e8003a836e144abe39eb61fec1.jpg (deflated 1%)\n",
            "  adding: content/License_plate_detection/License-Plate-Detector-2/train/images/car-wbs-MH01AR5274_00000_jpeg.rf.f2ca8af4f7f36b023e74d899d81f75d8.jpg (deflated 1%)\n",
            "  adding: content/License_plate_detection/License-Plate-Detector-2/train/images/377b225b-e978-4e7c-8e5e-f10d8effc336___Maruti-Suzuki-Ignis-Rear-view-94486-jpg_jpeg.rf.b335bb0bf862cf5636964f139e4b1f93.jpg (deflated 0%)\n",
            "  adding: content/License_plate_detection/License-Plate-Detector-2/train/images/52b45060-9645-47c7-882d-b69a5bf07eff___1006372d1351343820-my-new-maruti-swift-zxi-21102012241-jpg_jpeg.rf.3ae395b28a6a348ed3553ec2f946c617.jpg (deflated 0%)\n",
            "  adding: content/License_plate_detection/License-Plate-Detector-2/train/images/car-wbs-RJ02CC0784_00000_jpg.rf.9d176baf41752d54c887568867b55796.jpg (deflated 0%)\n",
            "  adding: content/License_plate_detection/License-Plate-Detector-2/train/images/7c8229d7-7e37-41a6-9262-d5da278c8d8e___139379d1243147524-ok-have-dealers-name-number-plate-1-jpg_jpeg.rf.85d0cd98a62a02543afc30b784de6f9c.jpg (deflated 3%)\n",
            "  adding: content/License_plate_detection/License-Plate-Detector-2/train/images/fbb2b3ed-4db1-4d4c-8d4d-4b80b02bfd2a___3e7fd381-0ae5-4421-8a70-279ee0ec1c61_01640f5edbbfb564a9ab6486b31d1554_large_jpg.rf.c774960f7512d78a3fb1adf75cbcc01a.jpg (deflated 1%)\n",
            "  adding: content/License_plate_detection/License-Plate-Detector-2/train/images/dfafd4ef-5592-41d9-9cbb-fa6a4e03831e___IMG_9082-jpg_jpeg.rf.6f6fa4a379a613b40e92e7b9dfb938da.jpg (deflated 1%)\n",
            "  adding: content/License_plate_detection/License-Plate-Detector-2/train/images/car-wbs-KA01CA2555_00000_png.rf.5bb580cd286387a4fbcc28e5c20ff083.jpg (deflated 1%)\n",
            "  adding: content/License_plate_detection/License-Plate-Detector-2/train/images/27a88c24-0bf2-48b0-98a8-fa396e951045___3e7fd381-0ae5-4421-8a70-279ee0ec1c61_7T4G0491-e1376988169395-1024x577_jpg.rf.9cc07faddd7859bfad8119d3cea44141.jpg (deflated 1%)\n",
            "  adding: content/License_plate_detection/License-Plate-Detector-2/train/images/7f768bfc-4c86-4fff-932d-c9871a82dce5___1431955d1446017445-number-plates-merchandise-canvas-ink-gurgaon-edit-closed-thumb_img_4422_1024-jpg_jpeg.rf.8410d180210ea8eed5bb2fc830ecf824.jpg (deflated 0%)\n",
            "  adding: content/License_plate_detection/License-Plate-Detector-2/train/images/3bc3f147-2d6b-484a-8481-4a49fd8afe23___3e7fd381-0ae5-4421-8a70-279ee0ec1c61_844581764_1_1080x720_nissan-terrano-xv-d-thp-110-ps-2013-diesel-faridabad_jpg.rf.e331e608726d8a4b5dff9f4de822db10.jpg (deflated 1%)\n",
            "  adding: content/License_plate_detection/License-Plate-Detector-2/train/images/2430703d-0fb3-4eb2-9765-4f9301f232cd___3e7fd381-0ae5-4421-8a70-279ee0ec1c61_Terrano-Duster-Rear-Comparison_jpg.rf.3ad9e4baee6d9781d2f35ec235ddc359.jpg (deflated 4%)\n",
            "  adding: content/License_plate_detection/License-Plate-Detector-2/train/images/car-wbs-KL10AV6633_00000_jpg.rf.cdfd0b8ae784c6086c528bd4660773f5.jpg (deflated 1%)\n",
            "  adding: content/License_plate_detection/License-Plate-Detector-2/train/images/car-wbs-MH14EH5819_00000_jpeg.rf.39035635d277eb1e824ae2dae0a6b844.jpg (deflated 0%)\n",
            "  adding: content/License_plate_detection/License-Plate-Detector-2/train/images/0073797c-a755-4972-b76b-8ef2b31d44ab___new_IMG_20160315_071740-jpg_jpeg.rf.281091bbcd7fd8af7c902bdfed5dcf10.jpg (deflated 1%)\n",
            "  adding: content/License_plate_detection/License-Plate-Detector-2/train/images/car-wbs-GJ03JL0126_00000_png.rf.65cf551a01467d46211a806e12529063.jpg (deflated 1%)\n",
            "  adding: content/License_plate_detection/License-Plate-Detector-2/train/images/bd742e42-bacc-430e-b9aa-9df666f5d9b3___kicker-647_010517112446-jpg_jpeg.rf.6db7c3a2a14a35d768ea0a389823787f.jpg (deflated 1%)\n",
            "  adding: content/License_plate_detection/License-Plate-Detector-2/train/images/a95a0d9d-5d40-4abb-bd3e-6c6d94bef5b1___IMG_3310-jpg_jpeg.rf.b91583ff1f44cd94e9f85191f46fa728.jpg (deflated 1%)\n",
            "  adding: content/License_plate_detection/License-Plate-Detector-2/train/images/car-wbs-MH03BS7778_00002_jpeg.rf.a48addac84c973c18d695225a1490985.jpg (deflated 0%)\n",
            "  adding: content/License_plate_detection/License-Plate-Detector-2/train/images/206c95ff-83b8-4273-b105-6637bf9a3038___numerix-number-plates-thodupuzha-idukki-number-plate-dealers-1lhwiga-jpg_jpeg.rf.0f5f2a1baa7c677ca529cb77be0916d7.jpg (deflated 0%)\n",
            "  adding: content/License_plate_detection/License-Plate-Detector-2/train/images/car-wbs-MH46X9996_00000_jpg.rf.276bc017a5781c0a25cc7cd579c78b4e.jpg (deflated 0%)\n",
            "  adding: content/License_plate_detection/License-Plate-Detector-2/train/images/af608b5e-07d6-4bcf-84d0-f0cba9e54e12___Skoda-Superb-Rear-Profile-jpg_jpeg.rf.93bfaa1e3c293083f203e1e384130c03.jpg (deflated 0%)\n",
            "  adding: content/License_plate_detection/License-Plate-Detector-2/train/images/car-wbs-MH01AE8017_00000_jpeg.rf.33823150d8b62550d76921d32ffc8737.jpg (deflated 1%)\n",
            "  adding: content/License_plate_detection/License-Plate-Detector-2/train/images/car-wbs-MH20BY3665_00001_jpeg.rf.af8662ccfc9dcb3e496d261b70899968.jpg (deflated 2%)\n",
            "  adding: content/License_plate_detection/License-Plate-Detector-2/train/images/f5bbb8da-dddd-47ae-a46c-15492f9cf752___3e7fd381-0ae5-4421-8a70-279ee0ec1c61_10187746544_0c0822790e_jpg.rf.5ff3e80c8c4b5bbfc9380bba201b5a10.jpg (deflated 0%)\n",
            "  adding: content/License_plate_detection/License-Plate-Detector-2/train/images/a9268f51-fbb4-42c2-b88c-f5ef9f8ead42___2266_7T4G0510-JPG_jpeg.rf.5b5f2321e85384d458c770d20741e35b.jpg (deflated 2%)\n",
            "  adding: content/License_plate_detection/License-Plate-Detector-2/train/images/car-wbs-MH20EE7598_00001_jpeg.rf.5ec122ea08d3c5d37de4960b4a492245.jpg (deflated 1%)\n",
            "  adding: content/License_plate_detection/License-Plate-Detector-2/train/images/car-wbs-KL07CB8599_00000_jpeg.rf.f484edc60cef62e265ee64f11a1f7f32.jpg (deflated 1%)\n",
            "  adding: content/License_plate_detection/License-Plate-Detector-2/train/images/7f369852-27b9-4141-8c48-9e88b20743a6___new_Mahindra-Scorpio-Taillamps-Night-JPG_jpeg.rf.a44a2caa5e46c383cf463f76038459c4.jpg (deflated 3%)\n",
            "  adding: content/License_plate_detection/License-Plate-Detector-2/train/images/6d69b523-72b7-4be9-a79f-428ef8148dcd___81auoS-H8eL-_SX425_-jpg_jpeg.rf.2af348b9b9ff1abcf67ce5c6c7732bba.jpg (deflated 0%)\n",
            "  adding: content/License_plate_detection/License-Plate-Detector-2/train/images/e750b959-1b5a-41bf-bf64-d8099089e909___3e7fd381-0ae5-4421-8a70-279ee0ec1c61_Nissan-Terrano-Duster-launch-dare-pics-price-interiors-images-1_jpg.rf.f2d335d8c021809314d2de4a5d233701.jpg (deflated 0%)\n",
            "  adding: content/License_plate_detection/License-Plate-Detector-2/train/images/2adfb5e7-e70a-4749-b5fa-8c233c0d47d9___new_1572920d1478091901-your-favourite-number-plate-font-jetta-german-font-jpg_jpeg.rf.9aa8940e23ceb89858bd971f2a593411.jpg (deflated 0%)\n",
            "  adding: content/License_plate_detection/License-Plate-Detector-2/train/images/aff1f53b-3259-44f0-9718-05fb64dc8ba1___Untitled_png.rf.59aaacb34031bed81e2f2edcb0f53998.jpg (deflated 2%)\n",
            "  adding: content/License_plate_detection/License-Plate-Detector-2/train/images/304b14b8-dc3c-41cb-94b6-635864e2e964___number-plate-protector-car-safeplate-250x250-jpg_jpeg.rf.45519f10ba022f92b138dab5f964f91d.jpg (deflated 1%)\n",
            "  adding: content/License_plate_detection/License-Plate-Detector-2/train/images/car-wbs-TN42R2697_00000_jpg.rf.86d6282198615d1263a6a8d5cc3dac56.jpg (deflated 1%)\n",
            "  adding: content/License_plate_detection/License-Plate-Detector-2/train/images/car-wbs-MH20CS1941_00001_jpeg.rf.e36122ea94eaa3863c8551a44282353e.jpg (deflated 0%)\n",
            "  adding: content/License_plate_detection/License-Plate-Detector-2/train/images/3febea0e-53c0-4b30-880c-3061458b93ce___Maruti-Vitara-Brezza-rear-end-full-review-jpg_jpeg.rf.a270a4aac555da42a32dd84c02398236.jpg (deflated 0%)\n",
            "  adding: content/License_plate_detection/License-Plate-Detector-2/train/images/car-wbs-TN38BW1139_00000_jpeg.rf.21b3496ffc4827ef23c1c2d12c341084.jpg (deflated 1%)\n",
            "  adding: content/License_plate_detection/License-Plate-Detector-2/train/images/6f78077e-a3a1-4fb9-89ba-5870d75ccdb8___Innova_Crysta_Car_Euro_number_Plates-jpg_jpeg.rf.5ef136a1c000aa009dfdc5743d39c0d0.jpg (deflated 1%)\n",
            "  adding: content/License_plate_detection/License-Plate-Detector-2/train/images/car-wbs-KL01CA2555_00000_jpeg.rf.3a16918c1af754dff7a5f59d4328105d.jpg (deflated 1%)\n",
            "  adding: content/License_plate_detection/License-Plate-Detector-2/train/images/car-wbs-MH03BS7778_00000_jpeg.rf.d46cebf66ad7467de93ee8dba66c7c0e.jpg (deflated 0%)\n",
            "  adding: content/License_plate_detection/License-Plate-Detector-2/train/images/60842fa7-0a2e-4407-b41c-933d93bdbb35___3e7fd381-0ae5-4421-8a70-279ee0ec1c61_nissan-terrano-red-rear_jpg.rf.0ade063e15bf9e6da0010fde9661505a.jpg (deflated 0%)\n",
            "  adding: content/License_plate_detection/License-Plate-Detector-2/train/images/b9467810-4022-4cf5-87e7-fed0d63c8e2f___new_1658240d1500548920-close-look-2017-skoda-octavia-facelift-hands-free-parking-front-bumper-jpg_jpeg.rf.79eb6d903bab771a85b8c0c1a7ee5968.jpg (deflated 0%)\n",
            "  adding: content/License_plate_detection/License-Plate-Detector-2/train/images/07bd977e-d578-49a2-b345-7cee5a4db6bf___new_1031520d1356604430-skoda-rapid-joins-family-edit-sold-wp_000281-jpg_jpeg.rf.6b227e0920d86ccebb7233cdd4bff566.jpg (deflated 0%)\n",
            "  adding: content/License_plate_detection/License-Plate-Detector-2/train/images/e53076d3-c3b7-47b8-8c63-30a08b8ad983___40213__Maruti_Suzuki_Swift-016-JPG_jpeg.rf.44e74ad42958ac6f65ec44b4f1123993.jpg (deflated 0%)\n",
            "  adding: content/License_plate_detection/License-Plate-Detector-2/train/images/car-wbs-MH20EE045_00000_jpeg.rf.2bc8f8c6e2c596b257da21e4d19efe0f.jpg (deflated 1%)\n",
            "  adding: content/License_plate_detection/License-Plate-Detector-2/train/images/car-wbs-MH20CS4946_00000_jpeg.rf.0388afc9fcc7660b48ecbe3b10b84e3d.jpg (deflated 1%)\n",
            "  adding: content/License_plate_detection/License-Plate-Detector-2/train/images/fd0140cc-e887-43b8-a439-24877ea77670___Maruti-Suzuki-Baleno-Number-Plates-Design-jpg_jpeg.rf.cfcb52e4a9c2b1f3138f9b3a2434770b.jpg (deflated 1%)\n",
            "  adding: content/License_plate_detection/License-Plate-Detector-2/train/images/car-wbs-MH20CS1941_00000_jpeg.rf.54feaeb5ff81b144992a1ee06cbc4cb3.jpg (deflated 0%)\n",
            "  adding: content/License_plate_detection/License-Plate-Detector-2/train/images/car-wbs-TN99F2378_00000_png.rf.4e687cb5f8e89f390a685c0f68f5a5a5.jpg (deflated 1%)\n",
            "  adding: content/License_plate_detection/License-Plate-Detector-2/train/images/car-wbs-TN74AL5074_00000_jpeg.rf.a490d73166b56464b8f6ec1297dae1d2.jpg (deflated 0%)\n",
            "  adding: content/License_plate_detection/License-Plate-Detector-2/train/images/41de2ad0-3785-488e-9f1f-75b76f446cc7___Maruti-Alto-K10-Photos-2-jpg_jpeg.rf.eda0ccc31133fde578a71aa0862b8027.jpg (deflated 1%)\n",
            "  adding: content/License_plate_detection/License-Plate-Detector-2/train/images/8b9e7112-9149-48fb-b8e8-c3e89cce5af0___1074650_10201043987997310_227646612_o-jpg_jpeg.rf.e07fd12bde039a3663a28fe51ec96ec9.jpg (deflated 1%)\n",
            "  adding: content/License_plate_detection/License-Plate-Detector-2/train/images/car-wbs-MH20BN3525_00000_jpeg.rf.faae3ab72cf6c9abb086469404240d9f.jpg (deflated 1%)\n",
            "  adding: content/License_plate_detection/License-Plate-Detector-2/train/images/6767eddd-bf2f-4270-aa1f-6146738895ab___3e7fd381-0ae5-4421-8a70-279ee0ec1c61_Nissan-Terrano-20300_jpg.rf.1cdb3c0650272df2a15fe7b1301040e4.jpg (deflated 1%)\n",
            "  adding: content/License_plate_detection/License-Plate-Detector-2/train/images/bcdc8b42-5dd4-48e2-8104-706440524bfe___hqdefault0-jpg_jpeg.rf.f84b7ae4f9f25e1e5ae83d57e02dc85b.jpg (deflated 3%)\n",
            "  adding: content/License_plate_detection/License-Plate-Detector-2/train/images/89d26be7-258a-4470-b0fe-d1df57b20d55___new_Skoda-Octavia-5-jpg_jpeg.rf.ce61ab2c297ed9cc72b349140b514c14.jpg (deflated 0%)\n",
            "  adding: content/License_plate_detection/License-Plate-Detector-2/train/images/dd58e02d-51a5-4bfd-87af-ff51c576086e___2014-mahindra-scorpio-suv-10-jpg_jpeg.rf.51a1736c68885300e2f5ca47735dca73.jpg (deflated 1%)\n",
            "  adding: content/License_plate_detection/License-Plate-Detector-2/train/images/4434b404-dd10-4150-b226-b76b6ef95e43___new_224489195_8_1000x700_skoda-superb-2010-jpg_jpeg.rf.860cee580426ce085fe09733f787f8e0.jpg (deflated 0%)\n",
            "  adding: content/License_plate_detection/License-Plate-Detector-2/train/images/car-wbs-MH20BY3665_00000_jpeg.rf.b32aa3ecb49b4b0dd8685ff43b1bf7d4.jpg (deflated 1%)\n",
            "  adding: content/License_plate_detection/License-Plate-Detector-2/train/images/car-wbs-MH12DE1433_00001_jpeg.rf.4cbf975cc09d48a798d9052661e3af30.jpg (deflated 1%)\n",
            "  adding: content/License_plate_detection/License-Plate-Detector-2/train/images/be483d11-33f0-4c1f-87b6-9844eea28996___1093346d1370435964-take-look-number-plate-photo-jpg_jpeg.rf.e5904c92ba243c9650083585b1c15c6d.jpg (deflated 0%)\n",
            "  adding: content/License_plate_detection/License-Plate-Detector-2/train/images/car-wbs-UP32FH2653_00000_jpg.rf.9ea9b9f678ea11bbfc2ed2cf4bb32333.jpg (deflated 0%)\n",
            "  adding: content/License_plate_detection/License-Plate-Detector-2/train/images/b7fd8aaa-8621-449f-b99c-f45778f1a25c___3e7fd381-0ae5-4421-8a70-279ee0ec1c61_1208485d1392541449-nissan-terrano-official-review-img_20140215_181507_jpg.rf.3eae7e20bad3a8209f01628030915c12.jpg (deflated 0%)\n",
            "  adding: content/License_plate_detection/License-Plate-Detector-2/train/images/car-wbs-TN28BA9999_00000_jpeg.rf.3e69381222170e97a24608b5892dcb0c.jpg (deflated 1%)\n",
            "  adding: content/License_plate_detection/License-Plate-Detector-2/train/images/3fd93f90-f778-4f14-8b0f-67dd0be88a06___561644d1308248087-beware-fake-registration-numbers-imported-cars-proof-pg-3-257491_10150223034216705_685851704_7325894_6829197_o-jpg_jpeg.rf.8d594e11d6bd74b1e17ad86df2396eca.jpg (deflated 1%)\n",
            "  adding: content/License_plate_detection/License-Plate-Detector-2/train/images/df2f7a76-d701-468f-b54a-c5d63d13b349___CM-Akhilesh-Number-Plate-jpg_jpeg.rf.82214341a3ff03488a244dc7abcb2fe0.jpg (deflated 0%)\n",
            "  adding: content/License_plate_detection/License-Plate-Detector-2/train/images/9ea92991-8fdf-4b46-aea1-bf08ecff247c___new_1107433d1373284570-my-modded-skoda-rapid-now-166-bhp-351-nm-119-whp-per-tonne-hdr_00005_normal-jpg_jpeg.rf.2831bff1f321f83d51f009ce7658003a.jpg (deflated 1%)\n",
            "  adding: content/License_plate_detection/License-Plate-Detector-2/train/images/27bfd7b7-6e0c-454c-b9f3-7a44d36edb9c___3e7fd381-0ae5-4421-8a70-279ee0ec1c61_nissan-terrano-rear-right-side-angle-view_jpg.rf.d08856a58f5d938d8d198cec1985c8e5.jpg (deflated 0%)\n",
            "  adding: content/License_plate_detection/License-Plate-Detector-2/train/images/3f677265-d5fa-439f-be23-feaacce22c49___3e7fd381-0ae5-4421-8a70-279ee0ec1c61_848126147_2_1080x720_nissan-terrano-xl-d-plus-2014-diesel-upload-photos_jpg.rf.40cd64613d798b2391a0b9ca84886cdb.jpg (deflated 1%)\n",
            "  adding: content/License_plate_detection/License-Plate-Detector-2/train/images/422aaf6f-dd4a-450f-ac6b-65966ab512d0___1431956d1446017445-number-plates-merchandise-canvas-ink-gurgaon-edit-closed-thumb_img_4418_1024-jpg_jpeg.rf.8ad3f718ed837eb6e0dbecb0b8354b13.jpg (deflated 0%)\n",
            "  adding: content/License_plate_detection/License-Plate-Detector-2/train/images/car-wbs-KA03MG2784_00000_png.rf.d3709f53011fa0de667d4754ed887460.jpg (deflated 1%)\n",
            "  adding: content/License_plate_detection/License-Plate-Detector-2/train/images/11832b13-d514-4f1d-967c-d00e76d21e9b___Yellow-Number-Plate-With-Black-Lettering-jpg_jpeg.rf.ef7050c444c8fa85f716c882e94b4a28.jpg (deflated 0%)\n",
            "  adding: content/License_plate_detection/License-Plate-Detector-2/train/images/f5bbb8da-dddd-47ae-a46c-15492f9cf752___3e7fd381-0ae5-4421-8a70-279ee0ec1c61_10187746544_0c0822790e-Copy_jpg.rf.160b397b02337ccf0d4537a5921b4582.jpg (deflated 0%)\n",
            "  adding: content/License_plate_detection/License-Plate-Detector-2/train/images/760ba77a-8992-4574-8cba-6c081d9e3e19___3e7fd381-0ae5-4421-8a70-279ee0ec1c61_04f4c639c871fba0b4cc6475604e40b7_large_jpg.rf.17bda8759caf16327307422a51c42465.jpg (deflated 0%)\n",
            "  adding: content/License_plate_detection/License-Plate-Detector-2/train/images/8e0b8c6f-850f-4918-983a-7fa110368d32___banner_4_png.rf.83b42fccf3884a1b516e0e6f2b0bb309.jpg (deflated 12%)\n",
            "  adding: content/License_plate_detection/License-Plate-Detector-2/train/images/4eb236a3-6547-4103-b46f-3756d21128a9___06-Sanjay-Dutt-jpg_jpeg.rf.07150a289e35cd855ca3a3f006883f7a.jpg (deflated 1%)\n",
            "  adding: content/License_plate_detection/License-Plate-Detector-2/train/images/8dbb3ea7-8512-49e4-9ede-d4647e3b7dd2___158712081_5_1000x700_toyota-innova-v-2010-7seat-life-tax-kerala_rev001-jpg_jpeg.rf.c143a888bffcb8b03e5522c4482f012f.jpg (deflated 0%)\n",
            "  adding: content/License_plate_detection/License-Plate-Detector-2/train/images/266d82c7-1b64-44cd-b77c-c08d98175390___3e7fd381-0ae5-4421-8a70-279ee0ec1c61_5c752daa8d168dec865fe0462bf2c0bb_large_jpg.rf.23d2100a1b9c64f7bafaece6c8988dbe.jpg (deflated 0%)\n",
            "  adding: content/License_plate_detection/License-Plate-Detector-2/train/images/car-wbs-CH01AN0001_00000_png.rf.a5cbeb771ec2589616c8fc90889a2bba.jpg (deflated 0%)\n",
            "  adding: content/License_plate_detection/License-Plate-Detector-2/train/images/5c85a40f-ce81-44b4-82b2-dfdac281217d___new_Skoda-Octavia-1-8-TSI-5-jpg_jpeg.rf.0839b14612613101046b2e5443fb781c.jpg (deflated 0%)\n",
            "  adding: content/License_plate_detection/License-Plate-Detector-2/train/labels.cache (deflated 66%)\n",
            "  adding: content/License_plate_detection/License-Plate-Detector-2/README.roboflow.txt (deflated 45%)\n",
            "  adding: content/License_plate_detection/License-Plate-Detector-2/valid/ (stored 0%)\n",
            "  adding: content/License_plate_detection/License-Plate-Detector-2/valid/labels/ (stored 0%)\n",
            "  adding: content/License_plate_detection/License-Plate-Detector-2/valid/labels/346a6946-ae0a-4b3f-b094-d971124b2064___banner_3_png.rf.57850ce053fcc2369b5e17374693fa84.txt (deflated 13%)\n",
            "  adding: content/License_plate_detection/License-Plate-Detector-2/valid/labels/car-wbs-KL16J3636_00000_jpeg.rf.ad3aaea0b92cfbeb1c5ade9c416564cf.txt (deflated 21%)\n",
            "  adding: content/License_plate_detection/License-Plate-Detector-2/valid/labels/ed9cd3b2-76a2-4cc8-9e4e-76d50ad1ff68___maruti-suzuki-wagon-r-hood-open-view-jpg_jpeg.rf.c6da8467918bd05a87b3e82c50ebfbaa.txt (deflated 14%)\n",
            "  adding: content/License_plate_detection/License-Plate-Detector-2/valid/labels/car-wbs-MH20EE0943_00000_jpeg.rf.9755cc9b6cbe77ad2817113dd56559d8.txt (deflated 18%)\n",
            "  adding: content/License_plate_detection/License-Plate-Detector-2/valid/labels/c30a1535-9d8f-465e-a7f4-aa726f19f0b1___new-maruti-alto-k10-2_625x300_41414071192-jpg_jpeg.rf.bb294ea747a4fad7b57a9807d8f2b462.txt (deflated 16%)\n",
            "  adding: content/License_plate_detection/License-Plate-Detector-2/valid/labels/0a0d1748-48cd-4114-90cb-b5baf0b3cbe4___3e7fd381-0ae5-4421-8a70-279ee0ec1c61_147274518_15141875973_large_jpg.rf.2fb8dbf353b1695ebeabbdfa1d1cc2a1.txt (deflated 11%)\n",
            "  adding: content/License_plate_detection/License-Plate-Detector-2/valid/labels/car-wbs-TN66U8215_00000_jpeg.rf.5832c6c68b508b46d72c8f3d20f31d8f.txt (deflated 27%)\n",
            "  adding: content/License_plate_detection/License-Plate-Detector-2/valid/labels/28fc10e3-681b-4086-9c15-28934ae86f7e___3e7fd381-0ae5-4421-8a70-279ee0ec1c61_nissan-terrano-amt_827x510_71478504527_jpg.rf.bd62d356e18a5a27986f7de859f99d2f.txt (deflated 18%)\n",
            "  adding: content/License_plate_detection/License-Plate-Detector-2/valid/labels/a508ecb5-bfdd-46ba-8640-bb827b7c089c___Volkswagen-Polo-jpg_jpeg.rf.3c9c98716c7c67ecba7b00705bb8208f.txt (deflated 20%)\n",
            "  adding: content/License_plate_detection/License-Plate-Detector-2/valid/labels/0369b20e-b432-4409-90f9-2420877aa386___8151536c79159a1557421da5f27f9f0e-jpg_jpeg.rf.14d4435a474828950e605b4b08587a42.txt (deflated 19%)\n",
            "  adding: content/License_plate_detection/License-Plate-Detector-2/valid/labels/94c5a151-24b5-493c-a900-017a4353b00c___3e7fd381-0ae5-4421-8a70-279ee0ec1c61_Tata-Tiago-Front-Number-Plates-Design_jpg.rf.3ef566a36779ea92a6daec94088ef665.txt (deflated 14%)\n",
            "  adding: content/License_plate_detection/License-Plate-Detector-2/valid/labels/0c9ebe94-827d-4c74-9950-6816e70d1bab___IMG_8883-jpg_jpeg.rf.e6ffade852ebad112a07b01c037c4822.txt (deflated 17%)\n",
            "  adding: content/License_plate_detection/License-Plate-Detector-2/valid/labels/125b5cda-9691-47aa-8e57-f6d8a8537d83___fancy_number_plates_in_india-jpg_jpeg.rf.a40734fa59f2a8e926c543c6d7ba8756.txt (deflated 26%)\n",
            "  adding: content/License_plate_detection/License-Plate-Detector-2/valid/labels/car-wbs-KL54H369_00000_jpeg.rf.86bb1c964f0f9dbf8a019008106480e8.txt (deflated 23%)\n",
            "  adding: content/License_plate_detection/License-Plate-Detector-2/valid/labels/car-wbs-HR26DA2330_00000_jpeg.rf.40e0feba7fc45dbcdef348e5343a3a55.txt (deflated 21%)\n",
            "  adding: content/License_plate_detection/License-Plate-Detector-2/valid/labels/5cbd7465-ad12-4e6b-8eaf-d7056c3852f8___New-2018-Maruti-Suzuki-Swift-radiator-grille-600x398-jpg_jpeg.rf.735152a92576bb6cffc7a9aa1e7aca94.txt (deflated 18%)\n",
            "  adding: content/License_plate_detection/License-Plate-Detector-2/valid/labels/d16041c1-831d-4cc9-8869-68be8b6e12d7___slider-new-2-jpg_jpeg.rf.b8b52d8ac9bd18a63d637216585f42e1.txt (deflated 19%)\n",
            "  adding: content/License_plate_detection/License-Plate-Detector-2/valid/labels/car-wbs-KL12G7531_00000_jpeg.rf.e8844f56673e20bf8fbd7d4c520a1e92.txt (deflated 21%)\n",
            "  adding: content/License_plate_detection/License-Plate-Detector-2/valid/labels/51d58875-0bdc-4488-84d9-8b7ad5883863___new_Maruti-Suzuki-Ignis-Rear-view-94486-jpg_jpeg.rf.4b25b76456dbab1bbf85ae01a858005e.txt (deflated 15%)\n",
            "  adding: content/License_plate_detection/License-Plate-Detector-2/valid/labels/21cc678a-b9c5-4bbb-ace0-9e096e799632___unnamed-300x225-jpg_jpeg.rf.d6a2bad0405622020282ea6296cb0297.txt (deflated 24%)\n",
            "  adding: content/License_plate_detection/License-Plate-Detector-2/valid/labels/41209caa-2aa2-4003-b057-e0508c1d5ac9___Volkswagen-Ameo-Exterior-68165-jpg_jpeg.rf.fef9ca967c71bc3fd39091c6e6da547d.txt (deflated 14%)\n",
            "  adding: content/License_plate_detection/License-Plate-Detector-2/valid/labels/8625b831-13a1-4b7d-9466-826cd6d36c67___1304650d1414861991-number-plates-merchandise-canvas-ink-gurgaon-edit-closed-10471269_1537317779842156_5063668061078329632_n-jpg_jpeg.rf.fdc8db7ff84eda70f38b544728476848.txt (deflated 19%)\n",
            "  adding: content/License_plate_detection/License-Plate-Detector-2/valid/labels/658af519-5290-4ae5-8dd6-694bab9aa458___3e7fd381-0ae5-4421-8a70-279ee0ec1c61_848765390_1_1080x720_nissan-terrano-xl-d-plus-2014-diesel-coimbatore_jpg.rf.fe5932e67cafc5d51706afcac74d5608.txt (deflated 29%)\n",
            "  adding: content/License_plate_detection/License-Plate-Detector-2/valid/labels/72894c2b-5999-4d87-baa4-e3507548e011___3e7fd381-0ae5-4421-8a70-279ee0ec1c61_847602356_1_1080x720_nissan-terrano-xl-d-2014-diesel-bilaspur_jpg.rf.f212599625ae714518382d1e769e58de.txt (deflated 35%)\n",
            "  adding: content/License_plate_detection/License-Plate-Detector-2/valid/labels/car-wbs-WB74X7605_00000_jpeg.rf.17276e3e68fe3999cc63319ef2ef9987.txt (deflated 24%)\n",
            "  adding: content/License_plate_detection/License-Plate-Detector-2/valid/labels/ab573806-1da7-4ccf-93c8-6082e0cc15c3___1107433d1373284570-my-modded-skoda-rapid-now-166-bhp-351-nm-119-whp-per-tonne-hdr_00005_normal-jpg_jpeg.rf.4ada3ae8248243329ffcf4d667f708ff.txt (deflated 18%)\n",
            "  adding: content/License_plate_detection/License-Plate-Detector-2/valid/labels/bb767d81-73b4-4c47-b619-7efde490b199___3e7fd381-0ae5-4421-8a70-279ee0ec1c61_oem-name0_jpg.rf.69a3008588d3d94b591846fd0521fc24.txt (deflated 27%)\n",
            "  adding: content/License_plate_detection/License-Plate-Detector-2/valid/labels/319f51dc-9db2-4977-a43d-09561cdd54ab___1415806d1442489743t-raging-red-rover-r3-my-mahindra-scorpio-s10-4x4-nudge-guard-jpg_jpeg.rf.79df3b1fb6496d00672eb881b64b643b.txt (deflated 29%)\n",
            "  adding: content/License_plate_detection/License-Plate-Detector-2/valid/labels/504e7c29-e1dc-48c9-ace6-738cf934e368___2017-skoda-octavia-rs-12-jpg_jpeg.rf.2fdfa2512fc47c6b423a378f18dc0964.txt (deflated 24%)\n",
            "  adding: content/License_plate_detection/License-Plate-Detector-2/valid/labels/aa221c22-6600-4f05-9eb9-3676ef0b22e0___69590d1226627898-high-security-number-plates-india-d1-jpg_jpeg.rf.a965e2e8fe6cd0e7211ec67663d8a2e5.txt (deflated 25%)\n",
            "  adding: content/License_plate_detection/License-Plate-Detector-2/valid/labels/car-wbs-KL60N5344_00001_jpeg.rf.b88b6ac5436699b42d69c2d23cb71edc.txt (deflated 17%)\n",
            "  adding: content/License_plate_detection/License-Plate-Detector-2/valid/labels/car-wbs-TN21AT0480_00000_jpg.rf.9e3e73180d81d00edf5343a7a1d909de.txt (deflated 25%)\n",
            "  adding: content/License_plate_detection/License-Plate-Detector-2/valid/labels/car-wbs-TN74F3339_00000_jpeg.rf.b7f31611eaddcb446ceab5bd8d8291a2.txt (deflated 14%)\n",
            "  adding: content/License_plate_detection/License-Plate-Detector-2/valid/labels/car-wbs-TN52U1580_00000_jpeg.rf.28e41c778bac23d8b39ea6720e8f0a6a.txt (deflated 22%)\n",
            "  adding: content/License_plate_detection/License-Plate-Detector-2/valid/labels/car-wbs-MH04DW8351_00000_jpeg.rf.75dadd59be2672165e6ff748d401d46d.txt (deflated 19%)\n",
            "  adding: content/License_plate_detection/License-Plate-Detector-2/valid/labels/car-wbs-HR26CE1485_00000_png.rf.b1fbdb0acf45960fe4d45905813d978a.txt (deflated 18%)\n",
            "  adding: content/License_plate_detection/License-Plate-Detector-2/valid/labels/8b5431f9-7d6f-43ed-853d-350ca058ff2a___3e7fd381-0ae5-4421-8a70-279ee0ec1c61_2014-Nissan-Terrano1_jpg.rf.7d64aabc44d0e90be73800da5bbd312f.txt (deflated 25%)\n",
            "  adding: content/License_plate_detection/License-Plate-Detector-2/valid/labels/78a85f8b-de01-4036-ae91-2a1fa48bcf9f___new_995920d1349421647-cappuccino-beige-czech-tank-here-my-skoda-laura-2-0-elegance-mt-20121005_121433-jpg_jpeg.rf.99bf6076724a977a89593fc406190456.txt (deflated 21%)\n",
            "  adding: content/License_plate_detection/License-Plate-Detector-2/valid/labels/4ed4509a-18ed-44cd-bfe3-b1cce982e365___3e7fd381-0ae5-4421-8a70-279ee0ec1c61_Nissan-Terrano-3_jpg.rf.f3f0ae9de4a9fed796450347365d1040.txt (deflated 27%)\n",
            "  adding: content/License_plate_detection/License-Plate-Detector-2/valid/labels/ad1f5cbc-7545-407e-8974-a03ddb7b7779___833542696_1_1080x720_mahindra-scorpio-vlx-4wd-airbag-bs-iv-2012-diesel-jpg_jpeg.rf.6dc04124529fc8bb9ddc635d42ab2597.txt (deflated 19%)\n",
            "  adding: content/License_plate_detection/License-Plate-Detector-2/valid/labels/e663fa35-ce3c-401d-8451-30edd236b3e4___maxresdefault2-jpg_jpeg.rf.b515d42533df5f3924d1894b43361661.txt (deflated 24%)\n",
            "  adding: content/License_plate_detection/License-Plate-Detector-2/valid/labels/d5ddd1e6-56ca-4991-994e-cb78fe836a47___3e7fd381-0ae5-4421-8a70-279ee0ec1c61_2013-Nissan-Terrano-Review_jpg.rf.254e741eea955d4aaaa3c196302f6154.txt (deflated 28%)\n",
            "  adding: content/License_plate_detection/License-Plate-Detector-2/valid/labels/65e2825e-943f-48a3-a4e2-7e81d649ace2___3e7fd381-0ae5-4421-8a70-279ee0ec1c61_nissan-terrano-L_jpg.rf.2ea4f21708cf161e364cd553bedf2b7a.txt (deflated 29%)\n",
            "  adding: content/License_plate_detection/License-Plate-Detector-2/valid/labels/car-wbs-MH20BN3525_00001_jpeg.rf.72bce085f3c3705a5ce33d138ad771f3.txt (deflated 12%)\n",
            "  adding: content/License_plate_detection/License-Plate-Detector-2/valid/labels/car-wbs-KL10AV6342_00001_jpg.rf.778346cf0248b12cb9c3a11fa609e2d4.txt (deflated 15%)\n",
            "  adding: content/License_plate_detection/License-Plate-Detector-2/valid/labels/c2feb2b7-fbb3-4e1e-ad48-cc8112a1ab3f___Maruti_R3_On_Test-jpg_jpeg.rf.37458d19b45c3b6e518ed2560044af58.txt (deflated 14%)\n",
            "  adding: content/License_plate_detection/License-Plate-Detector-2/valid/labels/car-wbs-KL55R2473_00000_jpeg.rf.6b03c943d58cfcfbff3815c7ff1076d1.txt (deflated 28%)\n",
            "  adding: content/License_plate_detection/License-Plate-Detector-2/valid/labels/11186c4c-5f17-49b1-af37-a138a1e53794___12837944763_e7c6c6381a_z-jpg_jpeg.rf.bf65f28f4f16ab9ad655d6000ab4a692.txt (deflated 23%)\n",
            "  adding: content/License_plate_detection/License-Plate-Detector-2/valid/labels/car-wbs-TN07BV5200_00000_jpeg.rf.f11fcf93e4487aa28b770036c3f4beed.txt (deflated 28%)\n",
            "  adding: content/License_plate_detection/License-Plate-Detector-2/valid/labels/car-wbs-GJ05JH2501_00000_jpg.rf.bc43815c993bc205ed9c563fecd5ebfd.txt (deflated 20%)\n",
            "  adding: content/License_plate_detection/License-Plate-Detector-2/valid/labels/car-wbs-TN74AH1413_00000_jpeg.rf.d887013193a431442b19632526d2bafd.txt (deflated 14%)\n",
            "  adding: content/License_plate_detection/License-Plate-Detector-2/valid/labels/28574c06-ac11-422e-864f-a51b726bb9ba___3e7fd381-0ae5-4421-8a70-279ee0ec1c61_hqdefault0_jpg.rf.b554b63105926e1aa7a6bb4aa40af08f.txt (deflated 14%)\n",
            "  adding: content/License_plate_detection/License-Plate-Detector-2/valid/labels/3fd93f90-f778-4f14-8b0f-67dd0be88a06___561644d1308248087-beware-fake-registration-numbers-imported-cars-proof-pg-3-257491_10150223034216705_685851704_7325894_6-Copy_jpeg.rf.fa1678e9b32023b96e8c3c60034b4e57.txt (deflated 25%)\n",
            "  adding: content/License_plate_detection/License-Plate-Detector-2/valid/labels/car-wbs-TN21AU1153_00000_png.rf.a985b2c64d939ffebe266358fef3dbb6.txt (deflated 20%)\n",
            "  adding: content/License_plate_detection/License-Plate-Detector-2/valid/labels/dfebb432-82cd-4154-b919-0d8be2c0d85a___5e4697c6f639f3f341b2feb170d72795af3fc998-jpg_jpeg.rf.c72b3dff7c6be6ff8f9a944b8d6efa1e.txt (deflated 21%)\n",
            "  adding: content/License_plate_detection/License-Plate-Detector-2/valid/labels/8187c22d-5fa4-4976-9c00-80b2ab66b97d___1290890d1411349145-take-look-number-plate-img_20140903_093600_hdr-jpg_jpeg.rf.e58de2a9abc8d8098d605ed9d090575b.txt (deflated 21%)\n",
            "  adding: content/License_plate_detection/License-Plate-Detector-2/valid/labels/car-wbs-TN21BZ0768_00001_png.rf.487d48787bbab3a0059b9de5fcfaeffc.txt (deflated 15%)\n",
            "  adding: content/License_plate_detection/License-Plate-Detector-2/valid/labels/97846647-16f1-4ee2-b260-60774a21cc74___new_Maruti-Suzuki-Swift-Dzire-1-jpg_jpeg.rf.5fdb1402922beb2c92039ae91ee97dc7.txt (deflated 16%)\n",
            "  adding: content/License_plate_detection/License-Plate-Detector-2/valid/labels/ec4bde57-11dd-4d59-96ae-b5d3b28afda5___Maruti-Suzuki-Celerio-Back-Number-Plates-Design-jpg_jpeg.rf.4b0991d6975c731d000d337d43a7dd3e.txt (deflated 18%)\n",
            "  adding: content/License_plate_detection/License-Plate-Detector-2/valid/labels/581e2224-3640-4bad-9d90-c2076a9f64f4___617609-jpg_jpeg.rf.baafeac2e1237815ddb9ef1bd6a0da8e.txt (deflated 18%)\n",
            "  adding: content/License_plate_detection/License-Plate-Detector-2/valid/labels/20dd73fd-9e05-4bdc-b380-d8148b194ae7___Maruti-Swift-Number-Plates-Design-jpg_jpeg.rf.0b896b81a5e13bd2b8d0e560ed1a89db.txt (deflated 14%)\n",
            "  adding: content/License_plate_detection/License-Plate-Detector-2/valid/labels/c03a7106-1fb9-471f-bbb0-2e8f4a29759a___38e7b1109eb976088e1df2f14ac4c08c-jpg_jpeg.rf.20a2e1a32a2c24a97cca3e112249a86b.txt (deflated 27%)\n",
            "  adding: content/License_plate_detection/License-Plate-Detector-2/valid/labels/car-wbs-MH20BQ20_00000_png.rf.913cf8e18ca482f69ecf506732e70093.txt (deflated 19%)\n",
            "  adding: content/License_plate_detection/License-Plate-Detector-2/valid/labels/car-wbs-PB08CX2959_00000_jpeg.rf.6ee1fe33dae1a34d9011f84f8ef06b26.txt (deflated 19%)\n",
            "  adding: content/License_plate_detection/License-Plate-Detector-2/valid/labels/db4f467d-2d9e-4567-ab68-fce4a8689562___maxresdefault7-jpg_jpeg.rf.fe55551fcd5d034db7e26faadcaa1c08.txt (deflated 28%)\n",
            "  adding: content/License_plate_detection/License-Plate-Detector-2/valid/labels/car-wbs-MH14DX9937_00000_png.rf.3c6d5b89e5135aa217eefc6996613eac.txt (deflated 16%)\n",
            "  adding: content/License_plate_detection/License-Plate-Detector-2/valid/labels/car-wbs-MH12DE1433_00000_png.rf.067183aba983d3d8b92ed3ec32b0b2f5.txt (deflated 16%)\n",
            "  adding: content/License_plate_detection/License-Plate-Detector-2/valid/labels/57e92915-935a-4a91-91f8-f3ad70040a6e___3e7fd381-0ae5-4421-8a70-279ee0ec1c61_847071203_1_1080x720_nissan-terrano-xv-d-thp-premium-110-ps-2015-diesel-ghaziabad_jpg.rf.5483736b6e7cc3fb8043a9fe25748d1e.txt (deflated 19%)\n",
            "  adding: content/License_plate_detection/License-Plate-Detector-2/valid/labels/88294212-f11c-46a7-a91a-04c9da19efa6___DSC_8221-L-jpg_jpeg.rf.094854b0031a57dcee88c32801473b05.txt (deflated 20%)\n",
            "  adding: content/License_plate_detection/License-Plate-Detector-2/valid/labels/car-wbs-KL53E964_00000_jpeg.rf.2e80d8b79e6dcb12070f143ee3de2693.txt (deflated 22%)\n",
            "  adding: content/License_plate_detection/License-Plate-Detector-2/valid/labels/6f680368-4a15-464a-b314-7f9cd0f3db11___91852d1232463201-high-security-registration-plates-hsrp-india-num1-jpg_jpeg.rf.19e747c36f05bd9a93ddae28ca990566.txt (deflated 27%)\n",
            "  adding: content/License_plate_detection/License-Plate-Detector-2/valid/labels/40204d5c-c847-4437-90db-3e2d05a27761___33-jpg_jpeg.rf.603734d9f755be2e21835ef593ba88b4.txt (deflated 24%)\n",
            "  adding: content/License_plate_detection/License-Plate-Detector-2/valid/labels/ca18d733-ec53-49d9-87aa-a9f6c52cc7bb___VW-Polo-GT-TSI-badge-on-the-grille-jpg_jpeg.rf.523f3d2142c80b659fab4cf58f34ffae.txt (deflated 12%)\n",
            "  adding: content/License_plate_detection/License-Plate-Detector-2/valid/labels/acd85f93-544d-494e-b2f3-2d445937bb0b___new_1431956d1446017445-number-plates-merchandise-canvas-ink-gurgaon-edit-closed-thumb_img_4418_1024-jpg_jpeg.rf.6eb07d6615cc683088d5f39839c661d6.txt (deflated 15%)\n",
            "  adding: content/License_plate_detection/License-Plate-Detector-2/valid/labels/b4eb91cd-3e77-40c2-bbe6-13d42f2ea4ba___INNOVA_Euro_Number_Plates-jpg_jpeg.rf.affd6430dd73b5f383703b75d2c6ff4a.txt (deflated 16%)\n",
            "  adding: content/License_plate_detection/License-Plate-Detector-2/valid/labels/car-wbs-KL10AW2111_00000_jpeg.rf.f1afcb5b0e571f193569e6c92cbb4be0.txt (deflated 17%)\n",
            "  adding: content/License_plate_detection/License-Plate-Detector-2/valid/labels/fac9f4e6-c4b9-4872-86da-79d58ea2adc5___5273-jpg-Copy_jpeg.rf.ff8d6e68129cbe43d05c39d5a4329bea.txt (deflated 20%)\n",
            "  adding: content/License_plate_detection/License-Plate-Detector-2/valid/labels/car-wbs-MH20DV2362_00000_jpeg.rf.4f728e36d7b2abb9b69054b197ad7015.txt (deflated 23%)\n",
            "  adding: content/License_plate_detection/License-Plate-Detector-2/valid/labels/07aaab79-71ee-4ea3-a9e6-640191183947___3e7fd381-0ae5-4421-8a70-279ee0ec1c61_1208484d1392541449-nissan-terrano-official-review-img_20140215_181708_jpg.rf.fad8b8fc2a6d8fa52ca6e6cc237372fb.txt (deflated 18%)\n",
            "  adding: content/License_plate_detection/License-Plate-Detector-2/valid/labels/074d85b8-42ec-4d17-9b8e-9e51ae060243___hqdefault-jpg_jpeg.rf.62f690c2e898c5525ab5a9e7de1d88ef.txt (deflated 16%)\n",
            "  adding: content/License_plate_detection/License-Plate-Detector-2/valid/labels/c06d4d42-591f-429e-92b4-20e701f89c14___2014-VW-Polo-facelift-spied-India-rear-jpg_jpeg.rf.78fe7c6eb2c1084ac66bf3c857399aac.txt (deflated 28%)\n",
            "  adding: content/License_plate_detection/License-Plate-Detector-2/valid/images/ (stored 0%)\n",
            "  adding: content/License_plate_detection/License-Plate-Detector-2/valid/images/504e7c29-e1dc-48c9-ace6-738cf934e368___2017-skoda-octavia-rs-12-jpg_jpeg.rf.2fdfa2512fc47c6b423a378f18dc0964.jpg (deflated 0%)\n",
            "  adding: content/License_plate_detection/License-Plate-Detector-2/valid/images/8187c22d-5fa4-4976-9c00-80b2ab66b97d___1290890d1411349145-take-look-number-plate-img_20140903_093600_hdr-jpg_jpeg.rf.e58de2a9abc8d8098d605ed9d090575b.jpg (deflated 0%)\n",
            "  adding: content/License_plate_detection/License-Plate-Detector-2/valid/images/8b5431f9-7d6f-43ed-853d-350ca058ff2a___3e7fd381-0ae5-4421-8a70-279ee0ec1c61_2014-Nissan-Terrano1_jpg.rf.7d64aabc44d0e90be73800da5bbd312f.jpg (deflated 0%)\n",
            "  adding: content/License_plate_detection/License-Plate-Detector-2/valid/images/125b5cda-9691-47aa-8e57-f6d8a8537d83___fancy_number_plates_in_india-jpg_jpeg.rf.a40734fa59f2a8e926c543c6d7ba8756.jpg (deflated 2%)\n",
            "  adding: content/License_plate_detection/License-Plate-Detector-2/valid/images/d16041c1-831d-4cc9-8869-68be8b6e12d7___slider-new-2-jpg_jpeg.rf.b8b52d8ac9bd18a63d637216585f42e1.jpg (deflated 1%)\n",
            "  adding: content/License_plate_detection/License-Plate-Detector-2/valid/images/e663fa35-ce3c-401d-8451-30edd236b3e4___maxresdefault2-jpg_jpeg.rf.b515d42533df5f3924d1894b43361661.jpg (deflated 0%)\n",
            "  adding: content/License_plate_detection/License-Plate-Detector-2/valid/images/car-wbs-MH20DV2362_00000_jpeg.rf.4f728e36d7b2abb9b69054b197ad7015.jpg (deflated 1%)\n",
            "  adding: content/License_plate_detection/License-Plate-Detector-2/valid/images/car-wbs-TN66U8215_00000_jpeg.rf.5832c6c68b508b46d72c8f3d20f31d8f.jpg (deflated 2%)\n",
            "  adding: content/License_plate_detection/License-Plate-Detector-2/valid/images/db4f467d-2d9e-4567-ab68-fce4a8689562___maxresdefault7-jpg_jpeg.rf.fe55551fcd5d034db7e26faadcaa1c08.jpg (deflated 0%)\n",
            "  adding: content/License_plate_detection/License-Plate-Detector-2/valid/images/65e2825e-943f-48a3-a4e2-7e81d649ace2___3e7fd381-0ae5-4421-8a70-279ee0ec1c61_nissan-terrano-L_jpg.rf.2ea4f21708cf161e364cd553bedf2b7a.jpg (deflated 1%)\n",
            "  adding: content/License_plate_detection/License-Plate-Detector-2/valid/images/fac9f4e6-c4b9-4872-86da-79d58ea2adc5___5273-jpg-Copy_jpeg.rf.ff8d6e68129cbe43d05c39d5a4329bea.jpg (deflated 1%)\n",
            "  adding: content/License_plate_detection/License-Plate-Detector-2/valid/images/21cc678a-b9c5-4bbb-ace0-9e096e799632___unnamed-300x225-jpg_jpeg.rf.d6a2bad0405622020282ea6296cb0297.jpg (deflated 1%)\n",
            "  adding: content/License_plate_detection/License-Plate-Detector-2/valid/images/8625b831-13a1-4b7d-9466-826cd6d36c67___1304650d1414861991-number-plates-merchandise-canvas-ink-gurgaon-edit-closed-10471269_1537317779842156_5063668061078329632_n-jpg_jpeg.rf.fdc8db7ff84eda70f38b544728476848.jpg (deflated 1%)\n",
            "  adding: content/License_plate_detection/License-Plate-Detector-2/valid/images/97846647-16f1-4ee2-b260-60774a21cc74___new_Maruti-Suzuki-Swift-Dzire-1-jpg_jpeg.rf.5fdb1402922beb2c92039ae91ee97dc7.jpg (deflated 0%)\n",
            "  adding: content/License_plate_detection/License-Plate-Detector-2/valid/images/car-wbs-MH04DW8351_00000_jpeg.rf.75dadd59be2672165e6ff748d401d46d.jpg (deflated 0%)\n",
            "  adding: content/License_plate_detection/License-Plate-Detector-2/valid/images/c06d4d42-591f-429e-92b4-20e701f89c14___2014-VW-Polo-facelift-spied-India-rear-jpg_jpeg.rf.78fe7c6eb2c1084ac66bf3c857399aac.jpg (deflated 1%)\n",
            "  adding: content/License_plate_detection/License-Plate-Detector-2/valid/images/ec4bde57-11dd-4d59-96ae-b5d3b28afda5___Maruti-Suzuki-Celerio-Back-Number-Plates-Design-jpg_jpeg.rf.4b0991d6975c731d000d337d43a7dd3e.jpg (deflated 1%)\n",
            "  adding: content/License_plate_detection/License-Plate-Detector-2/valid/images/aa221c22-6600-4f05-9eb9-3676ef0b22e0___69590d1226627898-high-security-number-plates-india-d1-jpg_jpeg.rf.a965e2e8fe6cd0e7211ec67663d8a2e5.jpg (deflated 1%)\n",
            "  adding: content/License_plate_detection/License-Plate-Detector-2/valid/images/car-wbs-KL60N5344_00001_jpeg.rf.b88b6ac5436699b42d69c2d23cb71edc.jpg (deflated 0%)\n",
            "  adding: content/License_plate_detection/License-Plate-Detector-2/valid/images/car-wbs-TN21AU1153_00000_png.rf.a985b2c64d939ffebe266358fef3dbb6.jpg (deflated 1%)\n",
            "  adding: content/License_plate_detection/License-Plate-Detector-2/valid/images/car-wbs-KL10AV6342_00001_jpg.rf.778346cf0248b12cb9c3a11fa609e2d4.jpg (deflated 1%)\n",
            "  adding: content/License_plate_detection/License-Plate-Detector-2/valid/images/074d85b8-42ec-4d17-9b8e-9e51ae060243___hqdefault-jpg_jpeg.rf.62f690c2e898c5525ab5a9e7de1d88ef.jpg (deflated 7%)\n",
            "  adding: content/License_plate_detection/License-Plate-Detector-2/valid/images/658af519-5290-4ae5-8dd6-694bab9aa458___3e7fd381-0ae5-4421-8a70-279ee0ec1c61_848765390_1_1080x720_nissan-terrano-xl-d-plus-2014-diesel-coimbatore_jpg.rf.fe5932e67cafc5d51706afcac74d5608.jpg (deflated 1%)\n",
            "  adding: content/License_plate_detection/License-Plate-Detector-2/valid/images/6f680368-4a15-464a-b314-7f9cd0f3db11___91852d1232463201-high-security-registration-plates-hsrp-india-num1-jpg_jpeg.rf.19e747c36f05bd9a93ddae28ca990566.jpg (deflated 0%)\n",
            "  adding: content/License_plate_detection/License-Plate-Detector-2/valid/images/bb767d81-73b4-4c47-b619-7efde490b199___3e7fd381-0ae5-4421-8a70-279ee0ec1c61_oem-name0_jpg.rf.69a3008588d3d94b591846fd0521fc24.jpg (deflated 0%)\n",
            "  adding: content/License_plate_detection/License-Plate-Detector-2/valid/images/a508ecb5-bfdd-46ba-8640-bb827b7c089c___Volkswagen-Polo-jpg_jpeg.rf.3c9c98716c7c67ecba7b00705bb8208f.jpg (deflated 0%)\n",
            "  adding: content/License_plate_detection/License-Plate-Detector-2/valid/images/d5ddd1e6-56ca-4991-994e-cb78fe836a47___3e7fd381-0ae5-4421-8a70-279ee0ec1c61_2013-Nissan-Terrano-Review_jpg.rf.254e741eea955d4aaaa3c196302f6154.jpg (deflated 1%)\n",
            "  adding: content/License_plate_detection/License-Plate-Detector-2/valid/images/car-wbs-KL10AW2111_00000_jpeg.rf.f1afcb5b0e571f193569e6c92cbb4be0.jpg (deflated 1%)\n",
            "  adding: content/License_plate_detection/License-Plate-Detector-2/valid/images/20dd73fd-9e05-4bdc-b380-d8148b194ae7___Maruti-Swift-Number-Plates-Design-jpg_jpeg.rf.0b896b81a5e13bd2b8d0e560ed1a89db.jpg (deflated 0%)\n",
            "  adding: content/License_plate_detection/License-Plate-Detector-2/valid/images/11186c4c-5f17-49b1-af37-a138a1e53794___12837944763_e7c6c6381a_z-jpg_jpeg.rf.bf65f28f4f16ab9ad655d6000ab4a692.jpg (deflated 1%)\n",
            "  adding: content/License_plate_detection/License-Plate-Detector-2/valid/images/car-wbs-MH14DX9937_00000_png.rf.3c6d5b89e5135aa217eefc6996613eac.jpg (deflated 0%)\n",
            "  adding: content/License_plate_detection/License-Plate-Detector-2/valid/images/40204d5c-c847-4437-90db-3e2d05a27761___33-jpg_jpeg.rf.603734d9f755be2e21835ef593ba88b4.jpg (deflated 0%)\n",
            "  adding: content/License_plate_detection/License-Plate-Detector-2/valid/images/car-wbs-KL55R2473_00000_jpeg.rf.6b03c943d58cfcfbff3815c7ff1076d1.jpg (deflated 0%)\n",
            "  adding: content/License_plate_detection/License-Plate-Detector-2/valid/images/c30a1535-9d8f-465e-a7f4-aa726f19f0b1___new-maruti-alto-k10-2_625x300_41414071192-jpg_jpeg.rf.bb294ea747a4fad7b57a9807d8f2b462.jpg (deflated 0%)\n",
            "  adding: content/License_plate_detection/License-Plate-Detector-2/valid/images/car-wbs-WB74X7605_00000_jpeg.rf.17276e3e68fe3999cc63319ef2ef9987.jpg (deflated 1%)\n",
            "  adding: content/License_plate_detection/License-Plate-Detector-2/valid/images/car-wbs-HR26DA2330_00000_jpeg.rf.40e0feba7fc45dbcdef348e5343a3a55.jpg (deflated 0%)\n",
            "  adding: content/License_plate_detection/License-Plate-Detector-2/valid/images/0369b20e-b432-4409-90f9-2420877aa386___8151536c79159a1557421da5f27f9f0e-jpg_jpeg.rf.14d4435a474828950e605b4b08587a42.jpg (deflated 1%)\n",
            "  adding: content/License_plate_detection/License-Plate-Detector-2/valid/images/3fd93f90-f778-4f14-8b0f-67dd0be88a06___561644d1308248087-beware-fake-registration-numbers-imported-cars-proof-pg-3-257491_10150223034216705_685851704_7325894_6-Copy_jpeg.rf.fa1678e9b32023b96e8c3c60034b4e57.jpg (deflated 0%)\n",
            "  adding: content/License_plate_detection/License-Plate-Detector-2/valid/images/07aaab79-71ee-4ea3-a9e6-640191183947___3e7fd381-0ae5-4421-8a70-279ee0ec1c61_1208484d1392541449-nissan-terrano-official-review-img_20140215_181708_jpg.rf.fad8b8fc2a6d8fa52ca6e6cc237372fb.jpg (deflated 1%)\n",
            "  adding: content/License_plate_detection/License-Plate-Detector-2/valid/images/94c5a151-24b5-493c-a900-017a4353b00c___3e7fd381-0ae5-4421-8a70-279ee0ec1c61_Tata-Tiago-Front-Number-Plates-Design_jpg.rf.3ef566a36779ea92a6daec94088ef665.jpg (deflated 0%)\n",
            "  adding: content/License_plate_detection/License-Plate-Detector-2/valid/images/c03a7106-1fb9-471f-bbb0-2e8f4a29759a___38e7b1109eb976088e1df2f14ac4c08c-jpg_jpeg.rf.20a2e1a32a2c24a97cca3e112249a86b.jpg (deflated 0%)\n",
            "  adding: content/License_plate_detection/License-Plate-Detector-2/valid/images/5cbd7465-ad12-4e6b-8eaf-d7056c3852f8___New-2018-Maruti-Suzuki-Swift-radiator-grille-600x398-jpg_jpeg.rf.735152a92576bb6cffc7a9aa1e7aca94.jpg (deflated 1%)\n",
            "  adding: content/License_plate_detection/License-Plate-Detector-2/valid/images/0a0d1748-48cd-4114-90cb-b5baf0b3cbe4___3e7fd381-0ae5-4421-8a70-279ee0ec1c61_147274518_15141875973_large_jpg.rf.2fb8dbf353b1695ebeabbdfa1d1cc2a1.jpg (deflated 0%)\n",
            "  adding: content/License_plate_detection/License-Plate-Detector-2/valid/images/28fc10e3-681b-4086-9c15-28934ae86f7e___3e7fd381-0ae5-4421-8a70-279ee0ec1c61_nissan-terrano-amt_827x510_71478504527_jpg.rf.bd62d356e18a5a27986f7de859f99d2f.jpg (deflated 0%)\n",
            "  adding: content/License_plate_detection/License-Plate-Detector-2/valid/images/car-wbs-KL12G7531_00000_jpeg.rf.e8844f56673e20bf8fbd7d4c520a1e92.jpg (deflated 0%)\n",
            "  adding: content/License_plate_detection/License-Plate-Detector-2/valid/images/78a85f8b-de01-4036-ae91-2a1fa48bcf9f___new_995920d1349421647-cappuccino-beige-czech-tank-here-my-skoda-laura-2-0-elegance-mt-20121005_121433-jpg_jpeg.rf.99bf6076724a977a89593fc406190456.jpg (deflated 0%)\n",
            "  adding: content/License_plate_detection/License-Plate-Detector-2/valid/images/0c9ebe94-827d-4c74-9950-6816e70d1bab___IMG_8883-jpg_jpeg.rf.e6ffade852ebad112a07b01c037c4822.jpg (deflated 1%)\n",
            "  adding: content/License_plate_detection/License-Plate-Detector-2/valid/images/88294212-f11c-46a7-a91a-04c9da19efa6___DSC_8221-L-jpg_jpeg.rf.094854b0031a57dcee88c32801473b05.jpg (deflated 0%)\n",
            "  adding: content/License_plate_detection/License-Plate-Detector-2/valid/images/car-wbs-KL54H369_00000_jpeg.rf.86bb1c964f0f9dbf8a019008106480e8.jpg (deflated 1%)\n",
            "  adding: content/License_plate_detection/License-Plate-Detector-2/valid/images/acd85f93-544d-494e-b2f3-2d445937bb0b___new_1431956d1446017445-number-plates-merchandise-canvas-ink-gurgaon-edit-closed-thumb_img_4418_1024-jpg_jpeg.rf.6eb07d6615cc683088d5f39839c661d6.jpg (deflated 0%)\n",
            "  adding: content/License_plate_detection/License-Plate-Detector-2/valid/images/car-wbs-MH20EE0943_00000_jpeg.rf.9755cc9b6cbe77ad2817113dd56559d8.jpg (deflated 1%)\n",
            "  adding: content/License_plate_detection/License-Plate-Detector-2/valid/images/car-wbs-MH20BQ20_00000_png.rf.913cf8e18ca482f69ecf506732e70093.jpg (deflated 1%)\n",
            "  adding: content/License_plate_detection/License-Plate-Detector-2/valid/images/28574c06-ac11-422e-864f-a51b726bb9ba___3e7fd381-0ae5-4421-8a70-279ee0ec1c61_hqdefault0_jpg.rf.b554b63105926e1aa7a6bb4aa40af08f.jpg (deflated 3%)\n",
            "  adding: content/License_plate_detection/License-Plate-Detector-2/valid/images/car-wbs-TN52U1580_00000_jpeg.rf.28e41c778bac23d8b39ea6720e8f0a6a.jpg (deflated 1%)\n",
            "  adding: content/License_plate_detection/License-Plate-Detector-2/valid/images/ed9cd3b2-76a2-4cc8-9e4e-76d50ad1ff68___maruti-suzuki-wagon-r-hood-open-view-jpg_jpeg.rf.c6da8467918bd05a87b3e82c50ebfbaa.jpg (deflated 1%)\n",
            "  adding: content/License_plate_detection/License-Plate-Detector-2/valid/images/car-wbs-MH20BN3525_00001_jpeg.rf.72bce085f3c3705a5ce33d138ad771f3.jpg (deflated 1%)\n",
            "  adding: content/License_plate_detection/License-Plate-Detector-2/valid/images/581e2224-3640-4bad-9d90-c2076a9f64f4___617609-jpg_jpeg.rf.baafeac2e1237815ddb9ef1bd6a0da8e.jpg (deflated 0%)\n",
            "  adding: content/License_plate_detection/License-Plate-Detector-2/valid/images/car-wbs-TN21BZ0768_00001_png.rf.487d48787bbab3a0059b9de5fcfaeffc.jpg (deflated 1%)\n",
            "  adding: content/License_plate_detection/License-Plate-Detector-2/valid/images/4ed4509a-18ed-44cd-bfe3-b1cce982e365___3e7fd381-0ae5-4421-8a70-279ee0ec1c61_Nissan-Terrano-3_jpg.rf.f3f0ae9de4a9fed796450347365d1040.jpg (deflated 0%)\n",
            "  adding: content/License_plate_detection/License-Plate-Detector-2/valid/images/319f51dc-9db2-4977-a43d-09561cdd54ab___1415806d1442489743t-raging-red-rover-r3-my-mahindra-scorpio-s10-4x4-nudge-guard-jpg_jpeg.rf.79df3b1fb6496d00672eb881b64b643b.jpg (deflated 1%)\n",
            "  adding: content/License_plate_detection/License-Plate-Detector-2/valid/images/car-wbs-MH12DE1433_00000_png.rf.067183aba983d3d8b92ed3ec32b0b2f5.jpg (deflated 1%)\n",
            "  adding: content/License_plate_detection/License-Plate-Detector-2/valid/images/72894c2b-5999-4d87-baa4-e3507548e011___3e7fd381-0ae5-4421-8a70-279ee0ec1c61_847602356_1_1080x720_nissan-terrano-xl-d-2014-diesel-bilaspur_jpg.rf.f212599625ae714518382d1e769e58de.jpg (deflated 0%)\n",
            "  adding: content/License_plate_detection/License-Plate-Detector-2/valid/images/car-wbs-TN21AT0480_00000_jpg.rf.9e3e73180d81d00edf5343a7a1d909de.jpg (deflated 0%)\n",
            "  adding: content/License_plate_detection/License-Plate-Detector-2/valid/images/c2feb2b7-fbb3-4e1e-ad48-cc8112a1ab3f___Maruti_R3_On_Test-jpg_jpeg.rf.37458d19b45c3b6e518ed2560044af58.jpg (deflated 0%)\n",
            "  adding: content/License_plate_detection/License-Plate-Detector-2/valid/images/car-wbs-GJ05JH2501_00000_jpg.rf.bc43815c993bc205ed9c563fecd5ebfd.jpg (deflated 1%)\n",
            "  adding: content/License_plate_detection/License-Plate-Detector-2/valid/images/car-wbs-KL53E964_00000_jpeg.rf.2e80d8b79e6dcb12070f143ee3de2693.jpg (deflated 0%)\n",
            "  adding: content/License_plate_detection/License-Plate-Detector-2/valid/images/car-wbs-PB08CX2959_00000_jpeg.rf.6ee1fe33dae1a34d9011f84f8ef06b26.jpg (deflated 0%)\n",
            "  adding: content/License_plate_detection/License-Plate-Detector-2/valid/images/57e92915-935a-4a91-91f8-f3ad70040a6e___3e7fd381-0ae5-4421-8a70-279ee0ec1c61_847071203_1_1080x720_nissan-terrano-xv-d-thp-premium-110-ps-2015-diesel-ghaziabad_jpg.rf.5483736b6e7cc3fb8043a9fe25748d1e.jpg (deflated 0%)\n",
            "  adding: content/License_plate_detection/License-Plate-Detector-2/valid/images/346a6946-ae0a-4b3f-b094-d971124b2064___banner_3_png.rf.57850ce053fcc2369b5e17374693fa84.jpg (deflated 10%)\n",
            "  adding: content/License_plate_detection/License-Plate-Detector-2/valid/images/ad1f5cbc-7545-407e-8974-a03ddb7b7779___833542696_1_1080x720_mahindra-scorpio-vlx-4wd-airbag-bs-iv-2012-diesel-jpg_jpeg.rf.6dc04124529fc8bb9ddc635d42ab2597.jpg (deflated 0%)\n",
            "  adding: content/License_plate_detection/License-Plate-Detector-2/valid/images/51d58875-0bdc-4488-84d9-8b7ad5883863___new_Maruti-Suzuki-Ignis-Rear-view-94486-jpg_jpeg.rf.4b25b76456dbab1bbf85ae01a858005e.jpg (deflated 0%)\n",
            "  adding: content/License_plate_detection/License-Plate-Detector-2/valid/images/car-wbs-TN74F3339_00000_jpeg.rf.b7f31611eaddcb446ceab5bd8d8291a2.jpg (deflated 1%)\n",
            "  adding: content/License_plate_detection/License-Plate-Detector-2/valid/images/dfebb432-82cd-4154-b919-0d8be2c0d85a___5e4697c6f639f3f341b2feb170d72795af3fc998-jpg_jpeg.rf.c72b3dff7c6be6ff8f9a944b8d6efa1e.jpg (deflated 0%)\n",
            "  adding: content/License_plate_detection/License-Plate-Detector-2/valid/images/b4eb91cd-3e77-40c2-bbe6-13d42f2ea4ba___INNOVA_Euro_Number_Plates-jpg_jpeg.rf.affd6430dd73b5f383703b75d2c6ff4a.jpg (deflated 1%)\n",
            "  adding: content/License_plate_detection/License-Plate-Detector-2/valid/images/ca18d733-ec53-49d9-87aa-a9f6c52cc7bb___VW-Polo-GT-TSI-badge-on-the-grille-jpg_jpeg.rf.523f3d2142c80b659fab4cf58f34ffae.jpg (deflated 1%)\n",
            "  adding: content/License_plate_detection/License-Plate-Detector-2/valid/images/ab573806-1da7-4ccf-93c8-6082e0cc15c3___1107433d1373284570-my-modded-skoda-rapid-now-166-bhp-351-nm-119-whp-per-tonne-hdr_00005_normal-jpg_jpeg.rf.4ada3ae8248243329ffcf4d667f708ff.jpg (deflated 0%)\n",
            "  adding: content/License_plate_detection/License-Plate-Detector-2/valid/images/41209caa-2aa2-4003-b057-e0508c1d5ac9___Volkswagen-Ameo-Exterior-68165-jpg_jpeg.rf.fef9ca967c71bc3fd39091c6e6da547d.jpg (deflated 0%)\n",
            "  adding: content/License_plate_detection/License-Plate-Detector-2/valid/images/car-wbs-TN07BV5200_00000_jpeg.rf.f11fcf93e4487aa28b770036c3f4beed.jpg (deflated 0%)\n",
            "  adding: content/License_plate_detection/License-Plate-Detector-2/valid/images/car-wbs-HR26CE1485_00000_png.rf.b1fbdb0acf45960fe4d45905813d978a.jpg (deflated 1%)\n",
            "  adding: content/License_plate_detection/License-Plate-Detector-2/valid/images/car-wbs-TN74AH1413_00000_jpeg.rf.d887013193a431442b19632526d2bafd.jpg (deflated 1%)\n",
            "  adding: content/License_plate_detection/License-Plate-Detector-2/valid/images/car-wbs-KL16J3636_00000_jpeg.rf.ad3aaea0b92cfbeb1c5ade9c416564cf.jpg (deflated 1%)\n",
            "  adding: content/License_plate_detection/License-Plate-Detector-2/valid/labels.cache (deflated 63%)\n",
            "  adding: content/License_plate_detection/License-Plate-Detector-2/test/ (stored 0%)\n",
            "  adding: content/License_plate_detection/License-Plate-Detector-2/test/labels/ (stored 0%)\n",
            "  adding: content/License_plate_detection/License-Plate-Detector-2/test/labels/1f0a7fe8-ac9b-4b54-9d55-e11f34f9f98b___9f6521b2ddb7b8e40ffd510966ffcca3-jpg_jpeg.rf.b78119b0e27903388dcc97863f9a3a3f.txt (deflated 24%)\n",
            "  adding: content/License_plate_detection/License-Plate-Detector-2/test/labels/car-wbs-MH20DJ0419_00000_jpeg.rf.54b066a90ca3dc3555590fae7ae42934.txt (deflated 18%)\n",
            "  adding: content/License_plate_detection/License-Plate-Detector-2/test/labels/347c849b-6cfa-4edb-af1f-b29bdad25c4d___new_New-Volkswagen-Polo-jpg_jpeg.rf.45889a990bfc11501f7d51c0fec8c783.txt (deflated 20%)\n",
            "  adding: content/License_plate_detection/License-Plate-Detector-2/test/labels/car-wbs-MH20CS9817_00000_jpeg.rf.08f28c7687d178e162b25f7b750b24d7.txt (deflated 14%)\n",
            "  adding: content/License_plate_detection/License-Plate-Detector-2/test/labels/car-wbs-TN21BC6225_00000_png.rf.22f979de9b67d23ef22461289d65935f.txt (deflated 12%)\n",
            "  adding: content/License_plate_detection/License-Plate-Detector-2/test/labels/car-wbs-MH02BM5048_00000_jpeg.rf.f311355cf39d26931435eecb872008c8.txt (deflated 23%)\n",
            "  adding: content/License_plate_detection/License-Plate-Detector-2/test/labels/2424211e-e6ba-4478-8ed1-6a04e25499c7___main-qimg-7673aeac86d0ef987deb837552c5dd4c-1_png.rf.36da59accfbd5189d109aab0ea4be27e.txt (deflated 17%)\n",
            "  adding: content/License_plate_detection/License-Plate-Detector-2/test/labels/b79f870d-15c7-48e3-8874-7c0e53e29f75___3e7fd381-0ae5-4421-8a70-279ee0ec1c61_754eab882b8290b29a0454dd45580a39_555X416_1-Copy-2-_jpg.rf.b877c0b05e3dcb37c0d24f5feb369f89.txt (deflated 14%)\n",
            "  adding: content/License_plate_detection/License-Plate-Detector-2/test/labels/af058398-67d6-4d0e-a6d9-afc1cb184e5b___3e7fd381-0ae5-4421-8a70-279ee0ec1c61_hqdefault3_jpg.rf.102b8e2ed6e09105fb706ad7b433aa38.txt (deflated 15%)\n",
            "  adding: content/License_plate_detection/License-Plate-Detector-2/test/labels/7c6227ed-9e92-4062-9591-b172cb32ec10___3e7fd381-0ae5-4421-8a70-279ee0ec1c61_Honda-Jazz-Front-Number-Plates-Designs_jpg.rf.9f2468490aedebab9d0138aa4e89b4f6.txt (deflated 21%)\n",
            "  adding: content/License_plate_detection/License-Plate-Detector-2/test/labels/26cfb3dd-3731-4fd0-a6c2-c44e3ce7498a___used_cars_in_keralaused_bikes_in_keralaautomotive_news7-jpg_jpeg.rf.d5d8979f771c452e0a91d1b6887496f1.txt (deflated 16%)\n",
            "  adding: content/License_plate_detection/License-Plate-Detector-2/test/labels/car-wbs-KA05MG1909_00000_png.rf.112bf3757bbc80e4d404289320279c4a.txt (deflated 19%)\n",
            "  adding: content/License_plate_detection/License-Plate-Detector-2/test/labels/21cc678a-b9c5-4bbb-ace0-9e096e799632___unnamed-300x225-jpg-Copy_jpeg.rf.938c25a6cba2acc95524061700dc428a.txt (deflated 26%)\n",
            "  adding: content/License_plate_detection/License-Plate-Detector-2/test/labels/b266759c-f9e9-47c1-9042-4c7aef7d441d___1711769d1514801394t-toyota-innova-crysta-2-4-gx-ownership-review-edit-10-000-km-service-done-vs-jpg_jpeg.rf.d8f72157b290c1eed682213d8cec6588.txt (deflated 28%)\n",
            "  adding: content/License_plate_detection/License-Plate-Detector-2/test/labels/8906af57-0d29-417d-ac46-408425527b57___VW-Vento-TDI-CNG-Spy-Pic-2-jpg_jpeg.rf.c61e5f751ba405c12ebdc33a6a673855.txt (deflated 14%)\n",
            "  adding: content/License_plate_detection/License-Plate-Detector-2/test/labels/0a720df9-e4ef-4e44-8c13-b39b9be8444d___3e7fd381-0ae5-4421-8a70-279ee0ec1c61_Nissan-Terrano-6_jpg.rf.c2f78cb12de23cda1b1782f23ee505b0.txt (deflated 20%)\n",
            "  adding: content/License_plate_detection/License-Plate-Detector-2/test/labels/car-wbs-KL65H4383_00000_jpg.rf.bd9ef965f67ed9d9cf52ccb73977d53f.txt (deflated 16%)\n",
            "  adding: content/License_plate_detection/License-Plate-Detector-2/test/labels/07e787a7-6cc3-482c-9ce5-f0ce115b47f1___new_VW-Polo-GT-TSI-badges-on-the-boot-lid-jpg_jpeg.rf.1c986c1e541d02726643ef4e9d02a47c.txt (deflated 27%)\n",
            "  adding: content/License_plate_detection/License-Plate-Detector-2/test/labels/18d2b870-7817-46da-a59a-6406c1b472c9___1033_png.rf.b719e0ebf2b6324b37cd19d1215b941a.txt (deflated 11%)\n",
            "  adding: content/License_plate_detection/License-Plate-Detector-2/test/labels/7073bd18-c0bf-47da-9e43-8c9d27831f11___new_Skoda-Laura-rear-jpg_jpeg.rf.00aefbffe6a7b23aa6ec96e6773372be.txt (deflated 12%)\n",
            "  adding: content/License_plate_detection/License-Plate-Detector-2/test/labels/car-wbs-TN21BY0166_00000_png.rf.1a375272f2f36a61ccd56bc98cfaf7a7.txt (deflated 24%)\n",
            "  adding: content/License_plate_detection/License-Plate-Detector-2/test/labels/ef2dc97f-bc6d-49a3-9ddb-03f54f3a20e7___Skoda-Rapid-new-Exterior-84398-jpg_jpeg.rf.c5971fe5e87c9d5615d07dc382598670.txt (deflated 17%)\n",
            "  adding: content/License_plate_detection/License-Plate-Detector-2/test/labels/85d7e25d-5aa1-4e5f-9c4e-4e671f14ddbe___77cca4b6f3864b3928824a030ba101d2-jpg_jpeg.rf.8939c51b5267aca1b57ef1d50669baf6.txt (deflated 18%)\n",
            "  adding: content/License_plate_detection/License-Plate-Detector-2/test/labels/car-wbs-MH06AW8929_00001_jpeg.rf.2175f98fa131fba12baf1e6361292169.txt (deflated 12%)\n",
            "  adding: content/License_plate_detection/License-Plate-Detector-2/test/labels/e706cec0-783a-42bc-b934-64788481cd92___4-Innova-After-2-jpg_jpeg.rf.16034922ef0ee389ee29128a6a235ab2.txt (deflated 32%)\n",
            "  adding: content/License_plate_detection/License-Plate-Detector-2/test/labels/ae0bb069-0e7e-412a-9473-e8e0d4041cbc___135718d1400912281-skoda-rapid-1-6tdi-cr-mt-elegance-ultima-candy-white-white-monster-_mg_3000comp-jpg_jpeg.rf.866593e384089c098cb37115e8a10881.txt (deflated 13%)\n",
            "  adding: content/License_plate_detection/License-Plate-Detector-2/test/labels/7f7e27cc-930a-46cb-b3af-6e43da8b566d___3e7fd381-0ae5-4421-8a70-279ee0ec1c61_Nissan-Terrano-Petrol-Review-Images-Black-Front-Grille-720x480_jpg.rf.2d389016581a0c9c33065885a857e805.txt (deflated 17%)\n",
            "  adding: content/License_plate_detection/License-Plate-Detector-2/test/labels/car-wbs-MH01BU5207_00000_jpeg.rf.a563026b75e2aa4a91a350350db383b5.txt (deflated 18%)\n",
            "  adding: content/License_plate_detection/License-Plate-Detector-2/test/labels/car-wbs-KL60N5344_00000_jpeg.rf.8a7d7a059133070ae73d0c226c2693a9.txt (deflated 22%)\n",
            "  adding: content/License_plate_detection/License-Plate-Detector-2/test/labels/b79f870d-15c7-48e3-8874-7c0e53e29f75___3e7fd381-0ae5-4421-8a70-279ee0ec1c61_754eab882b8290b29a0454dd45580a39_555X416_1_jpg.rf.951a909559ef8c1400acf109b0cde668.txt (deflated 21%)\n",
            "  adding: content/License_plate_detection/License-Plate-Detector-2/test/labels/e29b6eea-504a-4da2-8503-5bd3443f3bd8___maruti-suzuki-wagon-r-front-left-rim-jpg_jpeg.rf.20e01be26a15b74b163c939f24c5a1f5.txt (deflated 17%)\n",
            "  adding: content/License_plate_detection/License-Plate-Detector-2/test/labels/7506a48d-2c70-4b12-b300-463754bc7837___165979d1427773878-new-volkswagen-vento-2016-launched-india-vw-vento-facelift-rear-india-spotted-test-jpg_jpeg.rf.f4dcf94349c8ae8a2ba7d6df153c7c61.txt (deflated 13%)\n",
            "  adding: content/License_plate_detection/License-Plate-Detector-2/test/labels/a615016b-4d07-46c7-a52b-8d4319fe3a10___3e7fd381-0ae5-4421-8a70-279ee0ec1c61_nissan-terrano-rear-view_jpg.rf.5f42056a1b57041d9201d9ce904dbcf9.txt (deflated 19%)\n",
            "  adding: content/License_plate_detection/License-Plate-Detector-2/test/labels/fb939bb1-5257-4879-bafb-539472ffb73d___Maruti-Suzuki-Brezza-Number-Plates-Design-jpg_jpeg.rf.c21a55b6a3880c8b6fa394dd0915682e.txt (deflated 27%)\n",
            "  adding: content/License_plate_detection/License-Plate-Detector-2/test/labels/car-wbs-MH20EE7598_00000_jpeg.rf.8f482680e7ccd88ceb43cc43595afc24.txt (deflated 11%)\n",
            "  adding: content/License_plate_detection/License-Plate-Detector-2/test/labels/8edca6de-d964-4027-823d-f70d3f872412___12042943_1003224833031653_9073848483429898813_n-jpg_jpeg.rf.1882821d2dd595aee5b484591273cab7.txt (deflated 30%)\n",
            "  adding: content/License_plate_detection/License-Plate-Detector-2/test/labels/car-wbs-KL454455_00000_jpeg.rf.581e88b857be8743fd05adb0c4fd63e0.txt (deflated 36%)\n",
            "  adding: content/License_plate_detection/License-Plate-Detector-2/test/images/ (stored 0%)\n",
            "  adding: content/License_plate_detection/License-Plate-Detector-2/test/images/car-wbs-MH20DJ0419_00000_jpeg.rf.54b066a90ca3dc3555590fae7ae42934.jpg (deflated 1%)\n",
            "  adding: content/License_plate_detection/License-Plate-Detector-2/test/images/b79f870d-15c7-48e3-8874-7c0e53e29f75___3e7fd381-0ae5-4421-8a70-279ee0ec1c61_754eab882b8290b29a0454dd45580a39_555X416_1-Copy-2-_jpg.rf.b877c0b05e3dcb37c0d24f5feb369f89.jpg (deflated 2%)\n",
            "  adding: content/License_plate_detection/License-Plate-Detector-2/test/images/af058398-67d6-4d0e-a6d9-afc1cb184e5b___3e7fd381-0ae5-4421-8a70-279ee0ec1c61_hqdefault3_jpg.rf.102b8e2ed6e09105fb706ad7b433aa38.jpg (deflated 4%)\n",
            "  adding: content/License_plate_detection/License-Plate-Detector-2/test/images/8906af57-0d29-417d-ac46-408425527b57___VW-Vento-TDI-CNG-Spy-Pic-2-jpg_jpeg.rf.c61e5f751ba405c12ebdc33a6a673855.jpg (deflated 0%)\n",
            "  adding: content/License_plate_detection/License-Plate-Detector-2/test/images/car-wbs-KL60N5344_00000_jpeg.rf.8a7d7a059133070ae73d0c226c2693a9.jpg (deflated 1%)\n",
            "  adding: content/License_plate_detection/License-Plate-Detector-2/test/images/21cc678a-b9c5-4bbb-ace0-9e096e799632___unnamed-300x225-jpg-Copy_jpeg.rf.938c25a6cba2acc95524061700dc428a.jpg (deflated 1%)\n",
            "  adding: content/License_plate_detection/License-Plate-Detector-2/test/images/car-wbs-MH06AW8929_00001_jpeg.rf.2175f98fa131fba12baf1e6361292169.jpg (deflated 0%)\n",
            "  adding: content/License_plate_detection/License-Plate-Detector-2/test/images/b79f870d-15c7-48e3-8874-7c0e53e29f75___3e7fd381-0ae5-4421-8a70-279ee0ec1c61_754eab882b8290b29a0454dd45580a39_555X416_1_jpg.rf.951a909559ef8c1400acf109b0cde668.jpg (deflated 1%)\n",
            "  adding: content/License_plate_detection/License-Plate-Detector-2/test/images/car-wbs-MH20CS9817_00000_jpeg.rf.08f28c7687d178e162b25f7b750b24d7.jpg (deflated 1%)\n",
            "  adding: content/License_plate_detection/License-Plate-Detector-2/test/images/e29b6eea-504a-4da2-8503-5bd3443f3bd8___maruti-suzuki-wagon-r-front-left-rim-jpg_jpeg.rf.20e01be26a15b74b163c939f24c5a1f5.jpg (deflated 1%)\n",
            "  adding: content/License_plate_detection/License-Plate-Detector-2/test/images/ef2dc97f-bc6d-49a3-9ddb-03f54f3a20e7___Skoda-Rapid-new-Exterior-84398-jpg_jpeg.rf.c5971fe5e87c9d5615d07dc382598670.jpg (deflated 0%)\n",
            "  adding: content/License_plate_detection/License-Plate-Detector-2/test/images/7f7e27cc-930a-46cb-b3af-6e43da8b566d___3e7fd381-0ae5-4421-8a70-279ee0ec1c61_Nissan-Terrano-Petrol-Review-Images-Black-Front-Grille-720x480_jpg.rf.2d389016581a0c9c33065885a857e805.jpg (deflated 0%)\n",
            "  adding: content/License_plate_detection/License-Plate-Detector-2/test/images/a615016b-4d07-46c7-a52b-8d4319fe3a10___3e7fd381-0ae5-4421-8a70-279ee0ec1c61_nissan-terrano-rear-view_jpg.rf.5f42056a1b57041d9201d9ce904dbcf9.jpg (deflated 0%)\n",
            "  adding: content/License_plate_detection/License-Plate-Detector-2/test/images/car-wbs-TN21BC6225_00000_png.rf.22f979de9b67d23ef22461289d65935f.jpg (deflated 2%)\n",
            "  adding: content/License_plate_detection/License-Plate-Detector-2/test/images/347c849b-6cfa-4edb-af1f-b29bdad25c4d___new_New-Volkswagen-Polo-jpg_jpeg.rf.45889a990bfc11501f7d51c0fec8c783.jpg (deflated 2%)\n",
            "  adding: content/License_plate_detection/License-Plate-Detector-2/test/images/b266759c-f9e9-47c1-9042-4c7aef7d441d___1711769d1514801394t-toyota-innova-crysta-2-4-gx-ownership-review-edit-10-000-km-service-done-vs-jpg_jpeg.rf.d8f72157b290c1eed682213d8cec6588.jpg (deflated 0%)\n",
            "  adding: content/License_plate_detection/License-Plate-Detector-2/test/images/8edca6de-d964-4027-823d-f70d3f872412___12042943_1003224833031653_9073848483429898813_n-jpg_jpeg.rf.1882821d2dd595aee5b484591273cab7.jpg (deflated 0%)\n",
            "  adding: content/License_plate_detection/License-Plate-Detector-2/test/images/car-wbs-MH01BU5207_00000_jpeg.rf.a563026b75e2aa4a91a350350db383b5.jpg (deflated 4%)\n",
            "  adding: content/License_plate_detection/License-Plate-Detector-2/test/images/7073bd18-c0bf-47da-9e43-8c9d27831f11___new_Skoda-Laura-rear-jpg_jpeg.rf.00aefbffe6a7b23aa6ec96e6773372be.jpg (deflated 0%)\n",
            "  adding: content/License_plate_detection/License-Plate-Detector-2/test/images/car-wbs-MH20EE7598_00000_jpeg.rf.8f482680e7ccd88ceb43cc43595afc24.jpg (deflated 0%)\n",
            "  adding: content/License_plate_detection/License-Plate-Detector-2/test/images/e706cec0-783a-42bc-b934-64788481cd92___4-Innova-After-2-jpg_jpeg.rf.16034922ef0ee389ee29128a6a235ab2.jpg (deflated 0%)\n",
            "  adding: content/License_plate_detection/License-Plate-Detector-2/test/images/26cfb3dd-3731-4fd0-a6c2-c44e3ce7498a___used_cars_in_keralaused_bikes_in_keralaautomotive_news7-jpg_jpeg.rf.d5d8979f771c452e0a91d1b6887496f1.jpg (deflated 0%)\n",
            "  adding: content/License_plate_detection/License-Plate-Detector-2/test/images/07e787a7-6cc3-482c-9ce5-f0ce115b47f1___new_VW-Polo-GT-TSI-badges-on-the-boot-lid-jpg_jpeg.rf.1c986c1e541d02726643ef4e9d02a47c.jpg (deflated 2%)\n",
            "  adding: content/License_plate_detection/License-Plate-Detector-2/test/images/car-wbs-KL65H4383_00000_jpg.rf.bd9ef965f67ed9d9cf52ccb73977d53f.jpg (deflated 0%)\n",
            "  adding: content/License_plate_detection/License-Plate-Detector-2/test/images/2424211e-e6ba-4478-8ed1-6a04e25499c7___main-qimg-7673aeac86d0ef987deb837552c5dd4c-1_png.rf.36da59accfbd5189d109aab0ea4be27e.jpg (deflated 0%)\n",
            "  adding: content/License_plate_detection/License-Plate-Detector-2/test/images/car-wbs-KL454455_00000_jpeg.rf.581e88b857be8743fd05adb0c4fd63e0.jpg (deflated 1%)\n",
            "  adding: content/License_plate_detection/License-Plate-Detector-2/test/images/7506a48d-2c70-4b12-b300-463754bc7837___165979d1427773878-new-volkswagen-vento-2016-launched-india-vw-vento-facelift-rear-india-spotted-test-jpg_jpeg.rf.f4dcf94349c8ae8a2ba7d6df153c7c61.jpg (deflated 0%)\n",
            "  adding: content/License_plate_detection/License-Plate-Detector-2/test/images/car-wbs-TN21BY0166_00000_png.rf.1a375272f2f36a61ccd56bc98cfaf7a7.jpg (deflated 1%)\n",
            "  adding: content/License_plate_detection/License-Plate-Detector-2/test/images/car-wbs-MH02BM5048_00000_jpeg.rf.f311355cf39d26931435eecb872008c8.jpg (deflated 1%)\n",
            "  adding: content/License_plate_detection/License-Plate-Detector-2/test/images/1f0a7fe8-ac9b-4b54-9d55-e11f34f9f98b___9f6521b2ddb7b8e40ffd510966ffcca3-jpg_jpeg.rf.b78119b0e27903388dcc97863f9a3a3f.jpg (deflated 0%)\n",
            "  adding: content/License_plate_detection/License-Plate-Detector-2/test/images/18d2b870-7817-46da-a59a-6406c1b472c9___1033_png.rf.b719e0ebf2b6324b37cd19d1215b941a.jpg (deflated 0%)\n",
            "  adding: content/License_plate_detection/License-Plate-Detector-2/test/images/car-wbs-KA05MG1909_00000_png.rf.112bf3757bbc80e4d404289320279c4a.jpg (deflated 1%)\n",
            "  adding: content/License_plate_detection/License-Plate-Detector-2/test/images/7c6227ed-9e92-4062-9591-b172cb32ec10___3e7fd381-0ae5-4421-8a70-279ee0ec1c61_Honda-Jazz-Front-Number-Plates-Designs_jpg.rf.9f2468490aedebab9d0138aa4e89b4f6.jpg (deflated 0%)\n",
            "  adding: content/License_plate_detection/License-Plate-Detector-2/test/images/ae0bb069-0e7e-412a-9473-e8e0d4041cbc___135718d1400912281-skoda-rapid-1-6tdi-cr-mt-elegance-ultima-candy-white-white-monster-_mg_3000comp-jpg_jpeg.rf.866593e384089c098cb37115e8a10881.jpg (deflated 1%)\n",
            "  adding: content/License_plate_detection/License-Plate-Detector-2/test/images/fb939bb1-5257-4879-bafb-539472ffb73d___Maruti-Suzuki-Brezza-Number-Plates-Design-jpg_jpeg.rf.c21a55b6a3880c8b6fa394dd0915682e.jpg (deflated 1%)\n",
            "  adding: content/License_plate_detection/License-Plate-Detector-2/test/images/0a720df9-e4ef-4e44-8c13-b39b9be8444d___3e7fd381-0ae5-4421-8a70-279ee0ec1c61_Nissan-Terrano-6_jpg.rf.c2f78cb12de23cda1b1782f23ee505b0.jpg (deflated 0%)\n",
            "  adding: content/License_plate_detection/License-Plate-Detector-2/test/images/85d7e25d-5aa1-4e5f-9c4e-4e671f14ddbe___77cca4b6f3864b3928824a030ba101d2-jpg_jpeg.rf.8939c51b5267aca1b57ef1d50669baf6.jpg (deflated 2%)\n",
            "  adding: content/License_plate_detection/License-Plate-Detector-2/README.dataset.txt (deflated 18%)\n",
            "  adding: content/License_plate_detection/License-Plate-Detector-2/data.yaml (deflated 48%)\n",
            "  adding: content/License_plate_detection/.ipynb_checkpoints/ (stored 0%)\n"
          ]
        }
      ]
    },
    {
      "cell_type": "code",
      "source": [
        "from google.colab import files\n",
        "files.download('models.zip')"
      ],
      "metadata": {
        "colab": {
          "base_uri": "https://localhost:8080/",
          "height": 17
        },
        "id": "pK0QYChpzZ0F",
        "outputId": "86848f5c-3358-475a-cb28-eb1624a2aa7b"
      },
      "execution_count": 10,
      "outputs": [
        {
          "output_type": "display_data",
          "data": {
            "text/plain": [
              "<IPython.core.display.Javascript object>"
            ],
            "application/javascript": [
              "\n",
              "    async function download(id, filename, size) {\n",
              "      if (!google.colab.kernel.accessAllowed) {\n",
              "        return;\n",
              "      }\n",
              "      const div = document.createElement('div');\n",
              "      const label = document.createElement('label');\n",
              "      label.textContent = `Downloading \"${filename}\": `;\n",
              "      div.appendChild(label);\n",
              "      const progress = document.createElement('progress');\n",
              "      progress.max = size;\n",
              "      div.appendChild(progress);\n",
              "      document.body.appendChild(div);\n",
              "\n",
              "      const buffers = [];\n",
              "      let downloaded = 0;\n",
              "\n",
              "      const channel = await google.colab.kernel.comms.open(id);\n",
              "      // Send a message to notify the kernel that we're ready.\n",
              "      channel.send({})\n",
              "\n",
              "      for await (const message of channel.messages) {\n",
              "        // Send a message to notify the kernel that we're ready.\n",
              "        channel.send({})\n",
              "        if (message.buffers) {\n",
              "          for (const buffer of message.buffers) {\n",
              "            buffers.push(buffer);\n",
              "            downloaded += buffer.byteLength;\n",
              "            progress.value = downloaded;\n",
              "          }\n",
              "        }\n",
              "      }\n",
              "      const blob = new Blob(buffers, {type: 'application/binary'});\n",
              "      const a = document.createElement('a');\n",
              "      a.href = window.URL.createObjectURL(blob);\n",
              "      a.download = filename;\n",
              "      div.appendChild(a);\n",
              "      a.click();\n",
              "      div.remove();\n",
              "    }\n",
              "  "
            ]
          },
          "metadata": {}
        },
        {
          "output_type": "display_data",
          "data": {
            "text/plain": [
              "<IPython.core.display.Javascript object>"
            ],
            "application/javascript": [
              "download(\"download_9a1fe545-94ed-44a2-9f5b-ddbffd7acc17\", \"models.zip\", 62564995)"
            ]
          },
          "metadata": {}
        }
      ]
    },
    {
      "cell_type": "code",
      "source": [
        "from google.colab import files\n",
        "\n",
        "# Upload your zip file\n",
        "uploaded = files.upload()\n"
      ],
      "metadata": {
        "colab": {
          "base_uri": "https://localhost:8080/",
          "height": 37
        },
        "id": "eD2JPgdsLi9I",
        "outputId": "f28b8d4d-441e-4d9d-b2f6-e847c0504c6f"
      },
      "execution_count": 9,
      "outputs": [
        {
          "output_type": "display_data",
          "data": {
            "text/plain": [
              "<IPython.core.display.HTML object>"
            ],
            "text/html": [
              "\n",
              "     <input type=\"file\" id=\"files-0c3c67b3-8bbc-48fa-bd5c-584c3aa1cea6\" name=\"files[]\" multiple disabled\n",
              "        style=\"border:none\" />\n",
              "     <output id=\"result-0c3c67b3-8bbc-48fa-bd5c-584c3aa1cea6\">\n",
              "      Upload widget is only available when the cell has been executed in the\n",
              "      current browser session. Please rerun this cell to enable.\n",
              "      </output>\n",
              "      <script>// Copyright 2017 Google LLC\n",
              "//\n",
              "// Licensed under the Apache License, Version 2.0 (the \"License\");\n",
              "// you may not use this file except in compliance with the License.\n",
              "// You may obtain a copy of the License at\n",
              "//\n",
              "//      http://www.apache.org/licenses/LICENSE-2.0\n",
              "//\n",
              "// Unless required by applicable law or agreed to in writing, software\n",
              "// distributed under the License is distributed on an \"AS IS\" BASIS,\n",
              "// WITHOUT WARRANTIES OR CONDITIONS OF ANY KIND, either express or implied.\n",
              "// See the License for the specific language governing permissions and\n",
              "// limitations under the License.\n",
              "\n",
              "/**\n",
              " * @fileoverview Helpers for google.colab Python module.\n",
              " */\n",
              "(function(scope) {\n",
              "function span(text, styleAttributes = {}) {\n",
              "  const element = document.createElement('span');\n",
              "  element.textContent = text;\n",
              "  for (const key of Object.keys(styleAttributes)) {\n",
              "    element.style[key] = styleAttributes[key];\n",
              "  }\n",
              "  return element;\n",
              "}\n",
              "\n",
              "// Max number of bytes which will be uploaded at a time.\n",
              "const MAX_PAYLOAD_SIZE = 100 * 1024;\n",
              "\n",
              "function _uploadFiles(inputId, outputId) {\n",
              "  const steps = uploadFilesStep(inputId, outputId);\n",
              "  const outputElement = document.getElementById(outputId);\n",
              "  // Cache steps on the outputElement to make it available for the next call\n",
              "  // to uploadFilesContinue from Python.\n",
              "  outputElement.steps = steps;\n",
              "\n",
              "  return _uploadFilesContinue(outputId);\n",
              "}\n",
              "\n",
              "// This is roughly an async generator (not supported in the browser yet),\n",
              "// where there are multiple asynchronous steps and the Python side is going\n",
              "// to poll for completion of each step.\n",
              "// This uses a Promise to block the python side on completion of each step,\n",
              "// then passes the result of the previous step as the input to the next step.\n",
              "function _uploadFilesContinue(outputId) {\n",
              "  const outputElement = document.getElementById(outputId);\n",
              "  const steps = outputElement.steps;\n",
              "\n",
              "  const next = steps.next(outputElement.lastPromiseValue);\n",
              "  return Promise.resolve(next.value.promise).then((value) => {\n",
              "    // Cache the last promise value to make it available to the next\n",
              "    // step of the generator.\n",
              "    outputElement.lastPromiseValue = value;\n",
              "    return next.value.response;\n",
              "  });\n",
              "}\n",
              "\n",
              "/**\n",
              " * Generator function which is called between each async step of the upload\n",
              " * process.\n",
              " * @param {string} inputId Element ID of the input file picker element.\n",
              " * @param {string} outputId Element ID of the output display.\n",
              " * @return {!Iterable<!Object>} Iterable of next steps.\n",
              " */\n",
              "function* uploadFilesStep(inputId, outputId) {\n",
              "  const inputElement = document.getElementById(inputId);\n",
              "  inputElement.disabled = false;\n",
              "\n",
              "  const outputElement = document.getElementById(outputId);\n",
              "  outputElement.innerHTML = '';\n",
              "\n",
              "  const pickedPromise = new Promise((resolve) => {\n",
              "    inputElement.addEventListener('change', (e) => {\n",
              "      resolve(e.target.files);\n",
              "    });\n",
              "  });\n",
              "\n",
              "  const cancel = document.createElement('button');\n",
              "  inputElement.parentElement.appendChild(cancel);\n",
              "  cancel.textContent = 'Cancel upload';\n",
              "  const cancelPromise = new Promise((resolve) => {\n",
              "    cancel.onclick = () => {\n",
              "      resolve(null);\n",
              "    };\n",
              "  });\n",
              "\n",
              "  // Wait for the user to pick the files.\n",
              "  const files = yield {\n",
              "    promise: Promise.race([pickedPromise, cancelPromise]),\n",
              "    response: {\n",
              "      action: 'starting',\n",
              "    }\n",
              "  };\n",
              "\n",
              "  cancel.remove();\n",
              "\n",
              "  // Disable the input element since further picks are not allowed.\n",
              "  inputElement.disabled = true;\n",
              "\n",
              "  if (!files) {\n",
              "    return {\n",
              "      response: {\n",
              "        action: 'complete',\n",
              "      }\n",
              "    };\n",
              "  }\n",
              "\n",
              "  for (const file of files) {\n",
              "    const li = document.createElement('li');\n",
              "    li.append(span(file.name, {fontWeight: 'bold'}));\n",
              "    li.append(span(\n",
              "        `(${file.type || 'n/a'}) - ${file.size} bytes, ` +\n",
              "        `last modified: ${\n",
              "            file.lastModifiedDate ? file.lastModifiedDate.toLocaleDateString() :\n",
              "                                    'n/a'} - `));\n",
              "    const percent = span('0% done');\n",
              "    li.appendChild(percent);\n",
              "\n",
              "    outputElement.appendChild(li);\n",
              "\n",
              "    const fileDataPromise = new Promise((resolve) => {\n",
              "      const reader = new FileReader();\n",
              "      reader.onload = (e) => {\n",
              "        resolve(e.target.result);\n",
              "      };\n",
              "      reader.readAsArrayBuffer(file);\n",
              "    });\n",
              "    // Wait for the data to be ready.\n",
              "    let fileData = yield {\n",
              "      promise: fileDataPromise,\n",
              "      response: {\n",
              "        action: 'continue',\n",
              "      }\n",
              "    };\n",
              "\n",
              "    // Use a chunked sending to avoid message size limits. See b/62115660.\n",
              "    let position = 0;\n",
              "    do {\n",
              "      const length = Math.min(fileData.byteLength - position, MAX_PAYLOAD_SIZE);\n",
              "      const chunk = new Uint8Array(fileData, position, length);\n",
              "      position += length;\n",
              "\n",
              "      const base64 = btoa(String.fromCharCode.apply(null, chunk));\n",
              "      yield {\n",
              "        response: {\n",
              "          action: 'append',\n",
              "          file: file.name,\n",
              "          data: base64,\n",
              "        },\n",
              "      };\n",
              "\n",
              "      let percentDone = fileData.byteLength === 0 ?\n",
              "          100 :\n",
              "          Math.round((position / fileData.byteLength) * 100);\n",
              "      percent.textContent = `${percentDone}% done`;\n",
              "\n",
              "    } while (position < fileData.byteLength);\n",
              "  }\n",
              "\n",
              "  // All done.\n",
              "  yield {\n",
              "    response: {\n",
              "      action: 'complete',\n",
              "    }\n",
              "  };\n",
              "}\n",
              "\n",
              "scope.google = scope.google || {};\n",
              "scope.google.colab = scope.google.colab || {};\n",
              "scope.google.colab._files = {\n",
              "  _uploadFiles,\n",
              "  _uploadFilesContinue,\n",
              "};\n",
              "})(self);\n",
              "</script> "
            ]
          },
          "metadata": {}
        }
      ]
    },
    {
      "cell_type": "code",
      "source": [
        "import zipfile\n",
        "\n",
        "# Replace 'your_folder.zip' with the name of the uploaded ZIP file\n",
        "with zipfile.ZipFile('/content/models.zip', 'r') as zip_ref:\n",
        "    zip_ref.extractall('/')  # Extract to the current directory\n"
      ],
      "metadata": {
        "id": "rjEHay1sLv0G"
      },
      "execution_count": 6,
      "outputs": []
    },
    {
      "cell_type": "code",
      "source": [
        "!pip install roboflow\n",
        "\n",
        "from roboflow import Roboflow\n",
        "rf = Roboflow(api_key=\"BTzNneFYj5gMS7JwHqM4\")\n",
        "project = rf.workspace(\"mochoye\").project(\"license-plate-detector-ogxxg\")\n",
        "version = project.version(2)\n",
        "dataset = version.download(\"yolov8\")\n",
        "\n"
      ],
      "metadata": {
        "colab": {
          "base_uri": "https://localhost:8080/"
        },
        "id": "I2SStS8AJi7R",
        "outputId": "c336d8a0-3e1d-4f8a-ce6c-5bd2e83d897a"
      },
      "execution_count": 10,
      "outputs": [
        {
          "output_type": "stream",
          "name": "stdout",
          "text": [
            "Requirement already satisfied: roboflow in /usr/local/lib/python3.10/dist-packages (1.1.49)\n",
            "Requirement already satisfied: certifi in /usr/local/lib/python3.10/dist-packages (from roboflow) (2024.8.30)\n",
            "Requirement already satisfied: idna==3.7 in /usr/local/lib/python3.10/dist-packages (from roboflow) (3.7)\n",
            "Requirement already satisfied: cycler in /usr/local/lib/python3.10/dist-packages (from roboflow) (0.12.1)\n",
            "Requirement already satisfied: kiwisolver>=1.3.1 in /usr/local/lib/python3.10/dist-packages (from roboflow) (1.4.7)\n",
            "Requirement already satisfied: matplotlib in /usr/local/lib/python3.10/dist-packages (from roboflow) (3.8.0)\n",
            "Requirement already satisfied: numpy>=1.18.5 in /usr/local/lib/python3.10/dist-packages (from roboflow) (1.26.4)\n",
            "Requirement already satisfied: opencv-python-headless==4.10.0.84 in /usr/local/lib/python3.10/dist-packages (from roboflow) (4.10.0.84)\n",
            "Requirement already satisfied: Pillow>=7.1.2 in /usr/local/lib/python3.10/dist-packages (from roboflow) (11.0.0)\n",
            "Requirement already satisfied: python-dateutil in /usr/local/lib/python3.10/dist-packages (from roboflow) (2.9.0.post0)\n",
            "Requirement already satisfied: python-dotenv in /usr/local/lib/python3.10/dist-packages (from roboflow) (1.0.1)\n",
            "Requirement already satisfied: requests in /usr/local/lib/python3.10/dist-packages (from roboflow) (2.32.3)\n",
            "Requirement already satisfied: six in /usr/local/lib/python3.10/dist-packages (from roboflow) (1.16.0)\n",
            "Requirement already satisfied: urllib3>=1.26.6 in /usr/local/lib/python3.10/dist-packages (from roboflow) (2.2.3)\n",
            "Requirement already satisfied: tqdm>=4.41.0 in /usr/local/lib/python3.10/dist-packages (from roboflow) (4.66.6)\n",
            "Requirement already satisfied: PyYAML>=5.3.1 in /usr/local/lib/python3.10/dist-packages (from roboflow) (6.0.2)\n",
            "Requirement already satisfied: requests-toolbelt in /usr/local/lib/python3.10/dist-packages (from roboflow) (1.0.0)\n",
            "Requirement already satisfied: filetype in /usr/local/lib/python3.10/dist-packages (from roboflow) (1.2.0)\n",
            "Requirement already satisfied: contourpy>=1.0.1 in /usr/local/lib/python3.10/dist-packages (from matplotlib->roboflow) (1.3.1)\n",
            "Requirement already satisfied: fonttools>=4.22.0 in /usr/local/lib/python3.10/dist-packages (from matplotlib->roboflow) (4.54.1)\n",
            "Requirement already satisfied: packaging>=20.0 in /usr/local/lib/python3.10/dist-packages (from matplotlib->roboflow) (24.2)\n",
            "Requirement already satisfied: pyparsing>=2.3.1 in /usr/local/lib/python3.10/dist-packages (from matplotlib->roboflow) (3.2.0)\n",
            "Requirement already satisfied: charset-normalizer<4,>=2 in /usr/local/lib/python3.10/dist-packages (from requests->roboflow) (3.4.0)\n",
            "loading Roboflow workspace...\n",
            "loading Roboflow project...\n"
          ]
        }
      ]
    },
    {
      "cell_type": "code",
      "source": [
        "pip install -r /content/License_plate_detection/requirements.txt\n"
      ],
      "metadata": {
        "colab": {
          "base_uri": "https://localhost:8080/",
          "height": 1000
        },
        "id": "y71LgAabLfA3",
        "outputId": "320d6f94-05d9-4913-984a-533f17c54b21"
      },
      "execution_count": 9,
      "outputs": [
        {
          "output_type": "stream",
          "name": "stdout",
          "text": [
            "Collecting streamlit==1.19.0 (from -r /content/License_plate_detection/requirements.txt (line 1))\n",
            "  Downloading streamlit-1.19.0-py2.py3-none-any.whl.metadata (7.3 kB)\n",
            "Collecting opencv-python==4.7.0.72 (from -r /content/License_plate_detection/requirements.txt (line 2))\n",
            "  Downloading opencv_python-4.7.0.72-cp37-abi3-manylinux_2_17_x86_64.manylinux2014_x86_64.whl.metadata (18 kB)\n",
            "Collecting numpy==1.24.3 (from -r /content/License_plate_detection/requirements.txt (line 3))\n",
            "  Downloading numpy-1.24.3-cp310-cp310-manylinux_2_17_x86_64.manylinux2014_x86_64.whl.metadata (5.6 kB)\n",
            "Collecting ultralytics==8.0.15 (from -r /content/License_plate_detection/requirements.txt (line 4))\n",
            "  Downloading ultralytics-8.0.15-py3-none-any.whl.metadata (24 kB)\n",
            "Collecting easyocr==1.7.0 (from -r /content/License_plate_detection/requirements.txt (line 5))\n",
            "  Downloading easyocr-1.7.0-py3-none-any.whl.metadata (14 kB)\n",
            "Requirement already satisfied: Pillow>=6.2.0 in /usr/local/lib/python3.10/dist-packages (from -r /content/License_plate_detection/requirements.txt (line 6)) (11.0.0)\n",
            "Collecting coremltools==6.0 (from -r /content/License_plate_detection/requirements.txt (line 7))\n",
            "  Downloading coremltools-6.0-cp310-none-manylinux1_x86_64.whl.metadata (2.4 kB)\n",
            "Requirement already satisfied: altair>=3.2.0 in /usr/local/lib/python3.10/dist-packages (from streamlit==1.19.0->-r /content/License_plate_detection/requirements.txt (line 1)) (4.2.2)\n",
            "Requirement already satisfied: blinker>=1.0.0 in /usr/local/lib/python3.10/dist-packages (from streamlit==1.19.0->-r /content/License_plate_detection/requirements.txt (line 1)) (1.9.0)\n",
            "Requirement already satisfied: cachetools>=4.0 in /usr/local/lib/python3.10/dist-packages (from streamlit==1.19.0->-r /content/License_plate_detection/requirements.txt (line 1)) (5.5.0)\n",
            "Requirement already satisfied: click>=7.0 in /usr/local/lib/python3.10/dist-packages (from streamlit==1.19.0->-r /content/License_plate_detection/requirements.txt (line 1)) (8.1.7)\n",
            "Requirement already satisfied: importlib-metadata>=1.4 in /usr/local/lib/python3.10/dist-packages (from streamlit==1.19.0->-r /content/License_plate_detection/requirements.txt (line 1)) (8.5.0)\n",
            "Requirement already satisfied: packaging>=14.1 in /usr/local/lib/python3.10/dist-packages (from streamlit==1.19.0->-r /content/License_plate_detection/requirements.txt (line 1)) (24.2)\n",
            "Requirement already satisfied: pandas>=0.25 in /usr/local/lib/python3.10/dist-packages (from streamlit==1.19.0->-r /content/License_plate_detection/requirements.txt (line 1)) (2.2.2)\n",
            "Collecting protobuf<4,>=3.12 (from streamlit==1.19.0->-r /content/License_plate_detection/requirements.txt (line 1))\n",
            "  Downloading protobuf-3.20.3-cp310-cp310-manylinux_2_12_x86_64.manylinux2010_x86_64.whl.metadata (679 bytes)\n",
            "Requirement already satisfied: pyarrow>=4.0 in /usr/local/lib/python3.10/dist-packages (from streamlit==1.19.0->-r /content/License_plate_detection/requirements.txt (line 1)) (17.0.0)\n",
            "Collecting pympler>=0.9 (from streamlit==1.19.0->-r /content/License_plate_detection/requirements.txt (line 1))\n",
            "  Downloading Pympler-1.1-py3-none-any.whl.metadata (3.6 kB)\n",
            "Requirement already satisfied: python-dateutil in /usr/local/lib/python3.10/dist-packages (from streamlit==1.19.0->-r /content/License_plate_detection/requirements.txt (line 1)) (2.8.2)\n",
            "Requirement already satisfied: requests>=2.4 in /usr/local/lib/python3.10/dist-packages (from streamlit==1.19.0->-r /content/License_plate_detection/requirements.txt (line 1)) (2.32.3)\n",
            "Requirement already satisfied: rich>=10.11.0 in /usr/local/lib/python3.10/dist-packages (from streamlit==1.19.0->-r /content/License_plate_detection/requirements.txt (line 1)) (13.9.4)\n",
            "Collecting semver (from streamlit==1.19.0->-r /content/License_plate_detection/requirements.txt (line 1))\n",
            "  Downloading semver-3.0.2-py3-none-any.whl.metadata (5.0 kB)\n",
            "Requirement already satisfied: toml in /usr/local/lib/python3.10/dist-packages (from streamlit==1.19.0->-r /content/License_plate_detection/requirements.txt (line 1)) (0.10.2)\n",
            "Requirement already satisfied: typing-extensions>=3.10.0.0 in /usr/local/lib/python3.10/dist-packages (from streamlit==1.19.0->-r /content/License_plate_detection/requirements.txt (line 1)) (4.12.2)\n",
            "Requirement already satisfied: tzlocal>=1.1 in /usr/local/lib/python3.10/dist-packages (from streamlit==1.19.0->-r /content/License_plate_detection/requirements.txt (line 1)) (5.2)\n",
            "Collecting validators>=0.2 (from streamlit==1.19.0->-r /content/License_plate_detection/requirements.txt (line 1))\n",
            "  Downloading validators-0.34.0-py3-none-any.whl.metadata (3.8 kB)\n",
            "Requirement already satisfied: gitpython!=3.1.19 in /usr/local/lib/python3.10/dist-packages (from streamlit==1.19.0->-r /content/License_plate_detection/requirements.txt (line 1)) (3.1.43)\n",
            "Collecting pydeck>=0.1.dev5 (from streamlit==1.19.0->-r /content/License_plate_detection/requirements.txt (line 1))\n",
            "  Downloading pydeck-0.9.1-py2.py3-none-any.whl.metadata (4.1 kB)\n",
            "Requirement already satisfied: tornado>=6.0.3 in /usr/local/lib/python3.10/dist-packages (from streamlit==1.19.0->-r /content/License_plate_detection/requirements.txt (line 1)) (6.3.3)\n",
            "Collecting watchdog (from streamlit==1.19.0->-r /content/License_plate_detection/requirements.txt (line 1))\n",
            "  Downloading watchdog-6.0.0-py3-none-manylinux2014_x86_64.whl.metadata (44 kB)\n",
            "\u001b[2K     \u001b[90m━━━━━━━━━━━━━━━━━━━━━━━━━━━━━━━━━━━━━━━━\u001b[0m \u001b[32m44.3/44.3 kB\u001b[0m \u001b[31m2.7 MB/s\u001b[0m eta \u001b[36m0:00:00\u001b[0m\n",
            "\u001b[?25hRequirement already satisfied: matplotlib>=3.2.2 in /usr/local/lib/python3.10/dist-packages (from ultralytics==8.0.15->-r /content/License_plate_detection/requirements.txt (line 4)) (3.8.0)\n",
            "Requirement already satisfied: PyYAML>=5.3.1 in /usr/local/lib/python3.10/dist-packages (from ultralytics==8.0.15->-r /content/License_plate_detection/requirements.txt (line 4)) (6.0.2)\n",
            "Requirement already satisfied: scipy>=1.4.1 in /usr/local/lib/python3.10/dist-packages (from ultralytics==8.0.15->-r /content/License_plate_detection/requirements.txt (line 4)) (1.13.1)\n",
            "Requirement already satisfied: torch>=1.7.0 in /usr/local/lib/python3.10/dist-packages (from ultralytics==8.0.15->-r /content/License_plate_detection/requirements.txt (line 4)) (2.5.1+cu121)\n",
            "Requirement already satisfied: torchvision>=0.8.1 in /usr/local/lib/python3.10/dist-packages (from ultralytics==8.0.15->-r /content/License_plate_detection/requirements.txt (line 4)) (0.20.1+cu121)\n",
            "Requirement already satisfied: tqdm>=4.64.0 in /usr/local/lib/python3.10/dist-packages (from ultralytics==8.0.15->-r /content/License_plate_detection/requirements.txt (line 4)) (4.66.6)\n",
            "Requirement already satisfied: tensorboard>=2.4.1 in /usr/local/lib/python3.10/dist-packages (from ultralytics==8.0.15->-r /content/License_plate_detection/requirements.txt (line 4)) (2.17.1)\n",
            "Requirement already satisfied: seaborn>=0.11.0 in /usr/local/lib/python3.10/dist-packages (from ultralytics==8.0.15->-r /content/License_plate_detection/requirements.txt (line 4)) (0.13.2)\n",
            "Requirement already satisfied: ipython in /usr/local/lib/python3.10/dist-packages (from ultralytics==8.0.15->-r /content/License_plate_detection/requirements.txt (line 4)) (7.34.0)\n",
            "Requirement already satisfied: psutil in /usr/local/lib/python3.10/dist-packages (from ultralytics==8.0.15->-r /content/License_plate_detection/requirements.txt (line 4)) (5.9.5)\n",
            "Collecting thop>=0.1.1 (from ultralytics==8.0.15->-r /content/License_plate_detection/requirements.txt (line 4))\n",
            "  Downloading thop-0.1.1.post2209072238-py3-none-any.whl.metadata (2.7 kB)\n",
            "Requirement already satisfied: sentry-sdk in /usr/local/lib/python3.10/dist-packages (from ultralytics==8.0.15->-r /content/License_plate_detection/requirements.txt (line 4)) (2.18.0)\n",
            "Requirement already satisfied: opencv-python-headless in /usr/local/lib/python3.10/dist-packages (from easyocr==1.7.0->-r /content/License_plate_detection/requirements.txt (line 5)) (4.10.0.84)\n",
            "Requirement already satisfied: scikit-image in /usr/local/lib/python3.10/dist-packages (from easyocr==1.7.0->-r /content/License_plate_detection/requirements.txt (line 5)) (0.24.0)\n",
            "Collecting python-bidi (from easyocr==1.7.0->-r /content/License_plate_detection/requirements.txt (line 5))\n",
            "  Downloading python_bidi-0.6.3-cp310-cp310-manylinux_2_17_x86_64.manylinux2014_x86_64.whl.metadata (4.9 kB)\n",
            "Requirement already satisfied: Shapely in /usr/local/lib/python3.10/dist-packages (from easyocr==1.7.0->-r /content/License_plate_detection/requirements.txt (line 5)) (2.0.6)\n",
            "Collecting pyclipper (from easyocr==1.7.0->-r /content/License_plate_detection/requirements.txt (line 5))\n",
            "  Downloading pyclipper-1.3.0.post6-cp310-cp310-manylinux_2_12_x86_64.manylinux2010_x86_64.whl.metadata (9.0 kB)\n",
            "Collecting ninja (from easyocr==1.7.0->-r /content/License_plate_detection/requirements.txt (line 5))\n",
            "  Downloading ninja-1.11.1.1-py2.py3-none-manylinux1_x86_64.manylinux_2_5_x86_64.whl.metadata (5.3 kB)\n",
            "Collecting protobuf<4,>=3.12 (from streamlit==1.19.0->-r /content/License_plate_detection/requirements.txt (line 1))\n",
            "  Downloading protobuf-3.20.1-cp310-cp310-manylinux_2_12_x86_64.manylinux2010_x86_64.whl.metadata (698 bytes)\n",
            "Requirement already satisfied: sympy in /usr/local/lib/python3.10/dist-packages (from coremltools==6.0->-r /content/License_plate_detection/requirements.txt (line 7)) (1.13.1)\n",
            "Requirement already satisfied: entrypoints in /usr/local/lib/python3.10/dist-packages (from altair>=3.2.0->streamlit==1.19.0->-r /content/License_plate_detection/requirements.txt (line 1)) (0.4)\n",
            "Requirement already satisfied: jinja2 in /usr/local/lib/python3.10/dist-packages (from altair>=3.2.0->streamlit==1.19.0->-r /content/License_plate_detection/requirements.txt (line 1)) (3.1.4)\n",
            "Requirement already satisfied: jsonschema>=3.0 in /usr/local/lib/python3.10/dist-packages (from altair>=3.2.0->streamlit==1.19.0->-r /content/License_plate_detection/requirements.txt (line 1)) (4.23.0)\n",
            "Requirement already satisfied: toolz in /usr/local/lib/python3.10/dist-packages (from altair>=3.2.0->streamlit==1.19.0->-r /content/License_plate_detection/requirements.txt (line 1)) (0.12.1)\n",
            "Requirement already satisfied: gitdb<5,>=4.0.1 in /usr/local/lib/python3.10/dist-packages (from gitpython!=3.1.19->streamlit==1.19.0->-r /content/License_plate_detection/requirements.txt (line 1)) (4.0.11)\n",
            "Requirement already satisfied: zipp>=3.20 in /usr/local/lib/python3.10/dist-packages (from importlib-metadata>=1.4->streamlit==1.19.0->-r /content/License_plate_detection/requirements.txt (line 1)) (3.21.0)\n",
            "Requirement already satisfied: contourpy>=1.0.1 in /usr/local/lib/python3.10/dist-packages (from matplotlib>=3.2.2->ultralytics==8.0.15->-r /content/License_plate_detection/requirements.txt (line 4)) (1.3.1)\n",
            "Requirement already satisfied: cycler>=0.10 in /usr/local/lib/python3.10/dist-packages (from matplotlib>=3.2.2->ultralytics==8.0.15->-r /content/License_plate_detection/requirements.txt (line 4)) (0.12.1)\n",
            "Requirement already satisfied: fonttools>=4.22.0 in /usr/local/lib/python3.10/dist-packages (from matplotlib>=3.2.2->ultralytics==8.0.15->-r /content/License_plate_detection/requirements.txt (line 4)) (4.54.1)\n",
            "Requirement already satisfied: kiwisolver>=1.0.1 in /usr/local/lib/python3.10/dist-packages (from matplotlib>=3.2.2->ultralytics==8.0.15->-r /content/License_plate_detection/requirements.txt (line 4)) (1.4.7)\n",
            "Requirement already satisfied: pyparsing>=2.3.1 in /usr/local/lib/python3.10/dist-packages (from matplotlib>=3.2.2->ultralytics==8.0.15->-r /content/License_plate_detection/requirements.txt (line 4)) (3.2.0)\n",
            "Requirement already satisfied: pytz>=2020.1 in /usr/local/lib/python3.10/dist-packages (from pandas>=0.25->streamlit==1.19.0->-r /content/License_plate_detection/requirements.txt (line 1)) (2024.2)\n",
            "Requirement already satisfied: tzdata>=2022.7 in /usr/local/lib/python3.10/dist-packages (from pandas>=0.25->streamlit==1.19.0->-r /content/License_plate_detection/requirements.txt (line 1)) (2024.2)\n",
            "Requirement already satisfied: six>=1.5 in /usr/local/lib/python3.10/dist-packages (from python-dateutil->streamlit==1.19.0->-r /content/License_plate_detection/requirements.txt (line 1)) (1.16.0)\n",
            "Requirement already satisfied: charset-normalizer<4,>=2 in /usr/local/lib/python3.10/dist-packages (from requests>=2.4->streamlit==1.19.0->-r /content/License_plate_detection/requirements.txt (line 1)) (3.4.0)\n",
            "Requirement already satisfied: idna<4,>=2.5 in /usr/local/lib/python3.10/dist-packages (from requests>=2.4->streamlit==1.19.0->-r /content/License_plate_detection/requirements.txt (line 1)) (3.10)\n",
            "Requirement already satisfied: urllib3<3,>=1.21.1 in /usr/local/lib/python3.10/dist-packages (from requests>=2.4->streamlit==1.19.0->-r /content/License_plate_detection/requirements.txt (line 1)) (2.2.3)\n",
            "Requirement already satisfied: certifi>=2017.4.17 in /usr/local/lib/python3.10/dist-packages (from requests>=2.4->streamlit==1.19.0->-r /content/License_plate_detection/requirements.txt (line 1)) (2024.8.30)\n",
            "Requirement already satisfied: markdown-it-py>=2.2.0 in /usr/local/lib/python3.10/dist-packages (from rich>=10.11.0->streamlit==1.19.0->-r /content/License_plate_detection/requirements.txt (line 1)) (3.0.0)\n",
            "Requirement already satisfied: pygments<3.0.0,>=2.13.0 in /usr/local/lib/python3.10/dist-packages (from rich>=10.11.0->streamlit==1.19.0->-r /content/License_plate_detection/requirements.txt (line 1)) (2.18.0)\n",
            "Requirement already satisfied: absl-py>=0.4 in /usr/local/lib/python3.10/dist-packages (from tensorboard>=2.4.1->ultralytics==8.0.15->-r /content/License_plate_detection/requirements.txt (line 4)) (1.4.0)\n",
            "Requirement already satisfied: grpcio>=1.48.2 in /usr/local/lib/python3.10/dist-packages (from tensorboard>=2.4.1->ultralytics==8.0.15->-r /content/License_plate_detection/requirements.txt (line 4)) (1.67.1)\n",
            "Requirement already satisfied: markdown>=2.6.8 in /usr/local/lib/python3.10/dist-packages (from tensorboard>=2.4.1->ultralytics==8.0.15->-r /content/License_plate_detection/requirements.txt (line 4)) (3.7)\n",
            "Requirement already satisfied: setuptools>=41.0.0 in /usr/local/lib/python3.10/dist-packages (from tensorboard>=2.4.1->ultralytics==8.0.15->-r /content/License_plate_detection/requirements.txt (line 4)) (75.1.0)\n",
            "Requirement already satisfied: tensorboard-data-server<0.8.0,>=0.7.0 in /usr/local/lib/python3.10/dist-packages (from tensorboard>=2.4.1->ultralytics==8.0.15->-r /content/License_plate_detection/requirements.txt (line 4)) (0.7.2)\n",
            "Requirement already satisfied: werkzeug>=1.0.1 in /usr/local/lib/python3.10/dist-packages (from tensorboard>=2.4.1->ultralytics==8.0.15->-r /content/License_plate_detection/requirements.txt (line 4)) (3.1.3)\n",
            "Requirement already satisfied: filelock in /usr/local/lib/python3.10/dist-packages (from torch>=1.7.0->ultralytics==8.0.15->-r /content/License_plate_detection/requirements.txt (line 4)) (3.16.1)\n",
            "Requirement already satisfied: networkx in /usr/local/lib/python3.10/dist-packages (from torch>=1.7.0->ultralytics==8.0.15->-r /content/License_plate_detection/requirements.txt (line 4)) (3.4.2)\n",
            "Requirement already satisfied: fsspec in /usr/local/lib/python3.10/dist-packages (from torch>=1.7.0->ultralytics==8.0.15->-r /content/License_plate_detection/requirements.txt (line 4)) (2024.10.0)\n",
            "Requirement already satisfied: mpmath<1.4,>=1.1.0 in /usr/local/lib/python3.10/dist-packages (from sympy->coremltools==6.0->-r /content/License_plate_detection/requirements.txt (line 7)) (1.3.0)\n",
            "Collecting jedi>=0.16 (from ipython->ultralytics==8.0.15->-r /content/License_plate_detection/requirements.txt (line 4))\n",
            "  Downloading jedi-0.19.2-py2.py3-none-any.whl.metadata (22 kB)\n",
            "Requirement already satisfied: decorator in /usr/local/lib/python3.10/dist-packages (from ipython->ultralytics==8.0.15->-r /content/License_plate_detection/requirements.txt (line 4)) (4.4.2)\n",
            "Requirement already satisfied: pickleshare in /usr/local/lib/python3.10/dist-packages (from ipython->ultralytics==8.0.15->-r /content/License_plate_detection/requirements.txt (line 4)) (0.7.5)\n",
            "Requirement already satisfied: traitlets>=4.2 in /usr/local/lib/python3.10/dist-packages (from ipython->ultralytics==8.0.15->-r /content/License_plate_detection/requirements.txt (line 4)) (5.7.1)\n",
            "Requirement already satisfied: prompt-toolkit!=3.0.0,!=3.0.1,<3.1.0,>=2.0.0 in /usr/local/lib/python3.10/dist-packages (from ipython->ultralytics==8.0.15->-r /content/License_plate_detection/requirements.txt (line 4)) (3.0.48)\n",
            "Requirement already satisfied: backcall in /usr/local/lib/python3.10/dist-packages (from ipython->ultralytics==8.0.15->-r /content/License_plate_detection/requirements.txt (line 4)) (0.2.0)\n",
            "Requirement already satisfied: matplotlib-inline in /usr/local/lib/python3.10/dist-packages (from ipython->ultralytics==8.0.15->-r /content/License_plate_detection/requirements.txt (line 4)) (0.1.7)\n",
            "Requirement already satisfied: pexpect>4.3 in /usr/local/lib/python3.10/dist-packages (from ipython->ultralytics==8.0.15->-r /content/License_plate_detection/requirements.txt (line 4)) (4.9.0)\n",
            "Requirement already satisfied: imageio>=2.33 in /usr/local/lib/python3.10/dist-packages (from scikit-image->easyocr==1.7.0->-r /content/License_plate_detection/requirements.txt (line 5)) (2.36.0)\n",
            "Requirement already satisfied: tifffile>=2022.8.12 in /usr/local/lib/python3.10/dist-packages (from scikit-image->easyocr==1.7.0->-r /content/License_plate_detection/requirements.txt (line 5)) (2024.9.20)\n",
            "Requirement already satisfied: lazy-loader>=0.4 in /usr/local/lib/python3.10/dist-packages (from scikit-image->easyocr==1.7.0->-r /content/License_plate_detection/requirements.txt (line 5)) (0.4)\n",
            "Requirement already satisfied: smmap<6,>=3.0.1 in /usr/local/lib/python3.10/dist-packages (from gitdb<5,>=4.0.1->gitpython!=3.1.19->streamlit==1.19.0->-r /content/License_plate_detection/requirements.txt (line 1)) (5.0.1)\n",
            "Requirement already satisfied: parso<0.9.0,>=0.8.4 in /usr/local/lib/python3.10/dist-packages (from jedi>=0.16->ipython->ultralytics==8.0.15->-r /content/License_plate_detection/requirements.txt (line 4)) (0.8.4)\n",
            "Requirement already satisfied: MarkupSafe>=2.0 in /usr/local/lib/python3.10/dist-packages (from jinja2->altair>=3.2.0->streamlit==1.19.0->-r /content/License_plate_detection/requirements.txt (line 1)) (3.0.2)\n",
            "Requirement already satisfied: attrs>=22.2.0 in /usr/local/lib/python3.10/dist-packages (from jsonschema>=3.0->altair>=3.2.0->streamlit==1.19.0->-r /content/License_plate_detection/requirements.txt (line 1)) (24.2.0)\n",
            "Requirement already satisfied: jsonschema-specifications>=2023.03.6 in /usr/local/lib/python3.10/dist-packages (from jsonschema>=3.0->altair>=3.2.0->streamlit==1.19.0->-r /content/License_plate_detection/requirements.txt (line 1)) (2024.10.1)\n",
            "Requirement already satisfied: referencing>=0.28.4 in /usr/local/lib/python3.10/dist-packages (from jsonschema>=3.0->altair>=3.2.0->streamlit==1.19.0->-r /content/License_plate_detection/requirements.txt (line 1)) (0.35.1)\n",
            "Requirement already satisfied: rpds-py>=0.7.1 in /usr/local/lib/python3.10/dist-packages (from jsonschema>=3.0->altair>=3.2.0->streamlit==1.19.0->-r /content/License_plate_detection/requirements.txt (line 1)) (0.21.0)\n",
            "Requirement already satisfied: mdurl~=0.1 in /usr/local/lib/python3.10/dist-packages (from markdown-it-py>=2.2.0->rich>=10.11.0->streamlit==1.19.0->-r /content/License_plate_detection/requirements.txt (line 1)) (0.1.2)\n",
            "Requirement already satisfied: ptyprocess>=0.5 in /usr/local/lib/python3.10/dist-packages (from pexpect>4.3->ipython->ultralytics==8.0.15->-r /content/License_plate_detection/requirements.txt (line 4)) (0.7.0)\n",
            "Requirement already satisfied: wcwidth in /usr/local/lib/python3.10/dist-packages (from prompt-toolkit!=3.0.0,!=3.0.1,<3.1.0,>=2.0.0->ipython->ultralytics==8.0.15->-r /content/License_plate_detection/requirements.txt (line 4)) (0.2.13)\n",
            "\u001b[33mWARNING: The candidate selected for download or install is a yanked version: 'ultralytics' candidate (version 8.0.15 at https://files.pythonhosted.org/packages/6e/f2/cbe1c7593cb7aaa29f18437db5cd1631351ec50de9235712935724aca946/ultralytics-8.0.15-py3-none-any.whl (from https://pypi.org/simple/ultralytics/) (requires-python:>=3.7,<=3.11))\n",
            "Reason for being yanked: Bug - do not use\u001b[0m\u001b[33m\n",
            "\u001b[0mDownloading streamlit-1.19.0-py2.py3-none-any.whl (9.6 MB)\n",
            "\u001b[2K   \u001b[90m━━━━━━━━━━━━━━━━━━━━━━━━━━━━━━━━━━━━━━━━\u001b[0m \u001b[32m9.6/9.6 MB\u001b[0m \u001b[31m35.2 MB/s\u001b[0m eta \u001b[36m0:00:00\u001b[0m\n",
            "\u001b[?25hDownloading opencv_python-4.7.0.72-cp37-abi3-manylinux_2_17_x86_64.manylinux2014_x86_64.whl (61.8 MB)\n",
            "\u001b[2K   \u001b[90m━━━━━━━━━━━━━━━━━━━━━━━━━━━━━━━━━━━━━━━━\u001b[0m \u001b[32m61.8/61.8 MB\u001b[0m \u001b[31m9.7 MB/s\u001b[0m eta \u001b[36m0:00:00\u001b[0m\n",
            "\u001b[?25hDownloading numpy-1.24.3-cp310-cp310-manylinux_2_17_x86_64.manylinux2014_x86_64.whl (17.3 MB)\n",
            "\u001b[2K   \u001b[90m━━━━━━━━━━━━━━━━━━━━━━━━━━━━━━━━━━━━━━━━\u001b[0m \u001b[32m17.3/17.3 MB\u001b[0m \u001b[31m63.7 MB/s\u001b[0m eta \u001b[36m0:00:00\u001b[0m\n",
            "\u001b[?25hDownloading ultralytics-8.0.15-py3-none-any.whl (257 kB)\n",
            "\u001b[2K   \u001b[90m━━━━━━━━━━━━━━━━━━━━━━━━━━━━━━━━━━━━━━━━\u001b[0m \u001b[32m257.8/257.8 kB\u001b[0m \u001b[31m16.8 MB/s\u001b[0m eta \u001b[36m0:00:00\u001b[0m\n",
            "\u001b[?25hDownloading easyocr-1.7.0-py3-none-any.whl (2.9 MB)\n",
            "\u001b[2K   \u001b[90m━━━━━━━━━━━━━━━━━━━━━━━━━━━━━━━━━━━━━━━━\u001b[0m \u001b[32m2.9/2.9 MB\u001b[0m \u001b[31m9.3 MB/s\u001b[0m eta \u001b[36m0:00:00\u001b[0m\n",
            "\u001b[?25hDownloading coremltools-6.0-cp310-none-manylinux1_x86_64.whl (1.5 MB)\n",
            "\u001b[2K   \u001b[90m━━━━━━━━━━━━━━━━━━━━━━━━━━━━━━━━━━━━━━━━\u001b[0m \u001b[32m1.5/1.5 MB\u001b[0m \u001b[31m46.0 MB/s\u001b[0m eta \u001b[36m0:00:00\u001b[0m\n",
            "\u001b[?25hDownloading protobuf-3.20.1-cp310-cp310-manylinux_2_12_x86_64.manylinux2010_x86_64.whl (1.1 MB)\n",
            "\u001b[2K   \u001b[90m━━━━━━━━━━━━━━━━━━━━━━━━━━━━━━━━━━━━━━━━\u001b[0m \u001b[32m1.1/1.1 MB\u001b[0m \u001b[31m39.9 MB/s\u001b[0m eta \u001b[36m0:00:00\u001b[0m\n",
            "\u001b[?25hDownloading pydeck-0.9.1-py2.py3-none-any.whl (6.9 MB)\n",
            "\u001b[2K   \u001b[90m━━━━━━━━━━━━━━━━━━━━━━━━━━━━━━━━━━━━━━━━\u001b[0m \u001b[32m6.9/6.9 MB\u001b[0m \u001b[31m66.7 MB/s\u001b[0m eta \u001b[36m0:00:00\u001b[0m\n",
            "\u001b[?25hDownloading Pympler-1.1-py3-none-any.whl (165 kB)\n",
            "\u001b[2K   \u001b[90m━━━━━━━━━━━━━━━━━━━━━━━━━━━━━━━━━━━━━━━━\u001b[0m \u001b[32m165.8/165.8 kB\u001b[0m \u001b[31m10.7 MB/s\u001b[0m eta \u001b[36m0:00:00\u001b[0m\n",
            "\u001b[?25hDownloading thop-0.1.1.post2209072238-py3-none-any.whl (15 kB)\n",
            "Downloading validators-0.34.0-py3-none-any.whl (43 kB)\n",
            "\u001b[2K   \u001b[90m━━━━━━━━━━━━━━━━━━━━━━━━━━━━━━━━━━━━━━━━\u001b[0m \u001b[32m43.5/43.5 kB\u001b[0m \u001b[31m2.8 MB/s\u001b[0m eta \u001b[36m0:00:00\u001b[0m\n",
            "\u001b[?25hDownloading ninja-1.11.1.1-py2.py3-none-manylinux1_x86_64.manylinux_2_5_x86_64.whl (307 kB)\n",
            "\u001b[2K   \u001b[90m━━━━━━━━━━━━━━━━━━━━━━━━━━━━━━━━━━━━━━━━\u001b[0m \u001b[32m307.2/307.2 kB\u001b[0m \u001b[31m19.5 MB/s\u001b[0m eta \u001b[36m0:00:00\u001b[0m\n",
            "\u001b[?25hDownloading pyclipper-1.3.0.post6-cp310-cp310-manylinux_2_12_x86_64.manylinux2010_x86_64.whl (912 kB)\n",
            "\u001b[2K   \u001b[90m━━━━━━━━━━━━━━━━━━━━━━━━━━━━━━━━━━━━━━━━\u001b[0m \u001b[32m912.2/912.2 kB\u001b[0m \u001b[31m43.6 MB/s\u001b[0m eta \u001b[36m0:00:00\u001b[0m\n",
            "\u001b[?25hDownloading python_bidi-0.6.3-cp310-cp310-manylinux_2_17_x86_64.manylinux2014_x86_64.whl (286 kB)\n",
            "\u001b[2K   \u001b[90m━━━━━━━━━━━━━━━━━━━━━━━━━━━━━━━━━━━━━━━━\u001b[0m \u001b[32m286.8/286.8 kB\u001b[0m \u001b[31m18.1 MB/s\u001b[0m eta \u001b[36m0:00:00\u001b[0m\n",
            "\u001b[?25hDownloading semver-3.0.2-py3-none-any.whl (17 kB)\n",
            "Downloading watchdog-6.0.0-py3-none-manylinux2014_x86_64.whl (79 kB)\n",
            "\u001b[2K   \u001b[90m━━━━━━━━━━━━━━━━━━━━━━━━━━━━━━━━━━━━━━━━\u001b[0m \u001b[32m79.1/79.1 kB\u001b[0m \u001b[31m5.1 MB/s\u001b[0m eta \u001b[36m0:00:00\u001b[0m\n",
            "\u001b[?25hDownloading jedi-0.19.2-py2.py3-none-any.whl (1.6 MB)\n",
            "\u001b[2K   \u001b[90m━━━━━━━━━━━━━━━━━━━━━━━━━━━━━━━━━━━━━━━━\u001b[0m \u001b[32m1.6/1.6 MB\u001b[0m \u001b[31m50.3 MB/s\u001b[0m eta \u001b[36m0:00:00\u001b[0m\n",
            "\u001b[?25hInstalling collected packages: python-bidi, pyclipper, ninja, watchdog, validators, semver, pympler, protobuf, numpy, jedi, pydeck, opencv-python, coremltools, thop, easyocr, ultralytics, streamlit\n",
            "  Attempting uninstall: protobuf\n",
            "    Found existing installation: protobuf 4.25.5\n",
            "    Uninstalling protobuf-4.25.5:\n",
            "      Successfully uninstalled protobuf-4.25.5\n",
            "  Attempting uninstall: numpy\n",
            "    Found existing installation: numpy 1.26.4\n",
            "    Uninstalling numpy-1.26.4:\n",
            "      Successfully uninstalled numpy-1.26.4\n",
            "  Attempting uninstall: opencv-python\n",
            "    Found existing installation: opencv-python 4.10.0.84\n",
            "    Uninstalling opencv-python-4.10.0.84:\n",
            "      Successfully uninstalled opencv-python-4.10.0.84\n",
            "\u001b[31mERROR: pip's dependency resolver does not currently take into account all the packages that are installed. This behaviour is the source of the following dependency conflicts.\n",
            "albucore 0.0.19 requires numpy>=1.24.4, but you have numpy 1.24.3 which is incompatible.\n",
            "albumentations 1.4.20 requires numpy>=1.24.4, but you have numpy 1.24.3 which is incompatible.\n",
            "google-ai-generativelanguage 0.6.10 requires protobuf!=4.21.0,!=4.21.1,!=4.21.2,!=4.21.3,!=4.21.4,!=4.21.5,<6.0.0dev,>=3.20.2, but you have protobuf 3.20.1 which is incompatible.\n",
            "google-api-core 2.19.2 requires protobuf!=3.20.0,!=3.20.1,!=4.21.0,!=4.21.1,!=4.21.2,!=4.21.3,!=4.21.4,!=4.21.5,<6.0.0.dev0,>=3.19.5, but you have protobuf 3.20.1 which is incompatible.\n",
            "google-cloud-aiplatform 1.71.1 requires protobuf!=4.21.0,!=4.21.1,!=4.21.2,!=4.21.3,!=4.21.4,!=4.21.5,<6.0.0dev,>=3.20.2, but you have protobuf 3.20.1 which is incompatible.\n",
            "google-cloud-bigquery-connection 1.16.1 requires protobuf!=4.21.0,!=4.21.1,!=4.21.2,!=4.21.3,!=4.21.4,!=4.21.5,<6.0.0dev,>=3.20.2, but you have protobuf 3.20.1 which is incompatible.\n",
            "google-cloud-bigquery-storage 2.27.0 requires protobuf!=3.20.0,!=3.20.1,!=4.21.0,!=4.21.1,!=4.21.2,!=4.21.3,!=4.21.4,!=4.21.5,<6.0.0dev,>=3.20.2, but you have protobuf 3.20.1 which is incompatible.\n",
            "google-cloud-bigtable 2.26.0 requires protobuf!=4.21.0,!=4.21.1,!=4.21.2,!=4.21.3,!=4.21.4,!=4.21.5,<6.0.0dev,>=3.20.2, but you have protobuf 3.20.1 which is incompatible.\n",
            "google-cloud-datastore 2.20.1 requires protobuf!=3.20.0,!=3.20.1,!=4.21.0,!=4.21.1,!=4.21.2,!=4.21.3,!=4.21.4,!=4.21.5,<6.0.0dev,>=3.20.2, but you have protobuf 3.20.1 which is incompatible.\n",
            "google-cloud-firestore 2.19.0 requires protobuf!=3.20.0,!=3.20.1,!=4.21.0,!=4.21.1,!=4.21.2,!=4.21.3,!=4.21.4,!=4.21.5,<6.0.0dev,>=3.20.2, but you have protobuf 3.20.1 which is incompatible.\n",
            "google-cloud-functions 1.18.0 requires protobuf!=4.21.0,!=4.21.1,!=4.21.2,!=4.21.3,!=4.21.4,!=4.21.5,<6.0.0dev,>=3.20.2, but you have protobuf 3.20.1 which is incompatible.\n",
            "google-cloud-iam 2.16.0 requires protobuf!=4.21.0,!=4.21.1,!=4.21.2,!=4.21.3,!=4.21.4,!=4.21.5,<6.0.0dev,>=3.20.2, but you have protobuf 3.20.1 which is incompatible.\n",
            "google-cloud-language 2.15.0 requires protobuf!=4.21.0,!=4.21.1,!=4.21.2,!=4.21.3,!=4.21.4,!=4.21.5,<6.0.0dev,>=3.20.2, but you have protobuf 3.20.1 which is incompatible.\n",
            "google-cloud-pubsub 2.26.1 requires protobuf!=4.21.0,!=4.21.1,!=4.21.2,!=4.21.3,!=4.21.4,!=4.21.5,<6.0.0dev,>=3.20.2, but you have protobuf 3.20.1 which is incompatible.\n",
            "google-cloud-resource-manager 1.13.0 requires protobuf!=4.21.0,!=4.21.1,!=4.21.2,!=4.21.3,!=4.21.4,!=4.21.5,<6.0.0dev,>=3.20.2, but you have protobuf 3.20.1 which is incompatible.\n",
            "google-cloud-translate 3.17.0 requires protobuf!=4.21.0,!=4.21.1,!=4.21.2,!=4.21.3,!=4.21.4,!=4.21.5,<6.0.0dev,>=3.20.2, but you have protobuf 3.20.1 which is incompatible.\n",
            "googleapis-common-protos 1.66.0 requires protobuf!=3.20.0,!=3.20.1,!=4.21.1,!=4.21.2,!=4.21.3,!=4.21.4,!=4.21.5,<6.0.0.dev0,>=3.20.2, but you have protobuf 3.20.1 which is incompatible.\n",
            "grpc-google-iam-v1 0.13.1 requires protobuf!=4.21.1,!=4.21.2,!=4.21.3,!=4.21.4,!=4.21.5,<6.0.0dev,>=3.20.2, but you have protobuf 3.20.1 which is incompatible.\n",
            "grpcio-status 1.62.3 requires protobuf>=4.21.6, but you have protobuf 3.20.1 which is incompatible.\n",
            "tensorflow 2.17.1 requires protobuf!=4.21.0,!=4.21.1,!=4.21.2,!=4.21.3,!=4.21.4,!=4.21.5,<5.0.0dev,>=3.20.3, but you have protobuf 3.20.1 which is incompatible.\n",
            "tensorflow-metadata 1.13.1 requires protobuf<5,>=3.20.3, but you have protobuf 3.20.1 which is incompatible.\u001b[0m\u001b[31m\n",
            "\u001b[0mSuccessfully installed coremltools-6.0 easyocr-1.7.0 jedi-0.19.2 ninja-1.11.1.1 numpy-1.24.3 opencv-python-4.7.0.72 protobuf-3.20.1 pyclipper-1.3.0.post6 pydeck-0.9.1 pympler-1.1 python-bidi-0.6.3 semver-3.0.2 streamlit-1.19.0 thop-0.1.1.post2209072238 ultralytics-8.0.15 validators-0.34.0 watchdog-6.0.0\n"
          ]
        },
        {
          "output_type": "display_data",
          "data": {
            "application/vnd.colab-display-data+json": {
              "pip_warning": {
                "packages": [
                  "google",
                  "numpy"
                ]
              },
              "id": "bfd7dfea340c4e7aba8460c42d9690ee"
            }
          },
          "metadata": {}
        }
      ]
    },
    {
      "cell_type": "code",
      "source": [
        "import streamlit as st\n",
        "import cv2\n",
        "import numpy as np\n",
        "from ultralytics import YOLO\n",
        "import easyocr\n",
        "from PIL import Image\n",
        "\n",
        "\n"
      ],
      "metadata": {
        "id": "fXBNxOlPLKO1"
      },
      "execution_count": 1,
      "outputs": []
    },
    {
      "cell_type": "code",
      "source": [
        "!pip uninstall ultralytics\n",
        "!pip install ultralytics\n"
      ],
      "metadata": {
        "colab": {
          "base_uri": "https://localhost:8080/",
          "height": 1000
        },
        "id": "CSnVN13_1kCv",
        "outputId": "34999453-24b1-4d28-f02e-cb28027d0f41"
      },
      "execution_count": 6,
      "outputs": [
        {
          "output_type": "stream",
          "name": "stdout",
          "text": [
            "Found existing installation: ultralytics 8.0.15\n",
            "Uninstalling ultralytics-8.0.15:\n",
            "  Would remove:\n",
            "    /usr/local/bin/ultralytics\n",
            "    /usr/local/bin/yolo\n",
            "    /usr/local/lib/python3.10/dist-packages/ultralytics-8.0.15.dist-info/*\n",
            "    /usr/local/lib/python3.10/dist-packages/ultralytics/*\n",
            "Proceed (Y/n)? y\n",
            "  Successfully uninstalled ultralytics-8.0.15\n",
            "Collecting ultralytics\n",
            "  Downloading ultralytics-8.3.32-py3-none-any.whl.metadata (35 kB)\n",
            "Requirement already satisfied: numpy>=1.23.0 in /usr/local/lib/python3.10/dist-packages (from ultralytics) (1.24.3)\n",
            "Requirement already satisfied: matplotlib>=3.3.0 in /usr/local/lib/python3.10/dist-packages (from ultralytics) (3.8.0)\n",
            "Requirement already satisfied: opencv-python>=4.6.0 in /usr/local/lib/python3.10/dist-packages (from ultralytics) (4.7.0.72)\n",
            "Requirement already satisfied: pillow>=7.1.2 in /usr/local/lib/python3.10/dist-packages (from ultralytics) (11.0.0)\n",
            "Requirement already satisfied: pyyaml>=5.3.1 in /usr/local/lib/python3.10/dist-packages (from ultralytics) (6.0.2)\n",
            "Requirement already satisfied: requests>=2.23.0 in /usr/local/lib/python3.10/dist-packages (from ultralytics) (2.32.3)\n",
            "Requirement already satisfied: scipy>=1.4.1 in /usr/local/lib/python3.10/dist-packages (from ultralytics) (1.13.1)\n",
            "Requirement already satisfied: torch>=1.8.0 in /usr/local/lib/python3.10/dist-packages (from ultralytics) (2.5.1+cu121)\n",
            "Requirement already satisfied: torchvision>=0.9.0 in /usr/local/lib/python3.10/dist-packages (from ultralytics) (0.20.1+cu121)\n",
            "Requirement already satisfied: tqdm>=4.64.0 in /usr/local/lib/python3.10/dist-packages (from ultralytics) (4.66.6)\n",
            "Requirement already satisfied: psutil in /usr/local/lib/python3.10/dist-packages (from ultralytics) (5.9.5)\n",
            "Requirement already satisfied: py-cpuinfo in /usr/local/lib/python3.10/dist-packages (from ultralytics) (9.0.0)\n",
            "Requirement already satisfied: pandas>=1.1.4 in /usr/local/lib/python3.10/dist-packages (from ultralytics) (2.2.2)\n",
            "Requirement already satisfied: seaborn>=0.11.0 in /usr/local/lib/python3.10/dist-packages (from ultralytics) (0.13.2)\n",
            "Collecting ultralytics-thop>=2.0.0 (from ultralytics)\n",
            "  Downloading ultralytics_thop-2.0.11-py3-none-any.whl.metadata (9.4 kB)\n",
            "Requirement already satisfied: contourpy>=1.0.1 in /usr/local/lib/python3.10/dist-packages (from matplotlib>=3.3.0->ultralytics) (1.3.1)\n",
            "Requirement already satisfied: cycler>=0.10 in /usr/local/lib/python3.10/dist-packages (from matplotlib>=3.3.0->ultralytics) (0.12.1)\n",
            "Requirement already satisfied: fonttools>=4.22.0 in /usr/local/lib/python3.10/dist-packages (from matplotlib>=3.3.0->ultralytics) (4.54.1)\n",
            "Requirement already satisfied: kiwisolver>=1.0.1 in /usr/local/lib/python3.10/dist-packages (from matplotlib>=3.3.0->ultralytics) (1.4.7)\n",
            "Requirement already satisfied: packaging>=20.0 in /usr/local/lib/python3.10/dist-packages (from matplotlib>=3.3.0->ultralytics) (24.2)\n",
            "Requirement already satisfied: pyparsing>=2.3.1 in /usr/local/lib/python3.10/dist-packages (from matplotlib>=3.3.0->ultralytics) (3.2.0)\n",
            "Requirement already satisfied: python-dateutil>=2.7 in /usr/local/lib/python3.10/dist-packages (from matplotlib>=3.3.0->ultralytics) (2.8.2)\n",
            "Requirement already satisfied: pytz>=2020.1 in /usr/local/lib/python3.10/dist-packages (from pandas>=1.1.4->ultralytics) (2024.2)\n",
            "Requirement already satisfied: tzdata>=2022.7 in /usr/local/lib/python3.10/dist-packages (from pandas>=1.1.4->ultralytics) (2024.2)\n",
            "Requirement already satisfied: charset-normalizer<4,>=2 in /usr/local/lib/python3.10/dist-packages (from requests>=2.23.0->ultralytics) (3.4.0)\n",
            "Requirement already satisfied: idna<4,>=2.5 in /usr/local/lib/python3.10/dist-packages (from requests>=2.23.0->ultralytics) (3.10)\n",
            "Requirement already satisfied: urllib3<3,>=1.21.1 in /usr/local/lib/python3.10/dist-packages (from requests>=2.23.0->ultralytics) (2.2.3)\n",
            "Requirement already satisfied: certifi>=2017.4.17 in /usr/local/lib/python3.10/dist-packages (from requests>=2.23.0->ultralytics) (2024.8.30)\n",
            "Requirement already satisfied: filelock in /usr/local/lib/python3.10/dist-packages (from torch>=1.8.0->ultralytics) (3.16.1)\n",
            "Requirement already satisfied: typing-extensions>=4.8.0 in /usr/local/lib/python3.10/dist-packages (from torch>=1.8.0->ultralytics) (4.12.2)\n",
            "Requirement already satisfied: networkx in /usr/local/lib/python3.10/dist-packages (from torch>=1.8.0->ultralytics) (3.4.2)\n",
            "Requirement already satisfied: jinja2 in /usr/local/lib/python3.10/dist-packages (from torch>=1.8.0->ultralytics) (3.1.4)\n",
            "Requirement already satisfied: fsspec in /usr/local/lib/python3.10/dist-packages (from torch>=1.8.0->ultralytics) (2024.10.0)\n",
            "Requirement already satisfied: sympy==1.13.1 in /usr/local/lib/python3.10/dist-packages (from torch>=1.8.0->ultralytics) (1.13.1)\n",
            "Requirement already satisfied: mpmath<1.4,>=1.1.0 in /usr/local/lib/python3.10/dist-packages (from sympy==1.13.1->torch>=1.8.0->ultralytics) (1.3.0)\n",
            "Requirement already satisfied: six>=1.5 in /usr/local/lib/python3.10/dist-packages (from python-dateutil>=2.7->matplotlib>=3.3.0->ultralytics) (1.16.0)\n",
            "Requirement already satisfied: MarkupSafe>=2.0 in /usr/local/lib/python3.10/dist-packages (from jinja2->torch>=1.8.0->ultralytics) (3.0.2)\n",
            "Downloading ultralytics-8.3.32-py3-none-any.whl (887 kB)\n",
            "\u001b[2K   \u001b[90m━━━━━━━━━━━━━━━━━━━━━━━━━━━━━━━━━━━━━━━━\u001b[0m \u001b[32m887.0/887.0 kB\u001b[0m \u001b[31m14.3 MB/s\u001b[0m eta \u001b[36m0:00:00\u001b[0m\n",
            "\u001b[?25hDownloading ultralytics_thop-2.0.11-py3-none-any.whl (26 kB)\n",
            "Installing collected packages: ultralytics-thop, ultralytics\n",
            "Successfully installed ultralytics-8.3.32 ultralytics-thop-2.0.11\n"
          ]
        },
        {
          "output_type": "display_data",
          "data": {
            "application/vnd.colab-display-data+json": {
              "pip_warning": {
                "packages": [
                  "thop",
                  "ultralytics"
                ]
              },
              "id": "8acfb6d5377f4cd68cb93138ce68f0fe"
            }
          },
          "metadata": {}
        }
      ]
    },
    {
      "cell_type": "code",
      "source": [],
      "metadata": {
        "id": "EwBedQ4s1vfT"
      },
      "execution_count": null,
      "outputs": []
    },
    {
      "cell_type": "code",
      "source": [
        "from ultralytics import YOLO\n",
        "\n",
        "# Load a pretrained YOLOv8 model\n",
        "model = YOLO(\"yolov8n.pt\")"
      ],
      "metadata": {
        "id": "52Tawa2xSYwj",
        "colab": {
          "base_uri": "https://localhost:8080/"
        },
        "outputId": "5eaf3bb6-0044-4990-b870-76d3391236d2"
      },
      "execution_count": 2,
      "outputs": [
        {
          "output_type": "stream",
          "name": "stderr",
          "text": [
            "Downloading https://github.com/ultralytics/assets/releases/download/v0.0.0/yolov8n.pt to yolov8n.pt...\n",
            "100%|██████████| 6.23M/6.23M [00:00<00:00, 76.1MB/s]\n",
            "\n",
            "/usr/local/lib/python3.10/dist-packages/ultralytics/nn/tasks.py:360: FutureWarning: You are using `torch.load` with `weights_only=False` (the current default value), which uses the default pickle module implicitly. It is possible to construct malicious pickle data which will execute arbitrary code during unpickling (See https://github.com/pytorch/pytorch/blob/main/SECURITY.md#untrusted-models for more details). In a future release, the default value for `weights_only` will be flipped to `True`. This limits the functions that could be executed during unpickling. Arbitrary objects will no longer be allowed to be loaded via this mode unless they are explicitly allowlisted by the user via `torch.serialization.add_safe_globals`. We recommend you start setting `weights_only=True` for any use case where you don't have full control of the loaded file. Please open an issue on GitHub for any issues related to this experimental feature.\n",
            "  ckpt = torch.load(attempt_download(weight), map_location='cpu')  # load\n"
          ]
        }
      ]
    },
    {
      "cell_type": "code",
      "source": [],
      "metadata": {
        "id": "Rj1d8mvH0g07"
      },
      "execution_count": null,
      "outputs": []
    },
    {
      "cell_type": "code",
      "source": [
        "model.train(\n",
        "    data='/content/License_plate_detection/License-Plate-Detector-2/data.yaml',\n",
        "    epochs=50,\n",
        "    imgsz=640  # Image size for training, typically 640x640 for YOLOv8\n",
        ")\n"
      ],
      "metadata": {
        "colab": {
          "base_uri": "https://localhost:8080/"
        },
        "id": "JeKSGZTiLKTv",
        "outputId": "593371df-ce19-43ef-ad01-66eb9c999866"
      },
      "execution_count": 3,
      "outputs": [
        {
          "output_type": "stream",
          "name": "stdout",
          "text": [
            "Ultralytics 8.3.31 🚀 Python-3.10.12 torch-2.5.1+cpu CPU (Intel Xeon 2.00GHz)\n",
            "\u001b[34m\u001b[1mengine/trainer: \u001b[0mtask=detect, mode=train, model=yolov8n.pt, data=/content/License_plate_detection/License-Plate-Detector-2/data.yaml, epochs=50, time=None, patience=100, batch=16, imgsz=640, save=True, save_period=-1, cache=False, device=None, workers=8, project=None, name=train2, exist_ok=False, pretrained=True, optimizer=auto, verbose=True, seed=0, deterministic=True, single_cls=False, rect=False, cos_lr=False, close_mosaic=10, resume=False, amp=True, fraction=1.0, profile=False, freeze=None, multi_scale=False, overlap_mask=True, mask_ratio=4, dropout=0.0, val=True, split=val, save_json=False, save_hybrid=False, conf=None, iou=0.7, max_det=300, half=False, dnn=False, plots=True, source=None, vid_stride=1, stream_buffer=False, visualize=False, augment=False, agnostic_nms=False, classes=None, retina_masks=False, embed=None, show=False, save_frames=False, save_txt=False, save_conf=False, save_crop=False, show_labels=True, show_conf=True, show_boxes=True, line_width=None, format=torchscript, keras=False, optimize=False, int8=False, dynamic=False, simplify=True, opset=None, workspace=4, nms=False, lr0=0.01, lrf=0.01, momentum=0.937, weight_decay=0.0005, warmup_epochs=3.0, warmup_momentum=0.8, warmup_bias_lr=0.1, box=7.5, cls=0.5, dfl=1.5, pose=12.0, kobj=1.0, label_smoothing=0.0, nbs=64, hsv_h=0.015, hsv_s=0.7, hsv_v=0.4, degrees=0.0, translate=0.1, scale=0.5, shear=0.0, perspective=0.0, flipud=0.0, fliplr=0.5, bgr=0.0, mosaic=1.0, mixup=0.0, copy_paste=0.0, copy_paste_mode=flip, auto_augment=randaugment, erasing=0.4, crop_fraction=1.0, cfg=None, tracker=botsort.yaml, save_dir=runs/detect/train2\n",
            "\n",
            "                   from  n    params  module                                       arguments                     \n",
            "  0                  -1  1       464  ultralytics.nn.modules.conv.Conv             [3, 16, 3, 2]                 \n",
            "  1                  -1  1      4672  ultralytics.nn.modules.conv.Conv             [16, 32, 3, 2]                \n",
            "  2                  -1  1      7360  ultralytics.nn.modules.block.C2f             [32, 32, 1, True]             \n",
            "  3                  -1  1     18560  ultralytics.nn.modules.conv.Conv             [32, 64, 3, 2]                \n",
            "  4                  -1  2     49664  ultralytics.nn.modules.block.C2f             [64, 64, 2, True]             \n",
            "  5                  -1  1     73984  ultralytics.nn.modules.conv.Conv             [64, 128, 3, 2]               \n",
            "  6                  -1  2    197632  ultralytics.nn.modules.block.C2f             [128, 128, 2, True]           \n",
            "  7                  -1  1    295424  ultralytics.nn.modules.conv.Conv             [128, 256, 3, 2]              \n",
            "  8                  -1  1    460288  ultralytics.nn.modules.block.C2f             [256, 256, 1, True]           \n",
            "  9                  -1  1    164608  ultralytics.nn.modules.block.SPPF            [256, 256, 5]                 \n",
            " 10                  -1  1         0  torch.nn.modules.upsampling.Upsample         [None, 2, 'nearest']          \n",
            " 11             [-1, 6]  1         0  ultralytics.nn.modules.conv.Concat           [1]                           \n",
            " 12                  -1  1    148224  ultralytics.nn.modules.block.C2f             [384, 128, 1]                 \n",
            " 13                  -1  1         0  torch.nn.modules.upsampling.Upsample         [None, 2, 'nearest']          \n",
            " 14             [-1, 4]  1         0  ultralytics.nn.modules.conv.Concat           [1]                           \n",
            " 15                  -1  1     37248  ultralytics.nn.modules.block.C2f             [192, 64, 1]                  \n",
            " 16                  -1  1     36992  ultralytics.nn.modules.conv.Conv             [64, 64, 3, 2]                \n",
            " 17            [-1, 12]  1         0  ultralytics.nn.modules.conv.Concat           [1]                           \n",
            " 18                  -1  1    123648  ultralytics.nn.modules.block.C2f             [192, 128, 1]                 \n",
            " 19                  -1  1    147712  ultralytics.nn.modules.conv.Conv             [128, 128, 3, 2]              \n",
            " 20             [-1, 9]  1         0  ultralytics.nn.modules.conv.Concat           [1]                           \n",
            " 21                  -1  1    493056  ultralytics.nn.modules.block.C2f             [384, 256, 1]                 \n",
            " 22        [15, 18, 21]  1    751507  ultralytics.nn.modules.head.Detect           [1, [64, 128, 256]]           \n",
            "Model summary: 225 layers, 3,011,043 parameters, 3,011,027 gradients, 8.2 GFLOPs\n",
            "\n",
            "Transferred 355/355 items from pretrained weights\n",
            "\u001b[34m\u001b[1mTensorBoard: \u001b[0mStart with 'tensorboard --logdir runs/detect/train2', view at http://localhost:6006/\n",
            "Freezing layer 'model.22.dfl.conv.weight'\n"
          ]
        },
        {
          "output_type": "stream",
          "name": "stderr",
          "text": [
            "\u001b[34m\u001b[1mtrain: \u001b[0mScanning /content/License_plate_detection/License-Plate-Detector-2/train/labels.cache... 277 images, 0 backgrounds, 0 corrupt: 100%|██████████| 277/277 [00:00<?, ?it/s]\n",
            "\u001b[34m\u001b[1mval: \u001b[0mScanning /content/License_plate_detection/License-Plate-Detector-2/valid/labels.cache... 81 images, 0 backgrounds, 0 corrupt: 100%|██████████| 81/81 [00:00<?, ?it/s]\n"
          ]
        },
        {
          "output_type": "stream",
          "name": "stdout",
          "text": [
            "Plotting labels to runs/detect/train2/labels.jpg... \n",
            "\u001b[34m\u001b[1moptimizer:\u001b[0m 'optimizer=auto' found, ignoring 'lr0=0.01' and 'momentum=0.937' and determining best 'optimizer', 'lr0' and 'momentum' automatically... \n",
            "\u001b[34m\u001b[1moptimizer:\u001b[0m AdamW(lr=0.002, momentum=0.9) with parameter groups 57 weight(decay=0.0), 64 weight(decay=0.0005), 63 bias(decay=0.0)\n",
            "\u001b[34m\u001b[1mTensorBoard: \u001b[0mmodel graph visualization added ✅\n",
            "Image sizes 640 train, 640 val\n",
            "Using 0 dataloader workers\n",
            "Logging results to \u001b[1mruns/detect/train2\u001b[0m\n",
            "Starting training for 50 epochs...\n",
            "\n",
            "      Epoch    GPU_mem   box_loss   cls_loss   dfl_loss  Instances       Size\n"
          ]
        },
        {
          "output_type": "stream",
          "name": "stderr",
          "text": [
            "       1/50         0G      1.114      2.888      1.216          6        640: 100%|██████████| 18/18 [00:30<00:00,  1.69s/it]\n",
            "                 Class     Images  Instances      Box(P          R      mAP50  mAP50-95): 100%|██████████| 3/3 [00:03<00:00,  1.12s/it]"
          ]
        },
        {
          "output_type": "stream",
          "name": "stdout",
          "text": [
            "                   all         81         81    0.00333          1      0.942      0.699\n"
          ]
        },
        {
          "output_type": "stream",
          "name": "stderr",
          "text": [
            "\n"
          ]
        },
        {
          "output_type": "stream",
          "name": "stdout",
          "text": [
            "\n",
            "      Epoch    GPU_mem   box_loss   cls_loss   dfl_loss  Instances       Size\n"
          ]
        },
        {
          "output_type": "stream",
          "name": "stderr",
          "text": [
            "       2/50         0G     0.9783       1.73      1.022         10        640: 100%|██████████| 18/18 [00:28<00:00,  1.61s/it]\n",
            "                 Class     Images  Instances      Box(P          R      mAP50  mAP50-95): 100%|██████████| 3/3 [00:03<00:00,  1.14s/it]"
          ]
        },
        {
          "output_type": "stream",
          "name": "stdout",
          "text": [
            "                   all         81         81    0.00321      0.963      0.734      0.572\n"
          ]
        },
        {
          "output_type": "stream",
          "name": "stderr",
          "text": [
            "\n"
          ]
        },
        {
          "output_type": "stream",
          "name": "stdout",
          "text": [
            "\n",
            "      Epoch    GPU_mem   box_loss   cls_loss   dfl_loss  Instances       Size\n"
          ]
        },
        {
          "output_type": "stream",
          "name": "stderr",
          "text": [
            "       3/50         0G      1.009      1.546       1.06          9        640: 100%|██████████| 18/18 [00:29<00:00,  1.61s/it]\n",
            "                 Class     Images  Instances      Box(P          R      mAP50  mAP50-95): 100%|██████████| 3/3 [00:03<00:00,  1.07s/it]"
          ]
        },
        {
          "output_type": "stream",
          "name": "stdout",
          "text": [
            "                   all         81         81      0.958      0.567      0.807      0.511\n"
          ]
        },
        {
          "output_type": "stream",
          "name": "stderr",
          "text": [
            "\n"
          ]
        },
        {
          "output_type": "stream",
          "name": "stdout",
          "text": [
            "\n",
            "      Epoch    GPU_mem   box_loss   cls_loss   dfl_loss  Instances       Size\n"
          ]
        },
        {
          "output_type": "stream",
          "name": "stderr",
          "text": [
            "       4/50         0G      1.059      1.559       1.07         11        640: 100%|██████████| 18/18 [00:29<00:00,  1.62s/it]\n",
            "                 Class     Images  Instances      Box(P          R      mAP50  mAP50-95): 100%|██████████| 3/3 [00:03<00:00,  1.14s/it]"
          ]
        },
        {
          "output_type": "stream",
          "name": "stdout",
          "text": [
            "                   all         81         81      0.717      0.688      0.789      0.549\n"
          ]
        },
        {
          "output_type": "stream",
          "name": "stderr",
          "text": [
            "\n"
          ]
        },
        {
          "output_type": "stream",
          "name": "stdout",
          "text": [
            "\n",
            "      Epoch    GPU_mem   box_loss   cls_loss   dfl_loss  Instances       Size\n"
          ]
        },
        {
          "output_type": "stream",
          "name": "stderr",
          "text": [
            "       5/50         0G      1.071      1.493      1.103          9        640: 100%|██████████| 18/18 [00:29<00:00,  1.61s/it]\n",
            "                 Class     Images  Instances      Box(P          R      mAP50  mAP50-95): 100%|██████████| 3/3 [00:03<00:00,  1.08s/it]"
          ]
        },
        {
          "output_type": "stream",
          "name": "stdout",
          "text": [
            "                   all         81         81      0.536      0.614      0.523      0.325\n"
          ]
        },
        {
          "output_type": "stream",
          "name": "stderr",
          "text": [
            "\n"
          ]
        },
        {
          "output_type": "stream",
          "name": "stdout",
          "text": [
            "\n",
            "      Epoch    GPU_mem   box_loss   cls_loss   dfl_loss  Instances       Size\n"
          ]
        },
        {
          "output_type": "stream",
          "name": "stderr",
          "text": [
            "       6/50         0G      1.084      1.445      1.121          7        640: 100%|██████████| 18/18 [00:28<00:00,  1.61s/it]\n",
            "                 Class     Images  Instances      Box(P          R      mAP50  mAP50-95): 100%|██████████| 3/3 [00:03<00:00,  1.07s/it]"
          ]
        },
        {
          "output_type": "stream",
          "name": "stdout",
          "text": [
            "                   all         81         81      0.298      0.778      0.321      0.175\n"
          ]
        },
        {
          "output_type": "stream",
          "name": "stderr",
          "text": [
            "\n"
          ]
        },
        {
          "output_type": "stream",
          "name": "stdout",
          "text": [
            "\n",
            "      Epoch    GPU_mem   box_loss   cls_loss   dfl_loss  Instances       Size\n"
          ]
        },
        {
          "output_type": "stream",
          "name": "stderr",
          "text": [
            "       7/50         0G      1.067      1.349      1.101          9        640: 100%|██████████| 18/18 [00:28<00:00,  1.58s/it]\n",
            "                 Class     Images  Instances      Box(P          R      mAP50  mAP50-95): 100%|██████████| 3/3 [00:03<00:00,  1.09s/it]"
          ]
        },
        {
          "output_type": "stream",
          "name": "stdout",
          "text": [
            "                   all         81         81       0.57      0.667      0.673      0.429\n"
          ]
        },
        {
          "output_type": "stream",
          "name": "stderr",
          "text": [
            "\n"
          ]
        },
        {
          "output_type": "stream",
          "name": "stdout",
          "text": [
            "\n",
            "      Epoch    GPU_mem   box_loss   cls_loss   dfl_loss  Instances       Size\n"
          ]
        },
        {
          "output_type": "stream",
          "name": "stderr",
          "text": [
            "       8/50         0G      1.014      1.254      1.093          6        640: 100%|██████████| 18/18 [00:28<00:00,  1.60s/it]\n",
            "                 Class     Images  Instances      Box(P          R      mAP50  mAP50-95): 100%|██████████| 3/3 [00:02<00:00,  1.00it/s]"
          ]
        },
        {
          "output_type": "stream",
          "name": "stdout",
          "text": [
            "                   all         81         81      0.764      0.815      0.804      0.515\n"
          ]
        },
        {
          "output_type": "stream",
          "name": "stderr",
          "text": [
            "\n"
          ]
        },
        {
          "output_type": "stream",
          "name": "stdout",
          "text": [
            "\n",
            "      Epoch    GPU_mem   box_loss   cls_loss   dfl_loss  Instances       Size\n"
          ]
        },
        {
          "output_type": "stream",
          "name": "stderr",
          "text": [
            "       9/50         0G      1.034      1.145      1.103          7        640: 100%|██████████| 18/18 [00:28<00:00,  1.59s/it]\n",
            "                 Class     Images  Instances      Box(P          R      mAP50  mAP50-95): 100%|██████████| 3/3 [00:03<00:00,  1.06s/it]"
          ]
        },
        {
          "output_type": "stream",
          "name": "stdout",
          "text": [
            "                   all         81         81      0.866      0.878      0.935      0.713\n"
          ]
        },
        {
          "output_type": "stream",
          "name": "stderr",
          "text": [
            "\n"
          ]
        },
        {
          "output_type": "stream",
          "name": "stdout",
          "text": [
            "\n",
            "      Epoch    GPU_mem   box_loss   cls_loss   dfl_loss  Instances       Size\n"
          ]
        },
        {
          "output_type": "stream",
          "name": "stderr",
          "text": [
            "      10/50         0G      1.032      1.059      1.094         10        640: 100%|██████████| 18/18 [00:28<00:00,  1.60s/it]\n",
            "                 Class     Images  Instances      Box(P          R      mAP50  mAP50-95): 100%|██████████| 3/3 [00:02<00:00,  1.02it/s]"
          ]
        },
        {
          "output_type": "stream",
          "name": "stdout",
          "text": [
            "                   all         81         81      0.627      0.864      0.664      0.505\n"
          ]
        },
        {
          "output_type": "stream",
          "name": "stderr",
          "text": [
            "\n"
          ]
        },
        {
          "output_type": "stream",
          "name": "stdout",
          "text": [
            "\n",
            "      Epoch    GPU_mem   box_loss   cls_loss   dfl_loss  Instances       Size\n"
          ]
        },
        {
          "output_type": "stream",
          "name": "stderr",
          "text": [
            "      11/50         0G     0.9686      1.033      1.062          6        640: 100%|██████████| 18/18 [00:28<00:00,  1.60s/it]\n",
            "                 Class     Images  Instances      Box(P          R      mAP50  mAP50-95): 100%|██████████| 3/3 [00:03<00:00,  1.02s/it]"
          ]
        },
        {
          "output_type": "stream",
          "name": "stdout",
          "text": [
            "                   all         81         81      0.693      0.556      0.638      0.438\n"
          ]
        },
        {
          "output_type": "stream",
          "name": "stderr",
          "text": [
            "\n"
          ]
        },
        {
          "output_type": "stream",
          "name": "stdout",
          "text": [
            "\n",
            "      Epoch    GPU_mem   box_loss   cls_loss   dfl_loss  Instances       Size\n"
          ]
        },
        {
          "output_type": "stream",
          "name": "stderr",
          "text": [
            "      12/50         0G     0.9848     0.9882       1.08          6        640: 100%|██████████| 18/18 [00:28<00:00,  1.60s/it]\n",
            "                 Class     Images  Instances      Box(P          R      mAP50  mAP50-95): 100%|██████████| 3/3 [00:02<00:00,  1.04it/s]"
          ]
        },
        {
          "output_type": "stream",
          "name": "stdout",
          "text": [
            "                   all         81         81      0.918       0.84      0.934      0.701\n"
          ]
        },
        {
          "output_type": "stream",
          "name": "stderr",
          "text": [
            "\n"
          ]
        },
        {
          "output_type": "stream",
          "name": "stdout",
          "text": [
            "\n",
            "      Epoch    GPU_mem   box_loss   cls_loss   dfl_loss  Instances       Size\n"
          ]
        },
        {
          "output_type": "stream",
          "name": "stderr",
          "text": [
            "      13/50         0G     0.9232      0.911      1.059          4        640: 100%|██████████| 18/18 [00:28<00:00,  1.60s/it]\n",
            "                 Class     Images  Instances      Box(P          R      mAP50  mAP50-95): 100%|██████████| 3/3 [00:02<00:00,  1.00it/s]"
          ]
        },
        {
          "output_type": "stream",
          "name": "stdout",
          "text": [
            "                   all         81         81       0.94      0.926      0.968      0.693\n"
          ]
        },
        {
          "output_type": "stream",
          "name": "stderr",
          "text": [
            "\n"
          ]
        },
        {
          "output_type": "stream",
          "name": "stdout",
          "text": [
            "\n",
            "      Epoch    GPU_mem   box_loss   cls_loss   dfl_loss  Instances       Size\n"
          ]
        },
        {
          "output_type": "stream",
          "name": "stderr",
          "text": [
            "      14/50         0G     0.9716     0.9506      1.106          9        640: 100%|██████████| 18/18 [00:28<00:00,  1.59s/it]\n",
            "                 Class     Images  Instances      Box(P          R      mAP50  mAP50-95): 100%|██████████| 3/3 [00:02<00:00,  1.01it/s]"
          ]
        },
        {
          "output_type": "stream",
          "name": "stdout",
          "text": [
            "                   all         81         81      0.993      0.926      0.963       0.75\n"
          ]
        },
        {
          "output_type": "stream",
          "name": "stderr",
          "text": [
            "\n"
          ]
        },
        {
          "output_type": "stream",
          "name": "stdout",
          "text": [
            "\n",
            "      Epoch    GPU_mem   box_loss   cls_loss   dfl_loss  Instances       Size\n"
          ]
        },
        {
          "output_type": "stream",
          "name": "stderr",
          "text": [
            "      15/50         0G     0.9353      0.873      1.057          9        640: 100%|██████████| 18/18 [00:29<00:00,  1.63s/it]\n",
            "                 Class     Images  Instances      Box(P          R      mAP50  mAP50-95): 100%|██████████| 3/3 [00:02<00:00,  1.01it/s]"
          ]
        },
        {
          "output_type": "stream",
          "name": "stdout",
          "text": [
            "                   all         81         81      0.968      0.975      0.976      0.783\n"
          ]
        },
        {
          "output_type": "stream",
          "name": "stderr",
          "text": [
            "\n"
          ]
        },
        {
          "output_type": "stream",
          "name": "stdout",
          "text": [
            "\n",
            "      Epoch    GPU_mem   box_loss   cls_loss   dfl_loss  Instances       Size\n"
          ]
        },
        {
          "output_type": "stream",
          "name": "stderr",
          "text": [
            "      16/50         0G     0.9117     0.8302      1.046          6        640: 100%|██████████| 18/18 [00:28<00:00,  1.60s/it]\n",
            "                 Class     Images  Instances      Box(P          R      mAP50  mAP50-95): 100%|██████████| 3/3 [00:03<00:00,  1.04s/it]"
          ]
        },
        {
          "output_type": "stream",
          "name": "stdout",
          "text": [
            "                   all         81         81       0.94      0.972      0.981       0.79\n"
          ]
        },
        {
          "output_type": "stream",
          "name": "stderr",
          "text": [
            "\n"
          ]
        },
        {
          "output_type": "stream",
          "name": "stdout",
          "text": [
            "\n",
            "      Epoch    GPU_mem   box_loss   cls_loss   dfl_loss  Instances       Size\n"
          ]
        },
        {
          "output_type": "stream",
          "name": "stderr",
          "text": [
            "      17/50         0G     0.8758     0.7982      1.047         13        640: 100%|██████████| 18/18 [00:29<00:00,  1.61s/it]\n",
            "                 Class     Images  Instances      Box(P          R      mAP50  mAP50-95): 100%|██████████| 3/3 [00:03<00:00,  1.03s/it]"
          ]
        },
        {
          "output_type": "stream",
          "name": "stdout",
          "text": [
            "                   all         81         81      0.972      0.963      0.973      0.778\n"
          ]
        },
        {
          "output_type": "stream",
          "name": "stderr",
          "text": [
            "\n"
          ]
        },
        {
          "output_type": "stream",
          "name": "stdout",
          "text": [
            "\n",
            "      Epoch    GPU_mem   box_loss   cls_loss   dfl_loss  Instances       Size\n"
          ]
        },
        {
          "output_type": "stream",
          "name": "stderr",
          "text": [
            "      18/50         0G     0.8818     0.7754      1.014          4        640: 100%|██████████| 18/18 [00:28<00:00,  1.60s/it]\n",
            "                 Class     Images  Instances      Box(P          R      mAP50  mAP50-95): 100%|██████████| 3/3 [00:03<00:00,  1.03s/it]"
          ]
        },
        {
          "output_type": "stream",
          "name": "stdout",
          "text": [
            "                   all         81         81      0.987      0.961      0.973       0.72\n"
          ]
        },
        {
          "output_type": "stream",
          "name": "stderr",
          "text": [
            "\n"
          ]
        },
        {
          "output_type": "stream",
          "name": "stdout",
          "text": [
            "\n",
            "      Epoch    GPU_mem   box_loss   cls_loss   dfl_loss  Instances       Size\n"
          ]
        },
        {
          "output_type": "stream",
          "name": "stderr",
          "text": [
            "      19/50         0G     0.8372     0.7232      1.011          9        640: 100%|██████████| 18/18 [00:28<00:00,  1.59s/it]\n",
            "                 Class     Images  Instances      Box(P          R      mAP50  mAP50-95): 100%|██████████| 3/3 [00:02<00:00,  1.03it/s]"
          ]
        },
        {
          "output_type": "stream",
          "name": "stdout",
          "text": [
            "                   all         81         81      0.954      0.975      0.983      0.807\n"
          ]
        },
        {
          "output_type": "stream",
          "name": "stderr",
          "text": [
            "\n"
          ]
        },
        {
          "output_type": "stream",
          "name": "stdout",
          "text": [
            "\n",
            "      Epoch    GPU_mem   box_loss   cls_loss   dfl_loss  Instances       Size\n"
          ]
        },
        {
          "output_type": "stream",
          "name": "stderr",
          "text": [
            "      20/50         0G     0.8155     0.6901     0.9984          6        640: 100%|██████████| 18/18 [00:29<00:00,  1.62s/it]\n",
            "                 Class     Images  Instances      Box(P          R      mAP50  mAP50-95): 100%|██████████| 3/3 [00:02<00:00,  1.03it/s]"
          ]
        },
        {
          "output_type": "stream",
          "name": "stdout",
          "text": [
            "                   all         81         81      0.975      0.963      0.981      0.816\n"
          ]
        },
        {
          "output_type": "stream",
          "name": "stderr",
          "text": [
            "\n"
          ]
        },
        {
          "output_type": "stream",
          "name": "stdout",
          "text": [
            "\n",
            "      Epoch    GPU_mem   box_loss   cls_loss   dfl_loss  Instances       Size\n"
          ]
        },
        {
          "output_type": "stream",
          "name": "stderr",
          "text": [
            "      21/50         0G     0.8511     0.7111       1.04          6        640: 100%|██████████| 18/18 [00:28<00:00,  1.59s/it]\n",
            "                 Class     Images  Instances      Box(P          R      mAP50  mAP50-95): 100%|██████████| 3/3 [00:02<00:00,  1.02it/s]"
          ]
        },
        {
          "output_type": "stream",
          "name": "stdout",
          "text": [
            "                   all         81         81      0.964      0.988      0.984      0.797\n"
          ]
        },
        {
          "output_type": "stream",
          "name": "stderr",
          "text": [
            "\n"
          ]
        },
        {
          "output_type": "stream",
          "name": "stdout",
          "text": [
            "\n",
            "      Epoch    GPU_mem   box_loss   cls_loss   dfl_loss  Instances       Size\n"
          ]
        },
        {
          "output_type": "stream",
          "name": "stderr",
          "text": [
            "      22/50         0G     0.8273     0.6633     0.9905         10        640: 100%|██████████| 18/18 [00:29<00:00,  1.62s/it]\n",
            "                 Class     Images  Instances      Box(P          R      mAP50  mAP50-95): 100%|██████████| 3/3 [00:03<00:00,  1.01s/it]"
          ]
        },
        {
          "output_type": "stream",
          "name": "stdout",
          "text": [
            "                   all         81         81      0.987      0.988      0.984      0.806\n"
          ]
        },
        {
          "output_type": "stream",
          "name": "stderr",
          "text": [
            "\n"
          ]
        },
        {
          "output_type": "stream",
          "name": "stdout",
          "text": [
            "\n",
            "      Epoch    GPU_mem   box_loss   cls_loss   dfl_loss  Instances       Size\n"
          ]
        },
        {
          "output_type": "stream",
          "name": "stderr",
          "text": [
            "      23/50         0G     0.8338     0.6823      1.007          7        640: 100%|██████████| 18/18 [00:29<00:00,  1.61s/it]\n",
            "                 Class     Images  Instances      Box(P          R      mAP50  mAP50-95): 100%|██████████| 3/3 [00:03<00:00,  1.04s/it]"
          ]
        },
        {
          "output_type": "stream",
          "name": "stdout",
          "text": [
            "                   all         81         81      0.962      0.948      0.981       0.81\n"
          ]
        },
        {
          "output_type": "stream",
          "name": "stderr",
          "text": [
            "\n"
          ]
        },
        {
          "output_type": "stream",
          "name": "stdout",
          "text": [
            "\n",
            "      Epoch    GPU_mem   box_loss   cls_loss   dfl_loss  Instances       Size\n"
          ]
        },
        {
          "output_type": "stream",
          "name": "stderr",
          "text": [
            "      24/50         0G     0.8003     0.6584      1.002         11        640: 100%|██████████| 18/18 [00:29<00:00,  1.62s/it]\n",
            "                 Class     Images  Instances      Box(P          R      mAP50  mAP50-95): 100%|██████████| 3/3 [00:02<00:00,  1.03it/s]"
          ]
        },
        {
          "output_type": "stream",
          "name": "stdout",
          "text": [
            "                   all         81         81       0.95      0.943      0.979      0.821\n"
          ]
        },
        {
          "output_type": "stream",
          "name": "stderr",
          "text": [
            "\n"
          ]
        },
        {
          "output_type": "stream",
          "name": "stdout",
          "text": [
            "\n",
            "      Epoch    GPU_mem   box_loss   cls_loss   dfl_loss  Instances       Size\n"
          ]
        },
        {
          "output_type": "stream",
          "name": "stderr",
          "text": [
            "      25/50         0G     0.8273     0.6822      1.018          6        640: 100%|██████████| 18/18 [00:29<00:00,  1.63s/it]\n",
            "                 Class     Images  Instances      Box(P          R      mAP50  mAP50-95): 100%|██████████| 3/3 [00:03<00:00,  1.01s/it]"
          ]
        },
        {
          "output_type": "stream",
          "name": "stdout",
          "text": [
            "                   all         81         81      0.937      0.951      0.968      0.797\n"
          ]
        },
        {
          "output_type": "stream",
          "name": "stderr",
          "text": [
            "\n"
          ]
        },
        {
          "output_type": "stream",
          "name": "stdout",
          "text": [
            "\n",
            "      Epoch    GPU_mem   box_loss   cls_loss   dfl_loss  Instances       Size\n"
          ]
        },
        {
          "output_type": "stream",
          "name": "stderr",
          "text": [
            "      26/50         0G     0.7834     0.6178     0.9812          6        640: 100%|██████████| 18/18 [00:29<00:00,  1.61s/it]\n",
            "                 Class     Images  Instances      Box(P          R      mAP50  mAP50-95): 100%|██████████| 3/3 [00:02<00:00,  1.02it/s]"
          ]
        },
        {
          "output_type": "stream",
          "name": "stdout",
          "text": [
            "                   all         81         81      0.987      0.972      0.979      0.819\n"
          ]
        },
        {
          "output_type": "stream",
          "name": "stderr",
          "text": [
            "\n"
          ]
        },
        {
          "output_type": "stream",
          "name": "stdout",
          "text": [
            "\n",
            "      Epoch    GPU_mem   box_loss   cls_loss   dfl_loss  Instances       Size\n"
          ]
        },
        {
          "output_type": "stream",
          "name": "stderr",
          "text": [
            "      27/50         0G     0.8143     0.6265      1.013          5        640: 100%|██████████| 18/18 [00:29<00:00,  1.64s/it]\n",
            "                 Class     Images  Instances      Box(P          R      mAP50  mAP50-95): 100%|██████████| 3/3 [00:02<00:00,  1.00it/s]"
          ]
        },
        {
          "output_type": "stream",
          "name": "stdout",
          "text": [
            "                   all         81         81      0.975      0.975      0.982      0.789\n"
          ]
        },
        {
          "output_type": "stream",
          "name": "stderr",
          "text": [
            "\n"
          ]
        },
        {
          "output_type": "stream",
          "name": "stdout",
          "text": [
            "\n",
            "      Epoch    GPU_mem   box_loss   cls_loss   dfl_loss  Instances       Size\n"
          ]
        },
        {
          "output_type": "stream",
          "name": "stderr",
          "text": [
            "      28/50         0G     0.8177     0.6391      1.018          9        640: 100%|██████████| 18/18 [00:29<00:00,  1.62s/it]\n",
            "                 Class     Images  Instances      Box(P          R      mAP50  mAP50-95): 100%|██████████| 3/3 [00:03<00:00,  1.08s/it]"
          ]
        },
        {
          "output_type": "stream",
          "name": "stdout",
          "text": [
            "                   all         81         81      0.986      0.988      0.983      0.816\n"
          ]
        },
        {
          "output_type": "stream",
          "name": "stderr",
          "text": [
            "\n"
          ]
        },
        {
          "output_type": "stream",
          "name": "stdout",
          "text": [
            "\n",
            "      Epoch    GPU_mem   box_loss   cls_loss   dfl_loss  Instances       Size\n"
          ]
        },
        {
          "output_type": "stream",
          "name": "stderr",
          "text": [
            "      29/50         0G     0.7813     0.6414     0.9938          8        640: 100%|██████████| 18/18 [00:29<00:00,  1.62s/it]\n",
            "                 Class     Images  Instances      Box(P          R      mAP50  mAP50-95): 100%|██████████| 3/3 [00:02<00:00,  1.05it/s]"
          ]
        },
        {
          "output_type": "stream",
          "name": "stdout",
          "text": [
            "                   all         81         81      0.964      0.988      0.984      0.817\n"
          ]
        },
        {
          "output_type": "stream",
          "name": "stderr",
          "text": [
            "\n"
          ]
        },
        {
          "output_type": "stream",
          "name": "stdout",
          "text": [
            "\n",
            "      Epoch    GPU_mem   box_loss   cls_loss   dfl_loss  Instances       Size\n"
          ]
        },
        {
          "output_type": "stream",
          "name": "stderr",
          "text": [
            "      30/50         0G     0.7464     0.6215     0.9968          3        640: 100%|██████████| 18/18 [00:29<00:00,  1.62s/it]\n",
            "                 Class     Images  Instances      Box(P          R      mAP50  mAP50-95): 100%|██████████| 3/3 [00:03<00:00,  1.02s/it]"
          ]
        },
        {
          "output_type": "stream",
          "name": "stdout",
          "text": [
            "                   all         81         81      0.987      0.971      0.978      0.849\n"
          ]
        },
        {
          "output_type": "stream",
          "name": "stderr",
          "text": [
            "\n"
          ]
        },
        {
          "output_type": "stream",
          "name": "stdout",
          "text": [
            "\n",
            "      Epoch    GPU_mem   box_loss   cls_loss   dfl_loss  Instances       Size\n"
          ]
        },
        {
          "output_type": "stream",
          "name": "stderr",
          "text": [
            "      31/50         0G     0.7373     0.5733      0.964          6        640: 100%|██████████| 18/18 [00:29<00:00,  1.62s/it]\n",
            "                 Class     Images  Instances      Box(P          R      mAP50  mAP50-95): 100%|██████████| 3/3 [00:02<00:00,  1.05it/s]"
          ]
        },
        {
          "output_type": "stream",
          "name": "stdout",
          "text": [
            "                   all         81         81      0.988      0.984      0.985      0.821\n"
          ]
        },
        {
          "output_type": "stream",
          "name": "stderr",
          "text": [
            "\n"
          ]
        },
        {
          "output_type": "stream",
          "name": "stdout",
          "text": [
            "\n",
            "      Epoch    GPU_mem   box_loss   cls_loss   dfl_loss  Instances       Size\n"
          ]
        },
        {
          "output_type": "stream",
          "name": "stderr",
          "text": [
            "      32/50         0G     0.7322     0.5846     0.9596          8        640: 100%|██████████| 18/18 [00:29<00:00,  1.63s/it]\n",
            "                 Class     Images  Instances      Box(P          R      mAP50  mAP50-95): 100%|██████████| 3/3 [00:02<00:00,  1.01it/s]"
          ]
        },
        {
          "output_type": "stream",
          "name": "stdout",
          "text": [
            "                   all         81         81      0.985      0.988      0.985      0.818\n"
          ]
        },
        {
          "output_type": "stream",
          "name": "stderr",
          "text": [
            "\n"
          ]
        },
        {
          "output_type": "stream",
          "name": "stdout",
          "text": [
            "\n",
            "      Epoch    GPU_mem   box_loss   cls_loss   dfl_loss  Instances       Size\n"
          ]
        },
        {
          "output_type": "stream",
          "name": "stderr",
          "text": [
            "      33/50         0G     0.7944     0.5949      1.025          5        640: 100%|██████████| 18/18 [00:29<00:00,  1.62s/it]\n",
            "                 Class     Images  Instances      Box(P          R      mAP50  mAP50-95): 100%|██████████| 3/3 [00:03<00:00,  1.01s/it]"
          ]
        },
        {
          "output_type": "stream",
          "name": "stdout",
          "text": [
            "                   all         81         81      0.986      0.988      0.985      0.824\n"
          ]
        },
        {
          "output_type": "stream",
          "name": "stderr",
          "text": [
            "\n"
          ]
        },
        {
          "output_type": "stream",
          "name": "stdout",
          "text": [
            "\n",
            "      Epoch    GPU_mem   box_loss   cls_loss   dfl_loss  Instances       Size\n"
          ]
        },
        {
          "output_type": "stream",
          "name": "stderr",
          "text": [
            "      34/50         0G      0.701     0.5402     0.9555         10        640: 100%|██████████| 18/18 [00:29<00:00,  1.63s/it]\n",
            "                 Class     Images  Instances      Box(P          R      mAP50  mAP50-95): 100%|██████████| 3/3 [00:03<00:00,  1.01s/it]"
          ]
        },
        {
          "output_type": "stream",
          "name": "stdout",
          "text": [
            "                   all         81         81      0.975      0.975      0.984      0.811\n"
          ]
        },
        {
          "output_type": "stream",
          "name": "stderr",
          "text": [
            "\n"
          ]
        },
        {
          "output_type": "stream",
          "name": "stdout",
          "text": [
            "\n",
            "      Epoch    GPU_mem   box_loss   cls_loss   dfl_loss  Instances       Size\n"
          ]
        },
        {
          "output_type": "stream",
          "name": "stderr",
          "text": [
            "      35/50         0G     0.7499     0.5531     0.9853         10        640: 100%|██████████| 18/18 [00:29<00:00,  1.63s/it]\n",
            "                 Class     Images  Instances      Box(P          R      mAP50  mAP50-95): 100%|██████████| 3/3 [00:03<00:00,  1.03s/it]"
          ]
        },
        {
          "output_type": "stream",
          "name": "stdout",
          "text": [
            "                   all         81         81      0.986      0.988      0.984      0.821\n"
          ]
        },
        {
          "output_type": "stream",
          "name": "stderr",
          "text": [
            "\n"
          ]
        },
        {
          "output_type": "stream",
          "name": "stdout",
          "text": [
            "\n",
            "      Epoch    GPU_mem   box_loss   cls_loss   dfl_loss  Instances       Size\n"
          ]
        },
        {
          "output_type": "stream",
          "name": "stderr",
          "text": [
            "      36/50         0G     0.7219      0.559     0.9889          7        640: 100%|██████████| 18/18 [00:29<00:00,  1.62s/it]\n",
            "                 Class     Images  Instances      Box(P          R      mAP50  mAP50-95): 100%|██████████| 3/3 [00:02<00:00,  1.04it/s]"
          ]
        },
        {
          "output_type": "stream",
          "name": "stdout",
          "text": [
            "                   all         81         81      0.986      0.988      0.984      0.835\n"
          ]
        },
        {
          "output_type": "stream",
          "name": "stderr",
          "text": [
            "\n"
          ]
        },
        {
          "output_type": "stream",
          "name": "stdout",
          "text": [
            "\n",
            "      Epoch    GPU_mem   box_loss   cls_loss   dfl_loss  Instances       Size\n"
          ]
        },
        {
          "output_type": "stream",
          "name": "stderr",
          "text": [
            "      37/50         0G     0.7236     0.5604     0.9641          5        640: 100%|██████████| 18/18 [00:29<00:00,  1.64s/it]\n",
            "                 Class     Images  Instances      Box(P          R      mAP50  mAP50-95): 100%|██████████| 3/3 [00:02<00:00,  1.03it/s]"
          ]
        },
        {
          "output_type": "stream",
          "name": "stdout",
          "text": [
            "                   all         81         81      0.988      0.987      0.984       0.82\n"
          ]
        },
        {
          "output_type": "stream",
          "name": "stderr",
          "text": [
            "\n"
          ]
        },
        {
          "output_type": "stream",
          "name": "stdout",
          "text": [
            "\n",
            "      Epoch    GPU_mem   box_loss   cls_loss   dfl_loss  Instances       Size\n"
          ]
        },
        {
          "output_type": "stream",
          "name": "stderr",
          "text": [
            "      38/50         0G     0.7051     0.5502     0.9649          8        640: 100%|██████████| 18/18 [00:29<00:00,  1.62s/it]\n",
            "                 Class     Images  Instances      Box(P          R      mAP50  mAP50-95): 100%|██████████| 3/3 [00:03<00:00,  1.01s/it]"
          ]
        },
        {
          "output_type": "stream",
          "name": "stdout",
          "text": [
            "                   all         81         81      0.986      0.988      0.985      0.837\n"
          ]
        },
        {
          "output_type": "stream",
          "name": "stderr",
          "text": [
            "\n"
          ]
        },
        {
          "output_type": "stream",
          "name": "stdout",
          "text": [
            "\n",
            "      Epoch    GPU_mem   box_loss   cls_loss   dfl_loss  Instances       Size\n"
          ]
        },
        {
          "output_type": "stream",
          "name": "stderr",
          "text": [
            "      39/50         0G     0.6785     0.4979      0.942          7        640: 100%|██████████| 18/18 [00:29<00:00,  1.61s/it]\n",
            "                 Class     Images  Instances      Box(P          R      mAP50  mAP50-95): 100%|██████████| 3/3 [00:02<00:00,  1.05it/s]"
          ]
        },
        {
          "output_type": "stream",
          "name": "stdout",
          "text": [
            "                   all         81         81      0.987      0.988      0.984      0.842\n"
          ]
        },
        {
          "output_type": "stream",
          "name": "stderr",
          "text": [
            "\n"
          ]
        },
        {
          "output_type": "stream",
          "name": "stdout",
          "text": [
            "\n",
            "      Epoch    GPU_mem   box_loss   cls_loss   dfl_loss  Instances       Size\n"
          ]
        },
        {
          "output_type": "stream",
          "name": "stderr",
          "text": [
            "      40/50         0G     0.6436     0.4689     0.9233          9        640: 100%|██████████| 18/18 [00:29<00:00,  1.62s/it]\n",
            "                 Class     Images  Instances      Box(P          R      mAP50  mAP50-95): 100%|██████████| 3/3 [00:03<00:00,  1.02s/it]"
          ]
        },
        {
          "output_type": "stream",
          "name": "stdout",
          "text": [
            "                   all         81         81      0.986      0.988      0.984      0.847\n"
          ]
        },
        {
          "output_type": "stream",
          "name": "stderr",
          "text": [
            "\n"
          ]
        },
        {
          "output_type": "stream",
          "name": "stdout",
          "text": [
            "Closing dataloader mosaic\n",
            "\n",
            "      Epoch    GPU_mem   box_loss   cls_loss   dfl_loss  Instances       Size\n"
          ]
        },
        {
          "output_type": "stream",
          "name": "stderr",
          "text": [
            "      41/50         0G      0.601     0.4679     0.9249          5        640: 100%|██████████| 18/18 [00:28<00:00,  1.57s/it]\n",
            "                 Class     Images  Instances      Box(P          R      mAP50  mAP50-95): 100%|██████████| 3/3 [00:02<00:00,  1.05it/s]"
          ]
        },
        {
          "output_type": "stream",
          "name": "stdout",
          "text": [
            "                   all         81         81      0.986      0.988      0.985       0.85\n"
          ]
        },
        {
          "output_type": "stream",
          "name": "stderr",
          "text": [
            "\n"
          ]
        },
        {
          "output_type": "stream",
          "name": "stdout",
          "text": [
            "\n",
            "      Epoch    GPU_mem   box_loss   cls_loss   dfl_loss  Instances       Size\n"
          ]
        },
        {
          "output_type": "stream",
          "name": "stderr",
          "text": [
            "      42/50         0G     0.5948     0.4545     0.8981          5        640: 100%|██████████| 18/18 [00:28<00:00,  1.57s/it]\n",
            "                 Class     Images  Instances      Box(P          R      mAP50  mAP50-95): 100%|██████████| 3/3 [00:03<00:00,  1.02s/it]"
          ]
        },
        {
          "output_type": "stream",
          "name": "stdout",
          "text": [
            "                   all         81         81      0.987      0.988      0.985      0.845\n"
          ]
        },
        {
          "output_type": "stream",
          "name": "stderr",
          "text": [
            "\n"
          ]
        },
        {
          "output_type": "stream",
          "name": "stdout",
          "text": [
            "\n",
            "      Epoch    GPU_mem   box_loss   cls_loss   dfl_loss  Instances       Size\n"
          ]
        },
        {
          "output_type": "stream",
          "name": "stderr",
          "text": [
            "      43/50         0G     0.5716      0.436     0.8816          5        640: 100%|██████████| 18/18 [00:28<00:00,  1.57s/it]\n",
            "                 Class     Images  Instances      Box(P          R      mAP50  mAP50-95): 100%|██████████| 3/3 [00:02<00:00,  1.05it/s]"
          ]
        },
        {
          "output_type": "stream",
          "name": "stdout",
          "text": [
            "                   all         81         81      0.988      0.986      0.985      0.855\n"
          ]
        },
        {
          "output_type": "stream",
          "name": "stderr",
          "text": [
            "\n"
          ]
        },
        {
          "output_type": "stream",
          "name": "stdout",
          "text": [
            "\n",
            "      Epoch    GPU_mem   box_loss   cls_loss   dfl_loss  Instances       Size\n"
          ]
        },
        {
          "output_type": "stream",
          "name": "stderr",
          "text": [
            "      44/50         0G     0.5798     0.4309      0.889          5        640: 100%|██████████| 18/18 [00:28<00:00,  1.60s/it]\n",
            "                 Class     Images  Instances      Box(P          R      mAP50  mAP50-95): 100%|██████████| 3/3 [00:03<00:00,  1.01s/it]"
          ]
        },
        {
          "output_type": "stream",
          "name": "stdout",
          "text": [
            "                   all         81         81      0.986      0.988      0.985      0.862\n"
          ]
        },
        {
          "output_type": "stream",
          "name": "stderr",
          "text": [
            "\n"
          ]
        },
        {
          "output_type": "stream",
          "name": "stdout",
          "text": [
            "\n",
            "      Epoch    GPU_mem   box_loss   cls_loss   dfl_loss  Instances       Size\n"
          ]
        },
        {
          "output_type": "stream",
          "name": "stderr",
          "text": [
            "      45/50         0G     0.5673     0.4221     0.8801          5        640: 100%|██████████| 18/18 [00:28<00:00,  1.57s/it]\n",
            "                 Class     Images  Instances      Box(P          R      mAP50  mAP50-95): 100%|██████████| 3/3 [00:02<00:00,  1.05it/s]"
          ]
        },
        {
          "output_type": "stream",
          "name": "stdout",
          "text": [
            "                   all         81         81      0.986      0.988      0.984      0.854\n"
          ]
        },
        {
          "output_type": "stream",
          "name": "stderr",
          "text": [
            "\n"
          ]
        },
        {
          "output_type": "stream",
          "name": "stdout",
          "text": [
            "\n",
            "      Epoch    GPU_mem   box_loss   cls_loss   dfl_loss  Instances       Size\n"
          ]
        },
        {
          "output_type": "stream",
          "name": "stderr",
          "text": [
            "      46/50         0G     0.5732     0.4216     0.8748          5        640: 100%|██████████| 18/18 [00:28<00:00,  1.57s/it]\n",
            "                 Class     Images  Instances      Box(P          R      mAP50  mAP50-95): 100%|██████████| 3/3 [00:02<00:00,  1.00it/s]"
          ]
        },
        {
          "output_type": "stream",
          "name": "stdout",
          "text": [
            "                   all         81         81      0.985      0.988      0.984      0.858\n"
          ]
        },
        {
          "output_type": "stream",
          "name": "stderr",
          "text": [
            "\n"
          ]
        },
        {
          "output_type": "stream",
          "name": "stdout",
          "text": [
            "\n",
            "      Epoch    GPU_mem   box_loss   cls_loss   dfl_loss  Instances       Size\n"
          ]
        },
        {
          "output_type": "stream",
          "name": "stderr",
          "text": [
            "      47/50         0G     0.5472     0.4117     0.8738          5        640: 100%|██████████| 18/18 [00:28<00:00,  1.57s/it]\n",
            "                 Class     Images  Instances      Box(P          R      mAP50  mAP50-95): 100%|██████████| 3/3 [00:02<00:00,  1.04it/s]"
          ]
        },
        {
          "output_type": "stream",
          "name": "stdout",
          "text": [
            "                   all         81         81      0.986      0.988      0.983      0.865\n"
          ]
        },
        {
          "output_type": "stream",
          "name": "stderr",
          "text": [
            "\n"
          ]
        },
        {
          "output_type": "stream",
          "name": "stdout",
          "text": [
            "\n",
            "      Epoch    GPU_mem   box_loss   cls_loss   dfl_loss  Instances       Size\n"
          ]
        },
        {
          "output_type": "stream",
          "name": "stderr",
          "text": [
            "      48/50         0G     0.5186     0.4069     0.8616          5        640: 100%|██████████| 18/18 [00:28<00:00,  1.57s/it]\n",
            "                 Class     Images  Instances      Box(P          R      mAP50  mAP50-95): 100%|██████████| 3/3 [00:02<00:00,  1.01it/s]"
          ]
        },
        {
          "output_type": "stream",
          "name": "stdout",
          "text": [
            "                   all         81         81      0.987      0.988      0.984       0.86\n"
          ]
        },
        {
          "output_type": "stream",
          "name": "stderr",
          "text": [
            "\n"
          ]
        },
        {
          "output_type": "stream",
          "name": "stdout",
          "text": [
            "\n",
            "      Epoch    GPU_mem   box_loss   cls_loss   dfl_loss  Instances       Size\n"
          ]
        },
        {
          "output_type": "stream",
          "name": "stderr",
          "text": [
            "      49/50         0G     0.5061     0.3865     0.8552          5        640: 100%|██████████| 18/18 [00:27<00:00,  1.54s/it]\n",
            "                 Class     Images  Instances      Box(P          R      mAP50  mAP50-95): 100%|██████████| 3/3 [00:02<00:00,  1.05it/s]"
          ]
        },
        {
          "output_type": "stream",
          "name": "stdout",
          "text": [
            "                   all         81         81      0.987      0.988      0.984       0.86\n"
          ]
        },
        {
          "output_type": "stream",
          "name": "stderr",
          "text": [
            "\n"
          ]
        },
        {
          "output_type": "stream",
          "name": "stdout",
          "text": [
            "\n",
            "      Epoch    GPU_mem   box_loss   cls_loss   dfl_loss  Instances       Size\n"
          ]
        },
        {
          "output_type": "stream",
          "name": "stderr",
          "text": [
            "      50/50         0G     0.5388     0.3981      0.861          5        640: 100%|██████████| 18/18 [00:27<00:00,  1.55s/it]\n",
            "                 Class     Images  Instances      Box(P          R      mAP50  mAP50-95): 100%|██████████| 3/3 [00:03<00:00,  1.02s/it]"
          ]
        },
        {
          "output_type": "stream",
          "name": "stdout",
          "text": [
            "                   all         81         81      0.988      0.987      0.984      0.863\n"
          ]
        },
        {
          "output_type": "stream",
          "name": "stderr",
          "text": [
            "\n"
          ]
        },
        {
          "output_type": "stream",
          "name": "stdout",
          "text": [
            "\n",
            "50 epochs completed in 0.453 hours.\n",
            "Optimizer stripped from runs/detect/train2/weights/last.pt, 6.2MB\n",
            "Optimizer stripped from runs/detect/train2/weights/best.pt, 6.2MB\n",
            "\n",
            "Validating runs/detect/train2/weights/best.pt...\n",
            "Ultralytics 8.3.31 🚀 Python-3.10.12 torch-2.5.1+cpu CPU (Intel Xeon 2.00GHz)\n",
            "Model summary (fused): 168 layers, 3,005,843 parameters, 0 gradients, 8.1 GFLOPs\n"
          ]
        },
        {
          "output_type": "stream",
          "name": "stderr",
          "text": [
            "                 Class     Images  Instances      Box(P          R      mAP50  mAP50-95): 100%|██████████| 3/3 [00:02<00:00,  1.05it/s]\n"
          ]
        },
        {
          "output_type": "stream",
          "name": "stdout",
          "text": [
            "                   all         81         81      0.986      0.988      0.983      0.865\n",
            "Speed: 0.5ms preprocess, 24.6ms inference, 0.0ms loss, 0.3ms postprocess per image\n",
            "Results saved to \u001b[1mruns/detect/train2\u001b[0m\n"
          ]
        },
        {
          "output_type": "execute_result",
          "data": {
            "text/plain": [
              "ultralytics.utils.metrics.DetMetrics object with attributes:\n",
              "\n",
              "ap_class_index: array([0])\n",
              "box: ultralytics.utils.metrics.Metric object\n",
              "confusion_matrix: <ultralytics.utils.metrics.ConfusionMatrix object at 0x7cf3314ba800>\n",
              "curves: ['Precision-Recall(B)', 'F1-Confidence(B)', 'Precision-Confidence(B)', 'Recall-Confidence(B)']\n",
              "curves_results: [[array([          0,    0.001001,    0.002002,    0.003003,    0.004004,    0.005005,    0.006006,    0.007007,    0.008008,    0.009009,     0.01001,    0.011011,    0.012012,    0.013013,    0.014014,    0.015015,    0.016016,    0.017017,    0.018018,    0.019019,     0.02002,    0.021021,    0.022022,    0.023023,\n",
              "          0.024024,    0.025025,    0.026026,    0.027027,    0.028028,    0.029029,     0.03003,    0.031031,    0.032032,    0.033033,    0.034034,    0.035035,    0.036036,    0.037037,    0.038038,    0.039039,     0.04004,    0.041041,    0.042042,    0.043043,    0.044044,    0.045045,    0.046046,    0.047047,\n",
              "          0.048048,    0.049049,     0.05005,    0.051051,    0.052052,    0.053053,    0.054054,    0.055055,    0.056056,    0.057057,    0.058058,    0.059059,     0.06006,    0.061061,    0.062062,    0.063063,    0.064064,    0.065065,    0.066066,    0.067067,    0.068068,    0.069069,     0.07007,    0.071071,\n",
              "          0.072072,    0.073073,    0.074074,    0.075075,    0.076076,    0.077077,    0.078078,    0.079079,     0.08008,    0.081081,    0.082082,    0.083083,    0.084084,    0.085085,    0.086086,    0.087087,    0.088088,    0.089089,     0.09009,    0.091091,    0.092092,    0.093093,    0.094094,    0.095095,\n",
              "          0.096096,    0.097097,    0.098098,    0.099099,      0.1001,      0.1011,      0.1021,      0.1031,      0.1041,     0.10511,     0.10611,     0.10711,     0.10811,     0.10911,     0.11011,     0.11111,     0.11211,     0.11311,     0.11411,     0.11512,     0.11612,     0.11712,     0.11812,     0.11912,\n",
              "           0.12012,     0.12112,     0.12212,     0.12312,     0.12412,     0.12513,     0.12613,     0.12713,     0.12813,     0.12913,     0.13013,     0.13113,     0.13213,     0.13313,     0.13413,     0.13514,     0.13614,     0.13714,     0.13814,     0.13914,     0.14014,     0.14114,     0.14214,     0.14314,\n",
              "           0.14414,     0.14515,     0.14615,     0.14715,     0.14815,     0.14915,     0.15015,     0.15115,     0.15215,     0.15315,     0.15415,     0.15516,     0.15616,     0.15716,     0.15816,     0.15916,     0.16016,     0.16116,     0.16216,     0.16316,     0.16416,     0.16517,     0.16617,     0.16717,\n",
              "           0.16817,     0.16917,     0.17017,     0.17117,     0.17217,     0.17317,     0.17417,     0.17518,     0.17618,     0.17718,     0.17818,     0.17918,     0.18018,     0.18118,     0.18218,     0.18318,     0.18418,     0.18519,     0.18619,     0.18719,     0.18819,     0.18919,     0.19019,     0.19119,\n",
              "           0.19219,     0.19319,     0.19419,      0.1952,      0.1962,      0.1972,      0.1982,      0.1992,      0.2002,      0.2012,      0.2022,      0.2032,      0.2042,     0.20521,     0.20621,     0.20721,     0.20821,     0.20921,     0.21021,     0.21121,     0.21221,     0.21321,     0.21421,     0.21522,\n",
              "           0.21622,     0.21722,     0.21822,     0.21922,     0.22022,     0.22122,     0.22222,     0.22322,     0.22422,     0.22523,     0.22623,     0.22723,     0.22823,     0.22923,     0.23023,     0.23123,     0.23223,     0.23323,     0.23423,     0.23524,     0.23624,     0.23724,     0.23824,     0.23924,\n",
              "           0.24024,     0.24124,     0.24224,     0.24324,     0.24424,     0.24525,     0.24625,     0.24725,     0.24825,     0.24925,     0.25025,     0.25125,     0.25225,     0.25325,     0.25425,     0.25526,     0.25626,     0.25726,     0.25826,     0.25926,     0.26026,     0.26126,     0.26226,     0.26326,\n",
              "           0.26426,     0.26527,     0.26627,     0.26727,     0.26827,     0.26927,     0.27027,     0.27127,     0.27227,     0.27327,     0.27427,     0.27528,     0.27628,     0.27728,     0.27828,     0.27928,     0.28028,     0.28128,     0.28228,     0.28328,     0.28428,     0.28529,     0.28629,     0.28729,\n",
              "           0.28829,     0.28929,     0.29029,     0.29129,     0.29229,     0.29329,     0.29429,      0.2953,      0.2963,      0.2973,      0.2983,      0.2993,      0.3003,      0.3013,      0.3023,      0.3033,      0.3043,     0.30531,     0.30631,     0.30731,     0.30831,     0.30931,     0.31031,     0.31131,\n",
              "           0.31231,     0.31331,     0.31431,     0.31532,     0.31632,     0.31732,     0.31832,     0.31932,     0.32032,     0.32132,     0.32232,     0.32332,     0.32432,     0.32533,     0.32633,     0.32733,     0.32833,     0.32933,     0.33033,     0.33133,     0.33233,     0.33333,     0.33433,     0.33534,\n",
              "           0.33634,     0.33734,     0.33834,     0.33934,     0.34034,     0.34134,     0.34234,     0.34334,     0.34434,     0.34535,     0.34635,     0.34735,     0.34835,     0.34935,     0.35035,     0.35135,     0.35235,     0.35335,     0.35435,     0.35536,     0.35636,     0.35736,     0.35836,     0.35936,\n",
              "           0.36036,     0.36136,     0.36236,     0.36336,     0.36436,     0.36537,     0.36637,     0.36737,     0.36837,     0.36937,     0.37037,     0.37137,     0.37237,     0.37337,     0.37437,     0.37538,     0.37638,     0.37738,     0.37838,     0.37938,     0.38038,     0.38138,     0.38238,     0.38338,\n",
              "           0.38438,     0.38539,     0.38639,     0.38739,     0.38839,     0.38939,     0.39039,     0.39139,     0.39239,     0.39339,     0.39439,      0.3954,      0.3964,      0.3974,      0.3984,      0.3994,      0.4004,      0.4014,      0.4024,      0.4034,      0.4044,     0.40541,     0.40641,     0.40741,\n",
              "           0.40841,     0.40941,     0.41041,     0.41141,     0.41241,     0.41341,     0.41441,     0.41542,     0.41642,     0.41742,     0.41842,     0.41942,     0.42042,     0.42142,     0.42242,     0.42342,     0.42442,     0.42543,     0.42643,     0.42743,     0.42843,     0.42943,     0.43043,     0.43143,\n",
              "           0.43243,     0.43343,     0.43443,     0.43544,     0.43644,     0.43744,     0.43844,     0.43944,     0.44044,     0.44144,     0.44244,     0.44344,     0.44444,     0.44545,     0.44645,     0.44745,     0.44845,     0.44945,     0.45045,     0.45145,     0.45245,     0.45345,     0.45445,     0.45546,\n",
              "           0.45646,     0.45746,     0.45846,     0.45946,     0.46046,     0.46146,     0.46246,     0.46346,     0.46446,     0.46547,     0.46647,     0.46747,     0.46847,     0.46947,     0.47047,     0.47147,     0.47247,     0.47347,     0.47447,     0.47548,     0.47648,     0.47748,     0.47848,     0.47948,\n",
              "           0.48048,     0.48148,     0.48248,     0.48348,     0.48448,     0.48549,     0.48649,     0.48749,     0.48849,     0.48949,     0.49049,     0.49149,     0.49249,     0.49349,     0.49449,      0.4955,      0.4965,      0.4975,      0.4985,      0.4995,      0.5005,      0.5015,      0.5025,      0.5035,\n",
              "            0.5045,     0.50551,     0.50651,     0.50751,     0.50851,     0.50951,     0.51051,     0.51151,     0.51251,     0.51351,     0.51451,     0.51552,     0.51652,     0.51752,     0.51852,     0.51952,     0.52052,     0.52152,     0.52252,     0.52352,     0.52452,     0.52553,     0.52653,     0.52753,\n",
              "           0.52853,     0.52953,     0.53053,     0.53153,     0.53253,     0.53353,     0.53453,     0.53554,     0.53654,     0.53754,     0.53854,     0.53954,     0.54054,     0.54154,     0.54254,     0.54354,     0.54454,     0.54555,     0.54655,     0.54755,     0.54855,     0.54955,     0.55055,     0.55155,\n",
              "           0.55255,     0.55355,     0.55455,     0.55556,     0.55656,     0.55756,     0.55856,     0.55956,     0.56056,     0.56156,     0.56256,     0.56356,     0.56456,     0.56557,     0.56657,     0.56757,     0.56857,     0.56957,     0.57057,     0.57157,     0.57257,     0.57357,     0.57457,     0.57558,\n",
              "           0.57658,     0.57758,     0.57858,     0.57958,     0.58058,     0.58158,     0.58258,     0.58358,     0.58458,     0.58559,     0.58659,     0.58759,     0.58859,     0.58959,     0.59059,     0.59159,     0.59259,     0.59359,     0.59459,      0.5956,      0.5966,      0.5976,      0.5986,      0.5996,\n",
              "            0.6006,      0.6016,      0.6026,      0.6036,      0.6046,     0.60561,     0.60661,     0.60761,     0.60861,     0.60961,     0.61061,     0.61161,     0.61261,     0.61361,     0.61461,     0.61562,     0.61662,     0.61762,     0.61862,     0.61962,     0.62062,     0.62162,     0.62262,     0.62362,\n",
              "           0.62462,     0.62563,     0.62663,     0.62763,     0.62863,     0.62963,     0.63063,     0.63163,     0.63263,     0.63363,     0.63463,     0.63564,     0.63664,     0.63764,     0.63864,     0.63964,     0.64064,     0.64164,     0.64264,     0.64364,     0.64464,     0.64565,     0.64665,     0.64765,\n",
              "           0.64865,     0.64965,     0.65065,     0.65165,     0.65265,     0.65365,     0.65465,     0.65566,     0.65666,     0.65766,     0.65866,     0.65966,     0.66066,     0.66166,     0.66266,     0.66366,     0.66466,     0.66567,     0.66667,     0.66767,     0.66867,     0.66967,     0.67067,     0.67167,\n",
              "           0.67267,     0.67367,     0.67467,     0.67568,     0.67668,     0.67768,     0.67868,     0.67968,     0.68068,     0.68168,     0.68268,     0.68368,     0.68468,     0.68569,     0.68669,     0.68769,     0.68869,     0.68969,     0.69069,     0.69169,     0.69269,     0.69369,     0.69469,      0.6957,\n",
              "            0.6967,      0.6977,      0.6987,      0.6997,      0.7007,      0.7017,      0.7027,      0.7037,      0.7047,     0.70571,     0.70671,     0.70771,     0.70871,     0.70971,     0.71071,     0.71171,     0.71271,     0.71371,     0.71471,     0.71572,     0.71672,     0.71772,     0.71872,     0.71972,\n",
              "           0.72072,     0.72172,     0.72272,     0.72372,     0.72472,     0.72573,     0.72673,     0.72773,     0.72873,     0.72973,     0.73073,     0.73173,     0.73273,     0.73373,     0.73473,     0.73574,     0.73674,     0.73774,     0.73874,     0.73974,     0.74074,     0.74174,     0.74274,     0.74374,\n",
              "           0.74474,     0.74575,     0.74675,     0.74775,     0.74875,     0.74975,     0.75075,     0.75175,     0.75275,     0.75375,     0.75475,     0.75576,     0.75676,     0.75776,     0.75876,     0.75976,     0.76076,     0.76176,     0.76276,     0.76376,     0.76476,     0.76577,     0.76677,     0.76777,\n",
              "           0.76877,     0.76977,     0.77077,     0.77177,     0.77277,     0.77377,     0.77477,     0.77578,     0.77678,     0.77778,     0.77878,     0.77978,     0.78078,     0.78178,     0.78278,     0.78378,     0.78478,     0.78579,     0.78679,     0.78779,     0.78879,     0.78979,     0.79079,     0.79179,\n",
              "           0.79279,     0.79379,     0.79479,      0.7958,      0.7968,      0.7978,      0.7988,      0.7998,      0.8008,      0.8018,      0.8028,      0.8038,      0.8048,     0.80581,     0.80681,     0.80781,     0.80881,     0.80981,     0.81081,     0.81181,     0.81281,     0.81381,     0.81481,     0.81582,\n",
              "           0.81682,     0.81782,     0.81882,     0.81982,     0.82082,     0.82182,     0.82282,     0.82382,     0.82482,     0.82583,     0.82683,     0.82783,     0.82883,     0.82983,     0.83083,     0.83183,     0.83283,     0.83383,     0.83483,     0.83584,     0.83684,     0.83784,     0.83884,     0.83984,\n",
              "           0.84084,     0.84184,     0.84284,     0.84384,     0.84484,     0.84585,     0.84685,     0.84785,     0.84885,     0.84985,     0.85085,     0.85185,     0.85285,     0.85385,     0.85485,     0.85586,     0.85686,     0.85786,     0.85886,     0.85986,     0.86086,     0.86186,     0.86286,     0.86386,\n",
              "           0.86486,     0.86587,     0.86687,     0.86787,     0.86887,     0.86987,     0.87087,     0.87187,     0.87287,     0.87387,     0.87487,     0.87588,     0.87688,     0.87788,     0.87888,     0.87988,     0.88088,     0.88188,     0.88288,     0.88388,     0.88488,     0.88589,     0.88689,     0.88789,\n",
              "           0.88889,     0.88989,     0.89089,     0.89189,     0.89289,     0.89389,     0.89489,      0.8959,      0.8969,      0.8979,      0.8989,      0.8999,      0.9009,      0.9019,      0.9029,      0.9039,      0.9049,     0.90591,     0.90691,     0.90791,     0.90891,     0.90991,     0.91091,     0.91191,\n",
              "           0.91291,     0.91391,     0.91491,     0.91592,     0.91692,     0.91792,     0.91892,     0.91992,     0.92092,     0.92192,     0.92292,     0.92392,     0.92492,     0.92593,     0.92693,     0.92793,     0.92893,     0.92993,     0.93093,     0.93193,     0.93293,     0.93393,     0.93493,     0.93594,\n",
              "           0.93694,     0.93794,     0.93894,     0.93994,     0.94094,     0.94194,     0.94294,     0.94394,     0.94494,     0.94595,     0.94695,     0.94795,     0.94895,     0.94995,     0.95095,     0.95195,     0.95295,     0.95395,     0.95495,     0.95596,     0.95696,     0.95796,     0.95896,     0.95996,\n",
              "           0.96096,     0.96196,     0.96296,     0.96396,     0.96496,     0.96597,     0.96697,     0.96797,     0.96897,     0.96997,     0.97097,     0.97197,     0.97297,     0.97397,     0.97497,     0.97598,     0.97698,     0.97798,     0.97898,     0.97998,     0.98098,     0.98198,     0.98298,     0.98398,\n",
              "           0.98498,     0.98599,     0.98699,     0.98799,     0.98899,     0.98999,     0.99099,     0.99199,     0.99299,     0.99399,     0.99499,       0.996,       0.997,       0.998,       0.999,           1]), array([[          1,           1,           1,           1,           1,           1,           1,           1,           1,           1,           1,           1,           1,           1,           1,           1,           1,           1,           1,           1,           1,           1,           1,\n",
              "                  1,           1,           1,           1,           1,           1,           1,           1,           1,           1,           1,           1,           1,           1,           1,           1,           1,           1,           1,           1,           1,           1,           1,\n",
              "                  1,           1,           1,           1,           1,           1,           1,           1,           1,           1,           1,           1,           1,           1,           1,           1,           1,           1,           1,           1,           1,           1,           1,\n",
              "                  1,           1,           1,           1,           1,           1,           1,           1,           1,           1,           1,           1,           1,           1,           1,           1,           1,           1,           1,           1,           1,           1,           1,\n",
              "                  1,           1,           1,           1,           1,           1,           1,           1,           1,           1,           1,           1,           1,           1,           1,           1,           1,           1,           1,           1,           1,           1,           1,\n",
              "                  1,           1,           1,           1,           1,           1,           1,           1,           1,           1,           1,           1,           1,           1,           1,           1,           1,           1,           1,           1,           1,           1,           1,\n",
              "                  1,           1,           1,           1,           1,           1,           1,           1,           1,           1,           1,           1,           1,           1,           1,           1,           1,           1,           1,           1,           1,           1,           1,\n",
              "                  1,           1,           1,           1,           1,           1,           1,           1,           1,           1,           1,           1,           1,           1,           1,           1,           1,           1,           1,           1,           1,           1,           1,\n",
              "                  1,           1,           1,           1,           1,           1,           1,           1,           1,           1,           1,           1,           1,           1,           1,           1,           1,           1,           1,           1,           1,           1,           1,\n",
              "                  1,           1,           1,           1,           1,           1,           1,           1,           1,           1,           1,           1,           1,           1,           1,           1,           1,           1,           1,           1,           1,           1,           1,\n",
              "                  1,           1,           1,           1,           1,           1,           1,           1,           1,           1,           1,           1,           1,           1,           1,           1,           1,           1,           1,           1,           1,           1,           1,\n",
              "                  1,           1,           1,           1,           1,           1,           1,           1,           1,           1,           1,           1,           1,           1,           1,           1,           1,           1,           1,           1,           1,           1,           1,\n",
              "                  1,           1,           1,           1,           1,           1,           1,           1,           1,           1,           1,           1,           1,           1,           1,           1,           1,           1,           1,           1,           1,           1,           1,\n",
              "                  1,           1,           1,           1,           1,           1,           1,           1,           1,           1,           1,           1,           1,           1,           1,           1,           1,           1,           1,           1,           1,           1,           1,\n",
              "                  1,           1,           1,           1,           1,           1,           1,           1,           1,           1,           1,           1,           1,           1,           1,           1,           1,           1,           1,           1,           1,           1,           1,\n",
              "                  1,           1,           1,           1,           1,           1,           1,           1,           1,           1,           1,           1,           1,           1,           1,           1,           1,           1,           1,           1,           1,           1,           1,\n",
              "                  1,           1,           1,           1,           1,           1,           1,           1,           1,           1,           1,           1,           1,           1,           1,           1,           1,           1,           1,           1,           1,           1,           1,\n",
              "                  1,           1,           1,           1,           1,           1,           1,           1,           1,           1,           1,           1,           1,           1,           1,           1,           1,           1,           1,           1,           1,           1,           1,\n",
              "                  1,           1,           1,           1,           1,           1,           1,           1,           1,           1,           1,           1,           1,           1,           1,           1,           1,           1,           1,           1,           1,           1,           1,\n",
              "                  1,           1,           1,           1,           1,           1,           1,           1,           1,           1,           1,           1,           1,           1,           1,           1,           1,           1,           1,           1,           1,           1,           1,\n",
              "                  1,           1,           1,           1,           1,           1,           1,           1,           1,           1,           1,           1,           1,           1,           1,           1,           1,           1,           1,           1,           1,           1,           1,\n",
              "                  1,           1,           1,           1,           1,           1,           1,           1,           1,           1,           1,           1,           1,           1,           1,           1,           1,           1,           1,           1,           1,           1,           1,\n",
              "                  1,           1,           1,           1,           1,           1,           1,           1,           1,           1,           1,           1,           1,           1,           1,           1,           1,           1,           1,           1,           1,           1,           1,\n",
              "                  1,           1,           1,           1,           1,           1,           1,           1,           1,           1,           1,           1,           1,           1,           1,           1,           1,           1,           1,           1,           1,           1,           1,\n",
              "                  1,           1,           1,           1,           1,           1,           1,           1,           1,           1,           1,           1,           1,           1,           1,           1,           1,           1,           1,           1,           1,           1,           1,\n",
              "                  1,           1,           1,           1,           1,           1,           1,           1,           1,           1,           1,           1,           1,           1,           1,           1,           1,           1,           1,           1,           1,           1,           1,\n",
              "                  1,           1,           1,           1,           1,           1,           1,           1,           1,           1,           1,           1,           1,           1,           1,           1,           1,           1,           1,           1,           1,           1,           1,\n",
              "                  1,           1,           1,           1,           1,           1,           1,           1,           1,           1,           1,           1,           1,           1,           1,           1,           1,           1,           1,           1,           1,           1,           1,\n",
              "                  1,           1,           1,           1,           1,           1,           1,           1,           1,           1,           1,           1,           1,           1,           1,           1,           1,           1,           1,           1,           1,           1,           1,\n",
              "                  1,           1,           1,           1,           1,           1,           1,           1,           1,           1,           1,           1,           1,           1,           1,           1,           1,           1,           1,           1,           1,           1,           1,\n",
              "                  1,           1,           1,           1,           1,           1,           1,           1,           1,           1,           1,           1,           1,           1,           1,           1,           1,           1,           1,           1,           1,           1,           1,\n",
              "                  1,           1,           1,           1,           1,           1,           1,           1,           1,           1,           1,           1,           1,           1,           1,           1,           1,           1,           1,           1,           1,           1,           1,\n",
              "                  1,           1,           1,           1,           1,           1,           1,           1,           1,           1,           1,           1,           1,           1,           1,           1,           1,           1,           1,           1,           1,           1,           1,\n",
              "                  1,           1,           1,           1,           1,           1,           1,           1,           1,           1,           1,           1,           1,           1,           1,           1,           1,           1,     0.98765,     0.98765,     0.98765,     0.98765,     0.98765,\n",
              "            0.98765,     0.98765,     0.98765,     0.98765,     0.98765,     0.98765,     0.98765,     0.98765,     0.98765,     0.98765,     0.98765,     0.98765,     0.98765,     0.98765,     0.98765,     0.98765,     0.98765,     0.98765,     0.98765,     0.98765,     0.98765,     0.98765,     0.98765,\n",
              "            0.98765,     0.98765,     0.98765,     0.98765,     0.98765,     0.98765,     0.98765,     0.98765,     0.98765,     0.98765,     0.98765,     0.98765,     0.98765,     0.98765,     0.98765,     0.98765,     0.98765,     0.98765,     0.98765,     0.98765,     0.98765,     0.98765,     0.98765,\n",
              "            0.98765,     0.98765,     0.98765,     0.98765,     0.98765,     0.98765,     0.98765,     0.98765,     0.98765,     0.98765,     0.98765,     0.98765,     0.98765,     0.98765,     0.98765,     0.98765,     0.98765,     0.98765,     0.98765,     0.98765,     0.98765,     0.98765,     0.98765,\n",
              "            0.98765,     0.98765,     0.98765,     0.98765,     0.98765,     0.98765,     0.98765,     0.98765,     0.98765,     0.98765,     0.98765,     0.98765,     0.98765,     0.98765,     0.98765,     0.98765,     0.98765,     0.98765,     0.98765,     0.98765,     0.98765,     0.98765,     0.98765,\n",
              "            0.98765,     0.98765,     0.98765,     0.98765,     0.98765,     0.98765,     0.98765,     0.98765,     0.98765,     0.98765,     0.98765,     0.98765,     0.98765,     0.98765,     0.98765,     0.98765,     0.98765,     0.98765,     0.98765,     0.98765,     0.98765,     0.98765,     0.98765,\n",
              "            0.98765,     0.98765,     0.98765,     0.98765,     0.98765,     0.98765,     0.98765,     0.98765,     0.98765,     0.98765,     0.98765,     0.98765,     0.98765,     0.98765,     0.98765,     0.98765,     0.98765,     0.98765,     0.98765,     0.98765,     0.98765,     0.98765,     0.98765,\n",
              "            0.98765,     0.98765,     0.98765,     0.98765,     0.98765,     0.98765,     0.98765,     0.98765,     0.98765,     0.98765,     0.98765,     0.98765,     0.98765,     0.98765,     0.98765,     0.98765,     0.98765,     0.98765,     0.98765,     0.98765,     0.98765,     0.98765,     0.98765,\n",
              "            0.98765,     0.98765,     0.98765,     0.98765,     0.98765,     0.98765,     0.98765,     0.98765,     0.98765,     0.98765,     0.98765,     0.98765,     0.98765,     0.98765,     0.98765,     0.98765,     0.98765,     0.98765,     0.98765,     0.98765,     0.98765,     0.98765,     0.98765,\n",
              "            0.98765,     0.98765,     0.98765,     0.98765,     0.98765,     0.98765,     0.98765,     0.98765,     0.98765,     0.98765,     0.98765,     0.98765,     0.98765,     0.98765,     0.98765,     0.98765,     0.98765,     0.98765,     0.98765,     0.98765,     0.98765,    0.088755,    0.081358,\n",
              "           0.073962,    0.066566,     0.05917,    0.051774,    0.044377,    0.036981,    0.029585,    0.022189,    0.014792,   0.0073962,           0]]), 'Recall', 'Precision'], [array([          0,    0.001001,    0.002002,    0.003003,    0.004004,    0.005005,    0.006006,    0.007007,    0.008008,    0.009009,     0.01001,    0.011011,    0.012012,    0.013013,    0.014014,    0.015015,    0.016016,    0.017017,    0.018018,    0.019019,     0.02002,    0.021021,    0.022022,    0.023023,\n",
              "          0.024024,    0.025025,    0.026026,    0.027027,    0.028028,    0.029029,     0.03003,    0.031031,    0.032032,    0.033033,    0.034034,    0.035035,    0.036036,    0.037037,    0.038038,    0.039039,     0.04004,    0.041041,    0.042042,    0.043043,    0.044044,    0.045045,    0.046046,    0.047047,\n",
              "          0.048048,    0.049049,     0.05005,    0.051051,    0.052052,    0.053053,    0.054054,    0.055055,    0.056056,    0.057057,    0.058058,    0.059059,     0.06006,    0.061061,    0.062062,    0.063063,    0.064064,    0.065065,    0.066066,    0.067067,    0.068068,    0.069069,     0.07007,    0.071071,\n",
              "          0.072072,    0.073073,    0.074074,    0.075075,    0.076076,    0.077077,    0.078078,    0.079079,     0.08008,    0.081081,    0.082082,    0.083083,    0.084084,    0.085085,    0.086086,    0.087087,    0.088088,    0.089089,     0.09009,    0.091091,    0.092092,    0.093093,    0.094094,    0.095095,\n",
              "          0.096096,    0.097097,    0.098098,    0.099099,      0.1001,      0.1011,      0.1021,      0.1031,      0.1041,     0.10511,     0.10611,     0.10711,     0.10811,     0.10911,     0.11011,     0.11111,     0.11211,     0.11311,     0.11411,     0.11512,     0.11612,     0.11712,     0.11812,     0.11912,\n",
              "           0.12012,     0.12112,     0.12212,     0.12312,     0.12412,     0.12513,     0.12613,     0.12713,     0.12813,     0.12913,     0.13013,     0.13113,     0.13213,     0.13313,     0.13413,     0.13514,     0.13614,     0.13714,     0.13814,     0.13914,     0.14014,     0.14114,     0.14214,     0.14314,\n",
              "           0.14414,     0.14515,     0.14615,     0.14715,     0.14815,     0.14915,     0.15015,     0.15115,     0.15215,     0.15315,     0.15415,     0.15516,     0.15616,     0.15716,     0.15816,     0.15916,     0.16016,     0.16116,     0.16216,     0.16316,     0.16416,     0.16517,     0.16617,     0.16717,\n",
              "           0.16817,     0.16917,     0.17017,     0.17117,     0.17217,     0.17317,     0.17417,     0.17518,     0.17618,     0.17718,     0.17818,     0.17918,     0.18018,     0.18118,     0.18218,     0.18318,     0.18418,     0.18519,     0.18619,     0.18719,     0.18819,     0.18919,     0.19019,     0.19119,\n",
              "           0.19219,     0.19319,     0.19419,      0.1952,      0.1962,      0.1972,      0.1982,      0.1992,      0.2002,      0.2012,      0.2022,      0.2032,      0.2042,     0.20521,     0.20621,     0.20721,     0.20821,     0.20921,     0.21021,     0.21121,     0.21221,     0.21321,     0.21421,     0.21522,\n",
              "           0.21622,     0.21722,     0.21822,     0.21922,     0.22022,     0.22122,     0.22222,     0.22322,     0.22422,     0.22523,     0.22623,     0.22723,     0.22823,     0.22923,     0.23023,     0.23123,     0.23223,     0.23323,     0.23423,     0.23524,     0.23624,     0.23724,     0.23824,     0.23924,\n",
              "           0.24024,     0.24124,     0.24224,     0.24324,     0.24424,     0.24525,     0.24625,     0.24725,     0.24825,     0.24925,     0.25025,     0.25125,     0.25225,     0.25325,     0.25425,     0.25526,     0.25626,     0.25726,     0.25826,     0.25926,     0.26026,     0.26126,     0.26226,     0.26326,\n",
              "           0.26426,     0.26527,     0.26627,     0.26727,     0.26827,     0.26927,     0.27027,     0.27127,     0.27227,     0.27327,     0.27427,     0.27528,     0.27628,     0.27728,     0.27828,     0.27928,     0.28028,     0.28128,     0.28228,     0.28328,     0.28428,     0.28529,     0.28629,     0.28729,\n",
              "           0.28829,     0.28929,     0.29029,     0.29129,     0.29229,     0.29329,     0.29429,      0.2953,      0.2963,      0.2973,      0.2983,      0.2993,      0.3003,      0.3013,      0.3023,      0.3033,      0.3043,     0.30531,     0.30631,     0.30731,     0.30831,     0.30931,     0.31031,     0.31131,\n",
              "           0.31231,     0.31331,     0.31431,     0.31532,     0.31632,     0.31732,     0.31832,     0.31932,     0.32032,     0.32132,     0.32232,     0.32332,     0.32432,     0.32533,     0.32633,     0.32733,     0.32833,     0.32933,     0.33033,     0.33133,     0.33233,     0.33333,     0.33433,     0.33534,\n",
              "           0.33634,     0.33734,     0.33834,     0.33934,     0.34034,     0.34134,     0.34234,     0.34334,     0.34434,     0.34535,     0.34635,     0.34735,     0.34835,     0.34935,     0.35035,     0.35135,     0.35235,     0.35335,     0.35435,     0.35536,     0.35636,     0.35736,     0.35836,     0.35936,\n",
              "           0.36036,     0.36136,     0.36236,     0.36336,     0.36436,     0.36537,     0.36637,     0.36737,     0.36837,     0.36937,     0.37037,     0.37137,     0.37237,     0.37337,     0.37437,     0.37538,     0.37638,     0.37738,     0.37838,     0.37938,     0.38038,     0.38138,     0.38238,     0.38338,\n",
              "           0.38438,     0.38539,     0.38639,     0.38739,     0.38839,     0.38939,     0.39039,     0.39139,     0.39239,     0.39339,     0.39439,      0.3954,      0.3964,      0.3974,      0.3984,      0.3994,      0.4004,      0.4014,      0.4024,      0.4034,      0.4044,     0.40541,     0.40641,     0.40741,\n",
              "           0.40841,     0.40941,     0.41041,     0.41141,     0.41241,     0.41341,     0.41441,     0.41542,     0.41642,     0.41742,     0.41842,     0.41942,     0.42042,     0.42142,     0.42242,     0.42342,     0.42442,     0.42543,     0.42643,     0.42743,     0.42843,     0.42943,     0.43043,     0.43143,\n",
              "           0.43243,     0.43343,     0.43443,     0.43544,     0.43644,     0.43744,     0.43844,     0.43944,     0.44044,     0.44144,     0.44244,     0.44344,     0.44444,     0.44545,     0.44645,     0.44745,     0.44845,     0.44945,     0.45045,     0.45145,     0.45245,     0.45345,     0.45445,     0.45546,\n",
              "           0.45646,     0.45746,     0.45846,     0.45946,     0.46046,     0.46146,     0.46246,     0.46346,     0.46446,     0.46547,     0.46647,     0.46747,     0.46847,     0.46947,     0.47047,     0.47147,     0.47247,     0.47347,     0.47447,     0.47548,     0.47648,     0.47748,     0.47848,     0.47948,\n",
              "           0.48048,     0.48148,     0.48248,     0.48348,     0.48448,     0.48549,     0.48649,     0.48749,     0.48849,     0.48949,     0.49049,     0.49149,     0.49249,     0.49349,     0.49449,      0.4955,      0.4965,      0.4975,      0.4985,      0.4995,      0.5005,      0.5015,      0.5025,      0.5035,\n",
              "            0.5045,     0.50551,     0.50651,     0.50751,     0.50851,     0.50951,     0.51051,     0.51151,     0.51251,     0.51351,     0.51451,     0.51552,     0.51652,     0.51752,     0.51852,     0.51952,     0.52052,     0.52152,     0.52252,     0.52352,     0.52452,     0.52553,     0.52653,     0.52753,\n",
              "           0.52853,     0.52953,     0.53053,     0.53153,     0.53253,     0.53353,     0.53453,     0.53554,     0.53654,     0.53754,     0.53854,     0.53954,     0.54054,     0.54154,     0.54254,     0.54354,     0.54454,     0.54555,     0.54655,     0.54755,     0.54855,     0.54955,     0.55055,     0.55155,\n",
              "           0.55255,     0.55355,     0.55455,     0.55556,     0.55656,     0.55756,     0.55856,     0.55956,     0.56056,     0.56156,     0.56256,     0.56356,     0.56456,     0.56557,     0.56657,     0.56757,     0.56857,     0.56957,     0.57057,     0.57157,     0.57257,     0.57357,     0.57457,     0.57558,\n",
              "           0.57658,     0.57758,     0.57858,     0.57958,     0.58058,     0.58158,     0.58258,     0.58358,     0.58458,     0.58559,     0.58659,     0.58759,     0.58859,     0.58959,     0.59059,     0.59159,     0.59259,     0.59359,     0.59459,      0.5956,      0.5966,      0.5976,      0.5986,      0.5996,\n",
              "            0.6006,      0.6016,      0.6026,      0.6036,      0.6046,     0.60561,     0.60661,     0.60761,     0.60861,     0.60961,     0.61061,     0.61161,     0.61261,     0.61361,     0.61461,     0.61562,     0.61662,     0.61762,     0.61862,     0.61962,     0.62062,     0.62162,     0.62262,     0.62362,\n",
              "           0.62462,     0.62563,     0.62663,     0.62763,     0.62863,     0.62963,     0.63063,     0.63163,     0.63263,     0.63363,     0.63463,     0.63564,     0.63664,     0.63764,     0.63864,     0.63964,     0.64064,     0.64164,     0.64264,     0.64364,     0.64464,     0.64565,     0.64665,     0.64765,\n",
              "           0.64865,     0.64965,     0.65065,     0.65165,     0.65265,     0.65365,     0.65465,     0.65566,     0.65666,     0.65766,     0.65866,     0.65966,     0.66066,     0.66166,     0.66266,     0.66366,     0.66466,     0.66567,     0.66667,     0.66767,     0.66867,     0.66967,     0.67067,     0.67167,\n",
              "           0.67267,     0.67367,     0.67467,     0.67568,     0.67668,     0.67768,     0.67868,     0.67968,     0.68068,     0.68168,     0.68268,     0.68368,     0.68468,     0.68569,     0.68669,     0.68769,     0.68869,     0.68969,     0.69069,     0.69169,     0.69269,     0.69369,     0.69469,      0.6957,\n",
              "            0.6967,      0.6977,      0.6987,      0.6997,      0.7007,      0.7017,      0.7027,      0.7037,      0.7047,     0.70571,     0.70671,     0.70771,     0.70871,     0.70971,     0.71071,     0.71171,     0.71271,     0.71371,     0.71471,     0.71572,     0.71672,     0.71772,     0.71872,     0.71972,\n",
              "           0.72072,     0.72172,     0.72272,     0.72372,     0.72472,     0.72573,     0.72673,     0.72773,     0.72873,     0.72973,     0.73073,     0.73173,     0.73273,     0.73373,     0.73473,     0.73574,     0.73674,     0.73774,     0.73874,     0.73974,     0.74074,     0.74174,     0.74274,     0.74374,\n",
              "           0.74474,     0.74575,     0.74675,     0.74775,     0.74875,     0.74975,     0.75075,     0.75175,     0.75275,     0.75375,     0.75475,     0.75576,     0.75676,     0.75776,     0.75876,     0.75976,     0.76076,     0.76176,     0.76276,     0.76376,     0.76476,     0.76577,     0.76677,     0.76777,\n",
              "           0.76877,     0.76977,     0.77077,     0.77177,     0.77277,     0.77377,     0.77477,     0.77578,     0.77678,     0.77778,     0.77878,     0.77978,     0.78078,     0.78178,     0.78278,     0.78378,     0.78478,     0.78579,     0.78679,     0.78779,     0.78879,     0.78979,     0.79079,     0.79179,\n",
              "           0.79279,     0.79379,     0.79479,      0.7958,      0.7968,      0.7978,      0.7988,      0.7998,      0.8008,      0.8018,      0.8028,      0.8038,      0.8048,     0.80581,     0.80681,     0.80781,     0.80881,     0.80981,     0.81081,     0.81181,     0.81281,     0.81381,     0.81481,     0.81582,\n",
              "           0.81682,     0.81782,     0.81882,     0.81982,     0.82082,     0.82182,     0.82282,     0.82382,     0.82482,     0.82583,     0.82683,     0.82783,     0.82883,     0.82983,     0.83083,     0.83183,     0.83283,     0.83383,     0.83483,     0.83584,     0.83684,     0.83784,     0.83884,     0.83984,\n",
              "           0.84084,     0.84184,     0.84284,     0.84384,     0.84484,     0.84585,     0.84685,     0.84785,     0.84885,     0.84985,     0.85085,     0.85185,     0.85285,     0.85385,     0.85485,     0.85586,     0.85686,     0.85786,     0.85886,     0.85986,     0.86086,     0.86186,     0.86286,     0.86386,\n",
              "           0.86486,     0.86587,     0.86687,     0.86787,     0.86887,     0.86987,     0.87087,     0.87187,     0.87287,     0.87387,     0.87487,     0.87588,     0.87688,     0.87788,     0.87888,     0.87988,     0.88088,     0.88188,     0.88288,     0.88388,     0.88488,     0.88589,     0.88689,     0.88789,\n",
              "           0.88889,     0.88989,     0.89089,     0.89189,     0.89289,     0.89389,     0.89489,      0.8959,      0.8969,      0.8979,      0.8989,      0.8999,      0.9009,      0.9019,      0.9029,      0.9039,      0.9049,     0.90591,     0.90691,     0.90791,     0.90891,     0.90991,     0.91091,     0.91191,\n",
              "           0.91291,     0.91391,     0.91491,     0.91592,     0.91692,     0.91792,     0.91892,     0.91992,     0.92092,     0.92192,     0.92292,     0.92392,     0.92492,     0.92593,     0.92693,     0.92793,     0.92893,     0.92993,     0.93093,     0.93193,     0.93293,     0.93393,     0.93493,     0.93594,\n",
              "           0.93694,     0.93794,     0.93894,     0.93994,     0.94094,     0.94194,     0.94294,     0.94394,     0.94494,     0.94595,     0.94695,     0.94795,     0.94895,     0.94995,     0.95095,     0.95195,     0.95295,     0.95395,     0.95495,     0.95596,     0.95696,     0.95796,     0.95896,     0.95996,\n",
              "           0.96096,     0.96196,     0.96296,     0.96396,     0.96496,     0.96597,     0.96697,     0.96797,     0.96897,     0.96997,     0.97097,     0.97197,     0.97297,     0.97397,     0.97497,     0.97598,     0.97698,     0.97798,     0.97898,     0.97998,     0.98098,     0.98198,     0.98298,     0.98398,\n",
              "           0.98498,     0.98599,     0.98699,     0.98799,     0.98899,     0.98999,     0.99099,     0.99199,     0.99299,     0.99399,     0.99499,       0.996,       0.997,       0.998,       0.999,           1]), array([[    0.16701,     0.16723,     0.46609,     0.64205,      0.7657,     0.82629,     0.86608,     0.88154,     0.88938,     0.89201,     0.89892,     0.90004,     0.90116,     0.90227,     0.90339,     0.90867,     0.91765,     0.92099,     0.92405,     0.92542,     0.92619,     0.92696,     0.92773,\n",
              "             0.9285,     0.92927,     0.93004,     0.93595,     0.93648,     0.93702,     0.93755,     0.93808,     0.93861,     0.93914,     0.93967,      0.9402,     0.94072,     0.94137,      0.9427,     0.94403,     0.94536,     0.94668,     0.94708,     0.94743,     0.94778,     0.94814,     0.94849,\n",
              "            0.94884,     0.94919,     0.94954,     0.94989,     0.95024,     0.95059,     0.95094,     0.95129,     0.95164,     0.95199,     0.95234,     0.95246,     0.95256,     0.95265,     0.95274,     0.95284,     0.95293,     0.95303,     0.95312,     0.95321,     0.95331,      0.9534,     0.95349,\n",
              "            0.95359,     0.95368,     0.95377,     0.95387,     0.95396,     0.95405,     0.95415,     0.95424,     0.95433,     0.95443,     0.95452,     0.95461,     0.95471,      0.9548,     0.95489,     0.95499,     0.95508,     0.95517,     0.95527,     0.95536,     0.95545,     0.95555,     0.95564,\n",
              "            0.95573,     0.95583,     0.95592,     0.95601,     0.95611,      0.9562,     0.95629,     0.95638,     0.95648,     0.95657,     0.95666,     0.95676,     0.95685,     0.95694,     0.95704,     0.95713,     0.95722,     0.95731,     0.95741,      0.9575,     0.95759,     0.95768,     0.95778,\n",
              "            0.95787,     0.95796,     0.95806,      0.9582,     0.95835,     0.95851,     0.95867,     0.95883,     0.95899,     0.95915,     0.95931,     0.95947,     0.95963,     0.95979,     0.95995,     0.96011,     0.96027,     0.96043,     0.96058,     0.96074,      0.9609,     0.96106,     0.96122,\n",
              "            0.96138,     0.96154,      0.9617,     0.96185,     0.96201,     0.96217,     0.96233,     0.96249,     0.96265,      0.9628,     0.96296,     0.96312,     0.96328,     0.96344,      0.9636,     0.96375,     0.96386,     0.96389,     0.96391,     0.96393,     0.96395,     0.96397,     0.96399,\n",
              "            0.96402,     0.96404,     0.96406,     0.96408,      0.9641,     0.96413,     0.96415,     0.96417,     0.96419,     0.96421,     0.96424,     0.96426,     0.96428,      0.9643,     0.96432,     0.96435,     0.96437,     0.96439,     0.96441,     0.96443,     0.96446,     0.96448,      0.9645,\n",
              "            0.96452,     0.96454,     0.96457,     0.96459,     0.96461,     0.96463,     0.96465,     0.96467,      0.9647,     0.96472,     0.96474,     0.96476,     0.96478,     0.96481,     0.96483,     0.96485,     0.96487,     0.96489,     0.96492,     0.96494,     0.96496,     0.96498,       0.965,\n",
              "            0.96503,     0.96505,     0.96507,     0.96509,     0.96511,     0.96514,     0.96516,     0.96518,      0.9652,     0.96522,     0.96524,     0.96527,     0.96529,     0.96531,     0.96533,     0.96535,     0.96538,      0.9654,     0.96542,     0.96544,     0.96546,     0.96549,     0.96551,\n",
              "            0.96553,     0.96555,     0.96557,     0.96559,     0.96562,     0.96564,     0.96566,     0.96568,      0.9657,     0.96573,     0.96575,     0.96577,     0.96579,     0.96581,     0.96584,     0.96586,     0.96588,      0.9659,     0.96592,     0.96594,     0.96597,     0.96599,     0.96601,\n",
              "            0.96603,     0.96605,     0.96608,      0.9661,     0.96612,     0.96614,     0.96616,     0.96619,     0.96621,     0.96623,     0.96625,     0.96627,     0.96629,     0.96632,     0.96634,     0.96636,     0.96638,      0.9664,     0.96643,     0.96645,     0.96647,     0.96649,     0.96651,\n",
              "            0.96654,     0.96656,     0.96658,      0.9666,     0.96662,     0.96664,     0.96667,     0.96669,     0.96671,     0.96673,     0.96675,     0.96678,      0.9668,     0.96682,     0.96684,     0.96686,     0.96688,     0.96691,     0.96693,     0.96695,     0.96697,     0.96699,     0.96702,\n",
              "            0.96704,     0.96706,     0.96708,      0.9671,     0.96712,     0.96715,     0.96717,     0.96719,     0.96721,     0.96723,     0.96726,     0.96728,      0.9673,     0.96732,     0.96734,     0.96736,     0.96739,     0.96741,     0.96743,     0.96745,     0.96747,      0.9675,     0.96752,\n",
              "            0.96754,     0.96756,     0.96758,      0.9676,     0.96763,     0.96765,     0.96767,     0.96769,     0.96771,     0.96773,     0.96776,     0.96778,      0.9678,     0.96782,     0.96784,     0.96787,     0.96789,     0.96791,     0.96793,     0.96795,     0.96797,       0.968,     0.96802,\n",
              "            0.96804,     0.96806,     0.96808,     0.96811,     0.96813,     0.96815,     0.96817,     0.96819,     0.96821,     0.96824,     0.96826,     0.96828,      0.9683,     0.96832,     0.96834,     0.96837,     0.96839,     0.96841,     0.96843,     0.96845,     0.96848,      0.9685,     0.96852,\n",
              "            0.96854,     0.96856,     0.96858,     0.96861,     0.96863,     0.96865,     0.96867,     0.96869,     0.96871,     0.96874,     0.96876,     0.96878,      0.9688,     0.96882,     0.96885,     0.96887,     0.96889,     0.96891,     0.96893,     0.96895,     0.96898,       0.969,     0.96902,\n",
              "            0.96904,     0.96906,     0.96908,     0.96911,     0.96913,     0.96915,     0.96917,     0.96919,     0.96921,     0.96924,     0.96926,     0.96928,      0.9693,     0.96932,     0.96934,     0.96937,     0.96939,     0.96941,     0.96943,     0.96945,     0.96948,      0.9695,     0.96952,\n",
              "            0.96954,     0.96956,     0.96958,     0.96961,     0.96963,     0.96965,     0.96967,     0.96969,     0.97001,      0.9704,     0.97079,     0.97119,     0.97158,     0.97197,     0.97237,     0.97276,     0.97315,     0.97354,     0.97393,     0.97432,     0.97471,     0.97511,      0.9755,\n",
              "            0.97569,     0.97579,      0.9759,     0.97601,     0.97611,     0.97622,     0.97633,     0.97644,     0.97654,     0.97665,     0.97676,     0.97686,     0.97697,     0.97708,     0.97719,     0.97729,      0.9774,     0.97751,     0.97761,     0.97772,     0.97783,     0.97793,     0.97804,\n",
              "            0.97815,     0.97826,     0.97836,     0.97847,     0.97858,     0.97868,     0.97879,      0.9789,       0.979,     0.97911,     0.97922,     0.97932,     0.97943,     0.97954,     0.97964,     0.97975,     0.97985,     0.97996,     0.98007,     0.98017,     0.98028,     0.98039,     0.98049,\n",
              "             0.9806,     0.98071,     0.98081,     0.98092,     0.98102,     0.98113,     0.98124,     0.98134,     0.98145,     0.98155,     0.98161,     0.98163,     0.98165,     0.98167,     0.98169,     0.98172,     0.98174,     0.98176,     0.98178,      0.9818,     0.98182,     0.98184,     0.98187,\n",
              "            0.98189,     0.98191,     0.98193,     0.98195,     0.98197,       0.982,     0.98202,     0.98204,     0.98206,     0.98208,      0.9821,     0.98212,     0.98215,     0.98217,     0.98219,     0.98221,     0.98223,     0.98225,     0.98227,      0.9823,     0.98232,     0.98234,     0.98236,\n",
              "            0.98238,      0.9824,     0.98242,     0.98245,     0.98247,     0.98249,     0.98251,     0.98253,     0.98255,     0.98257,      0.9826,     0.98262,     0.98264,     0.98266,     0.98268,      0.9827,     0.98273,     0.98275,     0.98277,     0.98279,     0.98281,     0.98283,     0.98285,\n",
              "            0.98288,      0.9829,     0.98292,     0.98294,     0.98296,     0.98298,       0.983,     0.98303,     0.98305,     0.98307,     0.98309,     0.98311,     0.98313,     0.98315,     0.98318,      0.9832,     0.98322,     0.98324,     0.98326,     0.98328,      0.9833,     0.98333,     0.98335,\n",
              "            0.98337,     0.98339,     0.98341,     0.98343,     0.98345,     0.98348,      0.9835,     0.98352,     0.98354,     0.98356,     0.98358,      0.9836,     0.98363,     0.98365,     0.98367,     0.98369,     0.98371,     0.98373,     0.98375,     0.98377,      0.9838,     0.98382,     0.98384,\n",
              "            0.98386,     0.98388,      0.9839,     0.98392,     0.98395,     0.98397,     0.98399,     0.98401,     0.98403,     0.98405,     0.98407,      0.9841,     0.98412,     0.98414,     0.98416,     0.98418,      0.9842,     0.98422,     0.98425,     0.98427,     0.98429,     0.98431,     0.98433,\n",
              "            0.98435,     0.98437,      0.9844,     0.98442,     0.98444,     0.98446,     0.98448,      0.9845,     0.98452,     0.98454,     0.98457,     0.98459,     0.98461,     0.98463,     0.98465,     0.98467,     0.98469,     0.98472,     0.98474,     0.98476,     0.98478,      0.9848,     0.98482,\n",
              "            0.98484,     0.98487,     0.98489,     0.98491,     0.98493,     0.98495,     0.98497,     0.98499,     0.98501,     0.98504,     0.98506,     0.98508,      0.9851,     0.98512,     0.98514,     0.98516,     0.98519,     0.98521,     0.98523,     0.98525,     0.98527,     0.98529,     0.98531,\n",
              "            0.98533,     0.98536,     0.98538,      0.9854,     0.98542,     0.98544,     0.98546,     0.98548,     0.98551,     0.98553,     0.98555,     0.98557,     0.98559,     0.98561,     0.98563,     0.98565,     0.98568,      0.9857,     0.98572,     0.98574,     0.98576,     0.98578,      0.9858,\n",
              "            0.98583,     0.98585,     0.98587,     0.98589,     0.98591,     0.98593,     0.98595,     0.98597,       0.986,     0.98602,     0.98604,     0.98606,     0.98608,      0.9861,     0.98612,     0.98614,     0.98617,     0.98619,     0.98621,     0.98623,     0.98625,     0.98627,     0.98629,\n",
              "            0.98632,     0.98634,     0.98636,     0.98638,      0.9864,     0.98642,     0.98644,     0.98646,     0.98649,     0.98651,     0.98653,     0.98655,     0.98657,     0.98659,     0.98661,     0.98663,     0.98666,     0.98668,      0.9867,     0.98672,     0.98674,     0.98676,     0.98678,\n",
              "             0.9868,     0.98683,     0.98685,     0.98687,     0.98689,     0.98691,     0.98693,     0.98695,     0.98698,       0.987,     0.98702,     0.98704,     0.98706,     0.98708,      0.9871,     0.98712,     0.98715,     0.98717,     0.98719,     0.98721,     0.98723,     0.98725,     0.98727,\n",
              "            0.98729,     0.98732,     0.98734,     0.98736,     0.98738,      0.9874,     0.98742,     0.98744,     0.98746,     0.98749,     0.98751,     0.98753,     0.98755,     0.98757,     0.98759,     0.98761,     0.98763,      0.9876,     0.98603,     0.98446,     0.98288,     0.98132,     0.98028,\n",
              "            0.97923,     0.97818,     0.97712,     0.97607,     0.97501,     0.97469,     0.97439,     0.97408,     0.97377,     0.97346,     0.97315,     0.97284,     0.97253,     0.97222,     0.97191,      0.9716,     0.97129,     0.97098,     0.97067,     0.97036,     0.97005,     0.96974,     0.96943,\n",
              "            0.96911,      0.9688,     0.96803,     0.96539,     0.96274,     0.95978,     0.95669,     0.95516,     0.95474,     0.95431,     0.95388,     0.95345,     0.95302,     0.95259,     0.95216,     0.95173,      0.9513,     0.95087,     0.95044,     0.95001,     0.94958,     0.94914,     0.94869,\n",
              "            0.94719,     0.94569,     0.94418,     0.94267,     0.94149,     0.94063,     0.93976,     0.93889,     0.93803,     0.93716,     0.93628,     0.93541,     0.93231,     0.92789,     0.92532,     0.92274,     0.91911,     0.91327,     0.90636,     0.90502,     0.90369,     0.90235,       0.901,\n",
              "            0.89965,      0.8916,     0.88617,     0.88142,     0.87699,     0.86976,     0.87088,       0.872,     0.87312,     0.87423,     0.87024,     0.86472,     0.86171,     0.85692,     0.84037,     0.83532,     0.82747,     0.81115,       0.807,     0.80479,     0.80258,     0.80036,     0.78866,\n",
              "             0.7844,     0.78087,     0.77833,     0.77578,     0.77321,     0.76982,     0.76622,     0.75944,     0.74284,      0.7402,     0.73755,     0.73489,     0.72629,     0.72082,     0.71637,     0.71128,     0.70559,     0.69571,     0.68296,     0.67081,     0.66664,     0.66244,     0.64691,\n",
              "            0.63961,      0.6323,     0.61351,     0.59566,     0.56325,     0.55671,     0.54117,     0.53286,     0.52215,     0.50182,     0.46894,     0.44138,     0.40474,     0.38742,     0.37869,     0.37536,     0.37201,     0.36865,     0.36528,     0.32295,     0.30924,     0.30501,     0.30076,\n",
              "            0.29649,     0.27914,     0.26723,       0.255,     0.23287,     0.21299,     0.19495,     0.18563,     0.17345,     0.15831,     0.15325,     0.14816,     0.14304,     0.13783,     0.12503,     0.11565,     0.11372,     0.11179,     0.10985,      0.1079,     0.10595,       0.104,     0.10205,\n",
              "            0.10009,    0.098123,    0.096155,    0.094183,    0.084632,     0.07472,    0.064006,    0.052825,    0.046848,     0.04456,    0.042267,    0.039969,    0.037665,    0.035356,    0.033041,    0.030721,    0.028396,    0.026065,           0,           0,           0,           0,           0,\n",
              "                  0,           0,           0,           0,           0,           0,           0,           0,           0,           0,           0,           0,           0,           0,           0,           0,           0,           0,           0,           0,           0,           0,           0,\n",
              "                  0,           0,           0,           0,           0,           0,           0,           0,           0,           0,           0]]), 'Confidence', 'F1'], [array([          0,    0.001001,    0.002002,    0.003003,    0.004004,    0.005005,    0.006006,    0.007007,    0.008008,    0.009009,     0.01001,    0.011011,    0.012012,    0.013013,    0.014014,    0.015015,    0.016016,    0.017017,    0.018018,    0.019019,     0.02002,    0.021021,    0.022022,    0.023023,\n",
              "          0.024024,    0.025025,    0.026026,    0.027027,    0.028028,    0.029029,     0.03003,    0.031031,    0.032032,    0.033033,    0.034034,    0.035035,    0.036036,    0.037037,    0.038038,    0.039039,     0.04004,    0.041041,    0.042042,    0.043043,    0.044044,    0.045045,    0.046046,    0.047047,\n",
              "          0.048048,    0.049049,     0.05005,    0.051051,    0.052052,    0.053053,    0.054054,    0.055055,    0.056056,    0.057057,    0.058058,    0.059059,     0.06006,    0.061061,    0.062062,    0.063063,    0.064064,    0.065065,    0.066066,    0.067067,    0.068068,    0.069069,     0.07007,    0.071071,\n",
              "          0.072072,    0.073073,    0.074074,    0.075075,    0.076076,    0.077077,    0.078078,    0.079079,     0.08008,    0.081081,    0.082082,    0.083083,    0.084084,    0.085085,    0.086086,    0.087087,    0.088088,    0.089089,     0.09009,    0.091091,    0.092092,    0.093093,    0.094094,    0.095095,\n",
              "          0.096096,    0.097097,    0.098098,    0.099099,      0.1001,      0.1011,      0.1021,      0.1031,      0.1041,     0.10511,     0.10611,     0.10711,     0.10811,     0.10911,     0.11011,     0.11111,     0.11211,     0.11311,     0.11411,     0.11512,     0.11612,     0.11712,     0.11812,     0.11912,\n",
              "           0.12012,     0.12112,     0.12212,     0.12312,     0.12412,     0.12513,     0.12613,     0.12713,     0.12813,     0.12913,     0.13013,     0.13113,     0.13213,     0.13313,     0.13413,     0.13514,     0.13614,     0.13714,     0.13814,     0.13914,     0.14014,     0.14114,     0.14214,     0.14314,\n",
              "           0.14414,     0.14515,     0.14615,     0.14715,     0.14815,     0.14915,     0.15015,     0.15115,     0.15215,     0.15315,     0.15415,     0.15516,     0.15616,     0.15716,     0.15816,     0.15916,     0.16016,     0.16116,     0.16216,     0.16316,     0.16416,     0.16517,     0.16617,     0.16717,\n",
              "           0.16817,     0.16917,     0.17017,     0.17117,     0.17217,     0.17317,     0.17417,     0.17518,     0.17618,     0.17718,     0.17818,     0.17918,     0.18018,     0.18118,     0.18218,     0.18318,     0.18418,     0.18519,     0.18619,     0.18719,     0.18819,     0.18919,     0.19019,     0.19119,\n",
              "           0.19219,     0.19319,     0.19419,      0.1952,      0.1962,      0.1972,      0.1982,      0.1992,      0.2002,      0.2012,      0.2022,      0.2032,      0.2042,     0.20521,     0.20621,     0.20721,     0.20821,     0.20921,     0.21021,     0.21121,     0.21221,     0.21321,     0.21421,     0.21522,\n",
              "           0.21622,     0.21722,     0.21822,     0.21922,     0.22022,     0.22122,     0.22222,     0.22322,     0.22422,     0.22523,     0.22623,     0.22723,     0.22823,     0.22923,     0.23023,     0.23123,     0.23223,     0.23323,     0.23423,     0.23524,     0.23624,     0.23724,     0.23824,     0.23924,\n",
              "           0.24024,     0.24124,     0.24224,     0.24324,     0.24424,     0.24525,     0.24625,     0.24725,     0.24825,     0.24925,     0.25025,     0.25125,     0.25225,     0.25325,     0.25425,     0.25526,     0.25626,     0.25726,     0.25826,     0.25926,     0.26026,     0.26126,     0.26226,     0.26326,\n",
              "           0.26426,     0.26527,     0.26627,     0.26727,     0.26827,     0.26927,     0.27027,     0.27127,     0.27227,     0.27327,     0.27427,     0.27528,     0.27628,     0.27728,     0.27828,     0.27928,     0.28028,     0.28128,     0.28228,     0.28328,     0.28428,     0.28529,     0.28629,     0.28729,\n",
              "           0.28829,     0.28929,     0.29029,     0.29129,     0.29229,     0.29329,     0.29429,      0.2953,      0.2963,      0.2973,      0.2983,      0.2993,      0.3003,      0.3013,      0.3023,      0.3033,      0.3043,     0.30531,     0.30631,     0.30731,     0.30831,     0.30931,     0.31031,     0.31131,\n",
              "           0.31231,     0.31331,     0.31431,     0.31532,     0.31632,     0.31732,     0.31832,     0.31932,     0.32032,     0.32132,     0.32232,     0.32332,     0.32432,     0.32533,     0.32633,     0.32733,     0.32833,     0.32933,     0.33033,     0.33133,     0.33233,     0.33333,     0.33433,     0.33534,\n",
              "           0.33634,     0.33734,     0.33834,     0.33934,     0.34034,     0.34134,     0.34234,     0.34334,     0.34434,     0.34535,     0.34635,     0.34735,     0.34835,     0.34935,     0.35035,     0.35135,     0.35235,     0.35335,     0.35435,     0.35536,     0.35636,     0.35736,     0.35836,     0.35936,\n",
              "           0.36036,     0.36136,     0.36236,     0.36336,     0.36436,     0.36537,     0.36637,     0.36737,     0.36837,     0.36937,     0.37037,     0.37137,     0.37237,     0.37337,     0.37437,     0.37538,     0.37638,     0.37738,     0.37838,     0.37938,     0.38038,     0.38138,     0.38238,     0.38338,\n",
              "           0.38438,     0.38539,     0.38639,     0.38739,     0.38839,     0.38939,     0.39039,     0.39139,     0.39239,     0.39339,     0.39439,      0.3954,      0.3964,      0.3974,      0.3984,      0.3994,      0.4004,      0.4014,      0.4024,      0.4034,      0.4044,     0.40541,     0.40641,     0.40741,\n",
              "           0.40841,     0.40941,     0.41041,     0.41141,     0.41241,     0.41341,     0.41441,     0.41542,     0.41642,     0.41742,     0.41842,     0.41942,     0.42042,     0.42142,     0.42242,     0.42342,     0.42442,     0.42543,     0.42643,     0.42743,     0.42843,     0.42943,     0.43043,     0.43143,\n",
              "           0.43243,     0.43343,     0.43443,     0.43544,     0.43644,     0.43744,     0.43844,     0.43944,     0.44044,     0.44144,     0.44244,     0.44344,     0.44444,     0.44545,     0.44645,     0.44745,     0.44845,     0.44945,     0.45045,     0.45145,     0.45245,     0.45345,     0.45445,     0.45546,\n",
              "           0.45646,     0.45746,     0.45846,     0.45946,     0.46046,     0.46146,     0.46246,     0.46346,     0.46446,     0.46547,     0.46647,     0.46747,     0.46847,     0.46947,     0.47047,     0.47147,     0.47247,     0.47347,     0.47447,     0.47548,     0.47648,     0.47748,     0.47848,     0.47948,\n",
              "           0.48048,     0.48148,     0.48248,     0.48348,     0.48448,     0.48549,     0.48649,     0.48749,     0.48849,     0.48949,     0.49049,     0.49149,     0.49249,     0.49349,     0.49449,      0.4955,      0.4965,      0.4975,      0.4985,      0.4995,      0.5005,      0.5015,      0.5025,      0.5035,\n",
              "            0.5045,     0.50551,     0.50651,     0.50751,     0.50851,     0.50951,     0.51051,     0.51151,     0.51251,     0.51351,     0.51451,     0.51552,     0.51652,     0.51752,     0.51852,     0.51952,     0.52052,     0.52152,     0.52252,     0.52352,     0.52452,     0.52553,     0.52653,     0.52753,\n",
              "           0.52853,     0.52953,     0.53053,     0.53153,     0.53253,     0.53353,     0.53453,     0.53554,     0.53654,     0.53754,     0.53854,     0.53954,     0.54054,     0.54154,     0.54254,     0.54354,     0.54454,     0.54555,     0.54655,     0.54755,     0.54855,     0.54955,     0.55055,     0.55155,\n",
              "           0.55255,     0.55355,     0.55455,     0.55556,     0.55656,     0.55756,     0.55856,     0.55956,     0.56056,     0.56156,     0.56256,     0.56356,     0.56456,     0.56557,     0.56657,     0.56757,     0.56857,     0.56957,     0.57057,     0.57157,     0.57257,     0.57357,     0.57457,     0.57558,\n",
              "           0.57658,     0.57758,     0.57858,     0.57958,     0.58058,     0.58158,     0.58258,     0.58358,     0.58458,     0.58559,     0.58659,     0.58759,     0.58859,     0.58959,     0.59059,     0.59159,     0.59259,     0.59359,     0.59459,      0.5956,      0.5966,      0.5976,      0.5986,      0.5996,\n",
              "            0.6006,      0.6016,      0.6026,      0.6036,      0.6046,     0.60561,     0.60661,     0.60761,     0.60861,     0.60961,     0.61061,     0.61161,     0.61261,     0.61361,     0.61461,     0.61562,     0.61662,     0.61762,     0.61862,     0.61962,     0.62062,     0.62162,     0.62262,     0.62362,\n",
              "           0.62462,     0.62563,     0.62663,     0.62763,     0.62863,     0.62963,     0.63063,     0.63163,     0.63263,     0.63363,     0.63463,     0.63564,     0.63664,     0.63764,     0.63864,     0.63964,     0.64064,     0.64164,     0.64264,     0.64364,     0.64464,     0.64565,     0.64665,     0.64765,\n",
              "           0.64865,     0.64965,     0.65065,     0.65165,     0.65265,     0.65365,     0.65465,     0.65566,     0.65666,     0.65766,     0.65866,     0.65966,     0.66066,     0.66166,     0.66266,     0.66366,     0.66466,     0.66567,     0.66667,     0.66767,     0.66867,     0.66967,     0.67067,     0.67167,\n",
              "           0.67267,     0.67367,     0.67467,     0.67568,     0.67668,     0.67768,     0.67868,     0.67968,     0.68068,     0.68168,     0.68268,     0.68368,     0.68468,     0.68569,     0.68669,     0.68769,     0.68869,     0.68969,     0.69069,     0.69169,     0.69269,     0.69369,     0.69469,      0.6957,\n",
              "            0.6967,      0.6977,      0.6987,      0.6997,      0.7007,      0.7017,      0.7027,      0.7037,      0.7047,     0.70571,     0.70671,     0.70771,     0.70871,     0.70971,     0.71071,     0.71171,     0.71271,     0.71371,     0.71471,     0.71572,     0.71672,     0.71772,     0.71872,     0.71972,\n",
              "           0.72072,     0.72172,     0.72272,     0.72372,     0.72472,     0.72573,     0.72673,     0.72773,     0.72873,     0.72973,     0.73073,     0.73173,     0.73273,     0.73373,     0.73473,     0.73574,     0.73674,     0.73774,     0.73874,     0.73974,     0.74074,     0.74174,     0.74274,     0.74374,\n",
              "           0.74474,     0.74575,     0.74675,     0.74775,     0.74875,     0.74975,     0.75075,     0.75175,     0.75275,     0.75375,     0.75475,     0.75576,     0.75676,     0.75776,     0.75876,     0.75976,     0.76076,     0.76176,     0.76276,     0.76376,     0.76476,     0.76577,     0.76677,     0.76777,\n",
              "           0.76877,     0.76977,     0.77077,     0.77177,     0.77277,     0.77377,     0.77477,     0.77578,     0.77678,     0.77778,     0.77878,     0.77978,     0.78078,     0.78178,     0.78278,     0.78378,     0.78478,     0.78579,     0.78679,     0.78779,     0.78879,     0.78979,     0.79079,     0.79179,\n",
              "           0.79279,     0.79379,     0.79479,      0.7958,      0.7968,      0.7978,      0.7988,      0.7998,      0.8008,      0.8018,      0.8028,      0.8038,      0.8048,     0.80581,     0.80681,     0.80781,     0.80881,     0.80981,     0.81081,     0.81181,     0.81281,     0.81381,     0.81481,     0.81582,\n",
              "           0.81682,     0.81782,     0.81882,     0.81982,     0.82082,     0.82182,     0.82282,     0.82382,     0.82482,     0.82583,     0.82683,     0.82783,     0.82883,     0.82983,     0.83083,     0.83183,     0.83283,     0.83383,     0.83483,     0.83584,     0.83684,     0.83784,     0.83884,     0.83984,\n",
              "           0.84084,     0.84184,     0.84284,     0.84384,     0.84484,     0.84585,     0.84685,     0.84785,     0.84885,     0.84985,     0.85085,     0.85185,     0.85285,     0.85385,     0.85485,     0.85586,     0.85686,     0.85786,     0.85886,     0.85986,     0.86086,     0.86186,     0.86286,     0.86386,\n",
              "           0.86486,     0.86587,     0.86687,     0.86787,     0.86887,     0.86987,     0.87087,     0.87187,     0.87287,     0.87387,     0.87487,     0.87588,     0.87688,     0.87788,     0.87888,     0.87988,     0.88088,     0.88188,     0.88288,     0.88388,     0.88488,     0.88589,     0.88689,     0.88789,\n",
              "           0.88889,     0.88989,     0.89089,     0.89189,     0.89289,     0.89389,     0.89489,      0.8959,      0.8969,      0.8979,      0.8989,      0.8999,      0.9009,      0.9019,      0.9029,      0.9039,      0.9049,     0.90591,     0.90691,     0.90791,     0.90891,     0.90991,     0.91091,     0.91191,\n",
              "           0.91291,     0.91391,     0.91491,     0.91592,     0.91692,     0.91792,     0.91892,     0.91992,     0.92092,     0.92192,     0.92292,     0.92392,     0.92492,     0.92593,     0.92693,     0.92793,     0.92893,     0.92993,     0.93093,     0.93193,     0.93293,     0.93393,     0.93493,     0.93594,\n",
              "           0.93694,     0.93794,     0.93894,     0.93994,     0.94094,     0.94194,     0.94294,     0.94394,     0.94494,     0.94595,     0.94695,     0.94795,     0.94895,     0.94995,     0.95095,     0.95195,     0.95295,     0.95395,     0.95495,     0.95596,     0.95696,     0.95796,     0.95896,     0.95996,\n",
              "           0.96096,     0.96196,     0.96296,     0.96396,     0.96496,     0.96597,     0.96697,     0.96797,     0.96897,     0.96997,     0.97097,     0.97197,     0.97297,     0.97397,     0.97497,     0.97598,     0.97698,     0.97798,     0.97898,     0.97998,     0.98098,     0.98198,     0.98298,     0.98398,\n",
              "           0.98498,     0.98599,     0.98699,     0.98799,     0.98899,     0.98999,     0.99099,     0.99199,     0.99299,     0.99399,     0.99499,       0.996,       0.997,       0.998,       0.999,           1]), array([[    0.09122,     0.09135,     0.30501,     0.47562,     0.62519,     0.71026,     0.77115,     0.79601,      0.8089,     0.81325,     0.82481,      0.8267,     0.82859,     0.83048,     0.83237,     0.84139,     0.85692,     0.86275,     0.86813,     0.87057,     0.87194,      0.8733,     0.87467,\n",
              "            0.87604,      0.8774,     0.87877,     0.88939,     0.89035,     0.89132,     0.89228,     0.89324,      0.8942,     0.89516,     0.89613,     0.89709,     0.89805,     0.89922,     0.90166,     0.90409,     0.90653,     0.90897,     0.90971,     0.91036,     0.91101,     0.91166,     0.91231,\n",
              "            0.91296,     0.91361,     0.91426,     0.91491,     0.91556,     0.91621,     0.91686,     0.91751,     0.91816,     0.91882,     0.91947,     0.91969,     0.91987,     0.92004,     0.92022,     0.92039,     0.92057,     0.92074,     0.92092,     0.92109,     0.92127,     0.92144,     0.92162,\n",
              "            0.92179,     0.92197,     0.92214,     0.92232,     0.92249,     0.92267,     0.92284,     0.92302,     0.92319,     0.92336,     0.92354,     0.92371,     0.92389,     0.92406,     0.92424,     0.92441,     0.92459,     0.92476,     0.92494,     0.92511,     0.92529,     0.92546,     0.92564,\n",
              "            0.92581,     0.92599,     0.92616,     0.92634,     0.92651,     0.92668,     0.92686,     0.92703,     0.92721,     0.92738,     0.92756,     0.92773,     0.92791,     0.92808,     0.92826,     0.92843,     0.92861,     0.92878,     0.92896,     0.92913,     0.92931,     0.92948,     0.92966,\n",
              "            0.92983,     0.93001,     0.93018,     0.93044,     0.93074,     0.93104,     0.93135,     0.93165,     0.93195,     0.93225,     0.93255,     0.93285,     0.93315,     0.93345,     0.93375,     0.93406,     0.93436,     0.93466,     0.93496,     0.93526,     0.93556,     0.93586,     0.93616,\n",
              "            0.93646,     0.93677,     0.93707,     0.93737,     0.93767,     0.93797,     0.93827,     0.93857,     0.93887,     0.93917,     0.93948,     0.93978,     0.94008,     0.94038,     0.94068,     0.94098,     0.94119,     0.94123,     0.94127,     0.94132,     0.94136,      0.9414,     0.94144,\n",
              "            0.94148,     0.94153,     0.94157,     0.94161,     0.94165,     0.94169,     0.94174,     0.94178,     0.94182,     0.94186,      0.9419,     0.94194,     0.94199,     0.94203,     0.94207,     0.94211,     0.94215,      0.9422,     0.94224,     0.94228,     0.94232,     0.94236,     0.94241,\n",
              "            0.94245,     0.94249,     0.94253,     0.94257,     0.94261,     0.94266,      0.9427,     0.94274,     0.94278,     0.94282,     0.94287,     0.94291,     0.94295,     0.94299,     0.94303,     0.94308,     0.94312,     0.94316,      0.9432,     0.94324,     0.94328,     0.94333,     0.94337,\n",
              "            0.94341,     0.94345,     0.94349,     0.94354,     0.94358,     0.94362,     0.94366,      0.9437,     0.94375,     0.94379,     0.94383,     0.94387,     0.94391,     0.94395,       0.944,     0.94404,     0.94408,     0.94412,     0.94416,     0.94421,     0.94425,     0.94429,     0.94433,\n",
              "            0.94437,     0.94442,     0.94446,      0.9445,     0.94454,     0.94458,     0.94462,     0.94467,     0.94471,     0.94475,     0.94479,     0.94483,     0.94488,     0.94492,     0.94496,       0.945,     0.94504,     0.94509,     0.94513,     0.94517,     0.94521,     0.94525,      0.9453,\n",
              "            0.94534,     0.94538,     0.94542,     0.94546,      0.9455,     0.94555,     0.94559,     0.94563,     0.94567,     0.94571,     0.94576,      0.9458,     0.94584,     0.94588,     0.94592,     0.94597,     0.94601,     0.94605,     0.94609,     0.94613,     0.94617,     0.94622,     0.94626,\n",
              "             0.9463,     0.94634,     0.94638,     0.94643,     0.94647,     0.94651,     0.94655,     0.94659,     0.94664,     0.94668,     0.94672,     0.94676,      0.9468,     0.94684,     0.94689,     0.94693,     0.94697,     0.94701,     0.94705,      0.9471,     0.94714,     0.94718,     0.94722,\n",
              "            0.94726,     0.94731,     0.94735,     0.94739,     0.94743,     0.94747,     0.94751,     0.94756,      0.9476,     0.94764,     0.94768,     0.94772,     0.94777,     0.94781,     0.94785,     0.94789,     0.94793,     0.94798,     0.94802,     0.94806,      0.9481,     0.94814,     0.94818,\n",
              "            0.94823,     0.94827,     0.94831,     0.94835,     0.94839,     0.94844,     0.94848,     0.94852,     0.94856,      0.9486,     0.94865,     0.94869,     0.94873,     0.94877,     0.94881,     0.94885,      0.9489,     0.94894,     0.94898,     0.94902,     0.94906,     0.94911,     0.94915,\n",
              "            0.94919,     0.94923,     0.94927,     0.94932,     0.94936,      0.9494,     0.94944,     0.94948,     0.94952,     0.94957,     0.94961,     0.94965,     0.94969,     0.94973,     0.94978,     0.94982,     0.94986,      0.9499,     0.94994,     0.94999,     0.95003,     0.95007,     0.95011,\n",
              "            0.95015,     0.95019,     0.95024,     0.95028,     0.95032,     0.95036,      0.9504,     0.95045,     0.95049,     0.95053,     0.95057,     0.95061,     0.95066,      0.9507,     0.95074,     0.95078,     0.95082,     0.95086,     0.95091,     0.95095,     0.95099,     0.95103,     0.95107,\n",
              "            0.95112,     0.95116,      0.9512,     0.95124,     0.95128,     0.95133,     0.95137,     0.95141,     0.95145,     0.95149,     0.95153,     0.95158,     0.95162,     0.95166,      0.9517,     0.95174,     0.95179,     0.95183,     0.95187,     0.95191,     0.95195,       0.952,     0.95204,\n",
              "            0.95208,     0.95212,     0.95216,      0.9522,     0.95225,     0.95229,     0.95233,     0.95237,     0.95298,     0.95374,      0.9545,     0.95526,     0.95602,     0.95678,     0.95754,     0.95831,     0.95907,     0.95983,     0.96059,     0.96135,     0.96211,     0.96287,     0.96363,\n",
              "              0.964,     0.96421,     0.96442,     0.96463,     0.96484,     0.96505,     0.96526,     0.96547,     0.96568,     0.96589,      0.9661,     0.96631,     0.96652,     0.96673,     0.96694,     0.96715,     0.96736,     0.96757,     0.96778,     0.96799,      0.9682,      0.9684,     0.96861,\n",
              "            0.96882,     0.96903,     0.96924,     0.96945,     0.96966,     0.96987,     0.97008,     0.97029,      0.9705,     0.97071,     0.97092,     0.97113,     0.97134,     0.97155,     0.97176,     0.97197,     0.97218,     0.97239,      0.9726,     0.97281,     0.97302,     0.97322,     0.97343,\n",
              "            0.97364,     0.97385,     0.97406,     0.97427,     0.97448,     0.97469,      0.9749,     0.97511,     0.97532,     0.97553,     0.97564,     0.97568,     0.97572,     0.97576,     0.97581,     0.97585,     0.97589,     0.97593,     0.97598,     0.97602,     0.97606,      0.9761,     0.97615,\n",
              "            0.97619,     0.97623,     0.97627,     0.97632,     0.97636,      0.9764,     0.97644,     0.97649,     0.97653,     0.97657,     0.97661,     0.97666,      0.9767,     0.97674,     0.97678,     0.97683,     0.97687,     0.97691,     0.97695,       0.977,     0.97704,     0.97708,     0.97712,\n",
              "            0.97717,     0.97721,     0.97725,     0.97729,     0.97733,     0.97738,     0.97742,     0.97746,      0.9775,     0.97755,     0.97759,     0.97763,     0.97767,     0.97772,     0.97776,      0.9778,     0.97784,     0.97789,     0.97793,     0.97797,     0.97801,     0.97806,      0.9781,\n",
              "            0.97814,     0.97818,     0.97823,     0.97827,     0.97831,     0.97835,      0.9784,     0.97844,     0.97848,     0.97852,     0.97857,     0.97861,     0.97865,     0.97869,     0.97874,     0.97878,     0.97882,     0.97886,     0.97891,     0.97895,     0.97899,     0.97903,     0.97908,\n",
              "            0.97912,     0.97916,      0.9792,     0.97925,     0.97929,     0.97933,     0.97937,     0.97942,     0.97946,      0.9795,     0.97954,     0.97959,     0.97963,     0.97967,     0.97971,     0.97976,      0.9798,     0.97984,     0.97988,     0.97993,     0.97997,     0.98001,     0.98005,\n",
              "             0.9801,     0.98014,     0.98018,     0.98022,     0.98027,     0.98031,     0.98035,     0.98039,     0.98044,     0.98048,     0.98052,     0.98056,     0.98061,     0.98065,     0.98069,     0.98073,     0.98078,     0.98082,     0.98086,      0.9809,     0.98095,     0.98099,     0.98103,\n",
              "            0.98107,     0.98112,     0.98116,      0.9812,     0.98124,     0.98128,     0.98133,     0.98137,     0.98141,     0.98145,      0.9815,     0.98154,     0.98158,     0.98162,     0.98167,     0.98171,     0.98175,     0.98179,     0.98184,     0.98188,     0.98192,     0.98196,     0.98201,\n",
              "            0.98205,     0.98209,     0.98213,     0.98218,     0.98222,     0.98226,      0.9823,     0.98235,     0.98239,     0.98243,     0.98247,     0.98252,     0.98256,      0.9826,     0.98264,     0.98269,     0.98273,     0.98277,     0.98281,     0.98286,      0.9829,     0.98294,     0.98298,\n",
              "            0.98303,     0.98307,     0.98311,     0.98315,      0.9832,     0.98324,     0.98328,     0.98332,     0.98337,     0.98341,     0.98345,     0.98349,     0.98354,     0.98358,     0.98362,     0.98366,     0.98371,     0.98375,     0.98379,     0.98383,     0.98388,     0.98392,     0.98396,\n",
              "              0.984,     0.98405,     0.98409,     0.98413,     0.98417,     0.98422,     0.98426,      0.9843,     0.98434,     0.98439,     0.98443,     0.98447,     0.98451,     0.98456,      0.9846,     0.98464,     0.98468,     0.98473,     0.98477,     0.98481,     0.98485,      0.9849,     0.98494,\n",
              "            0.98498,     0.98502,     0.98506,     0.98511,     0.98515,     0.98519,     0.98523,     0.98528,     0.98532,     0.98536,      0.9854,     0.98545,     0.98549,     0.98553,     0.98557,     0.98562,     0.98566,      0.9857,     0.98574,     0.98579,     0.98583,     0.98587,     0.98591,\n",
              "            0.98596,       0.986,     0.98604,     0.98608,     0.98613,     0.98617,     0.98621,     0.98625,      0.9863,     0.98634,     0.98638,     0.98642,     0.98647,     0.98651,     0.98655,     0.98659,     0.98664,     0.98668,     0.98672,     0.98676,     0.98681,     0.98685,     0.98689,\n",
              "            0.98693,     0.98698,     0.98702,     0.98706,      0.9871,     0.98715,     0.98719,     0.98723,     0.98727,     0.98732,     0.98736,      0.9874,     0.98744,     0.98749,     0.98753,     0.98757,     0.98761,     0.98765,     0.98761,     0.98758,     0.98754,      0.9875,     0.98747,\n",
              "            0.98745,     0.98742,     0.98739,     0.98737,     0.98734,     0.98733,     0.98733,     0.98732,     0.98731,      0.9873,      0.9873,     0.98729,     0.98728,     0.98727,     0.98726,     0.98726,     0.98725,     0.98724,     0.98723,     0.98722,     0.98722,     0.98721,      0.9872,\n",
              "            0.98719,     0.98719,     0.98717,      0.9871,     0.98703,     0.98695,     0.98688,     0.98684,     0.98682,     0.98681,      0.9868,     0.98679,     0.98678,     0.98677,     0.98676,     0.98675,     0.98673,     0.98672,     0.98671,      0.9867,     0.98669,     0.98668,     0.98667,\n",
              "            0.98663,     0.98659,     0.98655,     0.98651,     0.98647,     0.98645,     0.98643,      0.9864,     0.98638,     0.98636,     0.98633,     0.98631,     0.98623,     0.98611,     0.98603,     0.98596,     0.98586,      0.9857,      0.9855,     0.98546,     0.98542,     0.98538,     0.98534,\n",
              "             0.9853,     0.98507,      0.9849,     0.98476,     0.98462,     0.98642,     0.98931,      0.9922,      0.9951,     0.99799,           1,           1,           1,           1,           1,           1,           1,           1,           1,           1,           1,           1,           1,\n",
              "                  1,           1,           1,           1,           1,           1,           1,           1,           1,           1,           1,           1,           1,           1,           1,           1,           1,           1,           1,           1,           1,           1,           1,\n",
              "                  1,           1,           1,           1,           1,           1,           1,           1,           1,           1,           1,           1,           1,           1,           1,           1,           1,           1,           1,           1,           1,           1,           1,\n",
              "                  1,           1,           1,           1,           1,           1,           1,           1,           1,           1,           1,           1,           1,           1,           1,           1,           1,           1,           1,           1,           1,           1,           1,\n",
              "                  1,           1,           1,           1,           1,           1,           1,           1,           1,           1,           1,           1,           1,           1,           1,           1,           1,           1,           1,           1,           1,           1,           1,\n",
              "                  1,           1,           1,           1,           1,           1,           1,           1,           1,           1,           1,           1,           1,           1,           1,           1,           1,           1,           1,           1,           1,           1,           1,\n",
              "                  1,           1,           1,           1,           1,           1,           1,           1,           1,           1,           1]]), 'Confidence', 'Precision'], [array([          0,    0.001001,    0.002002,    0.003003,    0.004004,    0.005005,    0.006006,    0.007007,    0.008008,    0.009009,     0.01001,    0.011011,    0.012012,    0.013013,    0.014014,    0.015015,    0.016016,    0.017017,    0.018018,    0.019019,     0.02002,    0.021021,    0.022022,    0.023023,\n",
              "          0.024024,    0.025025,    0.026026,    0.027027,    0.028028,    0.029029,     0.03003,    0.031031,    0.032032,    0.033033,    0.034034,    0.035035,    0.036036,    0.037037,    0.038038,    0.039039,     0.04004,    0.041041,    0.042042,    0.043043,    0.044044,    0.045045,    0.046046,    0.047047,\n",
              "          0.048048,    0.049049,     0.05005,    0.051051,    0.052052,    0.053053,    0.054054,    0.055055,    0.056056,    0.057057,    0.058058,    0.059059,     0.06006,    0.061061,    0.062062,    0.063063,    0.064064,    0.065065,    0.066066,    0.067067,    0.068068,    0.069069,     0.07007,    0.071071,\n",
              "          0.072072,    0.073073,    0.074074,    0.075075,    0.076076,    0.077077,    0.078078,    0.079079,     0.08008,    0.081081,    0.082082,    0.083083,    0.084084,    0.085085,    0.086086,    0.087087,    0.088088,    0.089089,     0.09009,    0.091091,    0.092092,    0.093093,    0.094094,    0.095095,\n",
              "          0.096096,    0.097097,    0.098098,    0.099099,      0.1001,      0.1011,      0.1021,      0.1031,      0.1041,     0.10511,     0.10611,     0.10711,     0.10811,     0.10911,     0.11011,     0.11111,     0.11211,     0.11311,     0.11411,     0.11512,     0.11612,     0.11712,     0.11812,     0.11912,\n",
              "           0.12012,     0.12112,     0.12212,     0.12312,     0.12412,     0.12513,     0.12613,     0.12713,     0.12813,     0.12913,     0.13013,     0.13113,     0.13213,     0.13313,     0.13413,     0.13514,     0.13614,     0.13714,     0.13814,     0.13914,     0.14014,     0.14114,     0.14214,     0.14314,\n",
              "           0.14414,     0.14515,     0.14615,     0.14715,     0.14815,     0.14915,     0.15015,     0.15115,     0.15215,     0.15315,     0.15415,     0.15516,     0.15616,     0.15716,     0.15816,     0.15916,     0.16016,     0.16116,     0.16216,     0.16316,     0.16416,     0.16517,     0.16617,     0.16717,\n",
              "           0.16817,     0.16917,     0.17017,     0.17117,     0.17217,     0.17317,     0.17417,     0.17518,     0.17618,     0.17718,     0.17818,     0.17918,     0.18018,     0.18118,     0.18218,     0.18318,     0.18418,     0.18519,     0.18619,     0.18719,     0.18819,     0.18919,     0.19019,     0.19119,\n",
              "           0.19219,     0.19319,     0.19419,      0.1952,      0.1962,      0.1972,      0.1982,      0.1992,      0.2002,      0.2012,      0.2022,      0.2032,      0.2042,     0.20521,     0.20621,     0.20721,     0.20821,     0.20921,     0.21021,     0.21121,     0.21221,     0.21321,     0.21421,     0.21522,\n",
              "           0.21622,     0.21722,     0.21822,     0.21922,     0.22022,     0.22122,     0.22222,     0.22322,     0.22422,     0.22523,     0.22623,     0.22723,     0.22823,     0.22923,     0.23023,     0.23123,     0.23223,     0.23323,     0.23423,     0.23524,     0.23624,     0.23724,     0.23824,     0.23924,\n",
              "           0.24024,     0.24124,     0.24224,     0.24324,     0.24424,     0.24525,     0.24625,     0.24725,     0.24825,     0.24925,     0.25025,     0.25125,     0.25225,     0.25325,     0.25425,     0.25526,     0.25626,     0.25726,     0.25826,     0.25926,     0.26026,     0.26126,     0.26226,     0.26326,\n",
              "           0.26426,     0.26527,     0.26627,     0.26727,     0.26827,     0.26927,     0.27027,     0.27127,     0.27227,     0.27327,     0.27427,     0.27528,     0.27628,     0.27728,     0.27828,     0.27928,     0.28028,     0.28128,     0.28228,     0.28328,     0.28428,     0.28529,     0.28629,     0.28729,\n",
              "           0.28829,     0.28929,     0.29029,     0.29129,     0.29229,     0.29329,     0.29429,      0.2953,      0.2963,      0.2973,      0.2983,      0.2993,      0.3003,      0.3013,      0.3023,      0.3033,      0.3043,     0.30531,     0.30631,     0.30731,     0.30831,     0.30931,     0.31031,     0.31131,\n",
              "           0.31231,     0.31331,     0.31431,     0.31532,     0.31632,     0.31732,     0.31832,     0.31932,     0.32032,     0.32132,     0.32232,     0.32332,     0.32432,     0.32533,     0.32633,     0.32733,     0.32833,     0.32933,     0.33033,     0.33133,     0.33233,     0.33333,     0.33433,     0.33534,\n",
              "           0.33634,     0.33734,     0.33834,     0.33934,     0.34034,     0.34134,     0.34234,     0.34334,     0.34434,     0.34535,     0.34635,     0.34735,     0.34835,     0.34935,     0.35035,     0.35135,     0.35235,     0.35335,     0.35435,     0.35536,     0.35636,     0.35736,     0.35836,     0.35936,\n",
              "           0.36036,     0.36136,     0.36236,     0.36336,     0.36436,     0.36537,     0.36637,     0.36737,     0.36837,     0.36937,     0.37037,     0.37137,     0.37237,     0.37337,     0.37437,     0.37538,     0.37638,     0.37738,     0.37838,     0.37938,     0.38038,     0.38138,     0.38238,     0.38338,\n",
              "           0.38438,     0.38539,     0.38639,     0.38739,     0.38839,     0.38939,     0.39039,     0.39139,     0.39239,     0.39339,     0.39439,      0.3954,      0.3964,      0.3974,      0.3984,      0.3994,      0.4004,      0.4014,      0.4024,      0.4034,      0.4044,     0.40541,     0.40641,     0.40741,\n",
              "           0.40841,     0.40941,     0.41041,     0.41141,     0.41241,     0.41341,     0.41441,     0.41542,     0.41642,     0.41742,     0.41842,     0.41942,     0.42042,     0.42142,     0.42242,     0.42342,     0.42442,     0.42543,     0.42643,     0.42743,     0.42843,     0.42943,     0.43043,     0.43143,\n",
              "           0.43243,     0.43343,     0.43443,     0.43544,     0.43644,     0.43744,     0.43844,     0.43944,     0.44044,     0.44144,     0.44244,     0.44344,     0.44444,     0.44545,     0.44645,     0.44745,     0.44845,     0.44945,     0.45045,     0.45145,     0.45245,     0.45345,     0.45445,     0.45546,\n",
              "           0.45646,     0.45746,     0.45846,     0.45946,     0.46046,     0.46146,     0.46246,     0.46346,     0.46446,     0.46547,     0.46647,     0.46747,     0.46847,     0.46947,     0.47047,     0.47147,     0.47247,     0.47347,     0.47447,     0.47548,     0.47648,     0.47748,     0.47848,     0.47948,\n",
              "           0.48048,     0.48148,     0.48248,     0.48348,     0.48448,     0.48549,     0.48649,     0.48749,     0.48849,     0.48949,     0.49049,     0.49149,     0.49249,     0.49349,     0.49449,      0.4955,      0.4965,      0.4975,      0.4985,      0.4995,      0.5005,      0.5015,      0.5025,      0.5035,\n",
              "            0.5045,     0.50551,     0.50651,     0.50751,     0.50851,     0.50951,     0.51051,     0.51151,     0.51251,     0.51351,     0.51451,     0.51552,     0.51652,     0.51752,     0.51852,     0.51952,     0.52052,     0.52152,     0.52252,     0.52352,     0.52452,     0.52553,     0.52653,     0.52753,\n",
              "           0.52853,     0.52953,     0.53053,     0.53153,     0.53253,     0.53353,     0.53453,     0.53554,     0.53654,     0.53754,     0.53854,     0.53954,     0.54054,     0.54154,     0.54254,     0.54354,     0.54454,     0.54555,     0.54655,     0.54755,     0.54855,     0.54955,     0.55055,     0.55155,\n",
              "           0.55255,     0.55355,     0.55455,     0.55556,     0.55656,     0.55756,     0.55856,     0.55956,     0.56056,     0.56156,     0.56256,     0.56356,     0.56456,     0.56557,     0.56657,     0.56757,     0.56857,     0.56957,     0.57057,     0.57157,     0.57257,     0.57357,     0.57457,     0.57558,\n",
              "           0.57658,     0.57758,     0.57858,     0.57958,     0.58058,     0.58158,     0.58258,     0.58358,     0.58458,     0.58559,     0.58659,     0.58759,     0.58859,     0.58959,     0.59059,     0.59159,     0.59259,     0.59359,     0.59459,      0.5956,      0.5966,      0.5976,      0.5986,      0.5996,\n",
              "            0.6006,      0.6016,      0.6026,      0.6036,      0.6046,     0.60561,     0.60661,     0.60761,     0.60861,     0.60961,     0.61061,     0.61161,     0.61261,     0.61361,     0.61461,     0.61562,     0.61662,     0.61762,     0.61862,     0.61962,     0.62062,     0.62162,     0.62262,     0.62362,\n",
              "           0.62462,     0.62563,     0.62663,     0.62763,     0.62863,     0.62963,     0.63063,     0.63163,     0.63263,     0.63363,     0.63463,     0.63564,     0.63664,     0.63764,     0.63864,     0.63964,     0.64064,     0.64164,     0.64264,     0.64364,     0.64464,     0.64565,     0.64665,     0.64765,\n",
              "           0.64865,     0.64965,     0.65065,     0.65165,     0.65265,     0.65365,     0.65465,     0.65566,     0.65666,     0.65766,     0.65866,     0.65966,     0.66066,     0.66166,     0.66266,     0.66366,     0.66466,     0.66567,     0.66667,     0.66767,     0.66867,     0.66967,     0.67067,     0.67167,\n",
              "           0.67267,     0.67367,     0.67467,     0.67568,     0.67668,     0.67768,     0.67868,     0.67968,     0.68068,     0.68168,     0.68268,     0.68368,     0.68468,     0.68569,     0.68669,     0.68769,     0.68869,     0.68969,     0.69069,     0.69169,     0.69269,     0.69369,     0.69469,      0.6957,\n",
              "            0.6967,      0.6977,      0.6987,      0.6997,      0.7007,      0.7017,      0.7027,      0.7037,      0.7047,     0.70571,     0.70671,     0.70771,     0.70871,     0.70971,     0.71071,     0.71171,     0.71271,     0.71371,     0.71471,     0.71572,     0.71672,     0.71772,     0.71872,     0.71972,\n",
              "           0.72072,     0.72172,     0.72272,     0.72372,     0.72472,     0.72573,     0.72673,     0.72773,     0.72873,     0.72973,     0.73073,     0.73173,     0.73273,     0.73373,     0.73473,     0.73574,     0.73674,     0.73774,     0.73874,     0.73974,     0.74074,     0.74174,     0.74274,     0.74374,\n",
              "           0.74474,     0.74575,     0.74675,     0.74775,     0.74875,     0.74975,     0.75075,     0.75175,     0.75275,     0.75375,     0.75475,     0.75576,     0.75676,     0.75776,     0.75876,     0.75976,     0.76076,     0.76176,     0.76276,     0.76376,     0.76476,     0.76577,     0.76677,     0.76777,\n",
              "           0.76877,     0.76977,     0.77077,     0.77177,     0.77277,     0.77377,     0.77477,     0.77578,     0.77678,     0.77778,     0.77878,     0.77978,     0.78078,     0.78178,     0.78278,     0.78378,     0.78478,     0.78579,     0.78679,     0.78779,     0.78879,     0.78979,     0.79079,     0.79179,\n",
              "           0.79279,     0.79379,     0.79479,      0.7958,      0.7968,      0.7978,      0.7988,      0.7998,      0.8008,      0.8018,      0.8028,      0.8038,      0.8048,     0.80581,     0.80681,     0.80781,     0.80881,     0.80981,     0.81081,     0.81181,     0.81281,     0.81381,     0.81481,     0.81582,\n",
              "           0.81682,     0.81782,     0.81882,     0.81982,     0.82082,     0.82182,     0.82282,     0.82382,     0.82482,     0.82583,     0.82683,     0.82783,     0.82883,     0.82983,     0.83083,     0.83183,     0.83283,     0.83383,     0.83483,     0.83584,     0.83684,     0.83784,     0.83884,     0.83984,\n",
              "           0.84084,     0.84184,     0.84284,     0.84384,     0.84484,     0.84585,     0.84685,     0.84785,     0.84885,     0.84985,     0.85085,     0.85185,     0.85285,     0.85385,     0.85485,     0.85586,     0.85686,     0.85786,     0.85886,     0.85986,     0.86086,     0.86186,     0.86286,     0.86386,\n",
              "           0.86486,     0.86587,     0.86687,     0.86787,     0.86887,     0.86987,     0.87087,     0.87187,     0.87287,     0.87387,     0.87487,     0.87588,     0.87688,     0.87788,     0.87888,     0.87988,     0.88088,     0.88188,     0.88288,     0.88388,     0.88488,     0.88589,     0.88689,     0.88789,\n",
              "           0.88889,     0.88989,     0.89089,     0.89189,     0.89289,     0.89389,     0.89489,      0.8959,      0.8969,      0.8979,      0.8989,      0.8999,      0.9009,      0.9019,      0.9029,      0.9039,      0.9049,     0.90591,     0.90691,     0.90791,     0.90891,     0.90991,     0.91091,     0.91191,\n",
              "           0.91291,     0.91391,     0.91491,     0.91592,     0.91692,     0.91792,     0.91892,     0.91992,     0.92092,     0.92192,     0.92292,     0.92392,     0.92492,     0.92593,     0.92693,     0.92793,     0.92893,     0.92993,     0.93093,     0.93193,     0.93293,     0.93393,     0.93493,     0.93594,\n",
              "           0.93694,     0.93794,     0.93894,     0.93994,     0.94094,     0.94194,     0.94294,     0.94394,     0.94494,     0.94595,     0.94695,     0.94795,     0.94895,     0.94995,     0.95095,     0.95195,     0.95295,     0.95395,     0.95495,     0.95596,     0.95696,     0.95796,     0.95896,     0.95996,\n",
              "           0.96096,     0.96196,     0.96296,     0.96396,     0.96496,     0.96597,     0.96697,     0.96797,     0.96897,     0.96997,     0.97097,     0.97197,     0.97297,     0.97397,     0.97497,     0.97598,     0.97698,     0.97798,     0.97898,     0.97998,     0.98098,     0.98198,     0.98298,     0.98398,\n",
              "           0.98498,     0.98599,     0.98699,     0.98799,     0.98899,     0.98999,     0.99099,     0.99199,     0.99299,     0.99399,     0.99499,       0.996,       0.997,       0.998,       0.999,           1]), array([[    0.98765,     0.98765,     0.98765,     0.98765,     0.98765,     0.98765,     0.98765,     0.98765,     0.98765,     0.98765,     0.98765,     0.98765,     0.98765,     0.98765,     0.98765,     0.98765,     0.98765,     0.98765,     0.98765,     0.98765,     0.98765,     0.98765,     0.98765,\n",
              "            0.98765,     0.98765,     0.98765,     0.98765,     0.98765,     0.98765,     0.98765,     0.98765,     0.98765,     0.98765,     0.98765,     0.98765,     0.98765,     0.98765,     0.98765,     0.98765,     0.98765,     0.98765,     0.98765,     0.98765,     0.98765,     0.98765,     0.98765,\n",
              "            0.98765,     0.98765,     0.98765,     0.98765,     0.98765,     0.98765,     0.98765,     0.98765,     0.98765,     0.98765,     0.98765,     0.98765,     0.98765,     0.98765,     0.98765,     0.98765,     0.98765,     0.98765,     0.98765,     0.98765,     0.98765,     0.98765,     0.98765,\n",
              "            0.98765,     0.98765,     0.98765,     0.98765,     0.98765,     0.98765,     0.98765,     0.98765,     0.98765,     0.98765,     0.98765,     0.98765,     0.98765,     0.98765,     0.98765,     0.98765,     0.98765,     0.98765,     0.98765,     0.98765,     0.98765,     0.98765,     0.98765,\n",
              "            0.98765,     0.98765,     0.98765,     0.98765,     0.98765,     0.98765,     0.98765,     0.98765,     0.98765,     0.98765,     0.98765,     0.98765,     0.98765,     0.98765,     0.98765,     0.98765,     0.98765,     0.98765,     0.98765,     0.98765,     0.98765,     0.98765,     0.98765,\n",
              "            0.98765,     0.98765,     0.98765,     0.98765,     0.98765,     0.98765,     0.98765,     0.98765,     0.98765,     0.98765,     0.98765,     0.98765,     0.98765,     0.98765,     0.98765,     0.98765,     0.98765,     0.98765,     0.98765,     0.98765,     0.98765,     0.98765,     0.98765,\n",
              "            0.98765,     0.98765,     0.98765,     0.98765,     0.98765,     0.98765,     0.98765,     0.98765,     0.98765,     0.98765,     0.98765,     0.98765,     0.98765,     0.98765,     0.98765,     0.98765,     0.98765,     0.98765,     0.98765,     0.98765,     0.98765,     0.98765,     0.98765,\n",
              "            0.98765,     0.98765,     0.98765,     0.98765,     0.98765,     0.98765,     0.98765,     0.98765,     0.98765,     0.98765,     0.98765,     0.98765,     0.98765,     0.98765,     0.98765,     0.98765,     0.98765,     0.98765,     0.98765,     0.98765,     0.98765,     0.98765,     0.98765,\n",
              "            0.98765,     0.98765,     0.98765,     0.98765,     0.98765,     0.98765,     0.98765,     0.98765,     0.98765,     0.98765,     0.98765,     0.98765,     0.98765,     0.98765,     0.98765,     0.98765,     0.98765,     0.98765,     0.98765,     0.98765,     0.98765,     0.98765,     0.98765,\n",
              "            0.98765,     0.98765,     0.98765,     0.98765,     0.98765,     0.98765,     0.98765,     0.98765,     0.98765,     0.98765,     0.98765,     0.98765,     0.98765,     0.98765,     0.98765,     0.98765,     0.98765,     0.98765,     0.98765,     0.98765,     0.98765,     0.98765,     0.98765,\n",
              "            0.98765,     0.98765,     0.98765,     0.98765,     0.98765,     0.98765,     0.98765,     0.98765,     0.98765,     0.98765,     0.98765,     0.98765,     0.98765,     0.98765,     0.98765,     0.98765,     0.98765,     0.98765,     0.98765,     0.98765,     0.98765,     0.98765,     0.98765,\n",
              "            0.98765,     0.98765,     0.98765,     0.98765,     0.98765,     0.98765,     0.98765,     0.98765,     0.98765,     0.98765,     0.98765,     0.98765,     0.98765,     0.98765,     0.98765,     0.98765,     0.98765,     0.98765,     0.98765,     0.98765,     0.98765,     0.98765,     0.98765,\n",
              "            0.98765,     0.98765,     0.98765,     0.98765,     0.98765,     0.98765,     0.98765,     0.98765,     0.98765,     0.98765,     0.98765,     0.98765,     0.98765,     0.98765,     0.98765,     0.98765,     0.98765,     0.98765,     0.98765,     0.98765,     0.98765,     0.98765,     0.98765,\n",
              "            0.98765,     0.98765,     0.98765,     0.98765,     0.98765,     0.98765,     0.98765,     0.98765,     0.98765,     0.98765,     0.98765,     0.98765,     0.98765,     0.98765,     0.98765,     0.98765,     0.98765,     0.98765,     0.98765,     0.98765,     0.98765,     0.98765,     0.98765,\n",
              "            0.98765,     0.98765,     0.98765,     0.98765,     0.98765,     0.98765,     0.98765,     0.98765,     0.98765,     0.98765,     0.98765,     0.98765,     0.98765,     0.98765,     0.98765,     0.98765,     0.98765,     0.98765,     0.98765,     0.98765,     0.98765,     0.98765,     0.98765,\n",
              "            0.98765,     0.98765,     0.98765,     0.98765,     0.98765,     0.98765,     0.98765,     0.98765,     0.98765,     0.98765,     0.98765,     0.98765,     0.98765,     0.98765,     0.98765,     0.98765,     0.98765,     0.98765,     0.98765,     0.98765,     0.98765,     0.98765,     0.98765,\n",
              "            0.98765,     0.98765,     0.98765,     0.98765,     0.98765,     0.98765,     0.98765,     0.98765,     0.98765,     0.98765,     0.98765,     0.98765,     0.98765,     0.98765,     0.98765,     0.98765,     0.98765,     0.98765,     0.98765,     0.98765,     0.98765,     0.98765,     0.98765,\n",
              "            0.98765,     0.98765,     0.98765,     0.98765,     0.98765,     0.98765,     0.98765,     0.98765,     0.98765,     0.98765,     0.98765,     0.98765,     0.98765,     0.98765,     0.98765,     0.98765,     0.98765,     0.98765,     0.98765,     0.98765,     0.98765,     0.98765,     0.98765,\n",
              "            0.98765,     0.98765,     0.98765,     0.98765,     0.98765,     0.98765,     0.98765,     0.98765,     0.98765,     0.98765,     0.98765,     0.98765,     0.98765,     0.98765,     0.98765,     0.98765,     0.98765,     0.98765,     0.98765,     0.98765,     0.98765,     0.98765,     0.98765,\n",
              "            0.98765,     0.98765,     0.98765,     0.98765,     0.98765,     0.98765,     0.98765,     0.98765,     0.98765,     0.98765,     0.98765,     0.98765,     0.98765,     0.98765,     0.98765,     0.98765,     0.98765,     0.98765,     0.98765,     0.98765,     0.98765,     0.98765,     0.98765,\n",
              "            0.98765,     0.98765,     0.98765,     0.98765,     0.98765,     0.98765,     0.98765,     0.98765,     0.98765,     0.98765,     0.98765,     0.98765,     0.98765,     0.98765,     0.98765,     0.98765,     0.98765,     0.98765,     0.98765,     0.98765,     0.98765,     0.98765,     0.98765,\n",
              "            0.98765,     0.98765,     0.98765,     0.98765,     0.98765,     0.98765,     0.98765,     0.98765,     0.98765,     0.98765,     0.98765,     0.98765,     0.98765,     0.98765,     0.98765,     0.98765,     0.98765,     0.98765,     0.98765,     0.98765,     0.98765,     0.98765,     0.98765,\n",
              "            0.98765,     0.98765,     0.98765,     0.98765,     0.98765,     0.98765,     0.98765,     0.98765,     0.98765,     0.98765,     0.98765,     0.98765,     0.98765,     0.98765,     0.98765,     0.98765,     0.98765,     0.98765,     0.98765,     0.98765,     0.98765,     0.98765,     0.98765,\n",
              "            0.98765,     0.98765,     0.98765,     0.98765,     0.98765,     0.98765,     0.98765,     0.98765,     0.98765,     0.98765,     0.98765,     0.98765,     0.98765,     0.98765,     0.98765,     0.98765,     0.98765,     0.98765,     0.98765,     0.98765,     0.98765,     0.98765,     0.98765,\n",
              "            0.98765,     0.98765,     0.98765,     0.98765,     0.98765,     0.98765,     0.98765,     0.98765,     0.98765,     0.98765,     0.98765,     0.98765,     0.98765,     0.98765,     0.98765,     0.98765,     0.98765,     0.98765,     0.98765,     0.98765,     0.98765,     0.98765,     0.98765,\n",
              "            0.98765,     0.98765,     0.98765,     0.98765,     0.98765,     0.98765,     0.98765,     0.98765,     0.98765,     0.98765,     0.98765,     0.98765,     0.98765,     0.98765,     0.98765,     0.98765,     0.98765,     0.98765,     0.98765,     0.98765,     0.98765,     0.98765,     0.98765,\n",
              "            0.98765,     0.98765,     0.98765,     0.98765,     0.98765,     0.98765,     0.98765,     0.98765,     0.98765,     0.98765,     0.98765,     0.98765,     0.98765,     0.98765,     0.98765,     0.98765,     0.98765,     0.98765,     0.98765,     0.98765,     0.98765,     0.98765,     0.98765,\n",
              "            0.98765,     0.98765,     0.98765,     0.98765,     0.98765,     0.98765,     0.98765,     0.98765,     0.98765,     0.98765,     0.98765,     0.98765,     0.98765,     0.98765,     0.98765,     0.98765,     0.98765,     0.98765,     0.98765,     0.98765,     0.98765,     0.98765,     0.98765,\n",
              "            0.98765,     0.98765,     0.98765,     0.98765,     0.98765,     0.98765,     0.98765,     0.98765,     0.98765,     0.98765,     0.98765,     0.98765,     0.98765,     0.98765,     0.98765,     0.98765,     0.98765,     0.98765,     0.98765,     0.98765,     0.98765,     0.98765,     0.98765,\n",
              "            0.98765,     0.98765,     0.98765,     0.98765,     0.98765,     0.98765,     0.98765,     0.98765,     0.98765,     0.98765,     0.98765,     0.98765,     0.98765,     0.98765,     0.98765,     0.98765,     0.98765,     0.98765,     0.98765,     0.98765,     0.98765,     0.98765,     0.98765,\n",
              "            0.98765,     0.98765,     0.98765,     0.98765,     0.98765,     0.98765,     0.98765,     0.98765,     0.98765,     0.98765,     0.98765,     0.98765,     0.98765,     0.98765,     0.98765,     0.98765,     0.98765,     0.98765,     0.98765,     0.98765,     0.98765,     0.98765,     0.98765,\n",
              "            0.98765,     0.98765,     0.98765,     0.98765,     0.98765,     0.98765,     0.98765,     0.98765,     0.98765,     0.98765,     0.98765,     0.98765,     0.98765,     0.98765,     0.98765,     0.98765,     0.98765,     0.98765,     0.98765,     0.98765,     0.98765,     0.98765,     0.98765,\n",
              "            0.98765,     0.98765,     0.98765,     0.98765,     0.98765,     0.98765,     0.98765,     0.98765,     0.98765,     0.98765,     0.98765,     0.98765,     0.98765,     0.98765,     0.98765,     0.98765,     0.98765,     0.98765,     0.98765,     0.98765,     0.98765,     0.98765,     0.98765,\n",
              "            0.98765,     0.98765,     0.98765,     0.98765,     0.98765,     0.98765,     0.98765,     0.98765,     0.98765,     0.98765,     0.98765,     0.98765,     0.98765,     0.98765,     0.98765,     0.98765,     0.98765,     0.98755,     0.98446,     0.98137,     0.97828,     0.97523,     0.97319,\n",
              "            0.97115,      0.9691,     0.96706,     0.96502,     0.96298,     0.96238,     0.96178,     0.96119,     0.96059,        0.96,     0.95941,     0.95881,     0.95822,     0.95762,     0.95703,     0.95644,     0.95584,     0.95525,     0.95466,     0.95406,     0.95347,     0.95287,     0.95228,\n",
              "            0.95169,     0.95109,     0.94962,     0.94462,     0.93962,     0.93406,     0.92831,     0.92546,     0.92467,     0.92387,     0.92308,     0.92229,      0.9215,      0.9207,     0.91991,     0.91912,     0.91832,     0.91753,     0.91674,     0.91595,     0.91515,     0.91436,     0.91354,\n",
              "            0.91079,     0.90805,     0.90531,     0.90256,     0.90043,     0.89887,     0.89731,     0.89575,     0.89419,     0.89263,     0.89107,     0.88951,     0.88399,     0.87617,     0.87165,     0.86714,     0.86083,     0.85076,     0.83898,     0.83673,     0.83447,     0.83222,     0.82996,\n",
              "             0.8277,     0.81434,     0.80543,      0.7977,     0.79057,     0.77778,     0.77778,     0.77778,     0.77778,     0.77778,     0.77028,     0.76168,     0.75702,     0.74966,     0.72469,     0.71722,     0.70571,     0.68229,     0.67645,     0.67335,     0.67026,     0.66716,     0.65106,\n",
              "            0.64528,     0.64052,      0.6371,     0.63369,     0.63028,     0.62578,     0.62104,     0.61217,     0.59089,     0.58755,     0.58422,     0.58089,     0.57021,      0.5635,     0.55808,     0.55192,      0.5451,      0.5334,     0.51856,     0.50468,     0.49997,     0.49526,      0.4781,\n",
              "            0.47016,     0.46231,     0.44249,     0.42415,     0.39203,     0.38572,     0.37097,      0.3632,     0.35332,     0.33495,     0.30629,     0.28319,     0.25371,     0.24025,     0.23357,     0.23104,     0.22851,     0.22598,     0.22345,     0.19257,      0.1829,     0.17995,       0.177,\n",
              "            0.17405,     0.16221,     0.15422,     0.14613,     0.13178,     0.11919,       0.108,     0.10231,    0.094962,    0.085961,    0.082983,    0.080005,    0.077028,    0.074015,    0.066681,    0.061376,    0.060289,    0.059202,    0.058115,    0.057028,    0.055941,    0.054854,    0.053767,\n",
              "            0.05268,    0.051593,    0.050506,    0.049419,    0.044186,     0.03881,    0.033061,    0.027129,    0.023986,    0.022788,     0.02159,    0.020392,    0.019194,    0.017996,    0.016798,      0.0156,    0.014402,    0.013204,           0,           0,           0,           0,           0,\n",
              "                  0,           0,           0,           0,           0,           0,           0,           0,           0,           0,           0,           0,           0,           0,           0,           0,           0,           0,           0,           0,           0,           0,           0,\n",
              "                  0,           0,           0,           0,           0,           0,           0,           0,           0,           0,           0]]), 'Confidence', 'Recall']]\n",
              "fitness: 0.8769928208353595\n",
              "keys: ['metrics/precision(B)', 'metrics/recall(B)', 'metrics/mAP50(B)', 'metrics/mAP50-95(B)']\n",
              "maps: array([     0.8652])\n",
              "names: {0: 'LicensePlate'}\n",
              "plot: True\n",
              "results_dict: {'metrics/precision(B)': 0.985574605622237, 'metrics/recall(B)': 0.9876543209876543, 'metrics/mAP50(B)': 0.9831462899615692, 'metrics/mAP50-95(B)': 0.8651979909324472, 'fitness': 0.8769928208353595}\n",
              "save_dir: PosixPath('runs/detect/train2')\n",
              "speed: {'preprocess': 0.49614906311035156, 'inference': 24.609553961106286, 'loss': 0.00016777603714554398, 'postprocess': 0.27929411994086367}\n",
              "task: 'detect'"
            ]
          },
          "metadata": {},
          "execution_count": 3
        }
      ]
    },
    {
      "cell_type": "code",
      "source": [
        "  pip install opencv-python\n"
      ],
      "metadata": {
        "colab": {
          "base_uri": "https://localhost:8080/"
        },
        "id": "Rd-_agGje_fC",
        "outputId": "cdbfae63-101a-403b-bc77-1c4de8ff7f49"
      },
      "execution_count": 3,
      "outputs": [
        {
          "output_type": "stream",
          "name": "stdout",
          "text": [
            "Requirement already satisfied: opencv-python in /usr/local/lib/python3.10/dist-packages (4.7.0.72)\n",
            "Requirement already satisfied: numpy>=1.21.2 in /usr/local/lib/python3.10/dist-packages (from opencv-python) (1.24.3)\n"
          ]
        }
      ]
    },
    {
      "cell_type": "code",
      "source": [
        "import cv2\n",
        "from google.colab.patches import cv2_imshow  # For displaying images in Colab\n",
        "from ultralytics import YOLO\n",
        "\n",
        "# Load the YOLO model with the trained weights\n",
        "model = YOLO('/content/License_plate_detection/runs/detect/train2/weights/best.pt')\n",
        "\n",
        "# Load an image to perform inference on\n",
        "image_path = '/content/License_plate_detection/demo2.jpeg'\n",
        "image = cv2.imread(image_path)\n",
        "\n",
        "# Run the YOLO model on the image\n",
        "results = model.predict(source=image, save=False, show=False)  # Perform prediction\n",
        "\n",
        "# Process the results\n",
        "for result in results:\n",
        "\n",
        "    if hasattr(result, \"plot\"):\n",
        "\n",
        "        annotated_image = result.plot()\n",
        "    else:\n",
        "        # Manual bounding box plotting\n",
        "        annotated_image = image.copy()\n",
        "        boxes = result.boxes.xyxy.cpu().numpy()  # Bounding box coordinates\n",
        "        confidences = result.boxes.conf.cpu().numpy()  # Confidence scores\n",
        "        classes = result.boxes.cls.cpu().numpy()  # Class indices\n",
        "\n",
        "        for i, box in enumerate(boxes):\n",
        "            x1, y1, x2, y2 = map(int, box)\n",
        "            confidence = confidences[i]\n",
        "            label = f\"License Plate: {confidence:.2f}\"\n",
        "            # Draw the bounding box\n",
        "            cv2.rectangle(annotated_image, (x1, y1), (x2, y2), (0, 255, 0), 2)\n",
        "            # Put label text\n",
        "            cv2.putText(annotated_image, label, (x1, y1 - 10), cv2.FONT_HERSHEY_SIMPLEX, 0.5, (255, 255, 255), 2)\n",
        "\n",
        "    # Display the annotated image\n",
        "    cv2_imshow(annotated_image)  # Display in Colab\n",
        "\n",
        "cv2.destroyAllWindows()\n"
      ],
      "metadata": {
        "colab": {
          "base_uri": "https://localhost:8080/",
          "height": 341
        },
        "id": "ymtH9k1OKnMv",
        "outputId": "19d64dab-0c99-4cf0-f167-99fce1ce6cb9"
      },
      "execution_count": 1,
      "outputs": [
        {
          "output_type": "stream",
          "name": "stdout",
          "text": [
            "Creating new Ultralytics Settings v0.0.6 file ✅ \n",
            "View Ultralytics Settings with 'yolo settings' or at '/root/.config/Ultralytics/settings.json'\n",
            "Update Settings with 'yolo settings key=value', i.e. 'yolo settings runs_dir=path/to/dir'. For help see https://docs.ultralytics.com/quickstart/#ultralytics-settings.\n",
            "\n",
            "0: 512x640 1 LicensePlate, 382.9ms\n",
            "Speed: 11.2ms preprocess, 382.9ms inference, 34.8ms postprocess per image at shape (1, 3, 512, 640)\n"
          ]
        },
        {
          "output_type": "display_data",
          "data": {
            "text/plain": [
              "<PIL.Image.Image image mode=RGB size=259x195>"
            ],
            "image/png": "[encoded data removed]",
            "image/jpeg": "[encoded data removed]"
          },
          "metadata": {}
        }
      ]
    },
    {
      "cell_type": "code",
      "source": [
        "# import cv2\n",
        "# from ultralytics import YOLO\n",
        "\n",
        "# # Load the YOLO model with trained weights\n",
        "# model = YOLO('/content/License_plate_detection/runs/detect/train2/weights/best.pt')  # Path to your trained model\n",
        "\n",
        "# # Open the webcam (replace `0` with the camera index if using multiple cameras)\n",
        "# cap = cv2.VideoCapture(0)\n",
        "\n",
        "# # Check if the webcam opened successfully\n",
        "# if not cap.isOpened():\n",
        "#     print(\"Error: Unable to access the webcam.\")\n",
        "#     exit()\n",
        "\n",
        "# # Loop to process video frames\n",
        "# while True:\n",
        "#     # Capture a frame from the webcam\n",
        "#     ret, frame = cap.read()\n",
        "#     if not ret:\n",
        "#         print(\"Error: Unable to read frame from webcam.\")\n",
        "#         break\n",
        "\n",
        "#     # Run YOLO inference on the frame\n",
        "#     results = model.predict(source=frame, save=False, show=False)\n",
        "\n",
        "#     # Process each result and overlay detections\n",
        "#     for result in results:\n",
        "#         # Annotate the frame with bounding boxes\n",
        "#         annotated_frame = frame.copy()\n",
        "#         if hasattr(result, \"plot\"):\n",
        "#             annotated_frame = result.plot()\n",
        "#         else:\n",
        "#             boxes = result.boxes.xyxy.cpu().numpy()  # Bounding box coordinates\n",
        "#             confidences = result.boxes.conf.cpu().numpy()  # Confidence scores\n",
        "#             classes = result.boxes.cls.cpu().numpy()  # Class indices\n",
        "\n",
        "#             for i, box in enumerate(boxes):\n",
        "#                 x1, y1, x2, y2 = map(int, box)\n",
        "#                 confidence = confidences[i]\n",
        "#                 label = f\"License Plate: {confidence:.2f}\"\n",
        "#                 # Draw the bounding box\n",
        "#                 cv2.rectangle(annotated_frame, (x1, y1), (x2, y2), (0, 255, 0), 2)\n",
        "#                 # Add label text\n",
        "#                 cv2.putText(annotated_frame, label, (x1, y1 - 10), cv2.FONT_HERSHEY_SIMPLEX, 0.5, (255, 255, 255), 2)\n",
        "\n",
        "#         # Display the annotated frame\n",
        "#         cv2.imshow(\"License Plate Detection\", annotated_frame)\n",
        "\n",
        "#     # Break the loop if 'q' is pressed\n",
        "#     if cv2.waitKey(1) & 0xFF == ord('q'):\n",
        "#         break\n",
        "\n",
        "# # Release the webcam and close the display window\n",
        "# cap.release()\n",
        "# cv2.destroyAllWindows()\n"
      ],
      "metadata": {
        "colab": {
          "base_uri": "https://localhost:8080/"
        },
        "id": "46wgZPIBeau2",
        "outputId": "dd3d87fa-acd1-431d-d458-df6772e9931d"
      },
      "execution_count": null,
      "outputs": [
        {
          "output_type": "stream",
          "name": "stdout",
          "text": [
            "Error: Unable to access the webcam.\n",
            "Error: Unable to read frame from webcam.\n"
          ]
        },
        {
          "output_type": "stream",
          "name": "stderr",
          "text": [
            "/usr/local/lib/python3.10/dist-packages/ultralytics/nn/tasks.py:360: FutureWarning: You are using `torch.load` with `weights_only=False` (the current default value), which uses the default pickle module implicitly. It is possible to construct malicious pickle data which will execute arbitrary code during unpickling (See https://github.com/pytorch/pytorch/blob/main/SECURITY.md#untrusted-models for more details). In a future release, the default value for `weights_only` will be flipped to `True`. This limits the functions that could be executed during unpickling. Arbitrary objects will no longer be allowed to be loaded via this mode unless they are explicitly allowlisted by the user via `torch.serialization.add_safe_globals`. We recommend you start setting `weights_only=True` for any use case where you don't have full control of the loaded file. Please open an issue on GitHub for any issues related to this experimental feature.\n",
            "  ckpt = torch.load(attempt_download(weight), map_location='cpu')  # load\n"
          ]
        }
      ]
    },
    {
      "cell_type": "markdown",
      "source": [],
      "metadata": {
        "id": "wRvJwGmIaSjJ"
      }
    },
    {
      "cell_type": "code",
      "source": [
        "from ultralytics import YOLO\n",
        "\n",
        "# Load your YOLOv8 model\n",
        "model = YOLO('/content/License_plate_detection/runs/detect/train2/weights/best.pt')\n",
        "# to export the model to .mlmodel formate\n",
        "model.export(format='coreml')\n"
      ],
      "metadata": {
        "colab": {
          "base_uri": "https://localhost:8080/",
          "height": 978
        },
        "id": "oXp9UYPEe0vL",
        "outputId": "adfeb83b-c89e-43ee-e92e-974139aff464"
      },
      "execution_count": 5,
      "outputs": [
        {
          "output_type": "stream",
          "name": "stdout",
          "text": [
            "Ultralytics 8.3.32 🚀 Python-3.10.12 torch-1.12.1+cpu CPU (Intel Xeon 2.20GHz)\n",
            "Model summary (fused): 168 layers, 3,005,843 parameters, 0 gradients, 8.1 GFLOPs\n",
            "\n",
            "\u001b[34m\u001b[1mPyTorch:\u001b[0m starting from '/content/License_plate_detection/runs/detect/train2/weights/best.pt' with input shape (1, 3, 640, 640) BCHW and output shape(s) (1, 5, 8400) (6.0 MB)\n",
            "\u001b[31m\u001b[1mrequirements:\u001b[0m Ultralytics requirement ['coremltools>=7.0'] not found, attempting AutoUpdate...\n",
            "Collecting coremltools>=7.0\n",
            "  Downloading coremltools-8.0-cp310-none-manylinux1_x86_64.whl.metadata (2.4 kB)\n",
            "Requirement already satisfied: numpy>=1.14.5 in /usr/local/lib/python3.10/dist-packages (from coremltools>=7.0) (1.23.5)\n",
            "Requirement already satisfied: protobuf>=3.1.0 in /usr/local/lib/python3.10/dist-packages (from coremltools>=7.0) (3.20.3)\n",
            "Requirement already satisfied: sympy in /usr/local/lib/python3.10/dist-packages (from coremltools>=7.0) (1.13.1)\n",
            "Requirement already satisfied: tqdm in /usr/local/lib/python3.10/dist-packages (from coremltools>=7.0) (4.66.6)\n",
            "Requirement already satisfied: packaging in /usr/local/lib/python3.10/dist-packages (from coremltools>=7.0) (24.2)\n",
            "Requirement already satisfied: attrs>=21.3.0 in /usr/local/lib/python3.10/dist-packages (from coremltools>=7.0) (24.2.0)\n",
            "Collecting cattrs (from coremltools>=7.0)\n",
            "  Downloading cattrs-24.1.2-py3-none-any.whl.metadata (8.4 kB)\n",
            "Collecting pyaml (from coremltools>=7.0)\n",
            "  Downloading pyaml-24.9.0-py3-none-any.whl.metadata (11 kB)\n",
            "Requirement already satisfied: exceptiongroup>=1.1.1 in /usr/local/lib/python3.10/dist-packages (from cattrs->coremltools>=7.0) (1.2.2)\n",
            "Requirement already satisfied: typing-extensions!=4.6.3,>=4.1.0 in /usr/local/lib/python3.10/dist-packages (from cattrs->coremltools>=7.0) (4.12.2)\n",
            "Requirement already satisfied: PyYAML in /usr/local/lib/python3.10/dist-packages (from pyaml->coremltools>=7.0) (6.0.2)\n",
            "Requirement already satisfied: mpmath<1.4,>=1.1.0 in /usr/local/lib/python3.10/dist-packages (from sympy->coremltools>=7.0) (1.3.0)\n",
            "Downloading coremltools-8.0-cp310-none-manylinux1_x86_64.whl (2.1 MB)\n",
            "   ━━━━━━━━━━━━━━━━━━━━━━━━━━━━━━━━━━━━━━━━ 2.1/2.1 MB 29.9 MB/s eta 0:00:00\n",
            "Downloading cattrs-24.1.2-py3-none-any.whl (66 kB)\n",
            "   ━━━━━━━━━━━━━━━━━━━━━━━━━━━━━━━━━━━━━━━━ 66.4/66.4 kB 205.1 MB/s eta 0:00:00\n",
            "Downloading pyaml-24.9.0-py3-none-any.whl (24 kB)\n",
            "Installing collected packages: pyaml, cattrs, coremltools\n",
            "  Attempting uninstall: coremltools\n",
            "    Found existing installation: coremltools 6.0\n",
            "    Uninstalling coremltools-6.0:\n",
            "      Successfully uninstalled coremltools-6.0\n",
            "Successfully installed cattrs-24.1.2 coremltools-8.0 pyaml-24.9.0\n",
            "\n",
            "\u001b[31m\u001b[1mrequirements:\u001b[0m AutoUpdate success ✅ 6.0s, installed 1 package: ['coremltools>=7.0']\n",
            "\u001b[31m\u001b[1mrequirements:\u001b[0m ⚠️ \u001b[1mRestart runtime or rerun command for updates to take effect\u001b[0m\n",
            "\n"
          ]
        },
        {
          "output_type": "stream",
          "name": "stderr",
          "text": [
            "WARNING:coremltools:Minimum required torch version for importing coremltools.optimize.torch is 2.1.0. Got torch version 1.12.1.\n",
            "WARNING:coremltools:Failed to load _MLModelProxy: No module named 'coremltools.libcoremlpython'\n"
          ]
        },
        {
          "output_type": "stream",
          "name": "stdout",
          "text": [
            "\n",
            "\u001b[34m\u001b[1mCoreML:\u001b[0m starting export with coremltools 8.0...\n"
          ]
        },
        {
          "output_type": "stream",
          "name": "stderr",
          "text": [
            "Converting PyTorch Frontend ==> MIL Ops: 100%|█████████▉| 593/594 [00:00<00:00, 2028.50 ops/s]\n",
            "Running MIL frontend_pytorch pipeline: 100%|██████████| 5/5 [00:00<00:00, 65.58 passes/s]\n",
            "Running MIL default pipeline: 100%|██████████| 88/88 [00:02<00:00, 37.10 passes/s]\n",
            "Running MIL backend_mlprogram pipeline: 100%|██████████| 12/12 [00:00<00:00, 66.06 passes/s]\n"
          ]
        },
        {
          "output_type": "stream",
          "name": "stdout",
          "text": [
            "\u001b[34m\u001b[1mCoreML:\u001b[0m export success ✅ 18.3s, saved as '/content/License_plate_detection/runs/detect/train2/weights/best.mlpackage' (5.9 MB)\n",
            "\n",
            "Export complete (19.1s)\n",
            "Results saved to \u001b[1m/content/License_plate_detection/runs/detect/train2/weights\u001b[0m\n",
            "Predict:         yolo predict task=detect model=/content/License_plate_detection/runs/detect/train2/weights/best.mlpackage imgsz=640  \n",
            "Validate:        yolo val task=detect model=/content/License_plate_detection/runs/detect/train2/weights/best.mlpackage imgsz=640 data=/content/License_plate_detection/License-Plate-Detector-2/data.yaml  \n",
            "Visualize:       https://netron.app\n"
          ]
        },
        {
          "output_type": "execute_result",
          "data": {
            "text/plain": [
              "'/content/License_plate_detection/runs/detect/train2/weights/best.mlpackage'"
            ],
            "application/vnd.google.colaboratory.intrinsic+json": {
              "type": "string"
            }
          },
          "metadata": {},
          "execution_count": 5
        }
      ]
    },
    {
      "cell_type": "code",
      "source": [],
      "metadata": {
        "id": "B3LR-qDZgwQQ"
      },
      "execution_count": null,
      "outputs": []
    }
  ]
}